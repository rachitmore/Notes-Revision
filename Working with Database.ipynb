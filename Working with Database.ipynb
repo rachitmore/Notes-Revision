{
 "cells": [
  {
   "cell_type": "markdown",
   "id": "66da1529",
   "metadata": {},
   "source": [
    "## 1. SQLite with sqlite3 Module"
   ]
  },
  {
   "cell_type": "code",
   "execution_count": 1,
   "id": "5b71cedb",
   "metadata": {},
   "outputs": [],
   "source": [
    "# Creating a Database and Table\n",
    "import sqlite3\n",
    "\n",
    "# Connect to a database (or create it if it doesn't exist)\n",
    "conn = sqlite3.connect('example.db')\n",
    "\n",
    "# Create a cursor object\n",
    "cursor = conn.cursor()\n",
    "\n",
    "# Create a table\n",
    "cursor.execute('''\n",
    "CREATE TABLE IF NOT EXISTS users (\n",
    "    id INTEGER PRIMARY KEY AUTOINCREMENT,\n",
    "    name TEXT NOT NULL,\n",
    "    age INTEGER NOT NULL\n",
    ")\n",
    "''')\n",
    "\n"
   ]
  },
  {
   "cell_type": "code",
   "execution_count": 2,
   "id": "9b1ad6dd",
   "metadata": {},
   "outputs": [],
   "source": [
    "# Inserting and Querying Data\n",
    "\n",
    "# Insert data\n",
    "cursor.execute(\"INSERT INTO users (name, age) VALUES (?, ?)\", ('Ross', 30))\n",
    "cursor.execute(\"INSERT INTO users (name, age) VALUES (?, ?)\", ('Rachel', 30))\n",
    "\n",
    "# Commit changes\n",
    "conn.commit()\n",
    "\n",
    "# Query data\n",
    "cursor.execute(\"SELECT * FROM users\")\n",
    "rows = cursor.fetchall()\n",
    "for row in rows:\n",
    "    print(row)\n"
   ]
  },
  {
   "cell_type": "code",
   "execution_count": 3,
   "id": "cff2c283",
   "metadata": {},
   "outputs": [],
   "source": [
    "# SQLite Transactions\n",
    "\n",
    "try:\n",
    "    # Begin a transaction\n",
    "    conn.execute('BEGIN')\n",
    "\n",
    "    # Perform operations\n",
    "    cursor.execute(\"INSERT INTO users (name, age) VALUES (?, ?)\", ('Joey', 30))\n",
    "    cursor.execute(\"INSERT INTO users (name, age) VALUES (?, ?)\", ('Phoebe', 30))\n",
    "    \n",
    "    # Commit the transaction\n",
    "    conn.commit()\n",
    "except Exception as e:\n",
    "    # Rollback in case of error\n",
    "    print(f\"An error occurred: {e}\")\n",
    "    conn.rollback()\n"
   ]
  },
  {
   "cell_type": "code",
   "execution_count": 4,
   "id": "c8e3775a",
   "metadata": {},
   "outputs": [],
   "source": [
    "# Inner Join\n",
    "\n",
    "# Perform a join query\n",
    "cursor.execute('''\n",
    "SELECT users.name, orders.order_date\n",
    "FROM users\n",
    "INNER JOIN orders ON users.id = orders.user_id\n",
    "''')\n",
    "\n",
    "rows = cursor.fetchall()\n",
    "for row in rows:\n",
    "    print(row)\n",
    "\n"
   ]
  },
  {
   "cell_type": "code",
   "execution_count": 5,
   "id": "3819f915",
   "metadata": {},
   "outputs": [],
   "source": [
    "# Subquery\n",
    "# Perform a subquery\n",
    "cursor.execute('''\n",
    "SELECT name FROM users\n",
    "WHERE id IN (SELECT user_id FROM orders WHERE order_date > '2023-11-11')\n",
    "''')\n",
    "\n",
    "rows = cursor.fetchall()\n",
    "for row in rows:\n",
    "    print(row)\n"
   ]
  },
  {
   "cell_type": "code",
   "execution_count": 6,
   "id": "d87c2f68",
   "metadata": {},
   "outputs": [],
   "source": [
    "# Aggregation Functions\n",
    "\n",
    "# Perform aggregation queries\n",
    "cursor.execute('SELECT COUNT(*) FROM users')\n",
    "print(f\"Total users: {cursor.fetchone()[0]}\")\n",
    "\n",
    "cursor.execute('SELECT AVG(age) FROM users')\n",
    "print(f\"Average age: {cursor.fetchone()[0]}\")\n",
    "\n",
    "# Close the connection\n",
    "conn.close()"
   ]
  },
  {
   "cell_type": "markdown",
   "id": "a5cb8e26",
   "metadata": {},
   "source": [
    "## 2. MySQL with mysql-connector-python"
   ]
  },
  {
   "cell_type": "code",
   "execution_count": 7,
   "id": "ed3a774c",
   "metadata": {},
   "outputs": [],
   "source": [
    "# Connecting to MySQL and Creating a Table\n",
    "import mysql.connector\n",
    "\n",
    "# Connect to MySQL\n",
    "conn = mysql.connector.connect(\n",
    "    host='localhost',\n",
    "    user='username',\n",
    "    password='password',\n",
    "    database='testdb'\n",
    ")\n",
    "\n",
    "cursor = conn.cursor()\n",
    "\n",
    "# Create a table\n",
    "cursor.execute('''\n",
    "CREATE TABLE IF NOT EXISTS employees (\n",
    "    id INT AUTO_INCREMENT PRIMARY KEY,\n",
    "    name VARCHAR(255) NOT NULL,\n",
    "    position VARCHAR(255) NOT NULL\n",
    ")\n",
    "''')\n",
    "\n"
   ]
  },
  {
   "cell_type": "code",
   "execution_count": 8,
   "id": "c479f5b3",
   "metadata": {},
   "outputs": [],
   "source": [
    "# Inserting and Querying Data\n",
    "\n",
    "# Insert data\n",
    "cursor.execute(\"INSERT INTO employees (name, position) VALUES (%s, %s)\", ('Chandler', 'Statistical Analysis and Data Reconfiguration'))\n",
    "cursor.execute(\"INSERT INTO employees (name, position) VALUES (%s, %s)\", ('Monica', 'Chef'))\n",
    "\n",
    "# Commit changes\n",
    "conn.commit()\n",
    "\n",
    "# Query data\n",
    "cursor.execute(\"SELECT * FROM employees\")\n",
    "rows = cursor.fetchall()\n",
    "for row in rows:\n",
    "    print(row)\n",
    "\n",
    "# Close the connection\n",
    "conn.close()\n"
   ]
  },
  {
   "cell_type": "markdown",
   "id": "ee6fc171",
   "metadata": {},
   "source": [
    "## 3. PostgreSQL with psycopg2"
   ]
  },
  {
   "cell_type": "code",
   "execution_count": 9,
   "id": "503d4f7c",
   "metadata": {},
   "outputs": [],
   "source": [
    "# Connecting to PostgreSQL and Creating a Table\n",
    "import psycopg2\n",
    "\n",
    "# Connect to PostgreSQL\n",
    "conn = psycopg2.connect(\n",
    "    dbname='testdb',\n",
    "    user='username',\n",
    "    password='password',\n",
    "    host='localhost'\n",
    ")\n",
    "\n",
    "cursor = conn.cursor()\n",
    "\n",
    "# Create a table\n",
    "cursor.execute('''\n",
    "CREATE TABLE IF NOT EXISTS products (\n",
    "    id SERIAL PRIMARY KEY,\n",
    "    name VARCHAR(255) NOT NULL,\n",
    "    price NUMERIC(10, 2) NOT NULL\n",
    ")\n",
    "''')\n",
    "\n"
   ]
  },
  {
   "cell_type": "code",
   "execution_count": 10,
   "id": "1f70072e",
   "metadata": {},
   "outputs": [],
   "source": [
    "# Inserting and Querying Data\n",
    "\n",
    "# Insert data\n",
    "cursor.execute(\"INSERT INTO products (name, price) VALUES (%s, %s)\", ('Laptop', 99999))\n",
    "cursor.execute(\"INSERT INTO products (name, price) VALUES (%s, %s)\", ('Mouse', 255))\n",
    "\n",
    "# Commit changes\n",
    "conn.commit()\n",
    "\n",
    "# Query data\n",
    "cursor.execute(\"SELECT * FROM products\")\n",
    "rows = cursor.fetchall()\n",
    "for row in rows:\n",
    "    print(row)\n",
    "\n",
    "# Close the connection\n",
    "conn.close()\n"
   ]
  },
  {
   "cell_type": "code",
   "execution_count": 11,
   "id": "03ec7f9b",
   "metadata": {},
   "outputs": [],
   "source": [
    "# Adding Indexes in PostgreSQL\n",
    "\n",
    "# Create an index\n",
    "cursor.execute(\"CREATE INDEX idx_users_name ON users (name)\")\n",
    "\n",
    "# Commit changes\n",
    "conn.commit()\n",
    "\n",
    "# Close the connection\n",
    "conn.close()\n"
   ]
  },
  {
   "cell_type": "markdown",
   "id": "13281232",
   "metadata": {},
   "source": [
    "## 4. SQLAlchemy ORM"
   ]
  },
  {
   "cell_type": "code",
   "execution_count": 12,
   "id": "14a3475d",
   "metadata": {},
   "outputs": [],
   "source": [
    "from sqlalchemy import create_engine, Column, Integer, String\n",
    "from sqlalchemy.ext.declarative import declarative_base\n",
    "from sqlalchemy.orm import sessionmaker\n",
    "\n",
    "# Define the database URL\n",
    "DATABASE_URL = \"sqlite:///examples.db\"\n",
    "\n",
    "# Create an engine\n",
    "engine = create_engine(DATABASE_URL)\n",
    "\n",
    "# Create a base class\n",
    "Base = declarative_base()\n",
    "\n",
    "# Define a model class\n",
    "class User(Base):\n",
    "    __tablename__ = 'users'\n",
    "    id = Column(Integer, primary_key=True, autoincrement=True)\n",
    "    name = Column(String, nullable=False)\n",
    "    age = Column(Integer, nullable=False)\n",
    "\n",
    "# Create tables\n",
    "Base.metadata.create_all(engine)\n",
    "\n",
    "# Create a session\n",
    "Session = sessionmaker(bind=engine)\n",
    "session = Session()\n",
    "\n",
    "# Add a new user\n",
    "new_user = User(name='Alice', age=30)\n",
    "session.add(new_user)\n",
    "session.commit()\n",
    "\n",
    "# Query data\n",
    "users = session.query(User).all()\n",
    "for user in users:\n",
    "    print(user.name, user.age)\n",
    "\n",
    "# Close the session\n",
    "session.close()\n"
   ]
  }
 ],
 "metadata": {
  "kernelspec": {
   "display_name": "Python 3 (ipykernel)",
   "language": "python",
   "name": "python3"
  },
  "language_info": {
   "codemirror_mode": {
    "name": "ipython",
    "version": 3
   },
   "file_extension": ".py",
   "mimetype": "text/x-python",
   "name": "python",
   "nbconvert_exporter": "python",
   "pygments_lexer": "ipython3",
   "version": "3.11.5"
  }
 },
 "nbformat": 4,
 "nbformat_minor": 5
}
