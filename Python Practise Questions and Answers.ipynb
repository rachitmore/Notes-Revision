{
 "cells": [
  {
   "cell_type": "markdown",
   "id": "6fb0b65b",
   "metadata": {},
   "source": [
    "#### Problem 1: Print the first 5 positive integers in ascending order with one number in each line"
   ]
  },
  {
   "cell_type": "code",
   "execution_count": 1,
   "id": "2aff11fc",
   "metadata": {},
   "outputs": [
    {
     "name": "stdout",
     "output_type": "stream",
     "text": [
      "1\n",
      "2\n",
      "3\n",
      "4\n",
      "5\n"
     ]
    }
   ],
   "source": [
    "for i in range(1, 6):\n",
    "    print(i)"
   ]
  },
  {
   "cell_type": "markdown",
   "id": "0da82384",
   "metadata": {},
   "source": [
    "#### Problem 2: Print the following pattern\n",
    "    *\n",
    "    **\n",
    "    ***\n",
    "    ****\n",
    "    *****"
   ]
  },
  {
   "cell_type": "code",
   "execution_count": 2,
   "id": "5d5c5932",
   "metadata": {},
   "outputs": [
    {
     "name": "stdout",
     "output_type": "stream",
     "text": [
      "*\n",
      "**\n",
      "***\n",
      "****\n",
      "*****\n"
     ]
    }
   ],
   "source": [
    "for i in range(1, 6):\n",
    "    print('*' * i)"
   ]
  },
  {
   "cell_type": "markdown",
   "id": "8f7de9ba",
   "metadata": {},
   "source": [
    "#### Problem 3: Accept an integer as input and print its square as output."
   ]
  },
  {
   "cell_type": "code",
   "execution_count": 3,
   "id": "f185a7fd",
   "metadata": {},
   "outputs": [
    {
     "name": "stdout",
     "output_type": "stream",
     "text": [
      "Enter an integer: 5\n",
      "25\n"
     ]
    }
   ],
   "source": [
    "n = int(input(\"Enter an integer: \"))\n",
    "print(n * n)"
   ]
  },
  {
   "cell_type": "markdown",
   "id": "8a623120",
   "metadata": {},
   "source": [
    "#### Problem 4: Accept two integers as input and print their sum as output."
   ]
  },
  {
   "cell_type": "code",
   "execution_count": 4,
   "id": "aa953b21",
   "metadata": {},
   "outputs": [
    {
     "name": "stdout",
     "output_type": "stream",
     "text": [
      "Enter the first integer: 5\n",
      "Enter the second integer: 6\n",
      "11\n"
     ]
    }
   ],
   "source": [
    "a = int(input(\"Enter the first integer: \"))\n",
    "b = int(input(\"Enter the second integer: \"))\n",
    "print(a + b)"
   ]
  },
  {
   "cell_type": "markdown",
   "id": "e35fd190",
   "metadata": {},
   "source": [
    "#### Problem 5: Accept two words as input and print the two words after adding a space between them"
   ]
  },
  {
   "cell_type": "code",
   "execution_count": 5,
   "id": "68732deb",
   "metadata": {},
   "outputs": [
    {
     "name": "stdout",
     "output_type": "stream",
     "text": [
      "Enter the first word: Rachit\n",
      "Enter the second word: More\n",
      "Rachit More\n"
     ]
    }
   ],
   "source": [
    "word1 = input(\"Enter the first word: \")\n",
    "word2 = input(\"Enter the second word: \")\n",
    "print(word1 + \" \" + word2)"
   ]
  },
  {
   "cell_type": "markdown",
   "id": "a4c860cc",
   "metadata": {},
   "source": [
    "#### Problem 6: Accept the registration number of a vehicle as input and print its state-code as output."
   ]
  },
  {
   "cell_type": "code",
   "execution_count": 6,
   "id": "c537686f",
   "metadata": {},
   "outputs": [
    {
     "name": "stdout",
     "output_type": "stream",
     "text": [
      "Enter the vehicle registration number: MP99AA9999\n",
      "MP\n"
     ]
    }
   ],
   "source": [
    "registration_number = input(\"Enter the vehicle registration number: \")\n",
    "print(registration_number[:2])"
   ]
  },
  {
   "cell_type": "markdown",
   "id": "f029b018",
   "metadata": {},
   "source": [
    "#### Problem 7: Accept a five-digit number as input and print the sum of its digits as output."
   ]
  },
  {
   "cell_type": "code",
   "execution_count": 7,
   "id": "a9de92aa",
   "metadata": {},
   "outputs": [
    {
     "name": "stdout",
     "output_type": "stream",
     "text": [
      "Enter a five-digit number: 54321\n",
      "15\n"
     ]
    }
   ],
   "source": [
    "number = input(\"Enter a five-digit number: \")\n",
    "sum_of_digits = sum(int(digit) for digit in number)\n",
    "print(sum_of_digits)"
   ]
  },
  {
   "cell_type": "markdown",
   "id": "4fe47804",
   "metadata": {},
   "source": [
    "#### Problem 8: Accept five words as input and print the sentence formed by these words after adding a space between consecutive words and a full stop at the end."
   ]
  },
  {
   "cell_type": "code",
   "execution_count": 8,
   "id": "976c67ee",
   "metadata": {},
   "outputs": [
    {
     "name": "stdout",
     "output_type": "stream",
     "text": [
      "Enter word 1: I\n",
      "Enter word 2: am\n",
      "Enter word 3: a \n",
      "Enter word 4: Mechanical\n",
      "Enter word 5: Engineer\n",
      "I am a  Mechanical Engineer.\n"
     ]
    }
   ],
   "source": [
    "words = [input(\"Enter word {}: \".format(i+1)) for i in range(5)]\n",
    "sentence = ' '.join(words) + '.'\n",
    "print(sentence)"
   ]
  },
  {
   "cell_type": "markdown",
   "id": "3b7b0d34",
   "metadata": {},
   "source": [
    "#### Problem 9: Accept the date in DD-MM-YYYY format as input and print the year as output."
   ]
  },
  {
   "cell_type": "code",
   "execution_count": 9,
   "id": "69c8862c",
   "metadata": {},
   "outputs": [
    {
     "name": "stdout",
     "output_type": "stream",
     "text": [
      "Enter the date in DD-MM-YYYY format: 20-05-1998\n",
      "1998\n"
     ]
    }
   ],
   "source": [
    "date = input(\"Enter the date in DD-MM-YYYY format: \")\n",
    "print(date.split('-')[-1])"
   ]
  },
  {
   "cell_type": "markdown",
   "id": "a4ca75fa",
   "metadata": {},
   "source": [
    "#### Problem 10: Accept a sequence of five single digit numbers separated by commas as input. Print the product of all five numbers."
   ]
  },
  {
   "cell_type": "code",
   "execution_count": 10,
   "id": "b321b3b2",
   "metadata": {},
   "outputs": [
    {
     "name": "stdout",
     "output_type": "stream",
     "text": [
      "Enter five single digit numbers separated by commas: 1,2,3,4,5\n",
      "120\n"
     ]
    }
   ],
   "source": [
    "numbers = input(\"Enter five single digit numbers separated by commas: \").split(',')\n",
    "product = 1\n",
    "for number in numbers:\n",
    "    product *= int(number)\n",
    "print(product)"
   ]
  },
  {
   "cell_type": "markdown",
   "id": "74f67a1f",
   "metadata": {},
   "source": [
    "#### Problem 11: Accept two positive integers x and y as input. Print the number of digits in x^y"
   ]
  },
  {
   "cell_type": "code",
   "execution_count": 11,
   "id": "e14a49f3",
   "metadata": {},
   "outputs": [
    {
     "name": "stdout",
     "output_type": "stream",
     "text": [
      "Enter the base number (x): 10\n",
      "Enter the exponent (y): 2\n",
      "3\n"
     ]
    }
   ],
   "source": [
    "x = int(input(\"Enter the base number (x): \"))\n",
    "y = int(input(\"Enter the exponent (y): \"))\n",
    "number_of_digits = len(str(x ** y))\n",
    "print(number_of_digits)"
   ]
  },
  {
   "cell_type": "markdown",
   "id": "188d7398",
   "metadata": {},
   "source": [
    "#### Problem 12: Accept a string as input. If the input string is of odd length, then continue with it. If the input string is of even length, make the string of odd length as below:\n",
    "    • If the last character is a period (.), then remove it \n",
    "    • If the last character is not a period, then add a period (.) to the end of the string\n",
    "    • Call this string of odd length word. \n",
    "    • Select a substring made up of three consecutive characters from word such that there are an equal number of characters to the left and right of this substring. \n",
    "    • Print this substring as output. You can assume that all input strings will be in lower case and will have a length of at least four\n"
   ]
  },
  {
   "cell_type": "code",
   "execution_count": 12,
   "id": "417ac42f",
   "metadata": {},
   "outputs": [
    {
     "name": "stdout",
     "output_type": "stream",
     "text": [
      "Enter a string: Rachit\n",
      "chi\n"
     ]
    }
   ],
   "source": [
    "input_str = input(\"Enter a string: \")\n",
    "if len(input_str) % 2 == 0:\n",
    "    if input_str[-1] == '.':\n",
    "        input_str = input_str[:-1]\n",
    "    else:\n",
    "        input_str += '.'\n",
    "mid = len(input_str) // 2\n",
    "print(input_str[mid-1:mid+2])\n"
   ]
  },
  {
   "cell_type": "markdown",
   "id": "0f2149bb",
   "metadata": {},
   "source": [
    "#### Problem 13: Accept three positive integers as input and check if they form the sides of a right triangle. \n",
    "    Print YES if they form one, and NO if they do not. \n",
    "    The input will have three lines, with one integer on each line. \n",
    "    The output should be a single line containing one of these two strings: YES or NO."
   ]
  },
  {
   "cell_type": "code",
   "execution_count": 13,
   "id": "bfeeeaf7",
   "metadata": {},
   "outputs": [
    {
     "name": "stdout",
     "output_type": "stream",
     "text": [
      "Enter the first side length: 3\n",
      "Enter the second side length: 4\n",
      "Enter the third side length: 5\n",
      "YES\n"
     ]
    }
   ],
   "source": [
    "a = int(input(\"Enter the first side length: \"))\n",
    "b = int(input(\"Enter the second side length: \"))\n",
    "c = int(input(\"Enter the third side length: \"))\n",
    "sides = sorted([a, b, c])\n",
    "if sides[0]**2 + sides[1]**2 == sides[2]**2:\n",
    "    print(\"YES\")\n",
    "else:\n",
    "    print(\"NO\")\n"
   ]
  },
  {
   "cell_type": "markdown",
   "id": "931547a8",
   "metadata": {},
   "source": [
    "#### Problem 14: EvenOdd is a tech startup. Each employee at the startup is given an employee id which is a unique positive integer. On one warm Sunday evening, five employees of the company come together for a meeting and sit at a circular table:\n",
    "    The employees follow a strange convention. They will continue the meeting only if the following condition is satisfied.\n",
    "    The sum of the employee-ids of every pair of adjacent employees at the table must be an even number.\n",
    "    They are so lazy that they won’t move around to satisfy the above condition, If the current seating plan doesn’t satisfy the condition, the meeting will be cancelled. You are given the employee-id of all five employees. Your task is to decide if the meeting happened or not.\n",
    "    The input will be five lines, each containing an integer. The ith line will have the employee-id of Ei. \n",
    "    The output will be a single line containing one of these two strings: YES or NO\n"
   ]
  },
  {
   "cell_type": "code",
   "execution_count": 14,
   "id": "f074a527",
   "metadata": {},
   "outputs": [
    {
     "name": "stdout",
     "output_type": "stream",
     "text": [
      "Enter employee id 1: 12345\n",
      "Enter employee id 2: 54321\n",
      "Enter employee id 3: 14523\n",
      "Enter employee id 4: 36521\n",
      "Enter employee id 5: 12453\n",
      "YES\n"
     ]
    }
   ],
   "source": [
    "employee_ids = [int(input(\"Enter employee id {}: \".format(i+1))) for i in range(5)]\n",
    "meeting_happened = all((employee_ids[i] + employee_ids[(i+1) % 5]) % 2 == 0 for i in range(5))\n",
    "print(\"YES\" if meeting_happened else \"NO\")\n"
   ]
  },
  {
   "cell_type": "markdown",
   "id": "fc5350ed",
   "metadata": {},
   "source": [
    "#### Problem 15: Accept a string as input and print the vowels present in the string in alphabetical order. If the string doesn’t contain any vowels, then print the string \"none\" as output. Each vowel that appears in the input string – irrespective of its case should appear just once in lower case in the output"
   ]
  },
  {
   "cell_type": "code",
   "execution_count": 15,
   "id": "a33d1b75",
   "metadata": {},
   "outputs": [
    {
     "name": "stdout",
     "output_type": "stream",
     "text": [
      "Enter a string: Rachit More\n",
      "aeio\n"
     ]
    }
   ],
   "source": [
    "input_str = input(\"Enter a string: \")\n",
    "vowels = sorted(set([ch for ch in input_str.lower() if ch in 'aeiou']))\n",
    "print(''.join(vowels) if vowels else 'none')\n"
   ]
  },
  {
   "cell_type": "markdown",
   "id": "1f707eee",
   "metadata": {},
   "source": [
    "#### Problem 16: You are given the date of birth of two persons, not necessarily from the same family. \n",
    "    Your task is to find the younger of the two. \n",
    "    If both of them share the same date of birth, then the younger of the two is assumed to be that person whose name comes first in alphabetical order.\n",
    "    The input will have four lines. \n",
    "    The first two lines correspond to the first person, while the last two lines correspond to the second person. \n",
    "    For each person, the first line corresponds to the name and the second line corresponds to the date of birth in “DD-MM-YYYY” format. Your output should be the name of the younger of the two."
   ]
  },
  {
   "cell_type": "code",
   "execution_count": 16,
   "id": "ad7ce0af",
   "metadata": {},
   "outputs": [
    {
     "name": "stdout",
     "output_type": "stream",
     "text": [
      "Enter the first person's name: Rachit\n",
      "Enter the first person's date of birth (DD-MM-YYYY): 20-05-1998\n",
      "Enter the second person's name: More\n",
      "Enter the second person's date of birth (DD-MM-YYYY): 05-05-1998\n",
      "More\n"
     ]
    }
   ],
   "source": [
    "name1 = input(\"Enter the first person's name: \")\n",
    "dob1 = input(\"Enter the first person's date of birth (DD-MM-YYYY): \")\n",
    "name2 = input(\"Enter the second person's name: \")\n",
    "dob2 = input(\"Enter the second person's date of birth (DD-MM-YYYY): \")\n",
    "\n",
    "dob1_parts = list(map(int, dob1.split('-')))\n",
    "dob2_parts = list(map(int, dob2.split('-')))\n",
    "\n",
    "if dob1_parts[2:] < dob2_parts[2:]:\n",
    "    print(name2)\n",
    "elif dob1_parts[2:] > dob2_parts[2:]:\n",
    "    print(name1)\n",
    "else:\n",
    "    print(min(name1, name2))\n"
   ]
  },
  {
   "cell_type": "markdown",
   "id": "26724e55",
   "metadata": {},
   "source": [
    "#### Problem 17: Accept a string as input. Your task is to determine if the input string is a valid password or not. For a string to be a valid password, it must satisfy all the conditions given below:\n",
    "    (1) It should have at least 8 and at most 32 characters\n",
    "    (2) It should start with an uppercase or lowercase letter\n",
    "    (3) It should not have any of these characters: / \\ = ' \"\n",
    "    (4) It should not have spaces. It could have any character that is not mentioned in the list of characters to be avoided (points 3 and 4). Output True if the string forms a valid password and False otherwise\n"
   ]
  },
  {
   "cell_type": "code",
   "execution_count": 17,
   "id": "d1ce444c",
   "metadata": {},
   "outputs": [
    {
     "name": "stdout",
     "output_type": "stream",
     "text": [
      "Enter a password: RachitMore\n",
      "True\n"
     ]
    }
   ],
   "source": [
    "password = input(\"Enter a password: \")\n",
    "valid_password = (8 <= len(password) <= 32 and password[0].isalpha() and \n",
    "                  not any(ch in password for ch in \"/\\\\='\\\"\") and ' ' not in password)\n",
    "print(valid_password)"
   ]
  },
  {
   "cell_type": "markdown",
   "id": "5706005b",
   "metadata": {},
   "source": [
    "#### Problem 18: Accept a positive integer n as input and print the first n positive integers, one number on each line."
   ]
  },
  {
   "cell_type": "code",
   "execution_count": 18,
   "id": "679528d7",
   "metadata": {},
   "outputs": [
    {
     "name": "stdout",
     "output_type": "stream",
     "text": [
      "Enter a positive integer: 85\n",
      "1\n",
      "2\n",
      "3\n",
      "4\n",
      "5\n",
      "6\n",
      "7\n",
      "8\n",
      "9\n",
      "10\n",
      "11\n",
      "12\n",
      "13\n",
      "14\n",
      "15\n",
      "16\n",
      "17\n",
      "18\n",
      "19\n",
      "20\n",
      "21\n",
      "22\n",
      "23\n",
      "24\n",
      "25\n",
      "26\n",
      "27\n",
      "28\n",
      "29\n",
      "30\n",
      "31\n",
      "32\n",
      "33\n",
      "34\n",
      "35\n",
      "36\n",
      "37\n",
      "38\n",
      "39\n",
      "40\n",
      "41\n",
      "42\n",
      "43\n",
      "44\n",
      "45\n",
      "46\n",
      "47\n",
      "48\n",
      "49\n",
      "50\n",
      "51\n",
      "52\n",
      "53\n",
      "54\n",
      "55\n",
      "56\n",
      "57\n",
      "58\n",
      "59\n",
      "60\n",
      "61\n",
      "62\n",
      "63\n",
      "64\n",
      "65\n",
      "66\n",
      "67\n",
      "68\n",
      "69\n",
      "70\n",
      "71\n",
      "72\n",
      "73\n",
      "74\n",
      "75\n",
      "76\n",
      "77\n",
      "78\n",
      "79\n",
      "80\n",
      "81\n",
      "82\n",
      "83\n",
      "84\n",
      "85\n"
     ]
    }
   ],
   "source": [
    "n = int(input(\"Enter a positive integer: \"))\n",
    "for i in range(1, n + 1):\n",
    "    print(i)\n"
   ]
  },
  {
   "cell_type": "markdown",
   "id": "492567f7",
   "metadata": {},
   "source": [
    "#### Problem 19: Accept a positive integer n as input, where n is greater than 1 Print PRIME if n is a prime number and NOTPRIME otherwise."
   ]
  },
  {
   "cell_type": "code",
   "execution_count": 19,
   "id": "b67086d2",
   "metadata": {},
   "outputs": [
    {
     "name": "stdout",
     "output_type": "stream",
     "text": [
      "Enter a positive integer greater than 1: 41\n",
      "PRIME\n"
     ]
    }
   ],
   "source": [
    "n = int(input(\"Enter a positive integer greater than 1: \"))\n",
    "if n > 1:\n",
    "    for i in range(2, int(n**0.5) + 1):\n",
    "        if n % i == 0:\n",
    "            print(\"NOTPRIME\")\n",
    "            break\n",
    "    else:\n",
    "        print(\"PRIME\")\n",
    "else:\n",
    "    print(\"NOTPRIME\")\n"
   ]
  },
  {
   "cell_type": "markdown",
   "id": "6e9969bc",
   "metadata": {},
   "source": [
    "#### Problem 20: Accept two strings as input and form a new string by removing all characters from the second string which are present in the first string. Print this new string as output. You can assume that all input strings will be in lower case."
   ]
  },
  {
   "cell_type": "code",
   "execution_count": 20,
   "id": "f2324cb4",
   "metadata": {},
   "outputs": [
    {
     "name": "stdout",
     "output_type": "stream",
     "text": [
      "Enter the first string: Rachit\n",
      "Enter the second string: more\n",
      "more\n"
     ]
    }
   ],
   "source": [
    "str1 = input(\"Enter the first string: \")\n",
    "str2 = input(\"Enter the second string: \")\n",
    "new_str = ''.join([ch for ch in str2 if ch not in str1])\n",
    "print(new_str)\n"
   ]
  },
  {
   "cell_type": "markdown",
   "id": "d3557490",
   "metadata": {},
   "source": [
    "#### 21.Accept a phone number as input. A valid phone number should satisfy the following constraints.\n",
    "    (1) The number should start with one of these digits: 6, 7, 8, 9\n",
    "    (2) The number should be exactly 10 digits long.\n",
    "    (3) No digit should appear more than 7 times in the number.\n",
    "    (4) No digit should appear more than 5 times in a row in the number.\n",
    "\n",
    "If the fourth condition is not very clear, then consider this example: the number 9888888765 is invalid because the digit 8 appears more than 5 times in a row. Print the string valid if the phone number is valid. If not, print the string invalid."
   ]
  },
  {
   "cell_type": "code",
   "execution_count": 21,
   "id": "053b622c",
   "metadata": {},
   "outputs": [
    {
     "name": "stdout",
     "output_type": "stream",
     "text": [
      "Enter a phone number: 9874563210\n",
      "valid\n"
     ]
    }
   ],
   "source": [
    "def check_valid_phone_number():\n",
    "    phone_number = input(\"Enter a phone number: \")\n",
    "    if (phone_number[0] in '6789' and len(phone_number) == 10 and\n",
    "        all(phone_number.count(digit) <= 7 for digit in set(phone_number)) and\n",
    "        all(phone_number[i:i+6] != phone_number[i]*6 for i in range(5))):\n",
    "        print(\"valid\")\n",
    "    else:\n",
    "        print(\"invalid\")\n",
    "        \n",
    "check_valid_phone_number()"
   ]
  },
  {
   "cell_type": "markdown",
   "id": "9bb29ace",
   "metadata": {},
   "source": [
    "#### 22. In the first line of input, accept a sequence of space-separated words. In the second line of input, accept a single word. If this word is not present in the sequence, print NO. If this word is present in the sequence, then print YES and in the next line of the output, print the number of times the word appears in the sequence."
   ]
  },
  {
   "cell_type": "code",
   "execution_count": 22,
   "id": "a2fdfb1d",
   "metadata": {},
   "outputs": [
    {
     "name": "stdout",
     "output_type": "stream",
     "text": [
      "Enter a sequence of words: I am Rachit\n",
      "Enter a word: Rachit\n",
      "YES\n",
      "1\n"
     ]
    }
   ],
   "source": [
    "def check_word_in_sequence():\n",
    "    sequence = input(\"Enter a sequence of words: \").split()\n",
    "    word = input(\"Enter a word: \")\n",
    "    if word in sequence:\n",
    "        print(\"YES\")\n",
    "        print(sequence.count(word))\n",
    "    else:\n",
    "        print(\"NO\")\n",
    "\n",
    "check_word_in_sequence()"
   ]
  },
  {
   "cell_type": "markdown",
   "id": "c3cdb6d1",
   "metadata": {},
   "source": [
    "#### 23. Write a function named factorial that accepts an integer n as argument. It should return the factorial of n if n is a positive integer. It should return -1 if n is a negative integer, and it should return 1 if n is zero.\n"
   ]
  },
  {
   "cell_type": "code",
   "execution_count": 23,
   "id": "c6fcc862",
   "metadata": {},
   "outputs": [
    {
     "name": "stdout",
     "output_type": "stream",
     "text": [
      "120\n"
     ]
    }
   ],
   "source": [
    "def factorial(n):\n",
    "    if n < 0:\n",
    "        return -1\n",
    "    elif n == 0:\n",
    "        return 1\n",
    "    else:\n",
    "        result = 1\n",
    "        for i in range(1, n + 1):\n",
    "            result *= i\n",
    "        return result\n",
    "\n",
    "print(factorial(5))"
   ]
  },
  {
   "cell_type": "markdown",
   "id": "f51fbfd0",
   "metadata": {},
   "source": [
    "#### 24. The range of a list of numbers is the difference between the maximum and minimum values in the list. Write a function named get_range that accepts a non-empty list of real numbers as argument. It should return the range of the list.\n",
    "    (1) Avoid using built-in function such as max and min.\n",
    "    (2) You do not have to accept input from the user or print output to the console. You just have to write the function definition.\n"
   ]
  },
  {
   "cell_type": "code",
   "execution_count": 24,
   "id": "dce05e9c",
   "metadata": {},
   "outputs": [
    {
     "name": "stdout",
     "output_type": "stream",
     "text": [
      "4.4\n"
     ]
    }
   ],
   "source": [
    "def get_range(numbers):\n",
    "    min_val = max_val = numbers[0]\n",
    "    for num in numbers[1:]:\n",
    "        if num < min_val:\n",
    "            min_val = num\n",
    "        if num > max_val:\n",
    "            max_val = num\n",
    "    return max_val - min_val\n",
    "\n",
    "print(get_range([3.5, 1.2, 4.7, 0.3]))"
   ]
  },
  {
   "cell_type": "markdown",
   "id": "d90d1eb1",
   "metadata": {},
   "source": [
    "#### 25. Write a function named read_file that accepts a text file named filename as argument. Within the function, read the file and print each line of the file on a separate line in the console. You shouldn't print any extra characters at the end of a line. There shouldn't be an empty line between any two consecutive lines.\n",
    "    (1) filename is a string variable that holds the name of the file. For example, in the first test case, it is filename = 'public_1.txt'.\n",
    "    (2) You do not have to accept input from the console. You have to write the function definition and print the contents of the file within the function.\n"
   ]
  },
  {
   "cell_type": "code",
   "execution_count": 25,
   "id": "bfcfc5fd",
   "metadata": {},
   "outputs": [],
   "source": [
    "def read_file(filename):\n",
    "    with open(filename, 'r') as file:\n",
    "        for line in file:\n",
    "            print(line.strip())\n",
    "            \n",
    "read_file('example.txt')"
   ]
  },
  {
   "cell_type": "markdown",
   "id": "07cd7098",
   "metadata": {},
   "source": [
    "#### 26. A simple algorithm has to be designed to find out whether a student belongs to the Data Science branch or not. \n",
    "    The input will be a student's roll number, which is of the form BR18B0000. \n",
    "    Here, BR represents the branch code, 18 represents the year of joining, B represents the education level and 0000 represents the specific identification given to the student of that batch. \n",
    "    The branch code for Data Science is DS. Print True if the student belongs to Data Science branch and False otherwise.\n"
   ]
  },
  {
   "cell_type": "code",
   "execution_count": 26,
   "id": "e27662ed",
   "metadata": {},
   "outputs": [
    {
     "name": "stdout",
     "output_type": "stream",
     "text": [
      "Enter the roll number: 12345\n",
      "False\n"
     ]
    }
   ],
   "source": [
    "def check_data_science_student():\n",
    "    roll_number = input(\"Enter the roll number: \")\n",
    "    print(roll_number[:2] == \"DS\")\n",
    "\n",
    "check_data_science_student()"
   ]
  },
  {
   "cell_type": "markdown",
   "id": "7b7c364f",
   "metadata": {},
   "source": [
    "#### 27.The police are trying to track a criminal based on the evidence available at a crime site. \n",
    "    Their main clue is a vehicle's damaged number plate. Only the string TN07 is visible. \n",
    "    The format of the registration number is AA00AA00, where the first two letters are alphabets, next two are numbers, next two are again alphabets followed by two numbers at the end. \n",
    "    A number plate is picked from a database of registration numbers and is given to you as input. \n",
    "    Your task is to determine if this could belong to the criminal or not. \n",
    "    Print True if the number plate contains TN07 and False otherwise.\n"
   ]
  },
  {
   "cell_type": "code",
   "execution_count": 27,
   "id": "c7af8318",
   "metadata": {},
   "outputs": [
    {
     "name": "stdout",
     "output_type": "stream",
     "text": [
      "Enter the number plate: MP99AA9999\n",
      "False\n"
     ]
    }
   ],
   "source": [
    "def check_number_plate():\n",
    "    number_plate = input(\"Enter the number plate: \")\n",
    "    print(\"TN07\" in number_plate)\n",
    "    \n",
    "check_number_plate()"
   ]
  },
  {
   "cell_type": "markdown",
   "id": "16b005c3",
   "metadata": {},
   "source": [
    "#### 28. You are given a string and two non-negative integers as input. The two integers specify the start and end indices of a substring in the given string. Create a new string by replicating the substring a minimum number of times so that the resulting string is longer than the input string. The input parameters are the string, start index of the substring and the end index of substring (endpoints inclusive) each on a different line."
   ]
  },
  {
   "cell_type": "code",
   "execution_count": 28,
   "id": "f716a329",
   "metadata": {},
   "outputs": [
    {
     "name": "stdout",
     "output_type": "stream",
     "text": [
      "Enter the string: Rachit\n",
      "Enter the start index: 2\n",
      "Enter the end index: 6\n",
      "chitchi\n"
     ]
    }
   ],
   "source": [
    "def replicate_substring():\n",
    "    string = input(\"Enter the string: \")\n",
    "    start = int(input(\"Enter the start index: \"))\n",
    "    end = int(input(\"Enter the end index: \"))\n",
    "    substring = string[start:end + 1]\n",
    "    new_string = substring * ((len(string) // len(substring)) + 1)\n",
    "    print(new_string[:len(string) + 1])\n",
    "\n",
    "replicate_substring()\n"
   ]
  },
  {
   "cell_type": "markdown",
   "id": "ba53dec3",
   "metadata": {},
   "source": [
    "#### 29. A class teacher has decided to split her entire class into four groups, namely Sapphire, Peridot, Ruby, and Emerald for sports competitions. For dividing the students into these four groups, she has followed the pattern given below:\n",
    "\tSapphire - 1, 5, 9, 13, 17, 21, ...\n",
    "\tPeridot - 2, 6, 10, 14, 18, 22, ...\n",
    "\tRuby - 3, 7, 11, 15, 19, 23, ...\n",
    "\tEmerald - 4, 8, 12, 16, 20, 24, ...\n",
    "All the students are represented by their roll numbers. Based on the above pattern, given the roll number as input, print the group the student belongs to. Note that the roll number can be any positive integer and not necessarily less than 25.\n"
   ]
  },
  {
   "cell_type": "code",
   "execution_count": 29,
   "id": "16e1bf1e",
   "metadata": {},
   "outputs": [
    {
     "name": "stdout",
     "output_type": "stream",
     "text": [
      "Enter the roll number: 123435\n",
      "Ruby\n"
     ]
    }
   ],
   "source": [
    "def determine_group():\n",
    "    roll_number = int(input(\"Enter the roll number: \"))\n",
    "    groups = [\"Sapphire\", \"Peridot\", \"Ruby\", \"Emerald\"]\n",
    "    print(groups[(roll_number - 1) % 4])\n",
    "    \n",
    "determine_group()"
   ]
  },
  {
   "cell_type": "markdown",
   "id": "d93cd795",
   "metadata": {},
   "source": [
    "#### 30. A data science company wants to hire data scientists from abc college. \n",
    "    The company follows a certain criteria for selection: for a student to be selected, the number of backlogs should be at most 5 and the CGPA (Cumulative Grade Point Average) should be greater than 6. If the student does not fit the above criteria, then the student is not offered the job. If the student is selected, then the salary offered is equal to 5 times his/her CGPA (in lakhs).\n",
    "    Accept the number of backlogs (integer) and the CGPA (float) of the student as input. Your task is to determine if the student is selected or not. If the student is selected, then print the package. If not, then print the string Not Selected.\n"
   ]
  },
  {
   "cell_type": "code",
   "execution_count": 30,
   "id": "a099bb24",
   "metadata": {},
   "outputs": [
    {
     "name": "stdout",
     "output_type": "stream",
     "text": [
      "Enter the number of backlogs: 1\n",
      "Enter the CGPA: 9.1\n",
      "45.5\n"
     ]
    }
   ],
   "source": [
    "def determine_selection():\n",
    "    backlogs = int(input(\"Enter the number of backlogs: \"))\n",
    "    cgpa = float(input(\"Enter the CGPA: \"))\n",
    "    if backlogs <= 5 and cgpa > 6.0:\n",
    "        print(5 * cgpa)\n",
    "    else:\n",
    "        print(\"Not Selected\")\n",
    "      \n",
    "\n",
    "determine_selection()"
   ]
  },
  {
   "cell_type": "markdown",
   "id": "5bca93ff",
   "metadata": {},
   "source": [
    "#### 31. Accept a string as input and print PALINDROME if it is a palindrome, and NOT PALINDROME otherwise"
   ]
  },
  {
   "cell_type": "code",
   "execution_count": 31,
   "id": "e8cd0cad",
   "metadata": {},
   "outputs": [],
   "source": [
    "def check_palindrome():\n",
    "    string = input(\"Enter a string: \")\n",
    "    if string == string[::-1]:\n",
    "        print(\"PALINDROME\")\n",
    "    else:\n",
    "        print(\"NOT PALINDROME\")"
   ]
  },
  {
   "cell_type": "markdown",
   "id": "4065f608",
   "metadata": {},
   "source": [
    "#### 32. In a portal login website, you are asked to write a function get_password_strength to decide the strength of a password. The strength is decided based on the total score of the password, Use following conditions:\n",
    "    1) If password has length greater than 7 then score increases by one point.\n",
    "    2) If password has at least one upper case and one lower case alphabets score increases by one point.\n",
    "    3) If password has at least one number and no consecutive numbers like 12 or 234 then score increases by one point.\n",
    "    4) If password has at least one special character (any character other than numbers and alphabets) then score increases by one point.\n",
    "    5) If password contains username, then it is invalid password.\n",
    "\n",
    "If the password has score of four points, three points, two points, or one point then print Very Strong, Strong, Moderate, or Weak respectively. If the password is invalid, then print PASSWORD SHOULD NOT CONTAIN USERNAME and If the score is zero, then print Use a different password.The arguments to the function are username and password which are already defined\n"
   ]
  },
  {
   "cell_type": "code",
   "execution_count": 32,
   "id": "46469ee4",
   "metadata": {},
   "outputs": [
    {
     "name": "stdout",
     "output_type": "stream",
     "text": [
      "Moderate\n",
      "Weak\n",
      "Strong\n",
      "Strong\n",
      "PASSWORD SHOULD NOT CONTAIN USERNAME\n",
      "Use a different password\n",
      "Moderate\n"
     ]
    }
   ],
   "source": [
    "def get_password_strength(username, password):\n",
    "    score = 0\n",
    "    if len(password) > 7:\n",
    "        score += 1\n",
    "    if any(c.isupper() for c in password) and any(c.islower() for c in password):\n",
    "        score += 1\n",
    "    if any(c.isdigit() for c in password) and not any(str(i) in password for i in range(10)):\n",
    "        score += 1\n",
    "    if any(not c.isalnum() for c in password):\n",
    "        score += 1\n",
    "    if username in password:\n",
    "        print(\"PASSWORD SHOULD NOT CONTAIN USERNAME\")\n",
    "        return\n",
    "    if score == 4:\n",
    "        print(\"Very Strong\")\n",
    "    elif score == 3:\n",
    "        print(\"Strong\")\n",
    "    elif score == 2:\n",
    "        print(\"Moderate\")\n",
    "    elif score == 1:\n",
    "        print(\"Weak\")\n",
    "    else:\n",
    "        print(\"Use a different password\")\n",
    "\n",
    "get_password_strength(\"user\", \"Password1\")  \n",
    "get_password_strength(\"user\", \"password123\") \n",
    "get_password_strength(\"user\", \"P@ssword\")    \n",
    "get_password_strength(\"user\", \"P@ssword1\")   \n",
    "get_password_strength(\"user\", \"P@ssworduser\")\n",
    "get_password_strength(\"user\", \"pass\")  \n",
    "get_password_strength(\"user\", \"Password\")    "
   ]
  },
  {
   "cell_type": "markdown",
   "id": "e2f1e0d1",
   "metadata": {},
   "source": [
    "#### 33. What are decorators in Python?\n",
    "    Decorators in Python are a way to modify or enhance functions or methods without changing their actual code. They are often used to add functionality such as logging, access control, memoization, and more."
   ]
  },
  {
   "cell_type": "markdown",
   "id": "9014a192",
   "metadata": {},
   "source": [
    "#### 34. decorator that logs the date and time."
   ]
  },
  {
   "cell_type": "code",
   "execution_count": 33,
   "id": "171fa3f6",
   "metadata": {},
   "outputs": [],
   "source": [
    "import datetime\n",
    "def log_datetime(func):\n",
    "    def wrapper(*args, **kwargs):\n",
    "        print(f\"Function {func.__name__} called at {datetime.datetime.now()}\")\n",
    "        return func(*args, **kwargs)\n",
    "    return wrapper"
   ]
  },
  {
   "cell_type": "markdown",
   "id": "9baab536",
   "metadata": {},
   "source": [
    "#### 35. Program to Get Data Items From a List Appearing Odd Number of Times."
   ]
  },
  {
   "cell_type": "code",
   "execution_count": 34,
   "id": "bbe29c8a",
   "metadata": {},
   "outputs": [
    {
     "data": {
      "text/plain": [
       "[100, 70, 40, 10, 80, 50, 20, 90, 60, 30]"
      ]
     },
     "execution_count": 34,
     "metadata": {},
     "output_type": "execute_result"
    }
   ],
   "source": [
    "def odd_occurrences(lst):\n",
    "    result = []\n",
    "    for item in set(lst):\n",
    "        if lst.count(item) % 2 != 0:\n",
    "            result.append(item)\n",
    "    return result\n",
    "\n",
    "lst = [10, 20, 30, 40, 50, 60, 70, 80, 90, 100]\n",
    "odd_occurrences(lst)"
   ]
  },
  {
   "cell_type": "markdown",
   "id": "55c3ef76",
   "metadata": {},
   "source": [
    "#### 36. Remove items from a list while iterating but without creating a different copy of a list. Remove numbers greater than 50\n",
    "    number_list = [10, 20, 30, 40, 50, 60, 70, 80, 90, 100]\n",
    "    Expected Output: [10, 20, 30, 40, 50]\n"
   ]
  },
  {
   "cell_type": "code",
   "execution_count": 35,
   "id": "182b5d48",
   "metadata": {},
   "outputs": [
    {
     "name": "stdout",
     "output_type": "stream",
     "text": [
      "[10, 20, 30, 40, 50]\n"
     ]
    }
   ],
   "source": [
    "def remove_greater_than_50(number_list):\n",
    "    for num in number_list[:]:\n",
    "        if num > 50:\n",
    "            number_list.remove(num)\n",
    "    print(number_list)\n",
    "    \n",
    "number_list = [10, 20, 30, 40, 50, 60, 70, 80, 90, 100]\n",
    "remove_greater_than_50(number_list)"
   ]
  },
  {
   "cell_type": "markdown",
   "id": "963300ba",
   "metadata": {},
   "source": [
    "#### 37. Display all duplicate items from a list\n",
    "    sample_list = [10, 20, 60, 30, 20, 40, 30, 60, 70, 80]\n",
    "    Expected Output: [20, 60, 30]\n"
   ]
  },
  {
   "cell_type": "code",
   "execution_count": 36,
   "id": "5399d31f",
   "metadata": {},
   "outputs": [
    {
     "name": "stdout",
     "output_type": "stream",
     "text": [
      "[20, 60, 30]\n"
     ]
    }
   ],
   "source": [
    "def find_duplicates(sample_list):\n",
    "    duplicates = []\n",
    "    for item in set(sample_list):\n",
    "        if sample_list.count(item) > 1:\n",
    "            duplicates.append(item)\n",
    "    print(duplicates)\n",
    "    \n",
    "sample_list = [10, 20, 60, 30, 20, 40, 30, 60, 70, 80]\n",
    "find_duplicates(sample_list)"
   ]
  },
  {
   "cell_type": "markdown",
   "id": "87f0c5af",
   "metadata": {},
   "source": [
    "#### 38. Create an outer function that will accept two strings, x and y. (x= 'Emma' and y = 'Kelly'). Create an inner function inside an outer function that will concatenate x and y.At last, an outer function will join the word 'developer' to it.\n"
   ]
  },
  {
   "cell_type": "code",
   "execution_count": 37,
   "id": "c6036aab",
   "metadata": {},
   "outputs": [
    {
     "name": "stdout",
     "output_type": "stream",
     "text": [
      "Emma Kelly developer\n"
     ]
    }
   ],
   "source": [
    "def concatenate_strings(s1,s2):\n",
    "    def inner_function(x, y):\n",
    "        return x +\" \"+ y\n",
    "    outer_string = inner_function(s1, s2) +\" \"+ 'developer'\n",
    "    print(outer_string)\n",
    "    \n",
    "x = 'Emma'\n",
    "y = 'Kelly'\n",
    "concatenate_strings(x,y)"
   ]
  },
  {
   "cell_type": "markdown",
   "id": "7476fef8",
   "metadata": {},
   "source": [
    "#### 39. Modify the element of a nested list inside the following list Change the element 35 to 3500\n",
    "    list1 = [5, [10, 15, [20, 25, [30, 35], 40], 45], 50]"
   ]
  },
  {
   "cell_type": "code",
   "execution_count": 38,
   "id": "46f43893",
   "metadata": {},
   "outputs": [
    {
     "name": "stdout",
     "output_type": "stream",
     "text": [
      "[5, [10, 15, [20, 25, [30, 3500], 40], 45], 50]\n"
     ]
    }
   ],
   "source": [
    "list1 = [5, [10, 15, [20, 25, [30, 35], 40], 45], 50]\n",
    "list1[1][2][2][1] = 3500\n",
    "print(list1)"
   ]
  },
  {
   "cell_type": "markdown",
   "id": "fff4fdb3",
   "metadata": {},
   "source": [
    "#### 40.  Access the nested key increment from the following dictionary\n",
    "    Access 12\n",
    "    emp_dict = {\n",
    "        \"company\": {\n",
    "            \"employee\": {\n",
    "                \"name\": \"Jess\",\n",
    "                \"payable\": {\n",
    "                    \"salary\": 9000,\n",
    "                    \"increment\": 12\n",
    "                    }\n",
    "                }\n",
    "            }\n",
    "        }\n",
    "\n"
   ]
  },
  {
   "cell_type": "code",
   "execution_count": 39,
   "id": "23d67edc",
   "metadata": {},
   "outputs": [
    {
     "name": "stdout",
     "output_type": "stream",
     "text": [
      "12\n"
     ]
    }
   ],
   "source": [
    "emp_dict = {\n",
    "    \"company\": {\n",
    "        \"employee\": {\n",
    "            \"name\": \"Jess\",\n",
    "            \"payable\": {\n",
    "                \"salary\": 9000,\n",
    "                \"increment\": 12\n",
    "            }\n",
    "        }\n",
    "    }\n",
    "}\n",
    "\n",
    "print(emp_dict[\"company\"][\"employee\"][\"payable\"][\"increment\"])"
   ]
  },
  {
   "cell_type": "markdown",
   "id": "3401f664",
   "metadata": {},
   "source": [
    "#### 41. Print the sum of the current number and the previous number. Write a program to iterate the first 10 numbers and in each iteration, print the sum of the current and previous number.\n",
    "    Printing current and previous number sum in a range(10)\n",
    "    Current Number 0 Previous Number  0  Sum:  0\n",
    "    Current Number 1 Previous Number  0  Sum:  1\n",
    "    Current Number 2 Previous Number  1  Sum:  3\n",
    "    Current Number 3 Previous Number  2  Sum:  5\n",
    "    Current Number 4 Previous Number  3  Sum:  7\n",
    "    Current Number 5 Previous Number  4  Sum:  9\n",
    "    Current Number 6 Previous Number  5  Sum:  11\n",
    "    Current Number 7 Previous Number  6  Sum:  13\n",
    "    Current Number 8 Previous Number  7  Sum:  15\n",
    "    Current Number 9 Previous Number  8  Sum:  17"
   ]
  },
  {
   "cell_type": "code",
   "execution_count": 40,
   "id": "e6a5d867",
   "metadata": {},
   "outputs": [
    {
     "name": "stdout",
     "output_type": "stream",
     "text": [
      "Current Number 0 Previous Number 0 Sum: 0\n",
      "Current Number 1 Previous Number 0 Sum: 1\n",
      "Current Number 2 Previous Number 1 Sum: 3\n",
      "Current Number 3 Previous Number 2 Sum: 5\n",
      "Current Number 4 Previous Number 3 Sum: 7\n",
      "Current Number 5 Previous Number 4 Sum: 9\n",
      "Current Number 6 Previous Number 5 Sum: 11\n",
      "Current Number 7 Previous Number 6 Sum: 13\n",
      "Current Number 8 Previous Number 7 Sum: 15\n",
      "Current Number 9 Previous Number 8 Sum: 17\n"
     ]
    }
   ],
   "source": [
    "def sum_current_previous():\n",
    "    previous_num = 0\n",
    "    for i in range(10):\n",
    "        sum_num = previous_num + i\n",
    "        print(f\"Current Number {i} Previous Number {previous_num} Sum: {sum_num}\")\n",
    "        previous_num = i\n",
    "\n",
    "sum_current_previous()"
   ]
  },
  {
   "cell_type": "markdown",
   "id": "269f88c4",
   "metadata": {},
   "source": [
    "#### 42. Print characters from a string that are present at an even index number. Write a program to accept a string from the user and display characters that are present at an even index number.\n",
    "\n",
    "    For example, str = \"ineuron\" so you should display ‘i’, ‘e’, ‘r’, ‘n’.\n"
   ]
  },
  {
   "cell_type": "code",
   "execution_count": 41,
   "id": "ac9d49fa",
   "metadata": {},
   "outputs": [
    {
     "name": "stdout",
     "output_type": "stream",
     "text": [
      "Enter a string: ineuron\n",
      "Characters at even index positions: iern\n"
     ]
    }
   ],
   "source": [
    "def even_index_characters():\n",
    "    string = input(\"Enter a string: \")\n",
    "    result = [string[i] for i in range(len(string)) if i % 2 == 0]\n",
    "    print(\"Characters at even index positions:\", \"\".join(result))\n",
    "    \n",
    "even_index_characters()"
   ]
  },
  {
   "cell_type": "markdown",
   "id": "22801535",
   "metadata": {},
   "source": [
    "#### 43. Print multiplication table form 1 to 10\n",
    "    1  2 3 4 5 6 7 8 9 10 \t\t\n",
    "    2  4 6 8 10 12 14 16 18 20 \t\t\n",
    "    3  6 9 12 15 18 21 24 27 30 \t\t\n",
    "    4  8 12 16 20 24 28 32 36 40 \t\t\n",
    "    5  10 15 20 25 30 35 40 45 50 \t\t\n",
    "    6  12 18 24 30 36 42 48 54 60 \t\t\n",
    "    7  14 21 28 35 42 49 56 63 70 \t\t\n",
    "    8  16 24 32 40 48 56 64 72 80 \t\t\n",
    "    9  18 27 36 45 54 63 72 81 90 \t\t\n",
    "    10 20 30 40 50 60 70 80 90 100 \n"
   ]
  },
  {
   "cell_type": "code",
   "execution_count": 42,
   "id": "2c2482d5",
   "metadata": {},
   "outputs": [
    {
     "name": "stdout",
     "output_type": "stream",
     "text": [
      "   1   2   3   4   5   6   7   8   9  10\n",
      "   2   4   6   8  10  12  14  16  18  20\n",
      "   3   6   9  12  15  18  21  24  27  30\n",
      "   4   8  12  16  20  24  28  32  36  40\n",
      "   5  10  15  20  25  30  35  40  45  50\n",
      "   6  12  18  24  30  36  42  48  54  60\n",
      "   7  14  21  28  35  42  49  56  63  70\n",
      "   8  16  24  32  40  48  56  64  72  80\n",
      "   9  18  27  36  45  54  63  72  81  90\n",
      "  10  20  30  40  50  60  70  80  90 100\n",
      "  11  22  33  44  55  66  77  88  99 110\n",
      "  12  24  36  48  60  72  84  96 108 120\n",
      "  13  26  39  52  65  78  91 104 117 130\n",
      "  14  28  42  56  70  84  98 112 126 140\n",
      "  15  30  45  60  75  90 105 120 135 150\n",
      "  16  32  48  64  80  96 112 128 144 160\n",
      "  17  34  51  68  85 102 119 136 153 170\n",
      "  18  36  54  72  90 108 126 144 162 180\n",
      "  19  38  57  76  95 114 133 152 171 190\n",
      "  20  40  60  80 100 120 140 160 180 200\n"
     ]
    }
   ],
   "source": [
    "def multiplication_table(start, end):\n",
    "    for i in range(start, end+1):\n",
    "        for j in range(1, 11):\n",
    "            print(f\"{i * j:4}\", end=\"\")\n",
    "        print()\n",
    "        \n",
    "\n",
    "multiplication_table(1, 20)"
   ]
  },
  {
   "cell_type": "markdown",
   "id": "2e299ae1",
   "metadata": {},
   "source": [
    "#### 44. Remove duplicates from a list and create a tuple and find the minimum and maximum number\n",
    "    sample_list = [87, 45, 41, 65, 94, 41, 99, 94]\n",
    "    Expected Outcome:\n",
    "    unique items [87, 45, 41, 65, 99]\n",
    "    tuple (87, 45, 41, 65, 99)\n",
    "    min: 41\n",
    "    max: 99"
   ]
  },
  {
   "cell_type": "code",
   "execution_count": 43,
   "id": "c23cba38",
   "metadata": {},
   "outputs": [
    {
     "name": "stdout",
     "output_type": "stream",
     "text": [
      "Unique items: [65, 99, 41, 45, 87, 94]\n",
      "Tuple: (65, 99, 41, 45, 87, 94)\n",
      "Min: 41\n",
      "Max: 99\n"
     ]
    }
   ],
   "source": [
    "def remove_duplicates(l):\n",
    "    unique_items = list(set(l))\n",
    "    unique_tuple = tuple(unique_items)\n",
    "    print(\"Unique items:\", unique_items)\n",
    "    print(\"Tuple:\", unique_tuple)\n",
    "    print(\"Min:\", min(unique_tuple))\n",
    "    print(\"Max:\", max(unique_tuple))\n",
    "\n",
    "sample_list = [87, 45, 41, 65, 94, 41, 99, 94]\n",
    "remove_duplicates(sample_list)"
   ]
  },
  {
   "cell_type": "markdown",
   "id": "13c093ec",
   "metadata": {},
   "source": [
    "#### 45. Write a Python program to create a lambda function that adds 15 to a given number passed in as an argument, also create a lambda function that multiplies argument x with argument y and print the result."
   ]
  },
  {
   "cell_type": "code",
   "execution_count": 44,
   "id": "435bc169",
   "metadata": {},
   "outputs": [
    {
     "name": "stdout",
     "output_type": "stream",
     "text": [
      "25\n",
      "200\n"
     ]
    }
   ],
   "source": [
    "add_15 = lambda x: x + 15\n",
    "multiply_xy = lambda x, y: x * y\n",
    "print(add_15(10))  # Example usage\n",
    "print(multiply_xy(10, 20))  # Example usage"
   ]
  },
  {
   "cell_type": "markdown",
   "id": "4b8196d5",
   "metadata": {},
   "source": [
    "#### 46. Write a Python program to sort a list of tuples using Lambda."
   ]
  },
  {
   "cell_type": "code",
   "execution_count": 45,
   "id": "201e7c5b",
   "metadata": {},
   "outputs": [
    {
     "name": "stdout",
     "output_type": "stream",
     "text": [
      "Sorted list of tuples: [(2, 1), (1, 2), (2, 3), (4, 4), (2, 5)]\n"
     ]
    }
   ],
   "source": [
    "def sort_tuples(t):\n",
    "    t.sort(key=lambda x: x[1])\n",
    "    print(\"Sorted list of tuples:\", list_of_tuples)\n",
    "\n",
    "list_of_tuples = [(2, 5), (1, 2), (4, 4), (2, 3), (2, 1)]\n",
    "sort_tuples(list_of_tuples)"
   ]
  },
  {
   "cell_type": "markdown",
   "id": "add5ecf6",
   "metadata": {},
   "source": [
    "#### 47. Write a Python program to extract year, month, date and time using Lambda."
   ]
  },
  {
   "cell_type": "code",
   "execution_count": 46,
   "id": "4b6a8a19",
   "metadata": {},
   "outputs": [
    {
     "name": "stdout",
     "output_type": "stream",
     "text": [
      "Year: 2024\n",
      "Month: 7\n",
      "Day: 20\n",
      "Time: 05:16:43.501917\n"
     ]
    }
   ],
   "source": [
    "def extract_date_time():\n",
    "    import datetime\n",
    "    now = datetime.datetime.now()\n",
    "    extract_year = lambda x: x.year\n",
    "    extract_month = lambda x: x.month\n",
    "    extract_day = lambda x: x.day\n",
    "    extract_time = lambda x: x.time()\n",
    "    print(\"Year:\", extract_year(now))\n",
    "    print(\"Month:\", extract_month(now))\n",
    "    print(\"Day:\", extract_day(now))\n",
    "    print(\"Time:\", extract_time(now))\n",
    "\n",
    "extract_date_time()"
   ]
  },
  {
   "cell_type": "markdown",
   "id": "5e2e4db7",
   "metadata": {},
   "source": [
    "#### 48. Write a Python program to count the even, odd numbers in a given array of integers using Lambda."
   ]
  },
  {
   "cell_type": "code",
   "execution_count": 47,
   "id": "462863fd",
   "metadata": {},
   "outputs": [
    {
     "name": "stdout",
     "output_type": "stream",
     "text": [
      "Even numbers count: 5\n",
      "Odd numbers count: 5\n"
     ]
    }
   ],
   "source": [
    "def count_even_odd(arr):\n",
    "    even_count = len(list(filter(lambda x: x % 2 == 0, arr)))\n",
    "    odd_count = len(list(filter(lambda x: x % 2 != 0, arr)))\n",
    "    print(\"Even numbers count:\", even_count)\n",
    "    print(\"Odd numbers count:\", odd_count)\n",
    "    \n",
    "    \n",
    "array = [1, 2, 3, 4, 5, 6, 7, 8, 9, 10]\n",
    "count_even_odd(array)"
   ]
  },
  {
   "cell_type": "markdown",
   "id": "1b536384",
   "metadata": {},
   "source": [
    "#### 49. Write a Python program to convert all the characters in uppercase and lowercase and eliminate duplicate letters from a given sequence.\n",
    "    Use map() function.\n"
   ]
  },
  {
   "cell_type": "code",
   "execution_count": 48,
   "id": "27631448",
   "metadata": {},
   "outputs": [
    {
     "name": "stdout",
     "output_type": "stream",
     "text": [
      "Upper case characters: ['W', 'D', 'O', 'E', 'R', 'L', 'H']\n",
      "Lower case characters: ['w', 'd', 'o', 'e', 'r', 'l', 'h']\n"
     ]
    }
   ],
   "source": [
    "def upper_lower_unique(seq):\n",
    "    unique_chars = \"\".join(set(seq))\n",
    "    upper_case = list(map(lambda x: x.upper(), unique_chars))\n",
    "    lower_case = list(map(lambda x: x.lower(), unique_chars))\n",
    "    print(\"Upper case characters:\", upper_case)\n",
    "    print(\"Lower case characters:\", lower_case)\n",
    "\n",
    "sequence = \"HelloWorld\"\n",
    "upper_lower_unique(sequence)"
   ]
  },
  {
   "cell_type": "markdown",
   "id": "52cd7f7d",
   "metadata": {},
   "source": [
    "#### 50.  Write a Python program to square the elements of a list using map() function."
   ]
  },
  {
   "cell_type": "code",
   "execution_count": 49,
   "id": "c3d5a9f1",
   "metadata": {},
   "outputs": [
    {
     "name": "stdout",
     "output_type": "stream",
     "text": [
      "Squared elements: [1, 4, 9, 16, 25]\n"
     ]
    }
   ],
   "source": [
    "def square_elements(num):\n",
    "    squared_numbers = list(map(lambda x: x ** 2, numbers))\n",
    "    print(\"Squared elements:\", squared_numbers)\n",
    "\n",
    "numbers = [1, 2, 3, 4, 5]\n",
    "square_elements(numbers)"
   ]
  }
 ],
 "metadata": {
  "kernelspec": {
   "display_name": "Python 3 (ipykernel)",
   "language": "python",
   "name": "python3"
  },
  "language_info": {
   "codemirror_mode": {
    "name": "ipython",
    "version": 3
   },
   "file_extension": ".py",
   "mimetype": "text/x-python",
   "name": "python",
   "nbconvert_exporter": "python",
   "pygments_lexer": "ipython3",
   "version": "3.11.5"
  }
 },
 "nbformat": 4,
 "nbformat_minor": 5
}
