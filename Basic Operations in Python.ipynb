{
 "cells": [
  {
   "cell_type": "markdown",
   "id": "301ba75d",
   "metadata": {},
   "source": [
    "## 1. Arithmetic Operations"
   ]
  },
  {
   "cell_type": "code",
   "execution_count": 1,
   "id": "03dfc0f1",
   "metadata": {},
   "outputs": [
    {
     "name": "stdout",
     "output_type": "stream",
     "text": [
      "Sum: 8\n",
      "Difference: 2\n",
      "Product: 15\n",
      "Quotient: 1.6666666666666667\n",
      "Floor Division: 1\n",
      "Remainder: 2\n",
      "Power: 125\n"
     ]
    }
   ],
   "source": [
    "# Addition\n",
    "a = 5\n",
    "b = 3\n",
    "sum = a + b\n",
    "print(\"Sum:\", sum)  # Output: 8\n",
    "\n",
    "# Subtraction\n",
    "difference = a - b\n",
    "print(\"Difference:\", difference)  # Output: 2\n",
    "\n",
    "# Multiplication\n",
    "product = a * b\n",
    "print(\"Product:\", product)  # Output: 15\n",
    "\n",
    "# Division\n",
    "quotient = a / b\n",
    "print(\"Quotient:\", quotient)  # Output: 1.6666666666666667\n",
    "\n",
    "# Floor Division\n",
    "floor_div = a // b\n",
    "print(\"Floor Division:\", floor_div)  # Output: 1\n",
    "\n",
    "# Modulus\n",
    "remainder = a % b\n",
    "print(\"Remainder:\", remainder)  # Output: 2\n",
    "\n",
    "# Exponentiation\n",
    "power = a ** b\n",
    "print(\"Power:\", power)  # Output: 125\n"
   ]
  },
  {
   "cell_type": "markdown",
   "id": "82107500",
   "metadata": {},
   "source": [
    "## 2. Comparison Operations"
   ]
  },
  {
   "cell_type": "code",
   "execution_count": 2,
   "id": "a4f6c48f",
   "metadata": {},
   "outputs": [
    {
     "name": "stdout",
     "output_type": "stream",
     "text": [
      "False\n",
      "True\n",
      "False\n",
      "True\n",
      "False\n",
      "True\n"
     ]
    }
   ],
   "source": [
    "x = 10\n",
    "y = 20\n",
    "\n",
    "# Equal to\n",
    "print(x == y)  # Output: False\n",
    "\n",
    "# Not equal to\n",
    "print(x != y)  # Output: True\n",
    "\n",
    "# Greater than\n",
    "print(x > y)  # Output: False\n",
    "\n",
    "# Less than\n",
    "print(x < y)  # Output: True\n",
    "\n",
    "# Greater than or equal to\n",
    "print(x >= y)  # Output: False\n",
    "\n",
    "# Less than or equal to\n",
    "print(x <= y)  # Output: True\n"
   ]
  },
  {
   "cell_type": "markdown",
   "id": "2ce4ff84",
   "metadata": {},
   "source": [
    "## 3. Logical Operations"
   ]
  },
  {
   "cell_type": "code",
   "execution_count": 3,
   "id": "a937421b",
   "metadata": {},
   "outputs": [
    {
     "name": "stdout",
     "output_type": "stream",
     "text": [
      "False\n",
      "True\n",
      "False\n"
     ]
    }
   ],
   "source": [
    "a = True\n",
    "b = False\n",
    "\n",
    "# AND\n",
    "print(a and b)  # Output: False\n",
    "\n",
    "# OR\n",
    "print(a or b)  # Output: True\n",
    "\n",
    "# NOT\n",
    "print(not a)  # Output: False\n"
   ]
  },
  {
   "cell_type": "markdown",
   "id": "c65eaa66",
   "metadata": {},
   "source": [
    "## 4. Assignment Operations"
   ]
  },
  {
   "cell_type": "code",
   "execution_count": 4,
   "id": "c0952d87",
   "metadata": {},
   "outputs": [],
   "source": [
    "x = 5\n",
    "\n",
    "# Assign\n",
    "y = x\n",
    "\n",
    "# Add and assign\n",
    "y += 3  # Equivalent to y = y + 3\n",
    "\n",
    "# Subtract and assign\n",
    "y -= 2  # Equivalent to y = y - 2\n",
    "\n",
    "# Multiply and assign\n",
    "y *= 4  # Equivalent to y = y * 4\n",
    "\n",
    "# Divide and assign\n",
    "y /= 2  # Equivalent to y = y / 2\n"
   ]
  },
  {
   "cell_type": "markdown",
   "id": "d2c01964",
   "metadata": {},
   "source": [
    "## 5. Type Conversion"
   ]
  },
  {
   "cell_type": "code",
   "execution_count": 5,
   "id": "5e40bc57",
   "metadata": {},
   "outputs": [
    {
     "name": "stdout",
     "output_type": "stream",
     "text": [
      "10.0\n",
      "10\n",
      "25\n",
      "50\n"
     ]
    }
   ],
   "source": [
    "# Convert integer to float\n",
    "num_int = 10\n",
    "num_float = float(num_int)\n",
    "print(num_float)  # Output: 10.0\n",
    "\n",
    "# Convert float to integer\n",
    "num_float = 10.5\n",
    "num_int = int(num_float)\n",
    "print(num_int)  # Output: 10\n",
    "\n",
    "# Convert string to integer\n",
    "num_str = \"25\"\n",
    "num_int = int(num_str)\n",
    "print(num_int)  # Output: 25\n",
    "\n",
    "# Convert integer to string\n",
    "num_int = 50\n",
    "num_str = str(num_int)\n",
    "print(num_str)  # Output: \"50\"\n"
   ]
  },
  {
   "cell_type": "markdown",
   "id": "073a1f90",
   "metadata": {},
   "source": [
    "## 6. Working with Complex Numbers"
   ]
  },
  {
   "cell_type": "code",
   "execution_count": 6,
   "id": "e1985a31",
   "metadata": {},
   "outputs": [
    {
     "name": "stdout",
     "output_type": "stream",
     "text": [
      "Sum: (4+2j)\n",
      "Difference: (2+6j)\n",
      "Product: (11-2j)\n",
      "Quotient: (-1+2j)\n",
      "Magnitude of a: 5.0\n"
     ]
    }
   ],
   "source": [
    "# Define complex numbers\n",
    "a = 3 + 4j\n",
    "b = 1 - 2j\n",
    "\n",
    "# Addition\n",
    "sum_c = a + b\n",
    "print(\"Sum:\", sum_c)  # Output: (4+2j)\n",
    "\n",
    "# Subtraction\n",
    "diff_c = a - b\n",
    "print(\"Difference:\", diff_c)  # Output: (2+6j)\n",
    "\n",
    "# Multiplication\n",
    "prod_c = a * b\n",
    "print(\"Product:\", prod_c)  # Output: (11-2j)\n",
    "\n",
    "# Division\n",
    "quot_c = a / b\n",
    "print(\"Quotient:\", quot_c)  # Output: (-1+2j)\n",
    "\n",
    "# Magnitude\n",
    "magnitude_a = abs(a)\n",
    "print(\"Magnitude of a:\", magnitude_a)  # Output: 5.0\n"
   ]
  },
  {
   "cell_type": "markdown",
   "id": "485b6f1f",
   "metadata": {},
   "source": [
    "## 7. String Formatting and Manipulation"
   ]
  },
  {
   "cell_type": "code",
   "execution_count": 7,
   "id": "4ce3468a",
   "metadata": {},
   "outputs": [
    {
     "name": "stdout",
     "output_type": "stream",
     "text": [
      "Full Name: John Doe\n",
      "My name is John and I am 30 years old.\n",
      "Strip: hello world\n",
      "Upper:   HELLO WORLD  \n",
      "Lower:   hello world  \n",
      "Replace:   hello Python  \n"
     ]
    }
   ],
   "source": [
    "# String concatenation\n",
    "first_name = \"John\"\n",
    "last_name = \"Doe\"\n",
    "full_name = first_name + \" \" + last_name\n",
    "print(\"Full Name:\", full_name)  # Output: John Doe\n",
    "\n",
    "# String formatting using f-strings\n",
    "age = 30\n",
    "formatted_string = f\"My name is {first_name} and I am {age} years old.\"\n",
    "print(formatted_string)  # Output: My name is John and I am 30 years old.\n",
    "\n",
    "# String methods\n",
    "text = \"  hello world  \"\n",
    "print(\"Strip:\", text.strip())  # Output: hello world\n",
    "print(\"Upper:\", text.upper())  # Output: HELLO WORLD\n",
    "print(\"Lower:\", text.lower())  # Output: hello world\n",
    "print(\"Replace:\", text.replace(\"world\", \"Python\"))  # Output: hello Python\n"
   ]
  },
  {
   "cell_type": "markdown",
   "id": "63d88003",
   "metadata": {},
   "source": [
    "## 8. List Comprehensions"
   ]
  },
  {
   "cell_type": "code",
   "execution_count": 8,
   "id": "25367cdc",
   "metadata": {},
   "outputs": [
    {
     "name": "stdout",
     "output_type": "stream",
     "text": [
      "Squares: [1, 4, 9, 16, 25]\n",
      "Even Squares: [4, 16]\n",
      "Flattened Matrix: [1, 2, 3, 4, 5, 6, 7, 8, 9]\n"
     ]
    }
   ],
   "source": [
    "# Basic list comprehension\n",
    "numbers = [1, 2, 3, 4, 5]\n",
    "squares = [x**2 for x in numbers]\n",
    "print(\"Squares:\", squares)  # Output: [1, 4, 9, 16, 25]\n",
    "\n",
    "# List comprehension with condition\n",
    "even_squares = [x**2 for x in numbers if x % 2 == 0]\n",
    "print(\"Even Squares:\", even_squares)  # Output: [4, 16]\n",
    "\n",
    "# Nested list comprehension\n",
    "matrix = [[1, 2, 3], [4, 5, 6], [7, 8, 9]]\n",
    "flattened = [elem for row in matrix for elem in row]\n",
    "print(\"Flattened Matrix:\", flattened)  # Output: [1, 2, 3, 4, 5, 6, 7, 8, 9]\n"
   ]
  },
  {
   "cell_type": "markdown",
   "id": "7bbee8b7",
   "metadata": {},
   "source": [
    "## 9. Dictionary Operations "
   ]
  },
  {
   "cell_type": "code",
   "execution_count": 9,
   "id": "6a738c9d",
   "metadata": {},
   "outputs": [
    {
     "name": "stdout",
     "output_type": "stream",
     "text": [
      "Name: Alice\n",
      "Updated Dictionary: {'name': 'Alice', 'age': 25, 'city': 'New York', 'occupation': 'Engineer'}\n",
      "name: Alice\n",
      "age: 25\n",
      "city: New York\n",
      "occupation: Engineer\n",
      "Squares Dictionary: {0: 0, 1: 1, 2: 4, 3: 9, 4: 16}\n"
     ]
    }
   ],
   "source": [
    "# Creating and accessing a dictionary\n",
    "person = {\"name\": \"Alice\", \"age\": 25, \"city\": \"New York\"}\n",
    "print(\"Name:\", person[\"name\"])  # Output: Alice\n",
    "\n",
    "# Adding an item\n",
    "person[\"occupation\"] = \"Engineer\"\n",
    "print(\"Updated Dictionary:\", person)  # Output: {'name': 'Alice', 'age': 25, 'city': 'New York', 'occupation': 'Engineer'}\n",
    "\n",
    "# Iterating over dictionary\n",
    "for key, value in person.items():\n",
    "    print(f\"{key}: {value}\")\n",
    "\n",
    "# Dictionary comprehension\n",
    "squares_dict = {x: x**2 for x in range(5)}\n",
    "print(\"Squares Dictionary:\", squares_dict)  # Output: {0: 0, 1: 1, 2: 4, 3: 9, 4: 16}\n"
   ]
  },
  {
   "cell_type": "markdown",
   "id": "21498213",
   "metadata": {},
   "source": [
    "## 10. Set Operations"
   ]
  },
  {
   "cell_type": "code",
   "execution_count": 10,
   "id": "f8cc586e",
   "metadata": {},
   "outputs": [
    {
     "name": "stdout",
     "output_type": "stream",
     "text": [
      "Union: {1, 2, 3, 4, 5, 6}\n",
      "Intersection: {3, 4}\n",
      "Difference: {1, 2}\n",
      "Symmetric Difference: {1, 2, 5, 6}\n"
     ]
    }
   ],
   "source": [
    "# Creating sets\n",
    "a = {1, 2, 3, 4}\n",
    "b = {3, 4, 5, 6}\n",
    "\n",
    "# Union\n",
    "union_set = a | b\n",
    "print(\"Union:\", union_set)  # Output: {1, 2, 3, 4, 5, 6}\n",
    "\n",
    "# Intersection\n",
    "intersection_set = a & b\n",
    "print(\"Intersection:\", intersection_set)  # Output: {3, 4}\n",
    "\n",
    "# Difference\n",
    "difference_set = a - b\n",
    "print(\"Difference:\", difference_set)  # Output: {1, 2}\n",
    "\n",
    "# Symmetric Difference\n",
    "sym_diff_set = a ^ b\n",
    "print(\"Symmetric Difference:\", sym_diff_set)  # Output: {1, 2, 5, 6}\n"
   ]
  },
  {
   "cell_type": "code",
   "execution_count": null,
   "id": "2a72130a",
   "metadata": {},
   "outputs": [],
   "source": []
  }
 ],
 "metadata": {
  "kernelspec": {
   "display_name": "Python 3 (ipykernel)",
   "language": "python",
   "name": "python3"
  },
  "language_info": {
   "codemirror_mode": {
    "name": "ipython",
    "version": 3
   },
   "file_extension": ".py",
   "mimetype": "text/x-python",
   "name": "python",
   "nbconvert_exporter": "python",
   "pygments_lexer": "ipython3",
   "version": "3.11.5"
  }
 },
 "nbformat": 4,
 "nbformat_minor": 5
}
