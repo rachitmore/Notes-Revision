{
 "cells": [
  {
   "cell_type": "markdown",
   "id": "8dfae703",
   "metadata": {},
   "source": [
    "1. Convert Celsius to Fahrenheit\n",
    "\n",
    "Problem Statement: Write a function to convert temperature from Celsius to Fahrenheit.\n",
    "\n",
    "Examples:\n",
    "    \n",
    "    Input: 0\n",
    "    Expected Output: 32.0\n",
    "\n",
    "    Input: 100\n",
    "    Expected Output: 212.0\n",
    "\n",
    "Constraints:\n",
    "    The input can be any real number."
   ]
  },
  {
   "cell_type": "code",
   "execution_count": 1,
   "id": "87e73d77",
   "metadata": {},
   "outputs": [
    {
     "name": "stdout",
     "output_type": "stream",
     "text": [
      "32.0\n",
      "212.0\n",
      "-40.0\n"
     ]
    }
   ],
   "source": [
    "def celsius_to_fahrenheit(celsius):\n",
    "    \"\"\"\n",
    "    Convert temperature from Celsius to Fahrenheit.\n",
    "\n",
    "    Parameters:\n",
    "    celsius (float): Temperature in Celsius.\n",
    "\n",
    "    Returns:\n",
    "    float: Temperature in Fahrenheit.\n",
    "    \"\"\"\n",
    "    return (celsius * 9/5) + 32\n",
    "\n",
    "# Test examples\n",
    "print(celsius_to_fahrenheit(0))    # Expected output: 32.0\n",
    "print(celsius_to_fahrenheit(100))  # Expected output: 212.0\n",
    "print(celsius_to_fahrenheit(-40))  # Expected output: -40.0\n"
   ]
  },
  {
   "cell_type": "markdown",
   "id": "d9db1685",
   "metadata": {},
   "source": [
    "2. Swap Two Variables\n",
    "\n",
    "Problem Statement: Write a function to swap the values of two variables.\n",
    "\n",
    "Examples:\n",
    "\n",
    "    Input: a = 5, b = 10\n",
    "    Expected Output: a = 10, b = 5\n",
    "\n",
    "Constraints:\n",
    "\n",
    "    The input variables can be of any type that supports assignment.\n"
   ]
  },
  {
   "cell_type": "code",
   "execution_count": 2,
   "id": "304e97c3",
   "metadata": {},
   "outputs": [
    {
     "name": "stdout",
     "output_type": "stream",
     "text": [
      "10 5\n"
     ]
    }
   ],
   "source": [
    "def swap_variables(a, b):\n",
    "    \"\"\"\n",
    "    Swap the values of two variables.\n",
    "\n",
    "    Parameters:\n",
    "    a, b: Variables to be swapped.\n",
    "\n",
    "    Returns:\n",
    "    tuple: Swapped values (b, a).\n",
    "    \"\"\"\n",
    "    return b, a\n",
    "\n",
    "# Test examples\n",
    "a, b = 5, 10\n",
    "a, b = swap_variables(a, b)\n",
    "print(a, b)  # Expected output: 10, 5\n"
   ]
  },
  {
   "cell_type": "markdown",
   "id": "7b524a4e",
   "metadata": {},
   "source": [
    "3. Convert RGB to Hex\n",
    "\n",
    "Problem Statement: Write a function to convert an RGB color to its hexadecimal representation.\n",
    "\n",
    "Examples:\n",
    "\n",
    "    Input: (255, 0, 0)\n",
    "    Expected Output: '#FF0000'\n",
    "\n",
    "Constraints:\n",
    "\n",
    "    Each RGB component should be an integer between 0 and 255 inclusive.\n"
   ]
  },
  {
   "cell_type": "code",
   "execution_count": 3,
   "id": "1fa426da",
   "metadata": {},
   "outputs": [
    {
     "name": "stdout",
     "output_type": "stream",
     "text": [
      "#FF0000\n",
      "#00FF00\n",
      "#0000FF\n"
     ]
    }
   ],
   "source": [
    "def rgb_to_hex(r, g, b):\n",
    "    \"\"\"\n",
    "    Convert RGB color to hexadecimal representation.\n",
    "\n",
    "    Parameters:\n",
    "    r (int): Red component (0-255).\n",
    "    g (int): Green component (0-255).\n",
    "    b (int): Blue component (0-255).\n",
    "\n",
    "    Returns:\n",
    "    str: Hexadecimal representation of the color.\n",
    "    \"\"\"\n",
    "    return '#{:02X}{:02X}{:02X}'.format(r, g, b)\n",
    "\n",
    "# Test examples\n",
    "print(rgb_to_hex(255, 0, 0))    # Expected output: '#FF0000'\n",
    "print(rgb_to_hex(0, 255, 0))    # Expected output: '#00FF00'\n",
    "print(rgb_to_hex(0, 0, 255))    # Expected output: '#0000FF'\n"
   ]
  },
  {
   "cell_type": "markdown",
   "id": "6e551fa4",
   "metadata": {},
   "source": [
    "4. Transpose of a Matrix\n",
    "\n",
    "Problem Statement: Write a function to find the transpose of a given matrix.\n",
    "\n",
    "Examples:\n",
    "\n",
    "    Input: [[1, 2, 3], [4, 5, 6]]\n",
    "    Expected Output: [[1, 4], [2, 5], [3, 6]]\n",
    "\n",
    "Constraints:\n",
    "\n",
    "    The input matrix can be of any size."
   ]
  },
  {
   "cell_type": "code",
   "execution_count": 4,
   "id": "0529e764",
   "metadata": {},
   "outputs": [
    {
     "name": "stdout",
     "output_type": "stream",
     "text": [
      "[[1, 4], [2, 5], [3, 6]]\n",
      "[[1, 3, 5], [2, 4, 6]]\n"
     ]
    }
   ],
   "source": [
    "def transpose_matrix(matrix):\n",
    "    \"\"\"\n",
    "    Find the transpose of a given matrix.\n",
    "\n",
    "    Parameters:\n",
    "    matrix (list of list of int): Input matrix.\n",
    "\n",
    "    Returns:\n",
    "    list of list of int: Transposed matrix.\n",
    "    \"\"\"\n",
    "    return list(map(list, zip(*matrix)))\n",
    "\n",
    "# Test examples\n",
    "matrix = [[1, 2, 3], [4, 5, 6]]\n",
    "print(transpose_matrix(matrix))  # Expected output: [[1, 4], [2, 5], [3, 6]]\n",
    "\n",
    "matrix = [[1, 2], [3, 4], [5, 6]]\n",
    "print(transpose_matrix(matrix))  # Expected output: [[1, 3, 5], [2, 4, 6]]\n"
   ]
  },
  {
   "cell_type": "markdown",
   "id": "15eec326",
   "metadata": {},
   "source": [
    "5. Check if Date is Valid\n",
    "\n",
    "Problem Statement: Write a function to check if a given date is valid.\n",
    "\n",
    "Examples:\n",
    "\n",
    "    Input: '2024-02-29'\n",
    "    Expected Output: True\n",
    "\n",
    "    Input: '2024-04-31'\n",
    "    Expected Output: False\n",
    "\n",
    "Constraints:\n",
    "\n",
    "The date should be in the format 'YYYY-MM-DD'."
   ]
  },
  {
   "cell_type": "code",
   "execution_count": 5,
   "id": "6bc581b5",
   "metadata": {},
   "outputs": [
    {
     "name": "stdout",
     "output_type": "stream",
     "text": [
      "True\n",
      "False\n",
      "True\n"
     ]
    }
   ],
   "source": [
    "from datetime import datetime\n",
    "\n",
    "def is_valid_date(date_str):\n",
    "    \"\"\"\n",
    "    Check if a given date is valid.\n",
    "\n",
    "    Parameters:\n",
    "    date_str (str): Date in 'YYYY-MM-DD' format.\n",
    "\n",
    "    Returns:\n",
    "    bool: True if the date is valid, False otherwise.\n",
    "    \"\"\"\n",
    "    try:\n",
    "        datetime.strptime(date_str, '%Y-%m-%d')\n",
    "        return True\n",
    "    except ValueError:\n",
    "        return False\n",
    "\n",
    "# Test examples\n",
    "print(is_valid_date('2024-02-29'))  # Expected output: True\n",
    "print(is_valid_date('2024-04-31'))  # Expected output: False\n",
    "print(is_valid_date('2023-07-19'))  # Expected output: True\n"
   ]
  },
  {
   "cell_type": "markdown",
   "id": "5f8a0c33",
   "metadata": {},
   "source": [
    "6. Find the Day of Year\n",
    "\n",
    "Problem Statement: Write a function to find the day number of the year for a given date.\n",
    "\n",
    "Examples:\n",
    "\n",
    "    Input: '2024-01-01'\n",
    "    Expected Output: 1\n",
    "\n",
    "    Input: '2024-12-31'\n",
    "    Expected Output: 366\n",
    "\n",
    "Constraints:\n",
    "\n",
    "The date should be in the format 'YYYY-MM-DD'."
   ]
  },
  {
   "cell_type": "code",
   "execution_count": 6,
   "id": "fe7c9c5d",
   "metadata": {},
   "outputs": [
    {
     "name": "stdout",
     "output_type": "stream",
     "text": [
      "1\n",
      "366\n",
      "200\n"
     ]
    }
   ],
   "source": [
    "def day_of_year(date_str):\n",
    "    \"\"\"\n",
    "    Find the day number of the year for a given date.\n",
    "\n",
    "    Parameters:\n",
    "    date_str (str): Date in 'YYYY-MM-DD' format.\n",
    "\n",
    "    Returns:\n",
    "    int: Day number of the year.\n",
    "    \"\"\"\n",
    "    date = datetime.strptime(date_str, '%Y-%m-%d')\n",
    "    return date.timetuple().tm_yday\n",
    "\n",
    "# Test examples\n",
    "print(day_of_year('2024-01-01'))  # Expected output: 1\n",
    "print(day_of_year('2024-12-31'))  # Expected output: 366\n",
    "print(day_of_year('2023-07-19'))  # Expected output: 200\n"
   ]
  },
  {
   "cell_type": "markdown",
   "id": "da92925b",
   "metadata": {},
   "source": [
    "7. Capitalize a String\n",
    "\n",
    "Problem Statement: Write a function to capitalize the first letter of each word in a string.\n",
    "\n",
    "Examples:\n",
    "\n",
    "    Input: \"hello world\"\n",
    "    Expected Output: \"Hello World\"\n",
    "\n",
    "Constraints:\n",
    "\n",
    "The input string can contain any printable characters."
   ]
  },
  {
   "cell_type": "code",
   "execution_count": 7,
   "id": "b478ffff",
   "metadata": {},
   "outputs": [
    {
     "name": "stdout",
     "output_type": "stream",
     "text": [
      "Hello World\n",
      "Capitalize This\n"
     ]
    }
   ],
   "source": [
    "def capitalize_string(s):\n",
    "    \"\"\"\n",
    "    Capitalize the first letter of each word in a string.\n",
    "\n",
    "    Parameters:\n",
    "    s (str): Input string.\n",
    "\n",
    "    Returns:\n",
    "    str: String with each word capitalized.\n",
    "    \"\"\"\n",
    "    return s.title()\n",
    "\n",
    "# Test examples\n",
    "print(capitalize_string(\"hello world\"))      # Expected output: \"Hello World\"\n",
    "print(capitalize_string(\"capitalize this\"))  # Expected output: \"Capitalize This\"\n"
   ]
  },
  {
   "cell_type": "markdown",
   "id": "946fd198",
   "metadata": {},
   "source": [
    "8. Find the Number of Days Between Two Dates\n",
    "\n",
    "Problem Statement: Write a function to find the number of days between two dates.\n",
    "\n",
    "Examples:\n",
    "\n",
    "    Input: '2024-01-01', '2024-12-31'\n",
    "    Expected Output: 365\n",
    "\n",
    "Constraints:\n",
    "\n",
    "The dates should be in the format 'YYYY-MM-DD'."
   ]
  },
  {
   "cell_type": "code",
   "execution_count": 8,
   "id": "bc753e9d",
   "metadata": {},
   "outputs": [
    {
     "name": "stdout",
     "output_type": "stream",
     "text": [
      "365\n",
      "365\n"
     ]
    }
   ],
   "source": [
    "def days_between_dates(date1, date2):\n",
    "    \"\"\"\n",
    "    Find the number of days between two dates.\n",
    "\n",
    "    Parameters:\n",
    "    date1 (str): The first date in 'YYYY-MM-DD' format.\n",
    "    date2 (str): The second date in 'YYYY-MM-DD' format.\n",
    "\n",
    "    Returns:\n",
    "    int: Number of days between the two dates.\n",
    "    \"\"\"\n",
    "    date1 = datetime.strptime(date1, '%Y-%m-%d')\n",
    "    date2 = datetime.strptime(date2, '%Y-%m-%d')\n",
    "    return (date2 - date1).days\n",
    "\n",
    "# Test examples\n",
    "print(days_between_dates('2024-01-01', '2024-12-31'))  # Expected output: 365\n",
    "print(days_between_dates('2023-01-01', '2024-01-01'))  # Expected output: 365\n"
   ]
  },
  {
   "cell_type": "markdown",
   "id": "e7857252",
   "metadata": {},
   "source": [
    "9. Find the Frequency of Character in a String\n",
    "\n",
    "Problem Statement: Write a function to find the frequency of each character in a string.\n",
    "\n",
    "Examples:\n",
    "\n",
    "    Input: \"hello\"\n",
    "    Expected Output: {'h': 1, 'e': 1, 'l': 2, 'o': 1}\n",
    "\n",
    "Constraints:\n",
    "\n",
    "The input string can contain any printable characters."
   ]
  },
  {
   "cell_type": "code",
   "execution_count": 9,
   "id": "f429f66d",
   "metadata": {},
   "outputs": [
    {
     "name": "stdout",
     "output_type": "stream",
     "text": [
      "{'h': 1, 'e': 1, 'l': 2, 'o': 1}\n",
      "{'f': 1, 'r': 1, 'e': 2, 'q': 1, 'u': 1, 'n': 1, 'c': 1, 'y': 1}\n"
     ]
    }
   ],
   "source": [
    "from collections import Counter\n",
    "\n",
    "def char_frequency(s):\n",
    "    \"\"\"\n",
    "    Find the frequency of each character in a string.\n",
    "\n",
    "    Parameters:\n",
    "    s (str): Input string.\n",
    "\n",
    "    Returns:\n",
    "    dict: Dictionary with characters as keys and their frequencies as values.\n",
    "    \"\"\"\n",
    "    return dict(Counter(s))\n",
    "\n",
    "# Test examples\n",
    "print(char_frequency(\"hello\"))        # Expected output: {'h': 1, 'e': 1, 'l': 2, 'o': 1}\n",
    "print(char_frequency(\"frequency\"))    # Expected output: {'f': 1, 'r': 1, 'e': 2, 'q': 1, 'u': 1, 'n': 1, 'c': 1, 'y': 1}\n"
   ]
  },
  {
   "cell_type": "markdown",
   "id": "75637716",
   "metadata": {},
   "source": [
    "10. Generate Random Hex\n",
    "\n",
    "Problem Statement: Write a function to generate a random hexadecimal string of a given length.\n",
    "\n",
    "Examples:\n",
    "    Input: 6\n",
    "    Expected Output: A random hexadecimal string of length 6 (e.g., '3F5A1B')\n",
    "\n",
    "Constraints:\n",
    "\n",
    "The length should be a positive integer."
   ]
  },
  {
   "cell_type": "code",
   "execution_count": 10,
   "id": "482fb653",
   "metadata": {},
   "outputs": [
    {
     "name": "stdout",
     "output_type": "stream",
     "text": [
      "4F6A92\n",
      "C7CEF733\n"
     ]
    }
   ],
   "source": [
    "import random\n",
    "import string\n",
    "\n",
    "def random_hex(length):\n",
    "    \"\"\"\n",
    "    Generate a random hexadecimal string of a given length.\n",
    "\n",
    "    Parameters:\n",
    "    length (int): Length of the hexadecimal string.\n",
    "\n",
    "    Returns:\n",
    "    str: Random hexadecimal string.\n",
    "    \"\"\"\n",
    "    return ''.join(random.choices('0123456789ABCDEF', k=length))\n",
    "\n",
    "# Test examples\n",
    "print(random_hex(6))   # Expected output: A random 6-character hex string (e.g., '3F5A1B')\n",
    "print(random_hex(8))   # Expected output: A random 8-character hex string (e.g., '1A3F5B7D')\n"
   ]
  },
  {
   "cell_type": "markdown",
   "id": "bdf67179",
   "metadata": {},
   "source": [
    "11. Create Random Strings\n",
    "\n",
    "Problem Statement: Write a function to create a random string of a given length from a specified set of characters.\n",
    "\n",
    "Examples:\n",
    "\n",
    "    Input: 10, 'abcdefghijklmnopqrstuvwxyz'\n",
    "    Expected Output: A random string of length 10 (e.g., 'qwertyuiop')\n",
    "\n",
    "Constraints:\n",
    "\n",
    "    The length should be a positive integer.\n",
    "    The character set should be a non-empty string."
   ]
  },
  {
   "cell_type": "code",
   "execution_count": 11,
   "id": "2216476f",
   "metadata": {},
   "outputs": [
    {
     "name": "stdout",
     "output_type": "stream",
     "text": [
      "xbkxsysysp\n",
      "71312\n"
     ]
    }
   ],
   "source": [
    "def random_string(length, char_set):\n",
    "    \"\"\"\n",
    "    Create a random string of a given length from a specified set of characters.\n",
    "\n",
    "    Parameters:\n",
    "    length (int): Length of the random string.\n",
    "    char_set (str): Set of characters to choose from.\n",
    "\n",
    "    Returns:\n",
    "    str: Random string.\n",
    "    \"\"\"\n",
    "    return ''.join(random.choices(char_set, k=length))\n",
    "\n",
    "# Test examples\n",
    "print(random_string(10, 'abcdefghijklmnopqrstuvwxyz'))  # Expected output: A random 10-character string\n",
    "print(random_string(5, '0123456789'))                  # Expected output: A random 5-character numeric string"
   ]
  },
  {
   "cell_type": "markdown",
   "id": "b8e8aca8",
   "metadata": {},
   "source": [
    "12. Find the Odd Occurrence\n",
    "\n",
    "Problem Statement: Write a function to find the element that occurs an odd number of times in a list.\n",
    "\n",
    "Examples:\n",
    "\n",
    "    Input: [1, 2, 3, 2, 3, 1, 3]\n",
    "    Expected Output: 3\n",
    "\n",
    "Constraints:\n",
    "\n",
    "    There will always be exactly one element that occurs an odd number of times.\n"
   ]
  },
  {
   "cell_type": "code",
   "execution_count": 12,
   "id": "057b54c0",
   "metadata": {},
   "outputs": [
    {
     "name": "stdout",
     "output_type": "stream",
     "text": [
      "3\n",
      "4\n"
     ]
    }
   ],
   "source": [
    "\n",
    "def find_odd_occurrence(lst):\n",
    "    \"\"\"\n",
    "    Find the element that occurs an odd number of times in a list.\n",
    "\n",
    "    Parameters:\n",
    "    lst (list): List of integers.\n",
    "\n",
    "    Returns:\n",
    "    int: The element that occurs an odd number of times.\n",
    "    \"\"\"\n",
    "    result = 0\n",
    "    for number in lst:\n",
    "        result ^= number\n",
    "    return result\n",
    "\n",
    "# Test examples\n",
    "print(find_odd_occurrence([1, 2, 3, 2, 3, 1, 3]))  # Expected output: 3\n",
    "print(find_odd_occurrence([4, 1, 2, 1, 2, 4, 4]))  # Expected output: 4"
   ]
  },
  {
   "cell_type": "markdown",
   "id": "a8c699d7",
   "metadata": {},
   "source": [
    "13. Check if a Number is Even or Odd\n",
    "\n",
    "Problem Statement: Write a function to check if a number is even or odd.\n",
    "\n",
    "Examples:\n",
    "\n",
    "    Input: 4\n",
    "    Expected Output: 'Even'\n",
    "\n",
    "    Input: 7\n",
    "    Expected Output: 'Odd'\n",
    "\n",
    "Constraints:\n",
    "\n",
    "    The input can be any integer."
   ]
  },
  {
   "cell_type": "code",
   "execution_count": 13,
   "id": "b3ca0a82",
   "metadata": {},
   "outputs": [
    {
     "name": "stdout",
     "output_type": "stream",
     "text": [
      "Even\n",
      "Odd\n"
     ]
    }
   ],
   "source": [
    "def is_even_or_odd(n):\n",
    "    \"\"\"\n",
    "    Check if a number is even or odd.\n",
    "\n",
    "    Parameters:\n",
    "    n (int): The number to check.\n",
    "\n",
    "    Returns:\n",
    "    str: 'Even' if the number is even, 'Odd' if the number is odd.\n",
    "    \"\"\"\n",
    "    return 'Even' if n % 2 == 0 else 'Odd'\n",
    "\n",
    "# Test examples\n",
    "print(is_even_or_odd(4))  # Expected output: 'Even'\n",
    "print(is_even_or_odd(7))  # Expected output: 'Odd'"
   ]
  },
  {
   "cell_type": "markdown",
   "id": "af670eb2",
   "metadata": {},
   "source": [
    "14. Simple Sum\n",
    "\n",
    "Problem Statement: Write a function to calculate the sum of two numbers.\n",
    "\n",
    "Examples:\n",
    "\n",
    "    Input: 3, 5\n",
    "    Expected Output: 8\n",
    "\n",
    "Constraints:\n",
    "\n",
    "    The inputs can be any real numbers.\n"
   ]
  },
  {
   "cell_type": "code",
   "execution_count": 14,
   "id": "014d1e1f",
   "metadata": {},
   "outputs": [
    {
     "name": "stdout",
     "output_type": "stream",
     "text": [
      "8\n",
      "9\n"
     ]
    }
   ],
   "source": [
    "def simple_sum(a, b):\n",
    "    \"\"\"\n",
    "    Calculate the sum of two numbers.\n",
    "\n",
    "    Parameters:\n",
    "    a (float): The first number.\n",
    "    b (float): The second number.\n",
    "\n",
    "    Returns:\n",
    "    float: The sum of the two numbers.\n",
    "    \"\"\"\n",
    "    return a + b\n",
    "\n",
    "# Test examples\n",
    "print(simple_sum(3, 5))    # Expected output: 8\n",
    "print(simple_sum(-1, 10))  # Expected output: 9"
   ]
  },
  {
   "cell_type": "markdown",
   "id": "79678fdb",
   "metadata": {},
   "source": [
    "15. Pyramid Pattern\n",
    "\n",
    "Problem Statement: Write a function to print a pyramid pattern of a given height using '*'.\n",
    "\n",
    "Examples:\n",
    "\n",
    "    Input: 3\n",
    "\n",
    "    Expected Output: \n",
    "      *\n",
    "     ***\n",
    "    *****\n",
    "\n",
    "Constraints:\n",
    "\n",
    "    The height should be a positive integer."
   ]
  },
  {
   "cell_type": "code",
   "execution_count": 15,
   "id": "7fa5c034",
   "metadata": {},
   "outputs": [
    {
     "name": "stdout",
     "output_type": "stream",
     "text": [
      "  *\n",
      " ***\n",
      "*****\n",
      "    *\n",
      "   ***\n",
      "  *****\n",
      " *******\n",
      "*********\n"
     ]
    }
   ],
   "source": [
    "\n",
    "def pyramid_pattern(height):\n",
    "    \"\"\"\n",
    "    Print a pyramid pattern of a given height using '*'.\n",
    "\n",
    "    Parameters:\n",
    "    height (int): The height of the pyramid.\n",
    "\n",
    "    Returns:\n",
    "    None\n",
    "    \"\"\"\n",
    "    for i in range(height):\n",
    "        print(' ' * (height - i - 1) + '*' * (2 * i + 1))\n",
    "\n",
    "# Test examples\n",
    "pyramid_pattern(3)\n",
    "# Expected output:\n",
    "#   *\n",
    "#  ***\n",
    "# *****\n",
    "pyramid_pattern(5)\n",
    "# Expected output:\n",
    "#     *\n",
    "#    ***\n",
    "#   *****\n",
    "#  *******\n",
    "# *********\n"
   ]
  },
  {
   "cell_type": "markdown",
   "id": "a4f9085f",
   "metadata": {},
   "source": [
    "16. Reverse a String\n",
    "\n",
    "Problem Statement: Write a function to reverse a given string.\n",
    "\n",
    "Examples:\n",
    "\n",
    "    Input: \"hello\"\n",
    "    Expected Output: \"olleh\"\n",
    "\n",
    "Constraints:\n",
    "\n",
    "    The input string can contain any printable characters.\n"
   ]
  },
  {
   "cell_type": "code",
   "execution_count": 16,
   "id": "d01e38b9",
   "metadata": {},
   "outputs": [
    {
     "name": "stdout",
     "output_type": "stream",
     "text": [
      "olleh\n",
      "nohtyP\n"
     ]
    }
   ],
   "source": [
    "def reverse_string(s):\n",
    "    \"\"\"\n",
    "    Reverse a given string.\n",
    "\n",
    "    Parameters:\n",
    "    s (str): The input string.\n",
    "\n",
    "    Returns:\n",
    "    str: The reversed string.\n",
    "    \"\"\"\n",
    "    return s[::-1]\n",
    "\n",
    "# Test examples\n",
    "print(reverse_string(\"hello\"))       # Expected output: \"olleh\"\n",
    "print(reverse_string(\"Python\"))      # Expected output: \"nohtyP\""
   ]
  },
  {
   "cell_type": "markdown",
   "id": "064ed6c2",
   "metadata": {},
   "source": [
    "17. Check If Array is Empty\n",
    "\n",
    "Problem Statement: Write a function to check if an array is empty.\n",
    "\n",
    "Examples:\n",
    "\n",
    "    Input: []\n",
    "    Expected Output: True\n",
    "\n",
    "    Input: [1, 2, 3]\n",
    "    Expected Output: False\n",
    "\n",
    "Constraints:\n",
    "\n",
    "    The input can be any list."
   ]
  },
  {
   "cell_type": "code",
   "execution_count": 17,
   "id": "1f5c186f",
   "metadata": {},
   "outputs": [
    {
     "name": "stdout",
     "output_type": "stream",
     "text": [
      "True\n",
      "False\n"
     ]
    }
   ],
   "source": [
    "def is_array_empty(arr):\n",
    "    \"\"\"\n",
    "    Check if an array is empty.\n",
    "\n",
    "    Parameters:\n",
    "    arr (list): The input array.\n",
    "\n",
    "    Returns:\n",
    "    bool: True if the array is empty, False otherwise.\n",
    "    \"\"\"\n",
    "    return len(arr) == 0\n",
    "\n",
    "# Test examples\n",
    "print(is_array_empty([]))        # Expected output: True\n",
    "print(is_array_empty([1, 2, 3])) # Expected output: False"
   ]
  },
  {
   "cell_type": "markdown",
   "id": "fc34c0cc",
   "metadata": {},
   "source": [
    "18. Matchstick Count in Steps\n",
    "\n",
    "Problem Statement: Write a function to find the number of matchsticks required to form a given number of steps in a matchstick staircase pattern.\n",
    "\n",
    "Examples:\n",
    "\n",
    "    Input: 4\n",
    "    Expected Output: 10\n",
    "\n",
    "Constraints:\n",
    "\n",
    "    The number of steps should be a non-negative integer.\n"
   ]
  },
  {
   "cell_type": "code",
   "execution_count": 18,
   "id": "44ebc5b2",
   "metadata": {},
   "outputs": [
    {
     "name": "stdout",
     "output_type": "stream",
     "text": [
      "10\n",
      "15\n"
     ]
    }
   ],
   "source": [
    "def matchstick_count(steps):\n",
    "    \"\"\"\n",
    "    Find the number of matchsticks required to form a given number of steps in a matchstick staircase pattern.\n",
    "\n",
    "    Parameters:\n",
    "    steps (int): The number of steps.\n",
    "\n",
    "    Returns:\n",
    "    int: The number of matchsticks required.\n",
    "    \"\"\"\n",
    "    return (steps * (steps + 1)) // 2\n",
    "\n",
    "# Test examples\n",
    "print(matchstick_count(4))  # Expected output: 10\n",
    "print(matchstick_count(5))  # Expected output: 15"
   ]
  },
  {
   "cell_type": "markdown",
   "id": "4405e998",
   "metadata": {},
   "source": [
    "19. Shuffle an Array\n",
    "\n",
    "Problem Statement: Write a function to shuffle the elements of an array.\n",
    "\n",
    "Examples:\n",
    "\n",
    "    Input: [1, 2, 3, 4, 5]\n",
    "    Expected Output: [5, 1, 4, 2, 3] (randomized output)\n",
    "\n",
    "Constraints:\n",
    "\n",
    "    The input can be any list.\n"
   ]
  },
  {
   "cell_type": "code",
   "execution_count": 19,
   "id": "d5286fc3",
   "metadata": {},
   "outputs": [
    {
     "name": "stdout",
     "output_type": "stream",
     "text": [
      "[4, 1, 2, 5, 3]\n",
      "['d', 'c', 'a', 'b']\n"
     ]
    }
   ],
   "source": [
    "import random\n",
    "\n",
    "def shuffle_array(arr):\n",
    "    \"\"\"\n",
    "    Shuffle the elements of an array.\n",
    "\n",
    "    Parameters:\n",
    "    arr (list): The input array.\n",
    "\n",
    "    Returns:\n",
    "    list: The shuffled array.\n",
    "    \"\"\"\n",
    "    random.shuffle(arr)\n",
    "    return arr\n",
    "\n",
    "# Test examples\n",
    "print(shuffle_array([1, 2, 3, 4, 5]))  # Expected output: A randomized array\n",
    "print(shuffle_array(['a', 'b', 'c', 'd']))  # Expected output: A randomized array"
   ]
  },
  {
   "cell_type": "markdown",
   "id": "ebf05354",
   "metadata": {},
   "source": [
    "20. Validate Vowel Sandwich\n",
    "\n",
    "Problem Statement: Write a function to check if a string is a \"vowel sandwich\", which means the string has exactly one vowel and it is surrounded by consonants.\n",
    "\n",
    "Examples:\n",
    "\n",
    "    Input: \"cat\"\n",
    "    Expected Output: True\n",
    "\n",
    "    Input: \"book\"\n",
    "    Expected Output: False\n",
    "\n",
    "Constraints:\n",
    "    \n",
    "    The input string can contain any printable characters."
   ]
  },
  {
   "cell_type": "code",
   "execution_count": 20,
   "id": "181d70c4",
   "metadata": {},
   "outputs": [
    {
     "name": "stdout",
     "output_type": "stream",
     "text": [
      "True\n",
      "False\n",
      "False\n"
     ]
    }
   ],
   "source": [
    "def is_vowel_sandwich(s):\n",
    "    \"\"\"\n",
    "    Check if a string is a \"vowel sandwich\".\n",
    "\n",
    "    Parameters:\n",
    "    s (str): The input string.\n",
    "\n",
    "    Returns:\n",
    "    bool: True if the string is a vowel sandwich, False otherwise.\n",
    "    \"\"\"\n",
    "    vowels = \"aeiouAEIOU\"\n",
    "    return len(s) == 3 and s[1] in vowels and s[0] not in vowels and s[2] not in vowels\n",
    "\n",
    "# Test examples\n",
    "print(is_vowel_sandwich(\"cat\"))   # Expected output: True\n",
    "print(is_vowel_sandwich(\"book\"))  # Expected output: False\n",
    "print(is_vowel_sandwich(\"aib\"))   # Expected output: False"
   ]
  },
  {
   "cell_type": "markdown",
   "id": "722bb83a",
   "metadata": {},
   "source": [
    "21. Count True Values in Boolean Array\n",
    "\n",
    "Problem Statement: Write a function to count the number of True values in a boolean array.\n",
    "\n",
    "Examples:\n",
    "\n",
    "    Input: [True, False, True, True, False]\n",
    "    Expected Output: 3\n",
    "\n",
    "Constraints:\n",
    "\n",
    "    The input list contains only boolean values (True or False)."
   ]
  },
  {
   "cell_type": "code",
   "execution_count": 21,
   "id": "7199151b",
   "metadata": {},
   "outputs": [
    {
     "name": "stdout",
     "output_type": "stream",
     "text": [
      "3\n",
      "0\n"
     ]
    }
   ],
   "source": [
    "def count_true(arr):\n",
    "    \"\"\"\n",
    "    Count the number of True values in a boolean array.\n",
    "\n",
    "    Parameters:\n",
    "    arr (list): The input boolean array.\n",
    "\n",
    "    Returns:\n",
    "    int: The number of True values in the array.\n",
    "    \"\"\"\n",
    "    return sum(arr)\n",
    "\n",
    "# Test examples\n",
    "print(count_true([True, False, True, True, False]))  # Expected output: 3\n",
    "print(count_true([False, False, False]))             # Expected output: 0"
   ]
  },
  {
   "cell_type": "markdown",
   "id": "d31b8bad",
   "metadata": {},
   "source": [
    "22. Get the Length of a String\n",
    "\n",
    "Problem Statement: Write a function to return the length of a given string.\n",
    "\n",
    "Examples:\n",
    "\n",
    "    Input: \"hello\"\n",
    "    Expected Output: 5\n",
    "    \n",
    "Constraints:\n",
    "\n",
    "    The input string can contain any printable characters."
   ]
  },
  {
   "cell_type": "code",
   "execution_count": 22,
   "id": "4008245a",
   "metadata": {},
   "outputs": [
    {
     "name": "stdout",
     "output_type": "stream",
     "text": [
      "5\n",
      "6\n"
     ]
    }
   ],
   "source": [
    "def string_length(s):\n",
    "    \"\"\"\n",
    "    Get the length of a given string.\n",
    "\n",
    "    Parameters:\n",
    "    s (str): The input string.\n",
    "\n",
    "    Returns:\n",
    "    int: The length of the string.\n",
    "    \"\"\"\n",
    "    return len(s)\n",
    "\n",
    "# Test examples\n",
    "print(string_length(\"hello\"))       # Expected output: 5\n",
    "print(string_length(\"Python\"))      # Expected output: 6\n"
   ]
  },
  {
   "cell_type": "markdown",
   "id": "cc9357f7",
   "metadata": {},
   "source": [
    "23. Calculate the Area of a Circle\n",
    "\n",
    "Problem Statement: Write a function to calculate the area of a circle given its radius.\n",
    "\n",
    "Examples:\n",
    "\n",
    "    Input: 5\n",
    "    Expected Output: 78.54\n",
    "\n",
    "Constraints:\n",
    "\n",
    "    The radius should be a non-negative number."
   ]
  },
  {
   "cell_type": "code",
   "execution_count": 23,
   "id": "049153b2",
   "metadata": {},
   "outputs": [
    {
     "name": "stdout",
     "output_type": "stream",
     "text": [
      "78.54\n",
      "314.16\n"
     ]
    }
   ],
   "source": [
    "import math\n",
    "\n",
    "def circle_area(radius):\n",
    "    \"\"\"\n",
    "    Calculate the area of a circle given its radius.\n",
    "\n",
    "    Parameters:\n",
    "    radius (float): The radius of the circle.\n",
    "\n",
    "    Returns:\n",
    "    float: The area of the circle.\n",
    "    \"\"\"\n",
    "    return round(math.pi * (radius ** 2), 2)\n",
    "\n",
    "# Test examples\n",
    "print(circle_area(5))    # Expected output: 78.54\n",
    "print(circle_area(10))   # Expected output: 314.16\n"
   ]
  },
  {
   "cell_type": "markdown",
   "id": "76d8181f",
   "metadata": {},
   "source": [
    "24. Move Capital Letters to Front\n",
    "\n",
    "Problem Statement: Write a function to move all capital letters to the front of a string.\n",
    "\n",
    "Examples:\n",
    "\n",
    "    Input: \"hElloWorLD\"\n",
    "    Expected Output: \"EWLDohrllo\"\n",
    "\n",
    "Constraints:\n",
    "\n",
    "    The input string can contain any printable characters.\n"
   ]
  },
  {
   "cell_type": "code",
   "execution_count": 24,
   "id": "5090989d",
   "metadata": {},
   "outputs": [
    {
     "name": "stdout",
     "output_type": "stream",
     "text": [
      "EWLDhlloor\n",
      "Python\n"
     ]
    }
   ],
   "source": [
    "def move_capitals_front(s):\n",
    "    \"\"\"\n",
    "    Move all capital letters to the front of a string.\n",
    "\n",
    "    Parameters:\n",
    "    s (str): The input string.\n",
    "\n",
    "    Returns:\n",
    "    str: The string with capital letters moved to the front.\n",
    "    \"\"\"\n",
    "    capitals = ''.join([char for char in s if char.isupper()])\n",
    "    non_capitals = ''.join([char for char in s if not char.isupper()])\n",
    "    return capitals + non_capitals\n",
    "\n",
    "# Test examples\n",
    "print(move_capitals_front(\"hElloWorLD\"))  # Expected output: \"EWLDohrllo\"\n",
    "print(move_capitals_front(\"Python\"))      # Expected output: \"Pthon\"\n"
   ]
  },
  {
   "cell_type": "markdown",
   "id": "d6b2ebe4",
   "metadata": {},
   "source": [
    "25. Check if an Array is Special\n",
    "\n",
    "Problem Statement: Write a function to check if an array is \"special\", meaning that the sum of the elements at even indices is equal to the sum of the elements at odd indices.\n",
    "\n",
    "Examples:\n",
    "\n",
    "    Input: [1, 2, 1, 2]\n",
    "    Expected Output: True\n",
    "\n",
    "    Input: [1, 2, 3, 4]\n",
    "    Expected Output: False\n",
    "\n",
    "Constraints:\n",
    "\n",
    "    The input list contains only integers."
   ]
  },
  {
   "cell_type": "code",
   "execution_count": 25,
   "id": "c793e497",
   "metadata": {},
   "outputs": [
    {
     "name": "stdout",
     "output_type": "stream",
     "text": [
      "False\n",
      "False\n"
     ]
    }
   ],
   "source": [
    "def is_special_array(arr):\n",
    "    \"\"\"\n",
    "    Check if an array is \"special\".\n",
    "\n",
    "    Parameters:\n",
    "    arr (list): The input array.\n",
    "\n",
    "    Returns:\n",
    "    bool: True if the array is special, False otherwise.\n",
    "    \"\"\"\n",
    "    even_sum = sum(arr[i] for i in range(0, len(arr), 2))\n",
    "    odd_sum = sum(arr[i] for i in range(1, len(arr), 2))\n",
    "    return even_sum == odd_sum\n",
    "\n",
    "# Test examples\n",
    "print(is_special_array([1, 2, 1, 2]))  # Expected output: True\n",
    "print(is_special_array([1, 2, 3, 4]))  # Expected output: False\n"
   ]
  },
  {
   "cell_type": "markdown",
   "id": "b7403aae",
   "metadata": {},
   "source": [
    "26. Validate Number Within Bounds\n",
    "\n",
    "Problem Statement: Write a function to check if a number is within a specified inclusive range.\n",
    "\n",
    "Examples:\n",
    "\n",
    "    Input: 5, 1, 10\n",
    "    Expected Output: True\n",
    "\n",
    "    Input: 0, 1, 10\n",
    "    Expected Output: False\n",
    "\n",
    "Constraints:\n",
    "\n",
    "    The input number and the range bounds can be any real numbers.\n"
   ]
  },
  {
   "cell_type": "code",
   "execution_count": 26,
   "id": "a532443e",
   "metadata": {},
   "outputs": [
    {
     "name": "stdout",
     "output_type": "stream",
     "text": [
      "True\n",
      "False\n"
     ]
    }
   ],
   "source": [
    "def is_within_bounds(number, lower, upper):\n",
    "    \"\"\"\n",
    "    Check if a number is within a specified inclusive range.\n",
    "\n",
    "    Parameters:\n",
    "    number (float): The number to check.\n",
    "    lower (float): The lower bound of the range.\n",
    "    upper (float): The upper bound of the range.\n",
    "\n",
    "    Returns:\n",
    "    bool: True if the number is within the range, False otherwise.\n",
    "    \"\"\"\n",
    "    return lower <= number <= upper\n",
    "\n",
    "# Test examples\n",
    "print(is_within_bounds(5, 1, 10))  # Expected output: True\n",
    "print(is_within_bounds(0, 1, 10))  # Expected output: False\n"
   ]
  },
  {
   "cell_type": "markdown",
   "id": "a73174f9",
   "metadata": {},
   "source": [
    "27. Generate a Random Number within a Range\n",
    "\n",
    "Problem Statement: Write a function to generate a random number within a specified range.\n",
    "\n",
    "Examples:\n",
    "\n",
    "    Input: 1, 10\n",
    "    Expected Output: A random number between 1 and 10 (inclusive)\n",
    "\n",
    "Constraints:\n",
    "\n",
    "    The range bounds can be any real numbers, and the lower bound should be less than the upper bound."
   ]
  },
  {
   "cell_type": "code",
   "execution_count": 27,
   "id": "6fd72476",
   "metadata": {},
   "outputs": [
    {
     "name": "stdout",
     "output_type": "stream",
     "text": [
      "7.659966910509153\n",
      "0.8097270495352482\n"
     ]
    }
   ],
   "source": [
    "def random_number_in_range(lower, upper):\n",
    "    \"\"\"\n",
    "    Generate a random number within a specified range.\n",
    "\n",
    "    Parameters:\n",
    "    lower (float): The lower bound of the range.\n",
    "    upper (float): The upper bound of the range.\n",
    "\n",
    "    Returns:\n",
    "    float: A random number within the range.\n",
    "    \"\"\"\n",
    "    return random.uniform(lower, upper)\n",
    "\n",
    "# Test examples\n",
    "print(random_number_in_range(1, 10))  # Expected output: A random number between 1 and 10\n",
    "print(random_number_in_range(0, 5))   # Expected output: A random number between 0 and 5\n"
   ]
  },
  {
   "cell_type": "markdown",
   "id": "e03aa9fb",
   "metadata": {},
   "source": [
    "28. Convert Seconds to HH:MM Format\n",
    "\n",
    "Problem Statement: Write a function to convert a given number of seconds into hours, minutes, and seconds in the format HH:MM\n",
    ".\n",
    "\n",
    "Examples:\n",
    "\n",
    "    Input: 3661\n",
    "    Expected Output: \"01:01:01\"\n",
    "\n",
    "Constraints:\n",
    "\n",
    "    The input number of seconds should be a non-negative integer."
   ]
  },
  {
   "cell_type": "code",
   "execution_count": 28,
   "id": "b541c676",
   "metadata": {},
   "outputs": [
    {
     "name": "stdout",
     "output_type": "stream",
     "text": [
      "01:01:01\n",
      "02:02:02\n"
     ]
    }
   ],
   "source": [
    "def convert_seconds(seconds):\n",
    "    \"\"\"\n",
    "    Convert a given number of seconds into hours, minutes, and seconds.\n",
    "\n",
    "    Parameters:\n",
    "    seconds (int): The number of seconds.\n",
    "\n",
    "    Returns:\n",
    "    str: The time in HH:MM:SS format.\n",
    "    \"\"\"\n",
    "    hours = seconds // 3600\n",
    "    minutes = (seconds % 3600) // 60\n",
    "    secs = seconds % 60\n",
    "    return f\"{hours:02}:{minutes:02}:{secs:02}\"\n",
    "\n",
    "# Test examples\n",
    "print(convert_seconds(3661))  # Expected output: \"01:01:01\"\n",
    "print(convert_seconds(7322))  # Expected output: \"02:02:02\"\n"
   ]
  },
  {
   "cell_type": "markdown",
   "id": "eab9646a",
   "metadata": {},
   "source": [
    "29. Get the Last Element of an Array\n",
    "\n",
    "Problem Statement: Write a function to return the last element of an array.\n",
    "\n",
    "Examples:\n",
    "\n",
    "    Input: [1, 2, 3, 4, 5]\n",
    "    Expected Output: 5\n",
    "\n",
    "Constraints:\n",
    "\n",
    "    The input list can contain any data types.\n"
   ]
  },
  {
   "cell_type": "code",
   "execution_count": 29,
   "id": "7e1c3d63",
   "metadata": {},
   "outputs": [
    {
     "name": "stdout",
     "output_type": "stream",
     "text": [
      "5\n",
      "c\n",
      "None\n"
     ]
    }
   ],
   "source": [
    "def get_last_element(arr):\n",
    "    \"\"\"\n",
    "    Return the last element of an array.\n",
    "\n",
    "    Parameters:\n",
    "    arr (list): The input array.\n",
    "\n",
    "    Returns:\n",
    "    any: The last element of the array.\n",
    "    \"\"\"\n",
    "    return arr[-1] if arr else None\n",
    "\n",
    "# Test examples\n",
    "print(get_last_element([1, 2, 3, 4, 5]))  # Expected output: 5\n",
    "print(get_last_element(['a', 'b', 'c']))  # Expected output: 'c'\n",
    "print(get_last_element([]))               # Expected output: None\n"
   ]
  },
  {
   "cell_type": "markdown",
   "id": "b5bdf894",
   "metadata": {},
   "source": [
    "30. Jazzify Chords\n",
    "\n",
    "Problem Statement: Write a function to jazzify a list of chords by adding \"7\" to each chord that does not already end with \"7\".\n",
    "\n",
    "Examples:\n",
    "\n",
    "    Input: [\"G\", \"F\", \"C7\"]\n",
    "    Expected Output: [\"G7\", \"F7\", \"C7\"]\n",
    "\n",
    "Constraints:\n",
    "\n",
    "    The input list contains strings representing musical chords."
   ]
  },
  {
   "cell_type": "code",
   "execution_count": 30,
   "id": "a9784cb0",
   "metadata": {},
   "outputs": [
    {
     "name": "stdout",
     "output_type": "stream",
     "text": [
      "['G7', 'F7', 'C7']\n",
      "['A7', 'E7', 'D7']\n"
     ]
    }
   ],
   "source": [
    "def jazzify(chords):\n",
    "    \"\"\"\n",
    "    Jazzify a list of chords by adding \"7\" to each chord that does not already end with \"7\".\n",
    "\n",
    "    Parameters:\n",
    "    chords (list): The input list of chords.\n",
    "\n",
    "    Returns:\n",
    "    list: The jazzified list of chords.\n",
    "    \"\"\"\n",
    "    return [chord if chord.endswith('7') else chord + '7' for chord in chords]\n",
    "\n",
    "# Test examples\n",
    "print(jazzify([\"G\", \"F\", \"C7\"]))  # Expected output: [\"G7\", \"F7\", \"C7\"]\n",
    "print(jazzify([\"A\", \"E\", \"D7\"]))  # Expected output: [\"A7\", \"E7\", \"D7\"]\n"
   ]
  },
  {
   "cell_type": "markdown",
   "id": "51375ec4",
   "metadata": {},
   "source": [
    "31. Check if All Elements in an Array are the Same\n",
    "\n",
    "Problem Statement: Write a function to check if all elements in an array are the same.\n",
    "\n",
    "Examples:\n",
    "\n",
    "    Input: [1, 1, 1, 1]\n",
    "    Expected Output: True\n",
    "\n",
    "    Input: [1, 2, 1, 1]\n",
    "    Expected Output: False\n",
    "\n",
    "Constraints:\n",
    "\n",
    "    The input list can contain any data types."
   ]
  },
  {
   "cell_type": "code",
   "execution_count": 31,
   "id": "4c97a0a0",
   "metadata": {},
   "outputs": [
    {
     "name": "stdout",
     "output_type": "stream",
     "text": [
      "True\n",
      "False\n",
      "True\n"
     ]
    }
   ],
   "source": [
    "def all_elements_same(arr):\n",
    "    \"\"\"\n",
    "    Check if all elements in an array are the same.\n",
    "\n",
    "    Parameters:\n",
    "    arr (list): The input array.\n",
    "\n",
    "    Returns:\n",
    "    bool: True if all elements are the same, False otherwise.\n",
    "    \"\"\"\n",
    "    return all(x == arr[0] for x in arr)\n",
    "\n",
    "# Test examples\n",
    "print(all_elements_same([1, 1, 1, 1]))  # Expected output: True\n",
    "print(all_elements_same([1, 2, 1, 1]))  # Expected output: False\n",
    "print(all_elements_same([]))            # Expected output: True\n"
   ]
  },
  {
   "cell_type": "markdown",
   "id": "ea58f8f1",
   "metadata": {},
   "source": [
    "32. Sum of Numbers up to a Given Number\n",
    "\n",
    "Problem Statement: Write a function to calculate the sum of all numbers from 1 up to (and including) a given number.\n",
    "\n",
    "Examples:\n",
    "\n",
    "    Input: 5\n",
    "    Expected Output: 15\n",
    "\n",
    "Constraints:\n",
    "\n",
    "    The input number should be a non-negative integer."
   ]
  },
  {
   "cell_type": "code",
   "execution_count": 32,
   "id": "267f35c9",
   "metadata": {},
   "outputs": [
    {
     "name": "stdout",
     "output_type": "stream",
     "text": [
      "15\n",
      "55\n"
     ]
    }
   ],
   "source": [
    "def sum_up_to(n):\n",
    "    \"\"\"\n",
    "    Calculate the sum of all numbers from 1 up to (and including) a given number.\n",
    "\n",
    "    Parameters:\n",
    "    n (int): The given number.\n",
    "\n",
    "    Returns:\n",
    "    int: The sum of all numbers from 1 up to n.\n",
    "    \"\"\"\n",
    "    return n * (n + 1) // 2\n",
    "\n",
    "# Test examples\n",
    "print(sum_up_to(5))  # Expected output: 15\n",
    "print(sum_up_to(10)) # Expected output: 55\n"
   ]
  },
  {
   "cell_type": "markdown",
   "id": "53751bb7",
   "metadata": {},
   "source": [
    "33. Sum all Numbers in an Array\n",
    "\n",
    "Problem Statement: Write a function to calculate the sum of all numbers in an array.\n",
    "\n",
    "Examples:\n",
    "\n",
    "    Input: [1, 2, 3, 4, 5]\n",
    "    Expected Output: 15\n",
    "\n",
    "Constraints:\n",
    "\n",
    "    The input list contains only numerical values."
   ]
  },
  {
   "cell_type": "code",
   "execution_count": 33,
   "id": "cb27ac1f",
   "metadata": {},
   "outputs": [
    {
     "name": "stdout",
     "output_type": "stream",
     "text": [
      "15\n",
      "60\n"
     ]
    }
   ],
   "source": [
    "def sum_array(arr):\n",
    "    \"\"\"\n",
    "    Calculate the sum of all numbers in an array.\n",
    "\n",
    "    Parameters:\n",
    "    arr (list): The input array of numbers.\n",
    "\n",
    "    Returns:\n",
    "    int/float: The sum of all numbers in the array.\n",
    "    \"\"\"\n",
    "    return sum(arr)\n",
    "\n",
    "# Test examples\n",
    "print(sum_array([1, 2, 3, 4, 5]))  # Expected output: 15\n",
    "print(sum_array([10, 20, 30]))     # Expected output: 60\n"
   ]
  },
  {
   "cell_type": "markdown",
   "id": "ffa0a144",
   "metadata": {},
   "source": [
    "34. Find the Maximum Value in an Array\n",
    "\n",
    "Problem Statement: Write a function to find the maximum value in an array.\n",
    "\n",
    "Examples:\n",
    "\n",
    "    Input: [1, 2, 3, 4, 5]\n",
    "    Expected Output: 5\n",
    "\n",
    "Constraints:\n",
    "\n",
    "    The input list contains only numerical values."
   ]
  },
  {
   "cell_type": "code",
   "execution_count": 34,
   "id": "57cb292e",
   "metadata": {},
   "outputs": [
    {
     "name": "stdout",
     "output_type": "stream",
     "text": [
      "5\n",
      "30\n"
     ]
    }
   ],
   "source": [
    "def find_max_value(arr):\n",
    "    \"\"\"\n",
    "    Find the maximum value in an array.\n",
    "\n",
    "    Parameters:\n",
    "    arr (list): The input array of numbers.\n",
    "\n",
    "    Returns:\n",
    "    int/float: The maximum value in the array.\n",
    "    \"\"\"\n",
    "    return max(arr)\n",
    "\n",
    "# Test examples\n",
    "print(find_max_value([1, 2, 3, 4, 5]))  # Expected output: 5\n",
    "print(find_max_value([10, 20, 30]))     # Expected output: 30\n"
   ]
  },
  {
   "cell_type": "markdown",
   "id": "2fe304f0",
   "metadata": {},
   "source": [
    "35. Get the Current Date in DD/MM/YYYY Format\n",
    "\n",
    "Problem Statement: Write a function to get the current date in the format DD/MM/YYYY.\n",
    "\n",
    "Examples:\n",
    "\n",
    "    Input: None\n",
    "    Expected Output: \"19/07/2024\" (or the current date)\n",
    "\n",
    "Constraints:\n",
    "\n",
    "    None."
   ]
  },
  {
   "cell_type": "code",
   "execution_count": 35,
   "id": "6e8bcb7f",
   "metadata": {},
   "outputs": [
    {
     "name": "stdout",
     "output_type": "stream",
     "text": [
      "20/07/2024\n"
     ]
    }
   ],
   "source": [
    "from datetime import datetime\n",
    "\n",
    "def get_current_date():\n",
    "    \"\"\"\n",
    "    Get the current date in the format DD/MM/YYYY.\n",
    "\n",
    "    Parameters:\n",
    "    None\n",
    "\n",
    "    Returns:\n",
    "    str: The current date in DD/MM/YYYY format.\n",
    "    \"\"\"\n",
    "    return datetime.now().strftime(\"%d/%m/%Y\")\n",
    "\n",
    "# Test example\n",
    "print(get_current_date())  # Expected output: Current date in DD/MM/YYYY format\n"
   ]
  },
  {
   "cell_type": "markdown",
   "id": "b82be934",
   "metadata": {},
   "source": [
    "36. Calculate the Power of a Number\n",
    "\n",
    "Problem Statement: Write a function to calculate the power of a number given a base and an exponent.\n",
    "\n",
    "Examples:\n",
    "\n",
    "    Input: 2, 3\n",
    "    Expected Output: 8\n",
    "\n",
    "Constraints:\n",
    "\n",
    "    The base and exponent can be any real numbers."
   ]
  },
  {
   "cell_type": "code",
   "execution_count": 36,
   "id": "4f5e079f",
   "metadata": {},
   "outputs": [
    {
     "name": "stdout",
     "output_type": "stream",
     "text": [
      "8\n",
      "25\n"
     ]
    }
   ],
   "source": [
    "def power(base, exponent):\n",
    "    \"\"\"\n",
    "    Calculate the power of a number given a base and an exponent.\n",
    "\n",
    "    Parameters:\n",
    "    base (float): The base number.\n",
    "    exponent (float): The exponent.\n",
    "\n",
    "    Returns:\n",
    "    float: The result of base raised to the power of exponent.\n",
    "    \"\"\"\n",
    "    return base ** exponent\n",
    "\n",
    "# Test examples\n",
    "print(power(2, 3))  # Expected output: 8\n",
    "print(power(5, 2))  # Expected output: 25\n"
   ]
  },
  {
   "cell_type": "markdown",
   "id": "95ef93b1",
   "metadata": {},
   "source": [
    "37. Convert String to Number\n",
    "\n",
    "Problem Statement: Write a function to convert a string to a number (integer or float).\n",
    "\n",
    "Examples:\n",
    "\n",
    "    Input: \"123\"\n",
    "    Expected Output: 123\n",
    "\n",
    "    Input: \"123.45\"\n",
    "    Expected Output: 123.45\n",
    "\n",
    "Constraints:\n",
    "\n",
    "    The input string should represent a valid number."
   ]
  },
  {
   "cell_type": "code",
   "execution_count": 37,
   "id": "0e6c589e",
   "metadata": {},
   "outputs": [
    {
     "name": "stdout",
     "output_type": "stream",
     "text": [
      "123\n",
      "123.45\n"
     ]
    }
   ],
   "source": [
    "def string_to_number(s):\n",
    "    \"\"\"\n",
    "    Convert a string to a number (integer or float).\n",
    "\n",
    "    Parameters:\n",
    "    s (str): The input string.\n",
    "\n",
    "    Returns:\n",
    "    int/float: The number represented by the string.\n",
    "    \"\"\"\n",
    "    try:\n",
    "        if '.' in s:\n",
    "            return float(s)\n",
    "        else:\n",
    "            return int(s)\n",
    "    except ValueError:\n",
    "        return None\n",
    "\n",
    "# Test examples\n",
    "print(string_to_number(\"123\"))     # Expected output: 123\n",
    "print(string_to_number(\"123.45\"))  # Expected output: 123.45\n"
   ]
  },
  {
   "cell_type": "markdown",
   "id": "00b091d3",
   "metadata": {},
   "source": [
    "38. Marathon Distance Checker\n",
    "\n",
    "Problem Statement: Write a function to check if the sum of given distances (in kilometers) equals the official marathon distance (42.195 km).\n",
    "\n",
    "Examples:\n",
    "\n",
    "    Input: [10, 20, 12.195]\n",
    "    Expected Output: True\n",
    "\n",
    "    Input: [5, 10, 15]\n",
    "    Expected Output: False\n",
    "\n",
    "Constraints:\n",
    "\n",
    "    The input list contains only numerical values representing distances in kilometers."
   ]
  },
  {
   "cell_type": "code",
   "execution_count": 38,
   "id": "61bc129a",
   "metadata": {},
   "outputs": [
    {
     "name": "stdout",
     "output_type": "stream",
     "text": [
      "True\n",
      "False\n"
     ]
    }
   ],
   "source": [
    "def is_marathon_distance(distances):\n",
    "    \"\"\"\n",
    "    Check if the sum of given distances equals the marathon distance (42.195 km).\n",
    "\n",
    "    Parameters:\n",
    "    distances (list): The list of distances in kilometers.\n",
    "\n",
    "    Returns:\n",
    "    bool: True if the sum of distances equals 42.195, False otherwise.\n",
    "    \"\"\"\n",
    "    return sum(distances) == 42.195\n",
    "\n",
    "# Test examples\n",
    "print(is_marathon_distance([10, 20, 12.195]))  # Expected output: True\n",
    "print(is_marathon_distance([5, 10, 15]))       # Expected output: False\n"
   ]
  },
  {
   "cell_type": "markdown",
   "id": "489a1326",
   "metadata": {},
   "source": [
    "39. Count the Number of Words in a String\n",
    "\n",
    "Problem Statement: Write a function to count the number of words in a given string.\n",
    "\n",
    "Examples:\n",
    "\n",
    "    Input: \"Hello world!\"\n",
    "    Expected Output: 2\n",
    "\n",
    "Constraints:\n",
    "\n",
    "The input string can contain any printable characters."
   ]
  },
  {
   "cell_type": "code",
   "execution_count": 39,
   "id": "f33e76b1",
   "metadata": {},
   "outputs": [
    {
     "name": "stdout",
     "output_type": "stream",
     "text": [
      "2\n",
      "3\n"
     ]
    }
   ],
   "source": [
    "def count_words(s):\n",
    "    \"\"\"\n",
    "    Count the number of words in a given string.\n",
    "\n",
    "    Parameters:\n",
    "    s (str): The input string.\n",
    "\n",
    "    Returns:\n",
    "    int: The number of words in the string.\n",
    "    \"\"\"\n",
    "    return len(s.split())\n",
    "\n",
    "# Test examples\n",
    "print(count_words(\"Hello world!\"))        # Expected output: 2\n",
    "print(count_words(\"Python is awesome!\"))  # Expected output: 3\n"
   ]
  },
  {
   "cell_type": "markdown",
   "id": "b0ed4f91",
   "metadata": {},
   "source": [
    "40. Count Ones in Binary Representation\n",
    "\n",
    "Problem Statement: Write a function to count the number of 1s in the binary representation of a given number.\n",
    "\n",
    "Examples:\n",
    "\n",
    "    Input: 5\n",
    "    Expected Output: 2\n",
    "\n",
    "Constraints:\n",
    "\n",
    "    The input number should be a non-negative integer."
   ]
  },
  {
   "cell_type": "code",
   "execution_count": 40,
   "id": "2fd19468",
   "metadata": {},
   "outputs": [
    {
     "name": "stdout",
     "output_type": "stream",
     "text": [
      "2\n",
      "4\n"
     ]
    }
   ],
   "source": [
    "def count_ones(n):\n",
    "    \"\"\"\n",
    "    Count the number of 1s in the binary representation of a given number.\n",
    "\n",
    "    Parameters:\n",
    "    n (int): The input number.\n",
    "\n",
    "    Returns:\n",
    "    int: The number of 1s in the binary representation of the number.\n",
    "    \"\"\"\n",
    "    return bin(n).count('1')\n",
    "\n",
    "# Test examples\n",
    "print(count_ones(5))  # Expected output: 2\n",
    "print(count_ones(15)) # Expected output: 4\n"
   ]
  },
  {
   "cell_type": "markdown",
   "id": "96fd6e73",
   "metadata": {},
   "source": [
    "41. Get the Current Year\n",
    "\n",
    "Problem Statement: Write a function to get the current year.\n",
    "\n",
    "Examples:\n",
    "\n",
    "    Input: None\n",
    "    Expected Output: 2024 (or the current year)\n",
    "\n",
    "Constraints:\n",
    "\n",
    "    None."
   ]
  },
  {
   "cell_type": "code",
   "execution_count": 41,
   "id": "077cbaf0",
   "metadata": {},
   "outputs": [
    {
     "name": "stdout",
     "output_type": "stream",
     "text": [
      "2024\n"
     ]
    }
   ],
   "source": [
    "from datetime import datetime\n",
    "\n",
    "def get_current_year():\n",
    "    \"\"\"\n",
    "    Get the current year.\n",
    "\n",
    "    Parameters:\n",
    "    None\n",
    "\n",
    "    Returns:\n",
    "    int: The current year.\n",
    "    \"\"\"\n",
    "    return datetime.now().year\n",
    "\n",
    "# Test example\n",
    "print(get_current_year())  # Expected output: Current year\n"
   ]
  },
  {
   "cell_type": "markdown",
   "id": "22dd8f08",
   "metadata": {},
   "source": [
    "42. Generate a Random Number between 1 and 10\n",
    "\n",
    "Problem Statement: Write a function to generate a random number between 1 and 10 (inclusive).\n",
    "\n",
    "Examples:\n",
    "\n",
    "    Input: None\n",
    "    Expected Output: A random number between 1 and 10\n",
    "\n",
    "Constraints:\n",
    "\n",
    "    None."
   ]
  },
  {
   "cell_type": "code",
   "execution_count": 42,
   "id": "57a9985c",
   "metadata": {},
   "outputs": [
    {
     "name": "stdout",
     "output_type": "stream",
     "text": [
      "8\n"
     ]
    }
   ],
   "source": [
    "import random\n",
    "\n",
    "def random_number_1_to_10():\n",
    "    \"\"\"\n",
    "    Generate a random number between 1 and 10 (inclusive).\n",
    "\n",
    "    Parameters:\n",
    "    None\n",
    "\n",
    "    Returns:\n",
    "    int: A random number between 1 and 10.\n",
    "    \"\"\"\n",
    "    return random.randint(1, 10)\n",
    "\n",
    "# Test example\n",
    "print(random_number_1_to_10())  # Expected output: A random number between 1 and 10\n"
   ]
  },
  {
   "cell_type": "markdown",
   "id": "8ca63a17",
   "metadata": {},
   "source": [
    "43. Check if a String is Empty\n",
    "\n",
    "Problem Statement: Write a function to check if a given string is empty.\n",
    "\n",
    "Examples:\n",
    "\n",
    "    Input: \"\"\n",
    "    Expected Output: True\n",
    "\n",
    "    Input: \"Hello\"\n",
    "    Expected Output: False\n",
    "\n",
    "Constraints:\n",
    "\n",
    "    The input string can contain any printable characters."
   ]
  },
  {
   "cell_type": "code",
   "execution_count": 43,
   "id": "d5d6a1dc",
   "metadata": {},
   "outputs": [
    {
     "name": "stdout",
     "output_type": "stream",
     "text": [
      "True\n",
      "False\n"
     ]
    }
   ],
   "source": [
    "def is_string_empty(s):\n",
    "    \"\"\"\n",
    "    Check if a given string is empty.\n",
    "\n",
    "    Parameters:\n",
    "    s (str): The input string.\n",
    "\n",
    "    Returns:\n",
    "    bool: True if the string is empty, False otherwise.\n",
    "    \"\"\"\n",
    "    return s == \"\"\n",
    "\n",
    "# Test examples\n",
    "print(is_string_empty(\"\"))      # Expected output: True\n",
    "print(is_string_empty(\"Hello\")) # Expected output: False\n"
   ]
  },
  {
   "cell_type": "markdown",
   "id": "eaafcb19",
   "metadata": {},
   "source": [
    "44. Sum of Index Multiplied Elements\n",
    "\n",
    "Problem Statement: Write a function to calculate the sum of elements in an array, where each element is multiplied by its index.\n",
    "\n",
    "Examples:\n",
    "\n",
    "    Input: [1, 2, 3]\n",
    "    Expected Output: 8\n",
    "\n",
    "Constraints:\n",
    "\n",
    "    The input list contains only numerical values."
   ]
  },
  {
   "cell_type": "code",
   "execution_count": 44,
   "id": "16a32707",
   "metadata": {},
   "outputs": [
    {
     "name": "stdout",
     "output_type": "stream",
     "text": [
      "8\n",
      "17\n"
     ]
    }
   ],
   "source": [
    "def sum_index_multiplied_elements(arr):\n",
    "    \"\"\"\n",
    "    Calculate the sum of elements in an array, where each element is multiplied by its index.\n",
    "\n",
    "    Parameters:\n",
    "    arr (list): The input array of numbers.\n",
    "\n",
    "    Returns:\n",
    "    int/float: The sum of index multiplied elements.\n",
    "    \"\"\"\n",
    "    return sum(i * x for i, x in enumerate(arr))\n",
    "\n",
    "# Test examples\n",
    "print(sum_index_multiplied_elements([1, 2, 3]))  # Expected output: 8\n",
    "print(sum_index_multiplied_elements([4, 5, 6]))  # Expected output: 23\n",
    "\n"
   ]
  },
  {
   "cell_type": "markdown",
   "id": "f41a21e3",
   "metadata": {},
   "source": [
    "45. Calculate Progress Days\n",
    "\n",
    "Problem Statement: Write a function to calculate the number of progress days. A progress day is a day when the distance run is greater than the distance run the previous day.\n",
    "\n",
    "Examples:\n",
    "\n",
    "    Input: [3, 4, 1, 2, 5]\n",
    "    Expected Output: 3\n",
    "\n",
    "Constraints:\n",
    "\n",
    "    The input list contains only numerical values representing distances run on consecutive days."
   ]
  },
  {
   "cell_type": "code",
   "execution_count": 45,
   "id": "60558ddc",
   "metadata": {},
   "outputs": [
    {
     "name": "stdout",
     "output_type": "stream",
     "text": [
      "3\n",
      "4\n"
     ]
    }
   ],
   "source": [
    "def count_progress_days(distances):\n",
    "    \"\"\"\n",
    "    Calculate the number of progress days.\n",
    "\n",
    "    Parameters:\n",
    "    distances (list): The list of distances run on consecutive days.\n",
    "\n",
    "    Returns:\n",
    "    int: The number of progress days.\n",
    "    \"\"\"\n",
    "    return sum(1 for i in range(1, len(distances)) if distances[i] > distances[i - 1])\n",
    "\n",
    "# Test examples\n",
    "print(count_progress_days([3, 4, 1, 2, 5]))  # Expected output: 3\n",
    "print(count_progress_days([1, 2, 3, 4, 5]))  # Expected output: 4\n"
   ]
  },
  {
   "cell_type": "markdown",
   "id": "e1c9c355",
   "metadata": {},
   "source": [
    "46. Check if a Number is a Multiple of 5\n",
    "\n",
    "Problem Statement: Write a function to check if a given number is a multiple of 5.\n",
    "\n",
    "Examples:\n",
    "\n",
    "    Input: 15\n",
    "    Expected Output: True\n",
    "\n",
    "    Input: 12\n",
    "    Expected Output: False\n",
    "\n",
    "Constraints:\n",
    "\n",
    "    The input number should be an integer."
   ]
  },
  {
   "cell_type": "code",
   "execution_count": 46,
   "id": "204808b4",
   "metadata": {},
   "outputs": [
    {
     "name": "stdout",
     "output_type": "stream",
     "text": [
      "True\n",
      "False\n"
     ]
    }
   ],
   "source": [
    "def is_multiple_of_5(n):\n",
    "    \"\"\"\n",
    "    Check if a given number is a multiple of 5.\n",
    "\n",
    "    Parameters:\n",
    "    n (int): The input number.\n",
    "\n",
    "    Returns:\n",
    "    bool: True if the number is a multiple of 5, False otherwise.\n",
    "    \"\"\"\n",
    "    return n % 5 == 0\n",
    "\n",
    "# Test examples\n",
    "print(is_multiple_of_5(15))  # Expected output: True\n",
    "print(is_multiple_of_5(12))  # Expected output: False\n"
   ]
  },
  {
   "cell_type": "markdown",
   "id": "e95b46ee",
   "metadata": {},
   "source": [
    "47. Convert Minutes to Seconds\n",
    "\n",
    "Problem Statement: Write a function to convert minutes into seconds.\n",
    "\n",
    "Examples:\n",
    "\n",
    "    Input: 5\n",
    "    Expected Output: 300\n",
    "\n",
    "Constraints:\n",
    "\n",
    "    The input number should be a non-negative integer or float."
   ]
  },
  {
   "cell_type": "code",
   "execution_count": 47,
   "id": "b06e084c",
   "metadata": {},
   "outputs": [
    {
     "name": "stdout",
     "output_type": "stream",
     "text": [
      "300\n",
      "150.0\n"
     ]
    }
   ],
   "source": [
    "def minutes_to_seconds(minutes):\n",
    "    \"\"\"\n",
    "    Convert minutes into seconds.\n",
    "\n",
    "    Parameters:\n",
    "    minutes (int/float): The number of minutes.\n",
    "\n",
    "    Returns:\n",
    "    int/float: The number of seconds.\n",
    "    \"\"\"\n",
    "    return minutes * 60\n",
    "\n",
    "# Test examples\n",
    "print(minutes_to_seconds(5))    # Expected output: 300\n",
    "print(minutes_to_seconds(2.5))  # Expected output: 150\n"
   ]
  },
  {
   "cell_type": "markdown",
   "id": "e9ed50d0",
   "metadata": {},
   "source": [
    "48. Find the Maximum Value in an Array of Objects\n",
    "\n",
    "Problem Statement: Write a function to find the maximum value of a specific key in an array of dictionaries.\n",
    "\n",
    "Examples:\n",
    "\n",
    "    Input: [{'a': 5}, {'a': 10}, {'a': 15}]\n",
    "    Expected Output: 15\n",
    "\n",
    "Constraints:\n",
    "\n",
    "    The input list contains dictionaries with numerical values for the specified key."
   ]
  },
  {
   "cell_type": "code",
   "execution_count": 48,
   "id": "0e06d8ec",
   "metadata": {},
   "outputs": [
    {
     "name": "stdout",
     "output_type": "stream",
     "text": [
      "15\n",
      "8\n"
     ]
    }
   ],
   "source": [
    "def find_max_value_in_objects(arr, key):\n",
    "    \"\"\"\n",
    "    Find the maximum value of a specific key in an array of dictionaries.\n",
    "\n",
    "    Parameters:\n",
    "    arr (list): The list of dictionaries.\n",
    "    key (str): The key to find the maximum value for.\n",
    "\n",
    "    Returns:\n",
    "    int/float: The maximum value for the specified key.\n",
    "    \"\"\"\n",
    "    return max(d[key] for d in arr)\n",
    "\n",
    "# Test examples\n",
    "print(find_max_value_in_objects([{'a': 5}, {'a': 10}, {'a': 15}], 'a'))  # Expected output: 15\n",
    "print(find_max_value_in_objects([{'b': 3}, {'b': 8}, {'b': 6}], 'b'))    # Expected output: 8\n"
   ]
  },
  {
   "cell_type": "markdown",
   "id": "0d28a217",
   "metadata": {},
   "source": [
    "49. Check if a String Starts with a Specific Character\n",
    "\n",
    "Problem Statement: Write a function to check if a given string starts with a specific character.\n",
    "\n",
    "Examples:\n",
    "\n",
    "    Input: \"hello\", \"h\"\n",
    "    Expected Output: True\n",
    "\n",
    "    Input: \"world\", \"h\"\n",
    "    Expected Output: False\n",
    "\n",
    "Constraints:\n",
    "\n",
    "    The input string can contain any printable characters."
   ]
  },
  {
   "cell_type": "code",
   "execution_count": 49,
   "id": "1ad3c4bd",
   "metadata": {},
   "outputs": [
    {
     "name": "stdout",
     "output_type": "stream",
     "text": [
      "True\n",
      "False\n"
     ]
    }
   ],
   "source": [
    "def starts_with(s, char):\n",
    "    \"\"\"\n",
    "    Check if a given string starts with a specific character.\n",
    "\n",
    "    Parameters:\n",
    "    s (str): The input string.\n",
    "    char (str): The specific character.\n",
    "\n",
    "    Returns:\n",
    "    bool: True if the string starts with the specific character, False otherwise.\n",
    "    \"\"\"\n",
    "    return s.startswith(char)\n",
    "\n",
    "# Test examples\n",
    "print(starts_with(\"hello\", \"h\"))  # Expected output: True\n",
    "print(starts_with(\"world\", \"h\"))  # Expected output: False\n"
   ]
  },
  {
   "cell_type": "markdown",
   "id": "f172bdb8",
   "metadata": {},
   "source": [
    "50. Convert DNA to RNA\n",
    "\n",
    "Problem Statement: Write a function to convert a DNA sequence to an RNA sequence by replacing all occurrences of \"T\" with \"U\".\n",
    "\n",
    "Examples:\n",
    "\n",
    "    Input: \"GATTACA\"\n",
    "    Expected Output: \"GAUUACA\"\n",
    "\n",
    "Constraints:\n",
    "\n",
    "    The input string represents a valid DNA sequence."
   ]
  },
  {
   "cell_type": "code",
   "execution_count": 50,
   "id": "a04ddc39",
   "metadata": {},
   "outputs": [
    {
     "name": "stdout",
     "output_type": "stream",
     "text": [
      "GAUUACA\n",
      "UACG\n"
     ]
    }
   ],
   "source": [
    "def dna_to_rna(dna):\n",
    "    \"\"\"\n",
    "    Convert a DNA sequence to an RNA sequence.\n",
    "\n",
    "    Parameters:\n",
    "    dna (str): The DNA sequence.\n",
    "\n",
    "    Returns:\n",
    "    str: The RNA sequence.\n",
    "    \"\"\"\n",
    "    return dna.replace('T', 'U')\n",
    "\n",
    "# Test examples\n",
    "print(dna_to_rna(\"GATTACA\"))  # Expected output: \"GAUUACA\"\n",
    "print(dna_to_rna(\"TACG\"))     # Expected output: \"UACG\""
   ]
  },
  {
   "cell_type": "markdown",
   "id": "2db35463",
   "metadata": {},
   "source": [
    "51. Check if an Array Contains a Specific Value\n",
    "\n",
    "Problem Statement: Write a function to check if an array contains a specific value.\n",
    "\n",
    "Examples:\n",
    "\n",
    "    Input: [1, 2, 3, 4, 5], 3\n",
    "    Expected Output: True\n",
    "\n",
    "    Input: [1, 2, 3, 4, 5], 6\n",
    "    Expected Output: False\n",
    "\n",
    "Constraints:\n",
    "\n",
    "    The input list can contain any data types."
   ]
  },
  {
   "cell_type": "code",
   "execution_count": null,
   "id": "d9e8303b",
   "metadata": {},
   "outputs": [],
   "source": [
    "def contains_value(arr, value):\n",
    "    \"\"\"\n",
    "    Check if an array contains a specific value.\n",
    "\n",
    "    Parameters:\n",
    "    arr (list): The input array.\n",
    "    value (any): The value to check for.\n",
    "\n",
    "    Returns:\n",
    "    bool: True if the array contains the value, False otherwise.\n",
    "    \"\"\"\n",
    "    return value in arr\n",
    "\n",
    "# Test examples\n",
    "print(contains_value([1, 2, 3, 4, 5], 3))  # Expected output: True\n",
    "print(contains_value([1, 2, 3, 4, 5], 6))  # Expected output: False"
   ]
  },
  {
   "cell_type": "markdown",
   "id": "bac91f3d",
   "metadata": {},
   "source": [
    "52. Convert an Array to a Comma-Separated String\n",
    "\n",
    "Problem Statement: Write a function to convert an array to a comma-separated string.\n",
    "\n",
    "Examples:\n",
    "\n",
    "    Input: [1, 2, 3]\n",
    "    Expected Output: \"1,2,3\"\n",
    "\n",
    "Constraints:\n",
    "\n",
    "    The input list can contain any data types that can be converted to strings."
   ]
  },
  {
   "cell_type": "code",
   "execution_count": null,
   "id": "4bd7f341",
   "metadata": {},
   "outputs": [],
   "source": [
    "def array_to_comma_separated_string(arr):\n",
    "    \"\"\"\n",
    "    Convert an array to a comma-separated string.\n",
    "\n",
    "    Parameters:\n",
    "    arr (list): The input array.\n",
    "\n",
    "    Returns:\n",
    "    str: The comma-separated string.\n",
    "    \"\"\"\n",
    "    return ','.join(map(str, arr))\n",
    "\n",
    "# Test examples\n",
    "print(array_to_comma_separated_string([1, 2, 3]))      # Expected output: \"1,2,3\"\n",
    "print(array_to_comma_separated_string(['a', 'b', 'c']))  # Expected output: \"a,b,c\"\n"
   ]
  },
  {
   "cell_type": "markdown",
   "id": "eeba89f3",
   "metadata": {},
   "source": [
    "53. Check if a Year is a Leap Year\n",
    "\n",
    "Problem Statement: Write a function to check if a given year is a leap year.\n",
    "\n",
    "Examples:\n",
    "\n",
    "    Input: 2020\n",
    "    Expected Output: True\n",
    "\n",
    "    Input: 2021\n",
    "    Expected Output: False\n",
    "\n",
    "Constraints:\n",
    "\n",
    "    The input year should be a positive integer."
   ]
  },
  {
   "cell_type": "code",
   "execution_count": null,
   "id": "3b68430b",
   "metadata": {},
   "outputs": [],
   "source": [
    "def is_leap_year(year):\n",
    "    \"\"\"\n",
    "    Check if a given year is a leap year.\n",
    "\n",
    "    Parameters:\n",
    "    year (int): The input year.\n",
    "\n",
    "    Returns:\n",
    "    bool: True if the year is a leap year, False otherwise.\n",
    "    \"\"\"\n",
    "    return year % 4 == 0 and (year % 100 != 0 or year % 400 == 0)\n",
    "\n",
    "# Test examples\n",
    "print(is_leap_year(2020))  # Expected output: True\n",
    "print(is_leap_year(2021))  # Expected output: False\n"
   ]
  },
  {
   "cell_type": "markdown",
   "id": "e73d11ff",
   "metadata": {},
   "source": [
    "54. Find the Index of an Element in an Array\n",
    "\n",
    "Problem Statement: Write a function to find the index of a specific element in an array. If the element is not found, return -1.\n",
    "\n",
    "Examples:\n",
    "\n",
    "    Input: [1, 2, 3, 4, 5], 3\n",
    "    Expected Output: 2\n",
    "\n",
    "    Input: [1, 2, 3, 4, 5], 6\n",
    "    Expected Output: -1\n",
    "\n",
    "Constraints:\n",
    "\n",
    "    The input list can contain any data types."
   ]
  },
  {
   "cell_type": "code",
   "execution_count": null,
   "id": "b77518e9",
   "metadata": {},
   "outputs": [],
   "source": [
    "def find_index(arr, value):\n",
    "    \"\"\"\n",
    "    Find the index of a specific element in an array. If the element is not found, return -1.\n",
    "\n",
    "    Parameters:\n",
    "    arr (list): The input array.\n",
    "    value (any): The value to find.\n",
    "\n",
    "    Returns:\n",
    "    int: The index of the element if found, otherwise -1.\n",
    "    \"\"\"\n",
    "    try:\n",
    "        return arr.index(value)\n",
    "    except ValueError:\n",
    "        return -1\n",
    "\n",
    "# Test examples\n",
    "print(find_index([1, 2, 3, 4, 5], 3))  # Expected output: 2\n",
    "print(find_index([1, 2, 3, 4, 5], 6))  # Expected output: -1\n"
   ]
  },
  {
   "cell_type": "markdown",
   "id": "2578ca56",
   "metadata": {},
   "source": [
    "55. Convert Minutes to Hours and Minutes\n",
    "\n",
    "Problem Statement: Write a function to convert a given number of minutes into hours and minutes.\n",
    "\n",
    "Examples:\n",
    "\n",
    "    Input: 150\n",
    "    Expected Output: (2, 30)\n",
    "\n",
    "Constraints:\n",
    "\n",
    "    The input number should be a non-negative integer."
   ]
  },
  {
   "cell_type": "code",
   "execution_count": null,
   "id": "0124b788",
   "metadata": {},
   "outputs": [],
   "source": [
    "def minutes_to_hours_minutes(minutes):\n",
    "    \"\"\"\n",
    "    Convert a given number of minutes into hours and minutes.\n",
    "\n",
    "    Parameters:\n",
    "    minutes (int): The number of minutes.\n",
    "\n",
    "    Returns:\n",
    "    tuple: A tuple containing hours and minutes.\n",
    "    \"\"\"\n",
    "    hours = minutes // 60\n",
    "    remaining_minutes = minutes % 60\n",
    "    return hours, remaining_minutes\n",
    "\n",
    "# Test examples\n",
    "print(minutes_to_hours_minutes(150))  # Expected output: (2, 30)\n",
    "print(minutes_to_hours_minutes(45))   # Expected output: (0, 45)\n"
   ]
  },
  {
   "cell_type": "markdown",
   "id": "c3ecaf55",
   "metadata": {},
   "source": [
    "56. Check if an Array is Sorted in Ascending Order\n",
    "\n",
    "Problem Statement: Write a function to check if a given array is sorted in ascending order.\n",
    "\n",
    "Examples:\n",
    "\n",
    "    Input: [1, 2, 3, 4, 5]\n",
    "    Expected Output: True\n",
    "\n",
    "    Input: [1, 3, 2, 4, 5]\n",
    "    Expected Output: False\n",
    "\n",
    "Constraints:\n",
    "\n",
    "    The input list contains comparable elements."
   ]
  },
  {
   "cell_type": "code",
   "execution_count": null,
   "id": "b6869a94",
   "metadata": {},
   "outputs": [],
   "source": [
    "def is_sorted_ascending(arr):\n",
    "    \"\"\"\n",
    "    Check if a given array is sorted in ascending order.\n",
    "\n",
    "    Parameters:\n",
    "    arr (list): The input array.\n",
    "\n",
    "    Returns:\n",
    "    bool: True if the array is sorted in ascending order, False otherwise.\n",
    "    \"\"\"\n",
    "    return arr == sorted(arr)\n",
    "\n",
    "# Test examples\n",
    "print(is_sorted_ascending([1, 2, 3, 4, 5]))  # Expected output: True\n",
    "print(is_sorted_ascending([1, 3, 2, 4, 5]))  # Expected output: False\n"
   ]
  },
  {
   "cell_type": "markdown",
   "id": "2f916809",
   "metadata": {},
   "source": [
    "57. Remove a Specific Element from an Array\n",
    "\n",
    "Problem Statement: Write a function to remove a specific element from an array.\n",
    "\n",
    "Examples:\n",
    "\n",
    "    Input: [1, 2, 3, 4, 5], 3\n",
    "    Expected Output: [1, 2, 4, 5]\n",
    "\n",
    "Constraints:\n",
    "\n",
    "    The input list can contain any data types."
   ]
  },
  {
   "cell_type": "code",
   "execution_count": null,
   "id": "324aa373",
   "metadata": {},
   "outputs": [],
   "source": [
    "def remove_element(arr, element):\n",
    "    \"\"\"\n",
    "    Remove a specific element from an array.\n",
    "\n",
    "    Parameters:\n",
    "    arr (list): The input array.\n",
    "    element (any): The element to remove.\n",
    "\n",
    "    Returns:\n",
    "    list: The array with the specified element removed.\n",
    "    \"\"\"\n",
    "    return [x for x in arr if x != element]\n",
    "\n",
    "# Test examples\n",
    "print(remove_element([1, 2, 3, 4, 5], 3))  # Expected output: [1, 2, 4, 5]\n",
    "print(remove_element(['a', 'b', 'c', 'd'], 'c'))  # Expected output: ['a', 'b', 'd']\n"
   ]
  },
  {
   "cell_type": "markdown",
   "id": "f8bb763b",
   "metadata": {},
   "source": [
    "58. Truncate a String to a Given Length\n",
    "\n",
    "Problem Statement: Write a function to truncate a string to a given length.\n",
    "\n",
    "Examples:\n",
    "\n",
    "    Input: \"Hello, world!\", 5\n",
    "    Expected Output: \"Hello\"\n",
    "\n",
    "Constraints:\n",
    "\n",
    "    The input string can contain any printable characters.\n",
    "    The length should be a non-negative integer."
   ]
  },
  {
   "cell_type": "code",
   "execution_count": null,
   "id": "bf9a170b",
   "metadata": {},
   "outputs": [],
   "source": [
    "def truncate_string(s, length):\n",
    "    \"\"\"\n",
    "    Truncate a string to a given length.\n",
    "\n",
    "    Parameters:\n",
    "    s (str): The input string.\n",
    "    length (int): The length to truncate the string to.\n",
    "\n",
    "    Returns:\n",
    "    str: The truncated string.\n",
    "    \"\"\"\n",
    "    return s[:length]\n",
    "\n",
    "# Test examples\n",
    "print(truncate_string(\"Hello, world!\", 5))  # Expected output: \"Hello\"\n",
    "print(truncate_string(\"Python\", 3))  # Expected output: \"Pyt\"\n"
   ]
  },
  {
   "cell_type": "markdown",
   "id": "d0b14db0",
   "metadata": {},
   "source": [
    "59. Convert Video Length from Minutes to Seconds\n",
    "\n",
    "Problem Statement: Write a function to convert a given video length from minutes to seconds.\n",
    "\n",
    "Examples:\n",
    "\n",
    "    Input: 10\n",
    "    Expected Output: 600\n",
    "\n",
    "Constraints:\n",
    "\n",
    "    The input number should be a non-negative integer or float."
   ]
  },
  {
   "cell_type": "code",
   "execution_count": null,
   "id": "4b111c85",
   "metadata": {},
   "outputs": [],
   "source": [
    "def video_length_to_seconds(minutes):\n",
    "    \"\"\"\n",
    "    Convert a given video length from minutes to seconds.\n",
    "\n",
    "    Parameters:\n",
    "    minutes (int/float): The video length in minutes.\n",
    "\n",
    "    Returns:\n",
    "    int/float: The video length in seconds.\n",
    "    \"\"\"\n",
    "    return minutes * 60\n",
    "\n",
    "# Test examples\n",
    "print(video_length_to_seconds(10))  # Expected output: 600\n",
    "print(video_length_to_seconds(2.5))  # Expected output: 150\n"
   ]
  },
  {
   "cell_type": "markdown",
   "id": "35d01db1",
   "metadata": {},
   "source": [
    "60. Find the Difference Between Two Dates in Days\n",
    "\n",
    "Problem Statement: Write a function to find the difference between two dates in days.\n",
    "\n",
    "Examples:\n",
    "\n",
    "    Input: \"2023-01-01\", \"2023-01-10\"\n",
    "    Expected Output: 9\n",
    "\n",
    "Constraints:\n",
    "\n",
    "    The input dates are in the format \"YYYY-MM-DD\"."
   ]
  },
  {
   "cell_type": "code",
   "execution_count": null,
   "id": "41c69eac",
   "metadata": {},
   "outputs": [],
   "source": [
    "from datetime import datetime\n",
    "\n",
    "def days_between_dates(date1, date2):\n",
    "    \"\"\"\n",
    "    Find the difference between two dates in days.\n",
    "\n",
    "    Parameters:\n",
    "    date1 (str): The first date in the format \"YYYY-MM-DD\".\n",
    "    date2 (str): The second date in the format \"YYYY-MM-DD\".\n",
    "\n",
    "    Returns:\n",
    "    int: The number of days between the two dates.\n",
    "    \"\"\"\n",
    "    d1 = datetime.strptime(date1, \"%Y-%m-%d\")\n",
    "    d2 = datetime.strptime(date2, \"%Y-%m-%d\")\n",
    "    return (d2 - d1).days\n",
    "\n",
    "# Test examples\n",
    "print(days_between_dates(\"2023-01-01\", \"2023-01-10\"))  # Expected output: 9\n",
    "print(days_between_dates(\"2023-01-01\", \"2023-01-01\"))  # Expected output: 0\n"
   ]
  },
  {
   "cell_type": "markdown",
   "id": "bd15a795",
   "metadata": {},
   "source": [
    "61. Check if a String is a Valid Email Address\n",
    "\n",
    "Problem Statement: Write a function to check if a given string is a valid email address.\n",
    "\n",
    "Examples:\n",
    "\n",
    "    Input: \"test@example.com\"\n",
    "    Expected Output: True\n",
    "\n",
    "    Input: \"invalid-email\"\n",
    "    Expected Output: False\n",
    "\n",
    "Constraints:\n",
    "\n",
    "    The input string can contain any printable characters."
   ]
  },
  {
   "cell_type": "code",
   "execution_count": null,
   "id": "72db33bd",
   "metadata": {},
   "outputs": [],
   "source": [
    "import re\n",
    "\n",
    "def is_valid_email(email):\n",
    "    \"\"\"\n",
    "    Check if a given string is a valid email address.\n",
    "\n",
    "    Parameters:\n",
    "    email (str): The input string.\n",
    "\n",
    "    Returns:\n",
    "    bool: True if the string is a valid email address, False otherwise.\n",
    "    \"\"\"\n",
    "    pattern = r'^[a-zA-Z0-9_.+-]+@[a-zA-Z0-9-]+\\.[a-zA-Z0-9-.]+$'\n",
    "    return re.match(pattern, email) is not None\n",
    "\n",
    "# Test examples\n",
    "print(is_valid_email(\"test@example.com\"))  # Expected output: True\n",
    "print(is_valid_email(\"invalid-email\"))     # Expected output: False"
   ]
  },
  {
   "cell_type": "markdown",
   "id": "431fb81b",
   "metadata": {},
   "source": [
    "62. Convert Seconds to Minutes and Seconds\n",
    "\n",
    "Problem Statement: Write a function to convert a given number of seconds into minutes and seconds.\n",
    "\n",
    "Examples:\n",
    "\n",
    "    Input: 150\n",
    "    Expected Output: (2, 30)\n",
    "\n",
    "Constraints:\n",
    "\n",
    "    The input number should be a non-negative integer or float."
   ]
  },
  {
   "cell_type": "code",
   "execution_count": null,
   "id": "89dd67d3",
   "metadata": {},
   "outputs": [],
   "source": [
    "def seconds_to_minutes_seconds(seconds):\n",
    "    \"\"\"\n",
    "    Convert a given number of seconds into minutes and seconds.\n",
    "\n",
    "    Parameters:\n",
    "    seconds (int/float): The number of seconds.\n",
    "\n",
    "    Returns:\n",
    "    tuple: A tuple containing minutes and seconds.\n",
    "    \"\"\"\n",
    "    minutes = seconds // 60\n",
    "    remaining_seconds = seconds % 60\n",
    "    return int(minutes), remaining_seconds\n",
    "\n",
    "# Test examples\n",
    "print(seconds_to_minutes_seconds(150))  # Expected output: (2, 30)\n",
    "print(seconds_to_minutes_seconds(45))   # Expected output: (0, 45)"
   ]
  },
  {
   "cell_type": "markdown",
   "id": "263a29ed",
   "metadata": {},
   "source": [
    "63. Generate a Fibonacci Sequence\n",
    "\n",
    "Problem Statement: Write a function to generate the first n numbers of the Fibonacci sequence.\n",
    "\n",
    "Examples:\n",
    "\n",
    "    Input: 5\n",
    "    Expected Output: [0, 1, 1, 2, 3]\n",
    "\n",
    "Constraints:\n",
    "\n",
    "    The input number n should be a non-negative integer."
   ]
  },
  {
   "cell_type": "code",
   "execution_count": null,
   "id": "bd67f79a",
   "metadata": {},
   "outputs": [],
   "source": [
    "def generate_fibonacci(n):\n",
    "    \"\"\"\n",
    "    Generate the first n numbers of the Fibonacci sequence.\n",
    "\n",
    "    Parameters:\n",
    "    n (int): The number of Fibonacci numbers to generate.\n",
    "\n",
    "    Returns:\n",
    "    list: The list of the first n Fibonacci numbers.\n",
    "    \"\"\"\n",
    "    if n <= 0:\n",
    "        return []\n",
    "    sequence = [0, 1]\n",
    "    while len(sequence) < n:\n",
    "        sequence.append(sequence[-1] + sequence[-2])\n",
    "    return sequence[:n]\n",
    "\n",
    "# Test examples\n",
    "print(generate_fibonacci(5))  # Expected output: [0, 1, 1, 2, 3]\n",
    "print(generate_fibonacci(10)) # Expected output: [0, 1, 1, 2, 3, 5, 8, 13, 21, 34]"
   ]
  },
  {
   "cell_type": "markdown",
   "id": "ca639c2f",
   "metadata": {},
   "source": [
    "64. Spell Out a Word\n",
    "\n",
    "Problem Statement: Write a function to spell out a given word by returning a list of its characters.\n",
    "\n",
    "Examples:\n",
    "\n",
    "    Input: \"hello\"\n",
    "    Expected Output: ['h', 'e', 'l', 'l', 'o']\n",
    "\n",
    "Constraints:\n",
    "\n",
    "    The input string can contain any printable characters."
   ]
  },
  {
   "cell_type": "code",
   "execution_count": null,
   "id": "66e44ca5",
   "metadata": {},
   "outputs": [],
   "source": [
    "def spell_out_word(word):\n",
    "    \"\"\"\n",
    "    Spell out a given word by returning a list of its characters.\n",
    "\n",
    "    Parameters:\n",
    "    word (str): The input word.\n",
    "\n",
    "    Returns:\n",
    "    list: A list of the characters in the word.\n",
    "    \"\"\"\n",
    "    return list(word)\n",
    "\n",
    "# Test examples\n",
    "print(spell_out_word(\"hello\"))  # Expected output: ['h', 'e', 'l', 'l', 'o']\n",
    "print(spell_out_word(\"world\"))  # Expected output: ['w', 'o', 'r', 'l', 'd']"
   ]
  },
  {
   "cell_type": "markdown",
   "id": "62f5053d",
   "metadata": {},
   "source": [
    "65. Check if an Array Contains Only Unique Values\n",
    "\n",
    "Problem Statement: Write a function to check if an array contains only unique values.\n",
    "\n",
    "Examples:\n",
    "\n",
    "    Input: [1, 2, 3, 4, 5]\n",
    "    Expected Output: True\n",
    "\n",
    "    Input: [1, 2, 3, 3, 5]\n",
    "    Expected Output: False\n",
    "\n",
    "Constraints:\n",
    "\n",
    "The input list can contain any data types."
   ]
  },
  {
   "cell_type": "code",
   "execution_count": null,
   "id": "1a61508a",
   "metadata": {},
   "outputs": [],
   "source": [
    "def has_unique_values(arr):\n",
    "    \"\"\"\n",
    "    Check if an array contains only unique values.\n",
    "\n",
    "    Parameters:\n",
    "    arr (list): The input array.\n",
    "\n",
    "    Returns:\n",
    "    bool: True if the array contains only unique values, False otherwise.\n",
    "    \"\"\"\n",
    "    return len(arr) == len(set(arr))\n",
    "\n",
    "# Test examples\n",
    "print(has_unique_values([1, 2, 3, 4, 5]))  # Expected output: True\n",
    "print(has_unique_values([1, 2, 3, 3, 5]))  # Expected output: False"
   ]
  },
  {
   "cell_type": "markdown",
   "id": "6629a930",
   "metadata": {},
   "source": [
    "66. Get the Day of the Week from a Date\n",
    "Problem Statement: Write a function to get the day of the week from a given date.\n",
    "\n",
    "Examples:\n",
    "\n",
    "    Input: \"2023-07-19\"\n",
    "    Expected Output: \"Wednesday\"\n",
    "\n",
    "Constraints:\n",
    "\n",
    "    The input date is in the format \"YYYY-MM-DD\"."
   ]
  },
  {
   "cell_type": "code",
   "execution_count": null,
   "id": "f00815c8",
   "metadata": {},
   "outputs": [],
   "source": [
    "from datetime import datetime\n",
    "\n",
    "def get_day_of_week(date):\n",
    "    \"\"\"\n",
    "    Get the day of the week from a given date.\n",
    "\n",
    "    Parameters:\n",
    "    date (str): The date in the format \"YYYY-MM-DD\".\n",
    "\n",
    "    Returns:\n",
    "    str: The day of the week.\n",
    "    \"\"\"\n",
    "    days = [\"Monday\", \"Tuesday\", \"Wednesday\", \"Thursday\", \"Friday\", \"Saturday\", \"Sunday\"]\n",
    "    d = datetime.strptime(date, \"%Y-%m-%d\")\n",
    "    return days[d.weekday()]\n",
    "\n",
    "# Test examples\n",
    "print(get_day_of_week(\"2023-07-19\"))  # Expected output: \"Wednesday\"\n",
    "print(get_day_of_week(\"2023-01-01\"))  # Expected output: \"Sunday\"\n"
   ]
  },
  {
   "cell_type": "markdown",
   "id": "7dcdfbb3",
   "metadata": {},
   "source": [
    "67. Check if a Number is a Power of Two\n",
    "\n",
    "Problem Statement: Write a function to check if a given number is a power of two.\n",
    "\n",
    "Examples:\n",
    "\n",
    "    Input: 8\n",
    "    Expected Output: True\n",
    "\n",
    "    Input: 7\n",
    "    Expected Output: False\n",
    "\n",
    "Constraints:\n",
    "\n",
    "    The input number should be a non-negative integer."
   ]
  },
  {
   "cell_type": "code",
   "execution_count": null,
   "id": "d93c3329",
   "metadata": {},
   "outputs": [],
   "source": [
    "def is_power_of_two(n):\n",
    "    \"\"\"\n",
    "    Check if a given number is a power of two.\n",
    "\n",
    "    Parameters:\n",
    "    n (int): The input number.\n",
    "\n",
    "    Returns:\n",
    "    bool: True if the number is a power of two, False otherwise.\n",
    "    \"\"\"\n",
    "    if n <= 0:\n",
    "        return False\n",
    "    return (n & (n - 1)) == 0\n",
    "\n",
    "# Test examples\n",
    "print(is_power_of_two(8))  # Expected output: True\n",
    "print(is_power_of_two(7))  # Expected output: False"
   ]
  },
  {
   "cell_type": "markdown",
   "id": "96f72947",
   "metadata": {},
   "source": [
    "68. Generate Multiplication Table\n",
    "\n",
    "Problem Statement: Write a function to generate a multiplication table for a given number up to a specified range.\n",
    "\n",
    "Examples:\n",
    "\n",
    "    Input: 5, 10\n",
    "    Expected Output: [5, 10, 15, 20, 25, 30, 35, 40, 45, 50]\n",
    "\n",
    "Constraints:\n",
    "\n",
    "    The input number should be a non-negative integer.\n",
    "    The range should be a non-negative integer."
   ]
  },
  {
   "cell_type": "code",
   "execution_count": null,
   "id": "5f5a80f6",
   "metadata": {},
   "outputs": [],
   "source": [
    "def generate_multiplication_table(number, range_):\n",
    "    \"\"\"\n",
    "    Generate a multiplication table for a given number up to a specified range.\n",
    "\n",
    "    Parameters:\n",
    "    number (int): The number for which to generate the multiplication table.\n",
    "    range_ (int): The range up to which to generate the table.\n",
    "\n",
    "    Returns:\n",
    "    list: A list containing the multiplication table.\n",
    "    \"\"\"\n",
    "    return [number * i for i in range(1, range_ + 1)]\n",
    "\n",
    "# Test examples\n",
    "print(generate_multiplication_table(5, 10))  # Expected output: [5, 10, 15, 20, 25, 30, 35, 40, 45, 50]\n",
    "print(generate_multiplication_table(3, 5))   # Expected output: [3, 6, 9, 12, 15]"
   ]
  },
  {
   "cell_type": "markdown",
   "id": "f279d314",
   "metadata": {},
   "source": [
    "69. Shhh Whisperer\n",
    "\n",
    "Problem Statement: Write a function to convert a given string to lowercase and add \"shhh...\" to the beginning.\n",
    "\n",
    "Examples:\n",
    "\n",
    "    Input: \"HELLO\"\n",
    "    Expected Output: \"shhh... hello\"\n",
    "\n",
    "Constraints:\n",
    "\n",
    "    The input string can contain any printable characters."
   ]
  },
  {
   "cell_type": "code",
   "execution_count": null,
   "id": "a6b7582b",
   "metadata": {},
   "outputs": [],
   "source": [
    "def shhh_whisperer(s):\n",
    "    \"\"\"\n",
    "    Convert a given string to lowercase and add \"shhh...\" to the beginning.\n",
    "\n",
    "    Parameters:\n",
    "    s (str): The input string.\n",
    "\n",
    "    Returns:\n",
    "    str: The modified string.\n",
    "    \"\"\"\n",
    "    return \"shhh... \" + s.lower()\n",
    "\n",
    "# Test examples\n",
    "print(shhh_whisperer(\"HELLO\"))  # Expected output: \"shhh... hello\"\n",
    "print(shhh_whisperer(\"WORLD\"))  # Expected output: \"shhh... world\""
   ]
  },
  {
   "cell_type": "markdown",
   "id": "5e3438d1",
   "metadata": {},
   "source": [
    "70. Get the Month Name from a Date\n",
    "Problem Statement: Write a function to get the month name from a given date.\n",
    "\n",
    "Examples:\n",
    "\n",
    "    Input: \"2023-07-19\"\n",
    "    Expected Output: \"July\"\n",
    "\n",
    "Constraints:\n",
    "\n",
    "    The input date is in the format \"YYYY-MM-DD\"."
   ]
  },
  {
   "cell_type": "code",
   "execution_count": null,
   "id": "c64e4f33",
   "metadata": {},
   "outputs": [],
   "source": [
    "from datetime import datetime\n",
    "\n",
    "def get_month_name(date):\n",
    "    \"\"\"\n",
    "    Get the month name from a given date.\n",
    "\n",
    "    Parameters:\n",
    "    date (str): The date in the format \"YYYY-MM-DD\".\n",
    "\n",
    "    Returns:\n",
    "    str: The month name.\n",
    "    \"\"\"\n",
    "    d = datetime.strptime(date, \"%Y-%m-%d\")\n",
    "    return d.strftime(\"%B\")\n",
    "\n",
    "# Test examples\n",
    "print(get_month_name(\"2023-07-19\"))  # Expected output: \"July\"\n",
    "print(get_month_name(\"2023-01-01\"))  # Expected output: \"January\"\n"
   ]
  },
  {
   "cell_type": "markdown",
   "id": "5fac8f57",
   "metadata": {},
   "source": [
    "71. Find the Bomb\n",
    "\n",
    "Problem Statement: Write a function to find the index of the word \"bomb\" in a given string.\n",
    "\n",
    "Examples:\n",
    "\n",
    "    Input: \"This is a bomb.\"\n",
    "    Expected Output: 10\n",
    "\n",
    "Constraints:\n",
    "\n",
    "    The input string can contain any printable characters."
   ]
  },
  {
   "cell_type": "code",
   "execution_count": null,
   "id": "28272110",
   "metadata": {},
   "outputs": [],
   "source": [
    "def find_bomb(s):\n",
    "    \"\"\"\n",
    "    Find the index of the word \"bomb\" in a given string.\n",
    "\n",
    "    Parameters:\n",
    "    s (str): The input string.\n",
    "\n",
    "    Returns:\n",
    "    int: The index of the word \"bomb\" if found, -1 otherwise.\n",
    "    \"\"\"\n",
    "    return s.find(\"bomb\")\n",
    "\n",
    "# Test examples\n",
    "print(find_bomb(\"This is a bomb.\"))  # Expected output: 10\n",
    "print(find_bomb(\"No bombs here.\"))   # Expected output: -1"
   ]
  },
  {
   "cell_type": "markdown",
   "id": "7c59238a",
   "metadata": {},
   "source": [
    "72. Convert Feet to Meters\n",
    "\n",
    "Problem Statement: Write a function to convert a given length from feet to meters.\n",
    "\n",
    "Examples:\n",
    "\n",
    "    Input: 10\n",
    "    Expected Output: 3.048\n",
    "\n",
    "Constraints:\n",
    "\n",
    "    The input number should be a non-negative integer or float."
   ]
  },
  {
   "cell_type": "code",
   "execution_count": null,
   "id": "2622da33",
   "metadata": {},
   "outputs": [],
   "source": [
    "def feet_to_meters(feet):\n",
    "    \"\"\"\n",
    "    Convert a given length from feet to meters.\n",
    "\n",
    "    Parameters:\n",
    "    feet (int/float): The length in feet.\n",
    "\n",
    "    Returns:\n",
    "    float: The length in meters.\n",
    "    \"\"\"\n",
    "    return feet * 0.3048\n",
    "\n",
    "# Test examples\n",
    "print(feet_to_meters(10))  # Expected output: 3.048\n",
    "print(feet_to_meters(5.5)) # Expected output: 1.6764"
   ]
  },
  {
   "cell_type": "markdown",
   "id": "a7ab2ce8",
   "metadata": {},
   "source": [
    "73. Check if a Number is a Perfect Square\n",
    "Problem Statement: Write a function to check if a given number is a perfect square.\n",
    "\n",
    "Examples:\n",
    "\n",
    "    Input: 16\n",
    "    Expected Output: True\n",
    "\n",
    "    Input: 15\n",
    "    Expected Output: False\n",
    "\n",
    "Constraints:\n",
    "\n",
    "    The input number should be a non-negative integer."
   ]
  },
  {
   "cell_type": "code",
   "execution_count": null,
   "id": "8ba5d87e",
   "metadata": {},
   "outputs": [],
   "source": [
    "import math\n",
    "\n",
    "def is_perfect_square(n):\n",
    "    \"\"\"\n",
    "    Check if a given number is a perfect square.\n",
    "\n",
    "    Parameters:\n",
    "    n (int): The input number.\n",
    "\n",
    "    Returns:\n",
    "    bool: True if the number is a perfect square, False otherwise.\n",
    "    \"\"\"\n",
    "    if n < 0:\n",
    "        return False\n",
    "    return int(math.sqrt(n)) ** 2 == n\n",
    "\n",
    "# Test examples\n",
    "print(is_perfect_square(16))  # Expected output: True\n",
    "print(is_perfect_square(15))  # Expected output: False"
   ]
  },
  {
   "cell_type": "markdown",
   "id": "6b3f1570",
   "metadata": {},
   "source": [
    "74. Check if a String Contains Only Numbers\n",
    "\n",
    "Problem Statement: Write a function to check if a given string contains only numbers.\n",
    "\n",
    "Examples:\n",
    "\n",
    "    Input: \"12345\"\n",
    "    Expected Output: True\n",
    "\n",
    "    Input: \"123a5\"\n",
    "    Expected Output: False\n",
    "\n",
    "Constraints:\n",
    "\n",
    "    The input string can contain any printable characters."
   ]
  },
  {
   "cell_type": "code",
   "execution_count": null,
   "id": "05fb5614",
   "metadata": {},
   "outputs": [],
   "source": [
    "def is_numeric(s):\n",
    "    \"\"\"\n",
    "    Check if a given string contains only numbers.\n",
    "\n",
    "    Parameters:\n",
    "    s (str): The input string.\n",
    "\n",
    "    Returns:\n",
    "    bool: True if the string contains only numbers, False otherwise.\n",
    "    \"\"\"\n",
    "    return s.isdigit()\n",
    "\n",
    "# Test examples\n",
    "print(is_numeric(\"12345\"))  # Expected output: True\n",
    "print(is_numeric(\"123a5\"))  # Expected output: False"
   ]
  },
  {
   "cell_type": "markdown",
   "id": "cfdca64e",
   "metadata": {},
   "source": [
    "75. Get the Current Month (0-based index)\n",
    "\n",
    "Problem Statement: Write a function to get the current month as a 0-based index.\n",
    "\n",
    "Examples:\n",
    "    Input: (no input needed)\n",
    "    Expected Output: (depends on the current month)\n",
    "\n",
    "Constraints:\n",
    "\n",
    "    The function should use the current date."
   ]
  },
  {
   "cell_type": "code",
   "execution_count": null,
   "id": "929c63c1",
   "metadata": {},
   "outputs": [],
   "source": [
    "from datetime import datetime\n",
    "\n",
    "def get_current_month_index():\n",
    "    \"\"\"\n",
    "    Get the current month as a 0-based index.\n",
    "\n",
    "    Returns:\n",
    "    int: The current month as a 0-based index.\n",
    "    \"\"\"\n",
    "    return datetime.now().month - 1\n",
    "\n",
    "# Test example\n",
    "print(get_current_month_index())  # Expected output: (depends on the current month, e.g., 6 for July)"
   ]
  },
  {
   "cell_type": "markdown",
   "id": "aca0b8f7",
   "metadata": {},
   "source": [
    "76. Century from Year\n",
    "\n",
    "Problem Statement: Write a function to determine the century from a given year.\n",
    "\n",
    "Examples:\n",
    "\n",
    "    Input: 2023\n",
    "    Expected Output: 21\n",
    "\n",
    "    Input: 1900\n",
    "    Expected Output: 19\n",
    "\n",
    "Constraints:\n",
    "\n",
    "    The input year should be a positive integer."
   ]
  },
  {
   "cell_type": "code",
   "execution_count": null,
   "id": "1f20c0a4",
   "metadata": {},
   "outputs": [],
   "source": [
    "def century_from_year(year):\n",
    "    \"\"\"\n",
    "    Determine the century from a given year.\n",
    "\n",
    "    Parameters:\n",
    "    year (int): The input year.\n",
    "\n",
    "    Returns:\n",
    "    int: The century.\n",
    "    \"\"\"\n",
    "    return (year - 1) // 100 + 1\n",
    "\n",
    "# Test examples\n",
    "print(century_from_year(2023))  # Expected output: 21\n",
    "print(century_from_year(1900))  # Expected output: 19"
   ]
  },
  {
   "cell_type": "markdown",
   "id": "78fc1ef7",
   "metadata": {},
   "source": [
    "77. Check if a Number is a Prime Number\n",
    "\n",
    "Problem Statement: Write a function to check if a given number is a prime number.\n",
    "\n",
    "Examples:\n",
    "\n",
    "    Input: 7\n",
    "    Expected Output: True\n",
    "\n",
    "    Input: 10\n",
    "    Expected Output: False\n",
    "\n",
    "Constraints:\n",
    "\n",
    "    The input number should be a positive integer."
   ]
  },
  {
   "cell_type": "code",
   "execution_count": null,
   "id": "e80d38ca",
   "metadata": {},
   "outputs": [],
   "source": [
    "def is_prime(n):\n",
    "    \"\"\"\n",
    "    Check if a given number is a prime number.\n",
    "\n",
    "    Parameters:\n",
    "    n (int): The input number.\n",
    "\n",
    "    Returns:\n",
    "    bool: True if the number is a prime, False otherwise.\n",
    "    \"\"\"\n",
    "    if n <= 1:\n",
    "        return False\n",
    "    for i in range(2, int(n ** 0.5) + 1):\n",
    "        if n % i == 0:\n",
    "            return False\n",
    "    return True\n",
    "\n",
    "# Test examples\n",
    "print(is_prime(7))  # Expected output: True\n",
    "print(is_prime(10))  # Expected output: False"
   ]
  },
  {
   "cell_type": "markdown",
   "id": "eb820b3c",
   "metadata": {},
   "source": [
    "78. Get the Last N Elements of an Array\n",
    "\n",
    "Problem Statement: Write a function to get the last N elements of an array.\n",
    "\n",
    "Examples:\n",
    "\n",
    "    Input: [1, 2, 3, 4, 5], 2\n",
    "    Expected Output: [4, 5]\n",
    "Constraints:\n",
    "\n",
    "    The input array can contain any type of elements.\n",
    "    The input number N should be a non-negative integer."
   ]
  },
  {
   "cell_type": "code",
   "execution_count": null,
   "id": "e3b56e2b",
   "metadata": {},
   "outputs": [],
   "source": [
    "def get_last_n_elements(arr, n):\n",
    "    \"\"\"\n",
    "    Get the last N elements of an array.\n",
    "\n",
    "    Parameters:\n",
    "    arr (list): The input array.\n",
    "    n (int): The number of elements to retrieve.\n",
    "\n",
    "    Returns:\n",
    "    list: The last N elements of the array.\n",
    "    \"\"\"\n",
    "    return arr[-n:]\n",
    "\n",
    "# Test examples\n",
    "print(get_last_n_elements([1, 2, 3, 4, 5], 2))  # Expected output: [4, 5]\n",
    "print(get_last_n_elements([1, 2, 3, 4, 5], 0))  # Expected output: []"
   ]
  },
  {
   "cell_type": "markdown",
   "id": "ace98291",
   "metadata": {},
   "source": [
    "79. Convert Degrees to Radians\n",
    "\n",
    "Problem Statement: Write a function to convert a given angle from degrees to radians.\n",
    "\n",
    "Examples:\n",
    "\n",
    "    Input: 180\n",
    "    Expected Output: 3.14159\n",
    "\n",
    "Constraints:\n",
    "\n",
    "    The input number should be a non-negative integer or float."
   ]
  },
  {
   "cell_type": "code",
   "execution_count": null,
   "id": "873c90e4",
   "metadata": {},
   "outputs": [],
   "source": [
    "import math\n",
    "\n",
    "def degrees_to_radians(degrees):\n",
    "    \"\"\"\n",
    "    Convert a given angle from degrees to radians.\n",
    "\n",
    "    Parameters:\n",
    "    degrees (int/float): The angle in degrees.\n",
    "\n",
    "    Returns:\n",
    "    float: The angle in radians.\n",
    "    \"\"\"\n",
    "    return degrees * (math.pi / 180)\n",
    "\n",
    "# Test examples\n",
    "print(degrees_to_radians(180))  # Expected output: 3.14159\n",
    "print(degrees_to_radians(90))   # Expected output: 1.5708"
   ]
  },
  {
   "cell_type": "markdown",
   "id": "ff4971de",
   "metadata": {},
   "source": [
    "80. Binary Letter Converter\n",
    "\n",
    "Problem Statement: Write a function to convert a given string to its binary representation.\n",
    "\n",
    "Examples:\n",
    "\n",
    "    Input: \"abc\"\n",
    "    Expected Output: \"011000010110001001100011\"\n",
    "\n",
    "Constraints:\n",
    "\n",
    "    The input string can contain any printable characters."
   ]
  },
  {
   "cell_type": "code",
   "execution_count": null,
   "id": "31572256",
   "metadata": {},
   "outputs": [],
   "source": [
    "def string_to_binary(s):\n",
    "    \"\"\"\n",
    "    Convert a given string to its binary representation.\n",
    "\n",
    "    Parameters:\n",
    "    s (str): The input string.\n",
    "\n",
    "    Returns:\n",
    "    str: The binary representation of the string.\n",
    "    \"\"\"\n",
    "    return ''.join(format(ord(char), '08b') for char in s)\n",
    "\n",
    "# Test examples\n",
    "print(string_to_binary(\"abc\"))  # Expected output: \"011000010110001001100011\"\n",
    "print(string_to_binary(\"A\"))    # Expected output: \"01000001\"\n"
   ]
  },
  {
   "cell_type": "markdown",
   "id": "0869ff65",
   "metadata": {},
   "source": [
    "81. Find the Intersection of Two Arrays\n",
    "\n",
    "Problem Statement: Write a function to find the intersection of two arrays.\n",
    "\n",
    "Examples:\n",
    "\n",
    "    Input: [1, 2, 3, 4], [3, 4, 5, 6]\n",
    "    Expected Output: [3, 4]\n",
    "\n",
    "Constraints:\n",
    "\n",
    "    The input arrays can contain any type of elements."
   ]
  },
  {
   "cell_type": "code",
   "execution_count": null,
   "id": "316c3715",
   "metadata": {},
   "outputs": [],
   "source": [
    "def intersection(arr1, arr2):\n",
    "    \"\"\"\n",
    "    Find the intersection of two arrays.\n",
    "\n",
    "    Parameters:\n",
    "    arr1 (list): The first input array.\n",
    "    arr2 (list): The second input array.\n",
    "\n",
    "    Returns:\n",
    "    list: The intersection of the two arrays.\n",
    "    \"\"\"\n",
    "    return list(set(arr1) & set(arr2))\n",
    "\n",
    "# Test examples\n",
    "print(intersection([1, 2, 3, 4], [3, 4, 5, 6]))  # Expected output: [3, 4]\n",
    "print(intersection(['a', 'b', 'c'], ['b', 'c', 'd']))  # Expected output: ['b', 'c']"
   ]
  },
  {
   "cell_type": "markdown",
   "id": "2284646b",
   "metadata": {},
   "source": [
    "82. Convert Days to Years, Months, and Days\n",
    "\n",
    "Problem Statement: Write a function to convert a given number of days to years, months, and days.\n",
    "\n",
    "Examples:\n",
    "\n",
    "    Input: 400\n",
    "    Expected Output: (1, 1, 5)\n",
    "\n",
    "Constraints:\n",
    "\n",
    "    The input number should be a non-negative integer."
   ]
  },
  {
   "cell_type": "code",
   "execution_count": null,
   "id": "96df9ce8",
   "metadata": {},
   "outputs": [],
   "source": [
    "def days_to_years_months_days(days):\n",
    "    \"\"\"\n",
    "    Convert a given number of days to years, months, and days.\n",
    "\n",
    "    Parameters:\n",
    "    days (int): The number of days.\n",
    "\n",
    "    Returns:\n",
    "    tuple: A tuple containing the number of years, months, and days.\n",
    "    \"\"\"\n",
    "    years = days // 365\n",
    "    days %= 365\n",
    "    months = days // 30\n",
    "    days %= 30\n",
    "    return years, months, days\n",
    "\n",
    "# Test examples\n",
    "print(days_to_years_months_days(400))  # Expected output: (1, 1, 5)\n",
    "print(days_to_years_months_days(365))  # Expected output: (1, 0, 0)"
   ]
  },
  {
   "cell_type": "markdown",
   "id": "3ad9fb82",
   "metadata": {},
   "source": [
    "83. Check if an Object is Empty\n",
    "\n",
    "Problem Statement: Write a function to check if a given object (list, dictionary, set, etc.) is empty.\n",
    "\n",
    "Examples:\n",
    "\n",
    "    Input: []\n",
    "    Expected Output: True\n",
    "\n",
    "    Input: [1, 2, 3]\n",
    "    Expected Output: False\n",
    "\n",
    "Constraints:\n",
    "\n",
    "    The input can be any type of iterable (list, tuple, dictionary, set, etc.)."
   ]
  },
  {
   "cell_type": "code",
   "execution_count": null,
   "id": "1c7b7b41",
   "metadata": {},
   "outputs": [],
   "source": [
    "def is_empty(obj):\n",
    "    \"\"\"\n",
    "    Check if a given object (list, dictionary, set, etc.) is empty.\n",
    "\n",
    "    Parameters:\n",
    "    obj (iterable): The input object.\n",
    "\n",
    "    Returns:\n",
    "    bool: True if the object is empty, False otherwise.\n",
    "    \"\"\"\n",
    "    return len(obj) == 0\n",
    "\n",
    "# Test examples\n",
    "print(is_empty([]))  # Expected output: True\n",
    "print(is_empty([1, 2, 3]))  # Expected output: False"
   ]
  },
  {
   "cell_type": "markdown",
   "id": "4d1faacd",
   "metadata": {},
   "source": [
    "84. Count Decimal Places\n",
    "\n",
    "Problem Statement: Write a function to count the number of decimal places in a given number.\n",
    "\n",
    "Examples:\n",
    "\n",
    "    Input: 123.456\n",
    "    Expected Output: 3\n",
    "\n",
    "    Input: 123\n",
    "    Expected Output: 0\n",
    "\n",
    "Constraints:\n",
    "\n",
    "    The input number should be a non-negative integer or float."
   ]
  },
  {
   "cell_type": "code",
   "execution_count": null,
   "id": "01c885c1",
   "metadata": {},
   "outputs": [],
   "source": [
    "def count_decimal_places(num):\n",
    "    \"\"\"\n",
    "    Count the number of decimal places in a given number.\n",
    "\n",
    "    Parameters:\n",
    "    num (int/float): The input number.\n",
    "\n",
    "    Returns:\n",
    "    int: The number of decimal places.\n",
    "    \"\"\"\n",
    "    if isinstance(num, int):\n",
    "        return 0\n",
    "    return len(str(num).split('.')[1])\n",
    "\n",
    "# Test examples\n",
    "print(count_decimal_places(123.456))  # Expected output: 3\n",
    "print(count_decimal_places(123))  # Expected output: 0"
   ]
  },
  {
   "cell_type": "markdown",
   "id": "0b9f203a",
   "metadata": {},
   "source": [
    "85. Remove Whitespace from a String\n",
    "\n",
    "Problem Statement: Write a function to remove all whitespace from a given string.\n",
    "\n",
    "Examples:\n",
    "\n",
    "    Input: \" a b c \"\n",
    "    Expected Output: \"abc\"\n",
    "\n",
    "Constraints:\n",
    "\n",
    "    The input string can contain any printable characters."
   ]
  },
  {
   "cell_type": "code",
   "execution_count": null,
   "id": "8f5242fa",
   "metadata": {},
   "outputs": [],
   "source": [
    "def remove_whitespace(s):\n",
    "    \"\"\"\n",
    "    Remove all whitespace from a given string.\n",
    "\n",
    "    Parameters:\n",
    "    s (str): The input string.\n",
    "\n",
    "    Returns:\n",
    "    str: The string without any whitespace.\n",
    "    \"\"\"\n",
    "    return ''.join(s.split())\n",
    "\n",
    "# Test examples\n",
    "print(remove_whitespace(\" a b c \"))  # Expected output: \"abc\"\n",
    "print(remove_whitespace(\"   Hello   World   \"))  # Expected output: \"HelloWorld\""
   ]
  },
  {
   "cell_type": "markdown",
   "id": "6394113c",
   "metadata": {},
   "source": [
    "86. Find the Difference between Two Arrays\n",
    "\n",
    "Problem Statement: Write a function to find the difference between two arrays (elements in the first array but not in the second).\n",
    "\n",
    "Examples:\n",
    "\n",
    "    Input: [1, 2, 3, 4], [3, 4, 5, 6]\n",
    "    Expected Output: [1, 2]\n",
    "\n",
    "Constraints:\n",
    "    The input arrays can contain any type of elements."
   ]
  },
  {
   "cell_type": "code",
   "execution_count": null,
   "id": "54d219eb",
   "metadata": {},
   "outputs": [],
   "source": [
    "def array_difference(arr1, arr2):\n",
    "    \"\"\"\n",
    "    Find the difference between two arrays.\n",
    "\n",
    "    Parameters:\n",
    "    arr1 (list): The first input array.\n",
    "    arr2 (list): The second input array.\n",
    "\n",
    "    Returns:\n",
    "    list: The difference between the two arrays.\n",
    "    \"\"\"\n",
    "    return list(set(arr1) - set(arr2))\n",
    "\n",
    "# Test examples\n",
    "print(array_difference([1, 2, 3, 4], [3, 4, 5, 6]))  # Expected output: [1, 2]\n",
    "print(array_difference(['a', 'b', 'c'], ['b', 'c', 'd']))  # Expected output: ['a']\n"
   ]
  },
  {
   "cell_type": "markdown",
   "id": "d30aa81e",
   "metadata": {},
   "source": [
    "87. Check if a Number is a Fibonacci Number\n",
    "\n",
    "Problem Statement: Write a function to check if a given number is a Fibonacci number.\n",
    "\n",
    "Examples:\n",
    "\n",
    "    Input: 8\n",
    "    Expected Output: True\n",
    "\n",
    "    Input: 10\n",
    "    Expected Output: False\n",
    "\n",
    "Constraints:\n",
    "\n",
    "    The input number should be a non-negative integer."
   ]
  },
  {
   "cell_type": "code",
   "execution_count": null,
   "id": "1e70f774",
   "metadata": {},
   "outputs": [],
   "source": [
    "def is_fibonacci(n):\n",
    "    \"\"\"\n",
    "    Check if a given number is a Fibonacci number.\n",
    "\n",
    "    Parameters:\n",
    "    n (int): The input number.\n",
    "\n",
    "    Returns:\n",
    "    bool: True if the number is a Fibonacci number, False otherwise.\n",
    "    \"\"\"\n",
    "    def is_perfect_square(x):\n",
    "        s = int(x ** 0.5)\n",
    "        return s * s == x\n",
    "\n",
    "    return is_perfect_square(5 * n * n + 4) or is_perfect_square(5 * n * n - 4)\n",
    "\n",
    "# Test examples\n",
    "print(is_fibonacci(8))  # Expected output: True\n",
    "print(is_fibonacci(10))  # Expected output: False"
   ]
  },
  {
   "cell_type": "markdown",
   "id": "81cebe5f",
   "metadata": {},
   "source": [
    "88. Convert Hours to Minutes\n",
    "\n",
    "Problem Statement: Write a function to convert a given number of hours to minutes.\n",
    "\n",
    "Examples:\n",
    "\n",
    "    Input: 2\n",
    "    Expected Output: 120\n",
    "\n",
    "Constraints:\n",
    "\n",
    "    The input number should be a non-negative integer or float."
   ]
  },
  {
   "cell_type": "code",
   "execution_count": null,
   "id": "c63c04c4",
   "metadata": {},
   "outputs": [],
   "source": [
    "def hours_to_minutes(hours):\n",
    "    \"\"\"\n",
    "    Convert a given number of hours to minutes.\n",
    "\n",
    "    Parameters:\n",
    "    hours (int/float): The number of hours.\n",
    "\n",
    "    Returns:\n",
    "    int: The number of minutes.\n",
    "    \"\"\"\n",
    "    return int(hours * 60)\n",
    "\n",
    "# Test examples\n",
    "print(hours_to_minutes(2))  # Expected output: 120\n",
    "print(hours_to_minutes(1.5))  # Expected output: 90"
   ]
  },
  {
   "cell_type": "markdown",
   "id": "f2a12873",
   "metadata": {},
   "source": [
    "89. Get the First N Elements of an Array\n",
    "\n",
    "Problem Statement: Write a function to get the first N elements of an array.\n",
    "\n",
    "Examples:\n",
    "\n",
    "    Input: [1, 2, 3, 4, 5], 3\n",
    "    Expected Output: [1, 2, 3]\n",
    "\n",
    "Constraints:\n",
    "    The input array can contain any type of elements.\n",
    "    The input number N should be a non-negative integer."
   ]
  },
  {
   "cell_type": "code",
   "execution_count": null,
   "id": "228196e7",
   "metadata": {},
   "outputs": [],
   "source": [
    "def get_first_n_elements(arr, n):\n",
    "    \"\"\"\n",
    "    Get the first N elements of an array.\n",
    "\n",
    "    Parameters:\n",
    "    arr (list): The input array.\n",
    "    n (int): The number of elements to retrieve.\n",
    "\n",
    "    Returns:\n",
    "    list: The first N elements of the array.\n",
    "    \"\"\"\n",
    "    return arr[:n]\n",
    "\n",
    "# Test examples\n",
    "print(get_first_n_elements([1, 2, 3, 4, 5], 3))  # Expected output: [1, 2, 3]\n",
    "print(get_first_n_elements([1, 2, 3, 4, 5], 0))  # Expected output: []"
   ]
  },
  {
   "cell_type": "markdown",
   "id": "1af84b09",
   "metadata": {},
   "source": [
    "90. Check if a Number is Odd\n",
    "\n",
    "Problem Statement: Write a function to check if a given number is odd.\n",
    "\n",
    "Examples:\n",
    "\n",
    "    Input: 5\n",
    "    Expected Output: True\n",
    "\n",
    "    Input: 4\n",
    "    Expected Output: False\n",
    "\n",
    "Constraints:\n",
    "\n",
    "    The input number should be an integer."
   ]
  },
  {
   "cell_type": "code",
   "execution_count": null,
   "id": "7eac035b",
   "metadata": {},
   "outputs": [],
   "source": [
    "def is_odd(n):\n",
    "    \"\"\"\n",
    "    Check if a given number is odd.\n",
    "\n",
    "    Parameters:\n",
    "    n (int): The input number.\n",
    "\n",
    "    Returns:\n",
    "    bool: True if the number is odd, False otherwise.\n",
    "    \"\"\"\n",
    "    return n % 2 != 0\n",
    "\n",
    "# Test examples\n",
    "print(is_odd(5))  # Expected output: True\n",
    "print(is_odd(4))  # Expected output: False\n"
   ]
  },
  {
   "cell_type": "markdown",
   "id": "be8dc3b8",
   "metadata": {},
   "source": [
    "91. Calculate the Standard Deviation of an Array of Numbers\n",
    "\n",
    "Problem Statement: Write a function to calculate the standard deviation of an array of numbers.\n",
    "\n",
    "Examples:\n",
    "\n",
    "    Input: [1, 2, 3, 4, 5]\n",
    "    Expected Output: 1.4142135623730951\n",
    "\n",
    "Constraints:\n",
    "\n",
    "    The input array should contain numbers."
   ]
  },
  {
   "cell_type": "code",
   "execution_count": null,
   "id": "5b1ecf75",
   "metadata": {},
   "outputs": [],
   "source": [
    "import math\n",
    "\n",
    "def standard_deviation(arr):\n",
    "    \"\"\"\n",
    "    Calculate the standard deviation of an array of numbers.\n",
    "\n",
    "    Parameters:\n",
    "    arr (list): The input array of numbers.\n",
    "\n",
    "    Returns:\n",
    "    float: The standard deviation of the array.\n",
    "    \"\"\"\n",
    "    mean = sum(arr) / len(arr)\n",
    "    variance = sum((x - mean) ** 2 for x in arr) / len(arr)\n",
    "    return math.sqrt(variance)\n",
    "\n",
    "# Test examples\n",
    "print(standard_deviation([1, 2, 3, 4, 5]))  # Expected output: 1.4142135623730951\n",
    "print(standard_deviation([10, 12, 23, 23, 16, 23, 21, 16]))  # Expected output: 4.898979485566356"
   ]
  },
  {
   "cell_type": "markdown",
   "id": "7409272c",
   "metadata": {},
   "source": [
    "92. Check if a String Ends with a Specific Substring\n",
    "\n",
    "Problem Statement: Write a function to check if a given string ends with a specific substring.\n",
    "\n",
    "Examples:\n",
    "\n",
    "    Input: \"hello world\", \"world\"\n",
    "    Expected Output: True\n",
    "\n",
    "    Input: \"hello world\", \"hello\"\n",
    "    Expected Output: False\n",
    "\n",
    "Constraints:\n",
    "\n",
    "    The input string and substring can contain any printable characters."
   ]
  },
  {
   "cell_type": "code",
   "execution_count": null,
   "id": "a8a612d1",
   "metadata": {},
   "outputs": [],
   "source": [
    "def ends_with(s, substring):\n",
    "    \"\"\"\n",
    "    Check if a given string ends with a specific substring.\n",
    "\n",
    "    Parameters:\n",
    "    s (str): The input string.\n",
    "    substring (str): The substring to check.\n",
    "\n",
    "    Returns:\n",
    "    bool: True if the string ends with the substring, False otherwise.\n",
    "    \"\"\"\n",
    "    return s.endswith(substring)\n",
    "\n",
    "# Test examples\n",
    "print(ends_with(\"hello world\", \"world\"))  # Expected output: True\n",
    "print(ends_with(\"hello world\", \"hello\"))  # Expected output: False"
   ]
  },
  {
   "cell_type": "markdown",
   "id": "8f436554",
   "metadata": {},
   "source": [
    "93. Calculate the Sum of Squares of an Array\n",
    "\n",
    "Problem Statement: Write a function to calculate the sum of squares of an array of numbers.\n",
    "\n",
    "Examples:\n",
    "\n",
    "    Input: [1, 2, 3]\n",
    "    Expected Output: 14\n",
    "\n",
    "Constraints:\n",
    "\n",
    "    The input array should contain numbers."
   ]
  },
  {
   "cell_type": "code",
   "execution_count": null,
   "id": "0eccfd70",
   "metadata": {},
   "outputs": [],
   "source": [
    "def sum_of_squares(arr):\n",
    "    \"\"\"\n",
    "    Calculate the sum of squares of an array of numbers.\n",
    "\n",
    "    Parameters:\n",
    "    arr (list): The input array of numbers.\n",
    "\n",
    "    Returns:\n",
    "    int: The sum of squares of the array.\n",
    "    \"\"\"\n",
    "    return sum(x ** 2 for x in arr)\n",
    "\n",
    "# Test examples\n",
    "print(sum_of_squares([1, 2, 3]))  # Expected output: 14\n",
    "print(sum_of_squares([4, 5, 6]))  # Expected output: 77"
   ]
  },
  {
   "cell_type": "markdown",
   "id": "5c3c17ba",
   "metadata": {},
   "source": [
    "94. Calculate PI to N Decimal Places\n",
    "\n",
    "Problem Statement: Write a function to calculate PI to N decimal places.\n",
    "\n",
    "Examples:\n",
    "\n",
    "    Input: 5\n",
    "    Expected Output: 3.14159\n",
    "\n",
    "Constraints:\n",
    "\n",
    "    The input number N should be a non-negative integer."
   ]
  },
  {
   "cell_type": "code",
   "execution_count": null,
   "id": "6555259e",
   "metadata": {},
   "outputs": [],
   "source": [
    "def calculate_pi(n):\n",
    "    \"\"\"\n",
    "    Calculate PI to N decimal places.\n",
    "\n",
    "    Parameters:\n",
    "    n (int): The number of decimal places.\n",
    "\n",
    "    Returns:\n",
    "    float: PI to N decimal places.\n",
    "    \"\"\"\n",
    "    return round(math.pi, n)\n",
    "\n",
    "# Test examples\n",
    "print(calculate_pi(5))  # Expected output: 3.14159\n",
    "print(calculate_pi(2))  # Expected output: 3.14"
   ]
  },
  {
   "cell_type": "markdown",
   "id": "105004d0",
   "metadata": {},
   "source": [
    "95. Generate an Array of Random Numbers\n",
    "\n",
    "Problem Statement: Write a function to generate an array of random numbers of a given length.\n",
    "\n",
    "Examples:\n",
    "\n",
    "    Input: 5\n",
    "    Expected Output: [random numbers]\n",
    "\n",
    "Constraints:\n",
    "\n",
    "    The input number should be a non-negative integer."
   ]
  },
  {
   "cell_type": "code",
   "execution_count": null,
   "id": "3ca95ddd",
   "metadata": {},
   "outputs": [],
   "source": [
    "import random\n",
    "\n",
    "def generate_random_numbers(length):\n",
    "    \"\"\"\n",
    "    Generate an array of random numbers of a given length.\n",
    "\n",
    "    Parameters:\n",
    "    length (int): The length of the array.\n",
    "\n",
    "    Returns:\n",
    "    list: An array of random numbers.\n",
    "    \"\"\"\n",
    "    return [random.randint(0, 100) for _ in range(length)]\n",
    "\n",
    "# Test examples\n",
    "print(generate_random_numbers(5))  # Expected output: [random numbers]\n",
    "print(generate_random_numbers(3))  # Expected output: [random numbers]"
   ]
  },
  {
   "cell_type": "markdown",
   "id": "f2836d26",
   "metadata": {},
   "source": [
    "96. Join Path Portions\n",
    "\n",
    "Problem Statement: Write a function to join multiple path portions into a single path.\n",
    "\n",
    "Examples:\n",
    "\n",
    "    Input: \"home\", \"user\", \"documents\"\n",
    "    Expected Output: \"home/user/documents\"\n",
    "\n",
    "Constraints:\n",
    "\n",
    "    The input portions should be strings."
   ]
  },
  {
   "cell_type": "code",
   "execution_count": null,
   "id": "be61cf4d",
   "metadata": {},
   "outputs": [],
   "source": [
    "import os\n",
    "\n",
    "def join_path(*args):\n",
    "    \"\"\"\n",
    "    Join multiple path portions into a single path.\n",
    "\n",
    "    Parameters:\n",
    "    *args (str): The path portions.\n",
    "\n",
    "    Returns:\n",
    "    str: The joined path.\n",
    "    \"\"\"\n",
    "    return os.path.join(*args)\n",
    "\n",
    "# Test examples\n",
    "print(join_path(\"home\", \"user\", \"documents\"))  # Expected output: \"home/user/documents\"\n",
    "print(join_path(\"home\", \"user\"))  # Expected output: \"home/user\""
   ]
  },
  {
   "cell_type": "markdown",
   "id": "ecaa149a",
   "metadata": {},
   "source": [
    "97. Convert Seconds to Hours, Minutes, and Seconds\n",
    "Problem Statement: Write a function to convert a given number of seconds to hours, minutes, and seconds.\n",
    "\n",
    "Examples:\n",
    "\n",
    "    Input: 3661\n",
    "    Expected Output: (1, 1, 1)\n",
    "\n",
    "Constraints:\n",
    "\n",
    "    The input number should be a non-negative integer."
   ]
  },
  {
   "cell_type": "code",
   "execution_count": null,
   "id": "2d90a6af",
   "metadata": {},
   "outputs": [],
   "source": [
    "def seconds_to_hms(seconds):\n",
    "    \"\"\"\n",
    "    Convert a given number of seconds to hours, minutes, and seconds.\n",
    "\n",
    "    Parameters:\n",
    "    seconds (int): The number of seconds.\n",
    "\n",
    "    Returns:\n",
    "    tuple: The hours, minutes, and seconds.\n",
    "    \"\"\"\n",
    "    hours = seconds // 3600\n",
    "    minutes = (seconds % 3600) // 60\n",
    "    seconds = seconds % 60\n",
    "    return hours, minutes, seconds\n",
    "\n",
    "# Test examples\n",
    "print(seconds_to_hms(3661))  # Expected output: (1, 1, 1)\n",
    "print(seconds_to_hms(7322))  # Expected output: (2, 2, 2)"
   ]
  },
  {
   "cell_type": "markdown",
   "id": "a4c16991",
   "metadata": {},
   "source": [
    "98. Simple Calculator\n",
    "\n",
    "Problem Statement: Write a function to perform basic arithmetic operations (add, subtract, multiply, divide) on two numbers.\n",
    "\n",
    "Examples:\n",
    "\n",
    "    Input: 5, 3, \"add\"\n",
    "    Expected Output: 8\n",
    "\n",
    "    Input: 5, 3, \"subtract\"\n",
    "    Expected Output: 2\n",
    "\n",
    "Constraints:\n",
    "\n",
    "    The input numbers should be integers or floats.\n",
    "    The operation should be a string (\"add\", \"subtract\", \"multiply\", \"divide\")."
   ]
  },
  {
   "cell_type": "code",
   "execution_count": null,
   "id": "a8a5469a",
   "metadata": {},
   "outputs": [],
   "source": [
    "def simple_calculator(a, b, operation):\n",
    "    \"\"\"\n",
    "    Perform basic arithmetic operations on two numbers.\n",
    "\n",
    "    Parameters:\n",
    "    a (int/float): The first number.\n",
    "    b (int/float): The second number.\n",
    "    operation (str): The operation (\"add\", \"subtract\", \"multiply\", \"divide\").\n",
    "\n",
    "    Returns:\n",
    "    float: The result of the operation.\n",
    "    \"\"\"\n",
    "    if operation == \"add\":\n",
    "        return a + b\n",
    "    elif operation == \"subtract\":\n",
    "        return a - b\n",
    "    elif operation == \"multiply\":\n",
    "        return a * b\n",
    "    elif operation == \"divide\":\n",
    "        if b != 0:\n",
    "            return a / b\n",
    "        else:\n",
    "            return \"Cannot divide by zero\"\n",
    "    else:\n",
    "        return \"Invalid operation\"\n",
    "\n",
    "# Test examples\n",
    "print(simple_calculator(5, 3, \"add\"))  # Expected output: 8\n",
    "print(simple_calculator(5, 3, \"subtract\"))  # Expected output: 2\n",
    "print(simple_calculator(5, 3, \"multiply\"))  # Expected output: 15\n",
    "print(simple_calculator(5, 3, \"divide\"))  # Expected output: 1.6666666666666667\n",
    "print(simple_calculator(5, 0, \"divide\"))  # Expected output: Cannot divide by zero"
   ]
  },
  {
   "cell_type": "markdown",
   "id": "cc24e978",
   "metadata": {},
   "source": [
    "99. Find Nemo\n",
    "\n",
    "Problem Statement: Write a function to check if the string \"Nemo\" is present in a given string.\n",
    "\n",
    "Examples:\n",
    "\n",
    "    Input: \"I found Nemo in the sea\"\n",
    "    Expected Output: True\n",
    "\n",
    "    Input: \"There is no fish here\"\n",
    "    Expected Output: False\n",
    "\n",
    "Constraints:\n",
    "\n",
    "    The input should be a string."
   ]
  },
  {
   "cell_type": "code",
   "execution_count": null,
   "id": "82335e24",
   "metadata": {},
   "outputs": [],
   "source": [
    "def find_nemo(s):\n",
    "    \"\"\"\n",
    "    Check if the string \"Nemo\" is present in a given string.\n",
    "\n",
    "    Parameters:\n",
    "    s (str): The input string.\n",
    "\n",
    "    Returns:\n",
    "    bool: True if \"Nemo\" is present, False otherwise.\n",
    "    \"\"\"\n",
    "    return \"Nemo\" in s\n",
    "\n",
    "# Test examples\n",
    "print(find_nemo(\"I found Nemo in the sea\"))  # Expected output: True\n",
    "print(find_nemo(\"There is no fish here\"))  # Expected output: False"
   ]
  },
  {
   "cell_type": "markdown",
   "id": "f74861f7",
   "metadata": {},
   "source": [
    "100. Count the Occurrences of a Character in a String\n",
    "\n",
    "Problem Statement: Write a function to count the occurrences of a specific character in a given string.\n",
    "\n",
    "Examples:\n",
    "\n",
    "    Input: \"hello\", \"l\"\n",
    "    Expected Output: 2\n",
    "\n",
    "Constraints:\n",
    "\n",
    "    The input string and character can contain any printable characters."
   ]
  },
  {
   "cell_type": "code",
   "execution_count": null,
   "id": "bc94f4ec",
   "metadata": {},
   "outputs": [],
   "source": [
    "def count_occurrences(s, char):\n",
    "    \"\"\"\n",
    "    Count the occurrences of a specific character in a given string.\n",
    "\n",
    "    Parameters:\n",
    "    s (str): The input string.\n",
    "    char (str): The character to count.\n",
    "\n",
    "    Returns:\n",
    "    int: The number of occurrences of the character.\n",
    "    \"\"\"\n",
    "    return s.count(char)\n",
    "\n",
    "# Test examples\n",
    "print(count_occurrences(\"hello\", \"l\"))  # Expected output: 2\n",
    "print(count_occurrences(\"hello world\", \"o\"))  # Expected output: 2"
   ]
  },
  {
   "cell_type": "code",
   "execution_count": null,
   "id": "3fcb7dd4",
   "metadata": {},
   "outputs": [],
   "source": []
  },
  {
   "cell_type": "code",
   "execution_count": null,
   "id": "54f76a5a",
   "metadata": {},
   "outputs": [],
   "source": []
  },
  {
   "cell_type": "code",
   "execution_count": null,
   "id": "089bed15",
   "metadata": {},
   "outputs": [],
   "source": []
  },
  {
   "cell_type": "code",
   "execution_count": null,
   "id": "96361ab4",
   "metadata": {},
   "outputs": [],
   "source": []
  },
  {
   "cell_type": "code",
   "execution_count": null,
   "id": "6a6573a6",
   "metadata": {},
   "outputs": [],
   "source": []
  },
  {
   "cell_type": "code",
   "execution_count": null,
   "id": "01abe3d0",
   "metadata": {},
   "outputs": [],
   "source": []
  },
  {
   "cell_type": "code",
   "execution_count": null,
   "id": "f0468ef3",
   "metadata": {},
   "outputs": [],
   "source": []
  },
  {
   "cell_type": "code",
   "execution_count": null,
   "id": "95f55167",
   "metadata": {},
   "outputs": [],
   "source": []
  },
  {
   "cell_type": "code",
   "execution_count": null,
   "id": "ae9b0dac",
   "metadata": {},
   "outputs": [],
   "source": []
  },
  {
   "cell_type": "code",
   "execution_count": null,
   "id": "1aa0882e",
   "metadata": {},
   "outputs": [],
   "source": []
  },
  {
   "cell_type": "code",
   "execution_count": null,
   "id": "a0b30ec9",
   "metadata": {},
   "outputs": [],
   "source": []
  },
  {
   "cell_type": "code",
   "execution_count": null,
   "id": "39e7d47a",
   "metadata": {},
   "outputs": [],
   "source": []
  },
  {
   "cell_type": "code",
   "execution_count": null,
   "id": "c5104465",
   "metadata": {},
   "outputs": [],
   "source": []
  },
  {
   "cell_type": "code",
   "execution_count": null,
   "id": "ac1146c5",
   "metadata": {},
   "outputs": [],
   "source": []
  },
  {
   "cell_type": "code",
   "execution_count": null,
   "id": "d4d51eec",
   "metadata": {},
   "outputs": [],
   "source": []
  },
  {
   "cell_type": "code",
   "execution_count": null,
   "id": "7a4630ab",
   "metadata": {},
   "outputs": [],
   "source": []
  },
  {
   "cell_type": "code",
   "execution_count": null,
   "id": "9cba9f67",
   "metadata": {},
   "outputs": [],
   "source": []
  },
  {
   "cell_type": "code",
   "execution_count": null,
   "id": "9b9253f4",
   "metadata": {},
   "outputs": [],
   "source": []
  },
  {
   "cell_type": "code",
   "execution_count": null,
   "id": "d3b257fb",
   "metadata": {},
   "outputs": [],
   "source": []
  },
  {
   "cell_type": "code",
   "execution_count": null,
   "id": "22f490c5",
   "metadata": {},
   "outputs": [],
   "source": []
  },
  {
   "cell_type": "markdown",
   "id": "1e966297",
   "metadata": {},
   "source": []
  },
  {
   "cell_type": "code",
   "execution_count": null,
   "id": "ee07b617",
   "metadata": {},
   "outputs": [],
   "source": []
  },
  {
   "cell_type": "code",
   "execution_count": null,
   "id": "6a3ba9f9",
   "metadata": {},
   "outputs": [],
   "source": []
  },
  {
   "cell_type": "code",
   "execution_count": null,
   "id": "2b0b3658",
   "metadata": {},
   "outputs": [],
   "source": []
  },
  {
   "cell_type": "code",
   "execution_count": null,
   "id": "72410f7f",
   "metadata": {},
   "outputs": [],
   "source": []
  },
  {
   "cell_type": "code",
   "execution_count": null,
   "id": "ec23e262",
   "metadata": {},
   "outputs": [],
   "source": []
  },
  {
   "cell_type": "code",
   "execution_count": null,
   "id": "f034a15d",
   "metadata": {},
   "outputs": [],
   "source": []
  },
  {
   "cell_type": "markdown",
   "id": "250001a7",
   "metadata": {},
   "source": []
  }
 ],
 "metadata": {
  "kernelspec": {
   "display_name": "Python 3 (ipykernel)",
   "language": "python",
   "name": "python3"
  },
  "language_info": {
   "codemirror_mode": {
    "name": "ipython",
    "version": 3
   },
   "file_extension": ".py",
   "mimetype": "text/x-python",
   "name": "python",
   "nbconvert_exporter": "python",
   "pygments_lexer": "ipython3",
   "version": "3.11.5"
  }
 },
 "nbformat": 4,
 "nbformat_minor": 5
}
