{
 "cells": [
  {
   "cell_type": "markdown",
   "id": "d0c3030a",
   "metadata": {},
   "source": [
    "# 1. Introduction to Python"
   ]
  },
  {
   "cell_type": "markdown",
   "id": "da9af79c",
   "metadata": {},
   "source": [
    "## 1.1 What is Python?\n",
    "Python is a high-level, interpreted programming language known for its simplicity and readability. Created by Guido van Rossum and first released in 1991, Python has a design philosophy that emphasizes code readability with its notable use of significant whitespace. It supports multiple programming paradigms, including procedural, object-oriented, and functional programming.\n",
    "\n",
    "Key Features:\n",
    "\n",
    "    Easy to read and write\n",
    "    Dynamically typed\n",
    "    Interpreted language\n",
    "    Extensive standard library\n",
    "    Supports multiple programming paradigms\n",
    "    Large community and extensive libraries"
   ]
  },
  {
   "cell_type": "markdown",
   "id": "b5f45514",
   "metadata": {},
   "source": [
    "## 1.2 Installation and Setup\n",
    "Python can be installed from the official website (https://www.python.org/). It is available for all major operating systems, including Windows, macOS, and Linux.\n",
    "\n",
    "Steps to Install Python:\n",
    "\n",
    "    Go to the Python download page.\n",
    "    Download the installer for your operating system.\n",
    "    Run the installer and follow the instructions. Make sure to check the option to add Python to your system PATH.\n",
    "   \n",
    "Verifying Installation:\n",
    "\n",
    "Open a command prompt or terminal and type:\n",
    "    \n",
    "    python --version\n"
   ]
  },
  {
   "cell_type": "markdown",
   "id": "290cc031",
   "metadata": {},
   "source": [
    "## 1.3 Python IDEs and Editors\n",
    "An Integrated Development Environment (IDE) or a text editor helps in writing, running, and debugging code efficiently.\n",
    "\n",
    "Popular IDEs and Editors:\n",
    "\n",
    "    PyCharm: A full-featured IDE specifically for Python.\n",
    "    Visual Studio Code (VS Code): A lightweight, extensible code editor with Python support.\n",
    "    Jupyter Notebook: An interactive web application for running Python code, great for data analysis and visualization.\n",
    "    IDLE: The default Python IDE that comes with Python installation.\n",
    "    Sublime Text: A sophisticated text editor with powerful features."
   ]
  },
  {
   "cell_type": "markdown",
   "id": "f85dd57d",
   "metadata": {},
   "source": [
    "## 1.4 Writing and Running Your First Python Program\n",
    "Explanation:\n",
    "Creating a simple Python script involves writing code in a text editor or IDE and running it using the Python interpreter.\n",
    "\n",
    "Steps:\n",
    "\n",
    "    Open your preferred text editor or IDE.\n",
    "    Write a simple Python program. For example:"
   ]
  },
  {
   "cell_type": "code",
   "execution_count": 1,
   "id": "623b1e14",
   "metadata": {},
   "outputs": [
    {
     "name": "stdout",
     "output_type": "stream",
     "text": [
      "Hello, Python!\n"
     ]
    }
   ],
   "source": [
    "print(\"Hello, Python!\")"
   ]
  },
  {
   "cell_type": "markdown",
   "id": "ec3653c4",
   "metadata": {},
   "source": [
    "    Save the file with a .py extension, such as hello.py.\n",
    "    Open a terminal or command prompt.\n",
    "    Navigate to the directory where the file is saved.\n",
    "    Run the program using the Python interpreter:\n",
    "python hello.py"
   ]
  },
  {
   "cell_type": "markdown",
   "id": "94edd0a6",
   "metadata": {},
   "source": [
    "## 1.5 Basic Syntax and Structure\n",
    "Python syntax is designed to be readable and straightforward. Key aspects include indentation, comments, and basic statements."
   ]
  },
  {
   "cell_type": "markdown",
   "id": "f97b787a",
   "metadata": {},
   "source": [
    "### Indentation:\n",
    "    \n",
    "    Python uses indentation to define the structure and scope of code blocks. Consistent indentation is crucial."
   ]
  },
  {
   "cell_type": "code",
   "execution_count": 2,
   "id": "cc53f30b",
   "metadata": {},
   "outputs": [
    {
     "name": "stdout",
     "output_type": "stream",
     "text": [
      "True\n"
     ]
    }
   ],
   "source": [
    "if True:\n",
    "    print(\"True\")  # Indented block\n",
    "else:\n",
    "    print(\"False\")\n"
   ]
  },
  {
   "cell_type": "markdown",
   "id": "23066f96",
   "metadata": {},
   "source": [
    "### Comments:\n",
    "    Comments are used to explain code and are ignored by the interpreter."
   ]
  },
  {
   "cell_type": "code",
   "execution_count": 3,
   "id": "333363b3",
   "metadata": {},
   "outputs": [
    {
     "name": "stdout",
     "output_type": "stream",
     "text": [
      "Comments are ignored by the interpreter\n"
     ]
    }
   ],
   "source": [
    "# This is a single-line comment\n",
    "print(\"Comments are ignored by the interpreter\")"
   ]
  },
  {
   "cell_type": "markdown",
   "id": "6a5dbd8f",
   "metadata": {},
   "source": [
    "### Basic Statements:\n",
    "    Python statements include expressions, control flow statements, and function definitions."
   ]
  },
  {
   "cell_type": "code",
   "execution_count": 4,
   "id": "600b4929",
   "metadata": {},
   "outputs": [
    {
     "name": "stdout",
     "output_type": "stream",
     "text": [
      "5\n",
      "Positive number\n"
     ]
    }
   ],
   "source": [
    "x = 5  # Assignment statement\n",
    "print(x)  # Function call statement\n",
    "if x > 0:\n",
    "    print(\"Positive number\")  # Control flow statement"
   ]
  },
  {
   "cell_type": "markdown",
   "id": "d9ce7abe",
   "metadata": {},
   "source": [
    "# 2. Basic Concepts"
   ]
  },
  {
   "cell_type": "markdown",
   "id": "00c46b76",
   "metadata": {},
   "source": [
    "## 2.1 Variables and Data Types\n",
    "Variables are used to store data in a program. Python is dynamically typed, so you don't need to declare the type of a variable. Python supports several basic data types:\n",
    "\n",
    "    Integers (int): Whole numbers.\n",
    "    Floating-point numbers (float): Decimal numbers.\n",
    "    Strings (str): Sequence of characters.\n",
    "    Booleans (bool): True or False values.\n",
    "    Lists (list): Ordered, mutable collections of items.\n",
    "    Tuples (tuple): Ordered, immutable collections of items.\n",
    "    Dictionaries (dict): Collections of key-value pairs.\n",
    "    Sets (set): Unordered collections of unique items."
   ]
  },
  {
   "cell_type": "code",
   "execution_count": 5,
   "id": "58878543",
   "metadata": {},
   "outputs": [
    {
     "name": "stdout",
     "output_type": "stream",
     "text": [
      "Variable : 42 , data type : <class 'int'>\n",
      "Variable : 3.14159 , data type : <class 'float'>\n",
      "Variable : Hello, World! , data type : <class 'str'>\n",
      "Variable : True , data type : <class 'bool'>\n",
      "Variable : [1, 2, 3, 4, 5] , data type : <class 'list'>\n",
      "Variable : (1, 2, 3) , data type : <class 'tuple'>\n",
      "Variable : {'name': 'John', 'age': 25} , data type : <class 'dict'>\n"
     ]
    }
   ],
   "source": [
    "integer_var = 42\n",
    "float_var = 3.14159\n",
    "string_var = \"Hello, World!\"\n",
    "boolean_var = True\n",
    "list_var = [1, 2, 3, 4, 5]\n",
    "tuple_var = (1, 2, 3)\n",
    "dictionary_var = {\"name\": \"John\", \"age\": 25}\n",
    "\n",
    "print(f\"Variable : {integer_var} , data type : {type(integer_var)}\")\n",
    "print(f\"Variable : {float_var} , data type : {type(float_var)}\")\n",
    "print(f\"Variable : {string_var} , data type : {type(string_var)}\")\n",
    "print(f\"Variable : {boolean_var} , data type : {type(boolean_var)}\")\n",
    "print(f\"Variable : {list_var} , data type : {type(list_var)}\")\n",
    "print(f\"Variable : {tuple_var} , data type : {type(tuple_var)}\")\n",
    "print(f\"Variable : {dictionary_var} , data type : {type(dictionary_var)}\")"
   ]
  },
  {
   "cell_type": "markdown",
   "id": "88338d19",
   "metadata": {},
   "source": [
    "### 2.2 Basic Operators\n",
    "Operators are used to perform operations on variables and values. Python supports various types of operators:\n",
    "\n",
    "### Arithmetic Operators:\n",
    "    Addition (+): Adds two operands.\n",
    "    Subtraction (-): Subtracts the second operand from the first.\n",
    "    Multiplication (*): Multiplies two operands.\n",
    "    Division (/): Divides the first operand by the second.\n",
    "    Modulus (%): Returns the remainder of the division.\n",
    "    Exponentiation (**): Raises the first operand to the power of the second.\n",
    "    Floor Division (//): Divides the first operand by the second and returns the largest integer less than or equal to the result.\n",
    "\n",
    "### Comparison Operators:\n",
    "    Equal to (==): Checks if two operands are equal.\n",
    "    Not equal to (!=): Checks if two operands are not equal.\n",
    "    Greater than (>): Checks if the first operand is greater than the second.\n",
    "    Less than (<): Checks if the first operand is less than the second.\n",
    "    Greater than or equal to (>=): Checks if the first operand is greater than or equal to the second.\n",
    "    Less than or equal to (<=): Checks if the first operand is less than or equal to the second.\n",
    "\n",
    "### Logical Operators:\n",
    "    and: Returns True if both operands are true.\n",
    "    or: Returns True if at least one operand is true.\n",
    "    not: Returns True if the operand is false."
   ]
  },
  {
   "cell_type": "code",
   "execution_count": 6,
   "id": "e3b2d7fa",
   "metadata": {},
   "outputs": [
    {
     "name": "stdout",
     "output_type": "stream",
     "text": [
      "13\n",
      "7\n",
      "30\n",
      "3.3333333333333335\n",
      "1\n",
      "1000\n",
      "3\n",
      "False\n",
      "True\n",
      "True\n",
      "False\n",
      "True\n",
      "False\n",
      "False\n",
      "True\n",
      "False\n"
     ]
    }
   ],
   "source": [
    "# Arithmetic Operators\n",
    "a = 10\n",
    "b = 3\n",
    "print(a + b)  # Output: 13\n",
    "print(a - b)  # Output: 7\n",
    "print(a * b)  # Output: 30\n",
    "print(a / b)  # Output: 3.3333333333333335\n",
    "print(a % b)  # Output: 1\n",
    "print(a ** b)  # Output: 1000\n",
    "print(a // b)  # Output: 3\n",
    "\n",
    "# Comparison Operators\n",
    "print(a == b)  # Output: False\n",
    "print(a != b)  # Output: True\n",
    "print(a > b)   # Output: True\n",
    "print(a < b)   # Output: False\n",
    "print(a >= b)  # Output: True\n",
    "print(a <= b)  # Output: False\n",
    "\n",
    "# Logical Operators\n",
    "x = True\n",
    "y = False\n",
    "print(x and y)  # Output: False\n",
    "print(x or y)   # Output: True\n",
    "print(not x)    # Output: False\n"
   ]
  },
  {
   "cell_type": "markdown",
   "id": "7a2d1626",
   "metadata": {},
   "source": [
    "## 2.3 Control Flow Statements\n",
    "Control flow statements allow you to control the execution of code based on certain conditions.\n",
    "\n",
    "### If-Else Statements:\n",
    "    if statement: Executes a block of code if a condition is true.\n",
    "    else statement: Executes a block of code if the condition in the if statement is false.\n",
    "    elif statement: Checks additional conditions if the previous conditions are false.  "
   ]
  },
  {
   "cell_type": "code",
   "execution_count": 7,
   "id": "f4c87178",
   "metadata": {},
   "outputs": [
    {
     "name": "stdout",
     "output_type": "stream",
     "text": [
      "Variable: 10, Type: Integer\n"
     ]
    }
   ],
   "source": [
    "var = 10\n",
    "if isinstance(var, int):\n",
    "    var_type = \"Integer\"\n",
    "elif isinstance(var, float):\n",
    "    var_type = \"Float\"\n",
    "elif isinstance(var, str):\n",
    "    var_type = \"String\"\n",
    "elif isinstance(var, bool):\n",
    "    var_type = \"Boolean\"\n",
    "else:\n",
    "    var_type = \"Unknown\"\n",
    "\n",
    "print(f\"Variable: {var}, Type: {var_type}\")"
   ]
  },
  {
   "cell_type": "markdown",
   "id": "7bfb9440",
   "metadata": {},
   "source": [
    "## 2.4 Loops\n",
    "Loops are used to execute a block of code repeatedly.\n",
    "\n",
    "### For Loop:\n",
    "    Iterates over a sequence (such as a list, tuple, string, or range).\n",
    "\n",
    "### While Loop:\n",
    "    Repeats as long as a condition is true."
   ]
  },
  {
   "cell_type": "code",
   "execution_count": 8,
   "id": "50b75862",
   "metadata": {},
   "outputs": [
    {
     "name": "stdout",
     "output_type": "stream",
     "text": [
      "Enter the row number :5\n",
      "*\n",
      "**\n",
      "***\n",
      "****\n",
      "*****\n"
     ]
    }
   ],
   "source": [
    "# Nested loops to create a pattern\n",
    "rows = int(input(\"Enter the row number :\"))\n",
    "\n",
    "for i in range(rows):\n",
    "    for j in range(i + 1):\n",
    "        print(\"*\", end=\"\")\n",
    "    print()"
   ]
  },
  {
   "cell_type": "code",
   "execution_count": 9,
   "id": "f895023c",
   "metadata": {},
   "outputs": [
    {
     "name": "stdout",
     "output_type": "stream",
     "text": [
      "Enter the password: rachitmore\n",
      "Incorrect password. Try again.\n",
      "Enter the password: Rachit\n",
      "Incorrect password. Try again.\n",
      "Enter the password: rachit\n",
      "Access granted!\n"
     ]
    }
   ],
   "source": [
    "# User input validation using a while loop\n",
    "password = \"rachit\"\n",
    "input_password = input(\"Enter the password: \")\n",
    "\n",
    "while input_password != password:\n",
    "    print(\"Incorrect password. Try again.\")\n",
    "    input_password = input(\"Enter the password: \")\n",
    "\n",
    "print(\"Access granted!\")"
   ]
  },
  {
   "cell_type": "markdown",
   "id": "03faa121",
   "metadata": {},
   "source": [
    "## 2.5 Basic Input and Output\n",
    "Python provides functions for reading input from the user and displaying output.\n",
    "\n",
    "### Input:\n",
    "    The input() function reads a string from user input.\n",
    "\n",
    "### Output:\n",
    "    The print() function displays output to the console."
   ]
  },
  {
   "cell_type": "code",
   "execution_count": 10,
   "id": "8c6dc291",
   "metadata": {},
   "outputs": [
    {
     "name": "stdout",
     "output_type": "stream",
     "text": [
      "Enter your name: Rachit More\n",
      "Hello, Rachit More!\n",
      "I am 26 years old.\n"
     ]
    }
   ],
   "source": [
    "# Input\n",
    "name = input(\"Enter your name: \")\n",
    "print(\"Hello, \" + name + \"!\")\n",
    "\n",
    "# Output\n",
    "age = 26\n",
    "print(\"I am\", age, \"years old.\")\n"
   ]
  },
  {
   "cell_type": "markdown",
   "id": "fc370030",
   "metadata": {},
   "source": [
    "# 3. Data Structures"
   ]
  },
  {
   "cell_type": "markdown",
   "id": "2e2ca761",
   "metadata": {},
   "source": [
    "## 3.1 Lists\n",
    "Lists are ordered, mutable collections of items. They can contain elements of different data types and can be nested."
   ]
  },
  {
   "cell_type": "code",
   "execution_count": 11,
   "id": "697bda45",
   "metadata": {},
   "outputs": [],
   "source": [
    "# Creating Lists:\n",
    "\n",
    "# Empty list\n",
    "my_list = []\n",
    "\n",
    "# List with elements\n",
    "my_list = [1, 2, 3, 4, 5]\n",
    "\n",
    "# List with mixed data types\n",
    "my_list = [1, \"Hello\", 3.14, True]\n"
   ]
  },
  {
   "cell_type": "code",
   "execution_count": 12,
   "id": "ea8c43ce",
   "metadata": {},
   "outputs": [
    {
     "name": "stdout",
     "output_type": "stream",
     "text": [
      "10\n",
      "50\n",
      "[20, 30]\n"
     ]
    }
   ],
   "source": [
    "# Accessing Elements:\n",
    "\n",
    "my_list = [10, 20, 30, 40, 50]\n",
    "print(my_list[0])  # Output: 10\n",
    "print(my_list[-1]) # Output: 50\n",
    "print(my_list[1:3]) # Output: [20, 30]\n"
   ]
  },
  {
   "cell_type": "code",
   "execution_count": 13,
   "id": "d9845427",
   "metadata": {},
   "outputs": [
    {
     "name": "stdout",
     "output_type": "stream",
     "text": [
      "[15, 20, 30, 40, 50]\n",
      "[15, 20, 30, 40, 50, 60]\n",
      "[15, 20, 40, 50, 60]\n"
     ]
    }
   ],
   "source": [
    "# Modifying Lists:\n",
    "\n",
    "my_list = [10, 20, 30, 40, 50]\n",
    "my_list[0] = 15  # Change the first element\n",
    "print(my_list)  # Output: [15, 20, 30, 40, 50]\n",
    "\n",
    "my_list.append(60)  # Add an element to the end\n",
    "print(my_list)  # Output: [15, 20, 30, 40, 50, 60]\n",
    "\n",
    "my_list.remove(30)  # Remove an element\n",
    "print(my_list)  # Output: [15, 20, 40, 50, 60]\n"
   ]
  },
  {
   "cell_type": "code",
   "execution_count": 14,
   "id": "4493ad77",
   "metadata": {},
   "outputs": [
    {
     "name": "stdout",
     "output_type": "stream",
     "text": [
      "5\n",
      "15\n",
      "1\n",
      "5\n"
     ]
    }
   ],
   "source": [
    "# Common List Operations:\n",
    "\n",
    "my_list = [1, 2, 3, 4, 5]\n",
    "print(len(my_list))   # Output: 5 (length of the list)\n",
    "print(sum(my_list))   # Output: 15 (sum of elements)\n",
    "print(min(my_list))   # Output: 1 (minimum element)\n",
    "print(max(my_list))   # Output: 5 (maximum element)\n"
   ]
  },
  {
   "cell_type": "markdown",
   "id": "25fb1727",
   "metadata": {},
   "source": [
    "## 3.2 Tuples\n",
    "Tuples are ordered, immutable collections of items. They are similar to lists but cannot be modified after creation."
   ]
  },
  {
   "cell_type": "code",
   "execution_count": 15,
   "id": "c5f6cf2f",
   "metadata": {},
   "outputs": [],
   "source": [
    "# Creating Tuples:\n",
    "\n",
    "# Empty tuple\n",
    "my_tuple = ()\n",
    "\n",
    "# Tuple with elements\n",
    "my_tuple = (1, 2, 3, 4, 5)\n",
    "\n",
    "# Tuple with mixed data types\n",
    "my_tuple = (1, \"Hello\", 3.14, True)\n"
   ]
  },
  {
   "cell_type": "code",
   "execution_count": 16,
   "id": "53610989",
   "metadata": {},
   "outputs": [
    {
     "name": "stdout",
     "output_type": "stream",
     "text": [
      "10\n",
      "50\n",
      "(20, 30)\n"
     ]
    }
   ],
   "source": [
    "# Accessing Elements:\n",
    "\n",
    "my_tuple = (10, 20, 30, 40, 50)\n",
    "print(my_tuple[0])  # Output: 10\n",
    "print(my_tuple[-1]) # Output: 50\n",
    "print(my_tuple[1:3]) # Output: (20, 30)\n"
   ]
  },
  {
   "cell_type": "code",
   "execution_count": 17,
   "id": "e165bf24",
   "metadata": {},
   "outputs": [
    {
     "name": "stdout",
     "output_type": "stream",
     "text": [
      "5\n",
      "15\n",
      "1\n",
      "5\n"
     ]
    }
   ],
   "source": [
    "# Common Tuple Operations:\n",
    "\n",
    "my_tuple = (1, 2, 3, 4, 5)\n",
    "print(len(my_tuple))   # Output: 5 (length of the tuple)\n",
    "print(sum(my_tuple))   # Output: 15 (sum of elements)\n",
    "print(min(my_tuple))   # Output: 1 (minimum element)\n",
    "print(max(my_tuple))   # Output: 5 (maximum element)\n"
   ]
  },
  {
   "cell_type": "markdown",
   "id": "c04993e4",
   "metadata": {},
   "source": [
    "## 3.3 Sets\n",
    "Sets are unordered collections of unique items. They are useful for storing elements where duplicates are not allowed."
   ]
  },
  {
   "cell_type": "code",
   "execution_count": 18,
   "id": "1df23e52",
   "metadata": {},
   "outputs": [],
   "source": [
    "# Creating Sets:\n",
    "\n",
    "# Empty set\n",
    "my_set = set()\n",
    "\n",
    "# Set with elements\n",
    "my_set = {1, 2, 3, 4, 5}\n",
    "\n",
    "# Set with mixed data types\n",
    "my_set = {1, \"Hello\", 3.14, True}"
   ]
  },
  {
   "cell_type": "code",
   "execution_count": 19,
   "id": "2607d9d1",
   "metadata": {},
   "outputs": [
    {
     "name": "stdout",
     "output_type": "stream",
     "text": [
      "{50, 20, 40, 10, 60, 30}\n",
      "{50, 20, 40, 10, 60}\n"
     ]
    }
   ],
   "source": [
    "# Modifying Sets:\n",
    "\n",
    "my_set = {10, 20, 30, 40, 50}\n",
    "my_set.add(60)  # Add an element\n",
    "print(my_set)  # Output: {10, 20, 30, 40, 50, 60}\n",
    "\n",
    "my_set.remove(30)  # Remove an element\n",
    "print(my_set)  # Output: {10, 20, 40, 50, 60}"
   ]
  },
  {
   "cell_type": "code",
   "execution_count": 20,
   "id": "5bdeb887",
   "metadata": {},
   "outputs": [
    {
     "name": "stdout",
     "output_type": "stream",
     "text": [
      "{1, 2, 3, 4, 5, 6, 7, 8}\n",
      "{4, 5}\n",
      "{1, 2, 3}\n",
      "{1, 2, 3, 6, 7, 8}\n"
     ]
    }
   ],
   "source": [
    "# Common Set Operations:\n",
    "\n",
    "set1 = {1, 2, 3, 4, 5}\n",
    "set2 = {4, 5, 6, 7, 8}\n",
    "\n",
    "print(set1 | set2)  # Union: {1, 2, 3, 4, 5, 6, 7, 8}\n",
    "print(set1 & set2)  # Intersection: {4, 5}\n",
    "print(set1 - set2)  # Difference: {1, 2, 3}\n",
    "print(set1 ^ set2)  # Symmetric Difference: {1, 2, 3, 6, 7, 8}"
   ]
  },
  {
   "cell_type": "markdown",
   "id": "080c99b3",
   "metadata": {},
   "source": [
    "## 3.4 Dictionaries\n",
    "Dictionaries are unordered collections of key-value pairs. Keys must be unique and immutable, while values can be of any data type."
   ]
  },
  {
   "cell_type": "code",
   "execution_count": 21,
   "id": "d6258b71",
   "metadata": {},
   "outputs": [],
   "source": [
    "# Creating Dictionaries:\n",
    "\n",
    "# Empty dictionary\n",
    "my_dict = {}\n",
    "\n",
    "# Dictionary with key-value pairs\n",
    "my_dict = {\"name\": \"Alice\", \"age\": 25, \"city\": \"New York\"}"
   ]
  },
  {
   "cell_type": "code",
   "execution_count": 22,
   "id": "efc7088d",
   "metadata": {},
   "outputs": [
    {
     "name": "stdout",
     "output_type": "stream",
     "text": [
      "Alice\n",
      "{'name': 'Alice', 'age': 26, 'city': 'New York'}\n",
      "{'name': 'Alice', 'age': 26, 'city': 'New York', 'email': 'alice@example.com'}\n",
      "{'name': 'Alice', 'age': 26, 'email': 'alice@example.com'}\n"
     ]
    }
   ],
   "source": [
    "# Accessing and Modifying Elements:\n",
    "\n",
    "my_dict = {\"name\": \"Alice\", \"age\": 25, \"city\": \"New York\"}\n",
    "\n",
    "# Accessing elements\n",
    "print(my_dict[\"name\"])  # Output: Alice\n",
    "\n",
    "# Modifying elements\n",
    "my_dict[\"age\"] = 26\n",
    "print(my_dict)  # Output: {'name': 'Alice', 'age': 26, 'city': 'New York'}\n",
    "\n",
    "# Adding new elements\n",
    "my_dict[\"email\"] = \"alice@example.com\"\n",
    "print(my_dict)  # Output: {'name': 'Alice', 'age': 26, 'city': 'New York', 'email': 'alice@example.com'}\n",
    "\n",
    "# Removing elements\n",
    "del my_dict[\"city\"]\n",
    "print(my_dict)  # Output: {'name': 'Alice', 'age': 26, 'email': 'alice@example.com'}\n"
   ]
  },
  {
   "cell_type": "code",
   "execution_count": 23,
   "id": "cd64b68d",
   "metadata": {},
   "outputs": [
    {
     "name": "stdout",
     "output_type": "stream",
     "text": [
      "dict_keys(['name', 'age', 'city'])\n",
      "dict_values(['Alice', 25, 'New York'])\n",
      "dict_items([('name', 'Alice'), ('age', 25), ('city', 'New York')])\n"
     ]
    }
   ],
   "source": [
    "# Common Dictionary Operations:\n",
    "\n",
    "my_dict = {\"name\": \"Alice\", \"age\": 25, \"city\": \"New York\"}\n",
    "\n",
    "print(my_dict.keys())   # Output: dict_keys(['name', 'age', 'city']) (list of keys)\n",
    "print(my_dict.values()) # Output: dict_values(['Alice', 25, 'New York']) (list of values)\n",
    "print(my_dict.items())  # Output: dict_items([('name', 'Alice'), ('age', 25), ('city', 'New York')]) (list of key-value pairs)\n"
   ]
  },
  {
   "cell_type": "markdown",
   "id": "ae73f39f",
   "metadata": {},
   "source": [
    "## 3.5 Basic List Comprehensions\n",
    "List comprehensions provide a concise way to create lists. They consist of brackets containing an expression followed by a for clause, and optionally, one or more if clauses."
   ]
  },
  {
   "cell_type": "code",
   "execution_count": 24,
   "id": "7e958067",
   "metadata": {},
   "outputs": [
    {
     "name": "stdout",
     "output_type": "stream",
     "text": [
      "[0, 1, 4, 9, 16, 25, 36, 49, 64, 81]\n",
      "[0, 2, 4, 6, 8]\n",
      "['H', 'E', 'L', 'L', 'O']\n"
     ]
    }
   ],
   "source": [
    "# Creating Lists with List Comprehensions:\n",
    "\n",
    "# List of squares of numbers from 0 to 9\n",
    "squares = [x**2 for x in range(10)]\n",
    "print(squares)  # Output: [0, 1, 4, 9, 16, 25, 36, 49, 64, 81]\n",
    "\n",
    "# List of even numbers from 0 to 9\n",
    "evens = [x for x in range(10) if x % 2 == 0]\n",
    "print(evens)  # Output: [0, 2, 4, 6, 8]\n",
    "\n",
    "# List of uppercase characters in a string\n",
    "chars = \"hello\"\n",
    "uppercase_chars = [char.upper() for char in chars]\n",
    "print(uppercase_chars)  # Output: ['H', 'E', 'L', 'L', 'O']"
   ]
  },
  {
   "cell_type": "markdown",
   "id": "38a73594",
   "metadata": {},
   "source": [
    "# 4. Functions"
   ]
  },
  {
   "cell_type": "markdown",
   "id": "f45b67e4",
   "metadata": {},
   "source": [
    "## 4.1 Defining Functions\n",
    "Functions are blocks of reusable code that perform a specific task. They help in organizing code, making it more readable and maintainable."
   ]
  },
  {
   "cell_type": "code",
   "execution_count": 25,
   "id": "f3a44fd3",
   "metadata": {},
   "outputs": [
    {
     "name": "stdout",
     "output_type": "stream",
     "text": [
      "Hello, Rachit!\n"
     ]
    }
   ],
   "source": [
    "# Function definition\n",
    "def greet(name):\n",
    "    \"\"\"This function greets a person by name.\"\"\"\n",
    "    print(\"Hello, \" + name + \"!\")\n",
    "\n",
    "# Function call\n",
    "greet(\"Rachit\")"
   ]
  },
  {
   "cell_type": "markdown",
   "id": "71d071c7",
   "metadata": {},
   "source": [
    "## 4.2 Function Arguments\n",
    "Python functions can take different types of arguments, including positional, keyword, default, and arbitrary arguments.\n",
    "\n",
    "### Positional Arguments:\n",
    "Arguments that are passed to the function in the same order as defined."
   ]
  },
  {
   "cell_type": "code",
   "execution_count": 26,
   "id": "ed07067d",
   "metadata": {},
   "outputs": [
    {
     "name": "stdout",
     "output_type": "stream",
     "text": [
      "5\n"
     ]
    }
   ],
   "source": [
    "def add(a, b):\n",
    "    return a + b\n",
    "\n",
    "print(add(2, 3))  # Output: 5"
   ]
  },
  {
   "cell_type": "markdown",
   "id": "5795178a",
   "metadata": {},
   "source": [
    "### Keyword Arguments:\n",
    "Arguments that are passed to the function with a key-value pair."
   ]
  },
  {
   "cell_type": "code",
   "execution_count": 27,
   "id": "10db6d9d",
   "metadata": {},
   "outputs": [
    {
     "name": "stdout",
     "output_type": "stream",
     "text": [
      "My name is Rachit and I am 26 years old.\n"
     ]
    }
   ],
   "source": [
    "def introduce(name, age):\n",
    "    return f\"My name is {name} and I am {age} years old.\"\n",
    "\n",
    "print(introduce(name=\"Rachit\", age=26))  # Output: My name is Rachit and I am 26 years old."
   ]
  },
  {
   "cell_type": "markdown",
   "id": "1f07b120",
   "metadata": {},
   "source": [
    "### Default Arguments:\n",
    "Arguments that assume a default value if not provided."
   ]
  },
  {
   "cell_type": "code",
   "execution_count": 28,
   "id": "cd1d516d",
   "metadata": {},
   "outputs": [
    {
     "name": "stdout",
     "output_type": "stream",
     "text": [
      "Hello, Bob!\n",
      "Good morning, Bob!\n"
     ]
    }
   ],
   "source": [
    "def greet(name, message=\"Hello\"):\n",
    "    return f\"{message}, {name}!\"\n",
    "\n",
    "print(greet(\"Bob\"))  # Output: Hello, Bob!\n",
    "print(greet(\"Bob\", \"Good morning\"))  # Output: Good morning, Bob!\n"
   ]
  },
  {
   "cell_type": "markdown",
   "id": "611cb73a",
   "metadata": {},
   "source": [
    "### Arbitrary Arguments:\n",
    "Arguments that allow a variable number of arguments using *args for positional and **kwargs for keyword arguments."
   ]
  },
  {
   "cell_type": "code",
   "execution_count": 29,
   "id": "f9cdb9b7",
   "metadata": {},
   "outputs": [
    {
     "name": "stdout",
     "output_type": "stream",
     "text": [
      "Positional arguments: (1, 2, 3)\n",
      "Keyword arguments: {'a': 4, 'b': 5}\n"
     ]
    }
   ],
   "source": [
    "def summarize(*args, **kwargs):\n",
    "    print(\"Positional arguments:\", args)\n",
    "    print(\"Keyword arguments:\", kwargs)\n",
    "\n",
    "summarize(1, 2, 3, a=4, b=5)  \n",
    "# Output: \n",
    "# Positional arguments: (1, 2, 3)\n",
    "# Keyword arguments: {'a': 4, 'b': 5}\n"
   ]
  },
  {
   "cell_type": "markdown",
   "id": "f27e3555",
   "metadata": {},
   "source": [
    "## 4.3 Return Values\n",
    "Functions can return values using the return statement. If no return statement is present, the function returns None."
   ]
  },
  {
   "cell_type": "code",
   "execution_count": 30,
   "id": "c10fede7",
   "metadata": {},
   "outputs": [
    {
     "name": "stdout",
     "output_type": "stream",
     "text": [
      "16\n",
      "None\n"
     ]
    }
   ],
   "source": [
    "def square(x):\n",
    "    return x ** 2\n",
    "\n",
    "result = square(4)\n",
    "print(result)  # Output: 16\n",
    "\n",
    "def no_return():\n",
    "    pass\n",
    "\n",
    "print(no_return())  # Output: None\n"
   ]
  },
  {
   "cell_type": "markdown",
   "id": "d3e9a812",
   "metadata": {},
   "source": [
    "## 4.4 Lambda Functions\n",
    "Lambda functions are small, anonymous functions defined using the lambda keyword. They can have any number of arguments but only one expression.\n",
    "\n",
    "### Syntax:\n",
    "    lambda arguments: expression\n"
   ]
  },
  {
   "cell_type": "code",
   "execution_count": 31,
   "id": "7bdacd19",
   "metadata": {},
   "outputs": [
    {
     "name": "stdout",
     "output_type": "stream",
     "text": [
      "5\n",
      "5\n",
      "[1, 4, 9, 16, 25]\n"
     ]
    }
   ],
   "source": [
    "# Regular function\n",
    "def add(a, b):\n",
    "    return a + b\n",
    "\n",
    "print(add(2, 3))  # Output: 5\n",
    "\n",
    "# Lambda function\n",
    "add_lambda = lambda a, b: a + b\n",
    "print(add_lambda(2, 3))  # Output: 5\n",
    "\n",
    "# Lambda function in higher-order functions\n",
    "numbers = [1, 2, 3, 4, 5]\n",
    "squared_numbers = list(map(lambda x: x ** 2, numbers))\n",
    "print(squared_numbers)  # Output: [1, 4, 9, 16, 25]\n"
   ]
  },
  {
   "cell_type": "markdown",
   "id": "9580f861",
   "metadata": {},
   "source": [
    "## 4.5 Scope and Lifetime of Variables\n",
    "Scope refers to the region of the code where a variable is accessible. Lifetime refers to how long a variable exists in memory.\n",
    "\n",
    "### Types of Scope:\n",
    "    Local Scope: Variables defined inside a function, accessible only within that function.\n",
    "    Global Scope: Variables defined outside all functions, accessible throughout the program.\n",
    "    Enclosing Scope: Variables in the local scope of enclosing functions, in case of nested functions.\n",
    "    Built-in Scope: Names preassigned in Python (e.g., keywords, functions like print, len)."
   ]
  },
  {
   "cell_type": "code",
   "execution_count": 32,
   "id": "6e2b75f2",
   "metadata": {},
   "outputs": [
    {
     "name": "stdout",
     "output_type": "stream",
     "text": [
      "10 20 30\n",
      "20\n",
      "10\n"
     ]
    }
   ],
   "source": [
    "x = 10  # Global variable\n",
    "\n",
    "def outer_function():\n",
    "    y = 20  # Enclosing variable\n",
    "\n",
    "    def inner_function():\n",
    "        z = 30  # Local variable\n",
    "        print(x, y, z)  # Accesses global, enclosing, and local variables\n",
    "\n",
    "    inner_function()\n",
    "    print(y)  # Accesses enclosing variable\n",
    "\n",
    "outer_function()\n",
    "print(x)  # Accesses global variable\n",
    "\n",
    "# Unreachable variables outside their scope\n",
    "# print(y)  # Error: NameError: name 'y' is not defined\n",
    "# print(z)  # Error: NameError: name 'z' is not defined\n"
   ]
  },
  {
   "cell_type": "code",
   "execution_count": 33,
   "id": "3c81e750",
   "metadata": {},
   "outputs": [
    {
     "name": "stdout",
     "output_type": "stream",
     "text": [
      "20\n"
     ]
    }
   ],
   "source": [
    "#Global Keyword:\n",
    "## To modify a global variable inside a function, use the global keyword.\n",
    "\n",
    "x = 10\n",
    "\n",
    "def modify_global():\n",
    "    global x\n",
    "    x = 20\n",
    "\n",
    "modify_global()\n",
    "print(x)  # Output: 20\n"
   ]
  },
  {
   "cell_type": "code",
   "execution_count": 34,
   "id": "38123f68",
   "metadata": {},
   "outputs": [
    {
     "name": "stdout",
     "output_type": "stream",
     "text": [
      "30\n"
     ]
    }
   ],
   "source": [
    "# Nonlocal Keyword:\n",
    "## To modify a variable in the enclosing scope, use the nonlocal keyword.\n",
    "\n",
    "def outer_function():\n",
    "    y = 20\n",
    "\n",
    "    def inner_function():\n",
    "        nonlocal y\n",
    "        y = 30\n",
    "\n",
    "    inner_function()\n",
    "    print(y)  # Output: 30\n",
    "\n",
    "outer_function()\n"
   ]
  },
  {
   "cell_type": "markdown",
   "id": "4438cf3a",
   "metadata": {},
   "source": [
    "# 5. Modules and Packages"
   ]
  },
  {
   "cell_type": "markdown",
   "id": "a04b6bd3",
   "metadata": {},
   "source": [
    "## 5.1 Importing Modules\n",
    "Modules are files containing Python code (functions, classes, variables) that can be imported and used in other Python programs. This allows code reuse and better organization.\n",
    "\n",
    "### Syntax:"
   ]
  },
  {
   "cell_type": "code",
   "execution_count": 35,
   "id": "b9e47630",
   "metadata": {},
   "outputs": [
    {
     "name": "stdout",
     "output_type": "stream",
     "text": [
      "4.0\n",
      "5.0\n",
      "3.141592653589793\n",
      "6.0\n",
      "7.0\n"
     ]
    }
   ],
   "source": [
    "# Importing the entire module\n",
    "import math\n",
    "print(math.sqrt(16))  # Output: 4.0\n",
    "\n",
    "# Importing specific items from a module\n",
    "from math import sqrt, pi\n",
    "print(sqrt(25))  # Output: 5.0\n",
    "print(pi)  # Output: 3.141592653589793\n",
    "\n",
    "# Using an alias for a module\n",
    "import math as m\n",
    "print(m.sqrt(36))  # Output: 6.0\n",
    "\n",
    "# Using an alias for a specific item\n",
    "from math import sqrt as s\n",
    "print(s(49))  # Output: 7.0\n"
   ]
  },
  {
   "cell_type": "markdown",
   "id": "665720b7",
   "metadata": {},
   "source": [
    "## 5.2 Standard Library Overview\n",
    "Python's standard library is a collection of modules and packages that come with Python, providing functionalities for a wide range of tasks.\n",
    "\n",
    "### Common Standard Library Modules:\n",
    "    sys: Provides access to some variables used or maintained by the interpreter.\n",
    "    os: Provides functions for interacting with the operating system.\n",
    "    datetime: Supplies classes for manipulating dates and times.\n",
    "    random: Implements pseudo-random number generators.\n",
    "    re: Provides support for regular expressions.\n",
    "    json: Provides methods for parsing JSON.\n",
    "    math: Provides access to mathematical functions."
   ]
  },
  {
   "cell_type": "code",
   "execution_count": 36,
   "id": "943d84fb",
   "metadata": {},
   "outputs": [
    {
     "name": "stdout",
     "output_type": "stream",
     "text": [
      "3.11.5 | packaged by Anaconda, Inc. | (main, Sep 11 2023, 13:26:23) [MSC v.1916 64 bit (AMD64)]\n",
      "C:\\Users\\rachi\\OneDrive\\Desktop\\Python Books\n",
      "2024-07-19 10:09:11.205082\n",
      "1\n",
      "100\n",
      "{'name': 'Alice', 'age': 30}\n"
     ]
    }
   ],
   "source": [
    "import sys\n",
    "print(sys.version)  # Output: Python version information\n",
    "\n",
    "import os\n",
    "print(os.getcwd())  # Output: Current working directory\n",
    "\n",
    "import datetime\n",
    "print(datetime.datetime.now())  # Output: Current date and time\n",
    "\n",
    "import random\n",
    "print(random.randint(1, 10))  # Output: Random integer between 1 and 10\n",
    "\n",
    "import re\n",
    "pattern = r'\\d+'\n",
    "text = \"The price is 100 dollars\"\n",
    "match = re.search(pattern, text)\n",
    "print(match.group())  # Output: 100\n",
    "\n",
    "import json\n",
    "data = '{\"name\": \"Alice\", \"age\": 30}'\n",
    "parsed_data = json.loads(data)\n",
    "print(parsed_data)  # Output: {'name': 'Alice', 'age': 30}\n"
   ]
  },
  {
   "cell_type": "markdown",
   "id": "56723ce1",
   "metadata": {},
   "source": [
    "## 5.3 Creating and Using Packages\n",
    "Packages are a way of structuring Python’s module namespace by using “dotted module names”. A package is a directory that contains a special __init__.py file (can be empty) and one or more module files.\n",
    "\n",
    "### Creating a Package:\n",
    "    mypackage/\n",
    "        __init__.py\n",
    "        module1.py\n",
    "        module2.py\n",
    "\n",
    "### Using a Package:\n",
    "    Directory structure\n",
    "    mypackage/\n",
    "        __init__.py\n",
    "        module1.py\n",
    "        module2.py"
   ]
  },
  {
   "cell_type": "code",
   "execution_count": 37,
   "id": "03ad74e0",
   "metadata": {},
   "outputs": [
    {
     "name": "stdout",
     "output_type": "stream",
     "text": [
      "Function 1 from module 1\n",
      "Function 2 from module 2\n",
      "Function 1 from module 1\n",
      "Function 2 from module 2\n"
     ]
    }
   ],
   "source": [
    "# mypackage/module1.py\n",
    "def func1():\n",
    "    return \"Function 1 from module 1\"\n",
    "\n",
    "# mypackage/module2.py\n",
    "def func2():\n",
    "    return \"Function 2 from module 2\"\n",
    "\n",
    "# main.py\n",
    "from mypackage import module1, module2\n",
    "\n",
    "print(module1.func1())  # Output: Function 1 from module 1\n",
    "print(module2.func2())  # Output: Function 2 from module 2\n",
    "\n",
    "# Importing with aliases\n",
    "import mypackage.module1 as m1\n",
    "import mypackage.module2 as m2\n",
    "\n",
    "print(m1.func1())  # Output: Function 1 from module 1\n",
    "print(m2.func2())  # Output: Function 2 from module 2"
   ]
  },
  {
   "cell_type": "markdown",
   "id": "2757306c",
   "metadata": {},
   "source": [
    "### 5.4 Virtual Environments\n",
    "Virtual environments allow you to create isolated environments for Python projects, each with its own dependencies, to avoid conflicts between project dependencies.\n",
    "\n",
    "### Creating a Virtual Environment:\n",
    "    Create a virtual environment named 'env'\n",
    "    python -m venv env\n",
    "\n",
    "    Activate the virtual environment\n",
    "    \n",
    "    On Windows\n",
    "    env\\Scripts\\activate\n",
    "    \n",
    "    On Unix or MacOS\n",
    "    source env/bin/activate\n",
    "\n",
    "    Deactivate the virtual environment\n",
    "    deactivate\n",
    "    \n",
    "### Managing Dependencies:\n",
    "####  Install a package within the virtual environment\n",
    "    !pip install requests\n",
    "\n",
    "#### List installed packages\n",
    "    !pip list\n",
    "\n",
    "#### Freeze installed packages to a requirements file\n",
    "    !pip freeze > \"requirements.txt\"\n",
    "\n",
    "#### Install packages from a requirements file\n",
    "    !pip install -r \"requirements.txt\""
   ]
  },
  {
   "cell_type": "markdown",
   "id": "4c86bae3",
   "metadata": {},
   "source": [
    "# 6. File Handling"
   ]
  },
  {
   "cell_type": "markdown",
   "id": "368da1a1",
   "metadata": {},
   "source": [
    "## 6.1 Reading and Writing Files\n",
    "File handling is an essential part of any programming language. Python provides several functions for creating, reading, updating, and deleting files.\n",
    "\n",
    "### Basic File Operations:\n",
    "    Opening a File: Use the open() function to open a file. The function returns a file object.\n",
    "    Reading a File: Use methods like read(), readline(), or readlines() to read from a file.\n",
    "    Writing to a File: Use methods like write() or writelines() to write to a file.\n",
    "    Closing a File: Use the close() method to close the file after you are done with it.\n",
    "    \n",
    "## 6.2 Working with Different File Formats (CSV, JSON)\n",
    "\n",
    "### CSV Files: \n",
    "    CSV (Comma-Separated Values) is a simple file format used to store tabular data.\n",
    "\n",
    "### JSON Files:\n",
    "    JSON (JavaScript Object Notation) is a lightweight data interchange format that is easy for humans to read and write, and easy for machines to parse and generate."
   ]
  },
  {
   "cell_type": "code",
   "execution_count": 38,
   "id": "d5db0730",
   "metadata": {},
   "outputs": [
    {
     "name": "stdout",
     "output_type": "stream",
     "text": [
      "Hello, World!\n",
      "['Name', 'Age', 'City']\n",
      "['Rachit', '26', 'Indore']\n",
      "['Alisa', '25', 'Berlin']\n",
      "['Bob', '28', 'Paris']\n",
      "{'name': 'John', 'age': 30, 'city': 'New York'}\n"
     ]
    }
   ],
   "source": [
    "import csv\n",
    "import json\n",
    "\n",
    "# Writing and Reading txt Files\n",
    "with open(\"example.txt\", \"w\") as file:\n",
    "    file.write(\"Hello, World!\")\n",
    "\n",
    "with open(\"example.txt\", \"r\") as file:\n",
    "    content = file.read()\n",
    "    print(content)\n",
    "\n",
    "# Writing and Reading CSV Files\n",
    "data = [\n",
    "    ['Name', 'Age', 'City'],\n",
    "    ['Rachit', '26', 'Indore'],\n",
    "    ['Alisa', '25', 'Berlin'],\n",
    "    ['Bob', '28', 'Paris']\n",
    "]\n",
    "\n",
    "with open('data.csv', 'w', newline='') as file:\n",
    "    csv_writer = csv.writer(file)\n",
    "    csv_writer.writerows(data)\n",
    "\n",
    "with open('data.csv', 'r') as file:\n",
    "    csv_reader = csv.reader(file)\n",
    "    for row in csv_reader:\n",
    "        print(row)\n",
    "\n",
    "# Writing and Reading JSON Files\n",
    "data = {\n",
    "    'name': 'John',\n",
    "    'age': 30,\n",
    "    'city': 'New York'\n",
    "}\n",
    "\n",
    "with open('data.json', 'w') as file:\n",
    "    json.dump(data, file)\n",
    "\n",
    "with open('data.json', 'r') as file:\n",
    "    data = json.load(file)\n",
    "    print(data)\n"
   ]
  },
  {
   "cell_type": "markdown",
   "id": "4615aec8",
   "metadata": {},
   "source": [
    "## 6.4 Handling File Exceptions\n",
    "Handling exceptions is crucial when working with files to avoid crashes and handle errors gracefully."
   ]
  },
  {
   "cell_type": "code",
   "execution_count": 39,
   "id": "e1d20e27",
   "metadata": {},
   "outputs": [
    {
     "name": "stdout",
     "output_type": "stream",
     "text": [
      "The file does not exist.\n"
     ]
    }
   ],
   "source": [
    "try:\n",
    "    with open('nonexistent_file.txt', 'r') as file:\n",
    "        content = file.read()\n",
    "except FileNotFoundError:\n",
    "    print(\"The file does not exist.\")\n",
    "except PermissionError:\n",
    "    print(\"You do not have permission to read this file.\")\n",
    "except Exception as e:\n",
    "    print(f\"An error occurred: {e}\")\n"
   ]
  },
  {
   "cell_type": "markdown",
   "id": "06fc287b",
   "metadata": {},
   "source": [
    "# 7. Error and Exception Handling"
   ]
  },
  {
   "cell_type": "markdown",
   "id": "8df48d15",
   "metadata": {},
   "source": [
    "## 7.1 Try, Except, Finally Blocks\n",
    "Error and exception handling in Python allows you to gracefully handle errors and exceptions, preventing your program from crashing unexpectedly.\n",
    "\n",
    "### Try-Except Block:\n",
    "    The try block lets you test a block of code for errors, while the except block lets you handle the error."
   ]
  },
  {
   "cell_type": "code",
   "execution_count": 40,
   "id": "229c750d",
   "metadata": {},
   "outputs": [
    {
     "name": "stdout",
     "output_type": "stream",
     "text": [
      "Cannot divide by zero!\n"
     ]
    }
   ],
   "source": [
    "try:\n",
    "    result = 10 / 0\n",
    "except ZeroDivisionError:\n",
    "    print(\"Cannot divide by zero!\")  # Output: Cannot divide by zero!\n"
   ]
  },
  {
   "cell_type": "markdown",
   "id": "16dd96db",
   "metadata": {},
   "source": [
    "### Finally Block:\n",
    "    The finally block lets you execute code, regardless of whether an exception was raised or not."
   ]
  },
  {
   "cell_type": "code",
   "execution_count": 41,
   "id": "f472e198",
   "metadata": {},
   "outputs": [
    {
     "name": "stdout",
     "output_type": "stream",
     "text": [
      "Cannot divide by zero!\n",
      "This will always execute.\n"
     ]
    }
   ],
   "source": [
    "try:\n",
    "    result = 10 / 0\n",
    "except ZeroDivisionError:\n",
    "    print(\"Cannot divide by zero!\")  # Output: Cannot divide by zero!\n",
    "finally:\n",
    "    print(\"This will always execute.\")  # Output: This will always execute.\n"
   ]
  },
  {
   "cell_type": "markdown",
   "id": "c21856aa",
   "metadata": {},
   "source": [
    "## 7.2 Handling Multiple Exceptions\n",
    "You can handle multiple exceptions by specifying multiple except blocks or by using a tuple in a single except block."
   ]
  },
  {
   "cell_type": "code",
   "execution_count": 42,
   "id": "3c2f2d51",
   "metadata": {},
   "outputs": [
    {
     "name": "stdout",
     "output_type": "stream",
     "text": [
      "Cannot divide by zero!\n",
      "An error occurred: unsupported operand type(s) for /: 'int' and 'str'\n"
     ]
    }
   ],
   "source": [
    "try:\n",
    "    result = 10 / 0\n",
    "except ZeroDivisionError:\n",
    "    print(\"Cannot divide by zero!\")  # Output: Cannot divide by zero!\n",
    "except TypeError:\n",
    "    print(\"Invalid data type.\")\n",
    "    \n",
    "try:\n",
    "    result = 10 / \"2\"\n",
    "except (ZeroDivisionError, TypeError) as e:\n",
    "    print(f\"An error occurred: {e}\")  # Output: An error occurred: unsupported operand type(s) for /: 'int' and 'str'\n",
    "\n"
   ]
  },
  {
   "cell_type": "markdown",
   "id": "5bca4b87",
   "metadata": {},
   "source": [
    "## 7.3 Custom Exceptions\n",
    "You can define your own exceptions by creating a new class that derives from the built-in Exception class."
   ]
  },
  {
   "cell_type": "code",
   "execution_count": 43,
   "id": "54c12cd7",
   "metadata": {},
   "outputs": [
    {
     "name": "stdout",
     "output_type": "stream",
     "text": [
      "Invalid input: -25. Value cannot be negative.\n"
     ]
    }
   ],
   "source": [
    "class NegativeValueError(Exception):\n",
    "    \"\"\"Exception raised for errors in the input if the value is negative.\"\"\"\n",
    "    def __init__(self, value):\n",
    "        self.value = value\n",
    "        self.message = f\"Invalid input: {value}. Value cannot be negative.\"\n",
    "        super().__init__(self.message)\n",
    "\n",
    "def calculate_square_root(value):\n",
    "    if value < 0:\n",
    "        raise NegativeValueError(value)\n",
    "    return value ** 0.5\n",
    "\n",
    "try:\n",
    "    result = calculate_square_root(-25)\n",
    "except NegativeValueError as e:\n",
    "    print(e)  # Output: Invalid input: -25. Value cannot be negative.\n"
   ]
  },
  {
   "cell_type": "markdown",
   "id": "c55c2fca",
   "metadata": {},
   "source": [
    "## 7.4 Debugging Techniques\n",
    "Debugging is the process of identifying and removing errors from your code. Python provides several tools and techniques for debugging.\n",
    "\n",
    "### Common Debugging Techniques:\n",
    "\n",
    "### Print Statements:\n",
    "Insert print statements in your code to check the values of variables and the flow of execution."
   ]
  },
  {
   "cell_type": "code",
   "execution_count": 44,
   "id": "0e2ebbcc",
   "metadata": {},
   "outputs": [
    {
     "name": "stdout",
     "output_type": "stream",
     "text": [
      "a: 3, b: 5\n",
      "8\n"
     ]
    }
   ],
   "source": [
    "def add(a, b):\n",
    "    print(f\"a: {a}, b: {b}\")  # Debugging print statement\n",
    "    return a + b\n",
    "\n",
    "result = add(3, 5)\n",
    "print(result)  # Output: a: 3, b: 5\n",
    "               #         8"
   ]
  },
  {
   "cell_type": "markdown",
   "id": "ba656a22",
   "metadata": {},
   "source": [
    "### Exception Logging:\n",
    "Use the logging module to log exceptions and other messages for later analysis."
   ]
  },
  {
   "cell_type": "code",
   "execution_count": 45,
   "id": "6462c57e",
   "metadata": {},
   "outputs": [
    {
     "name": "stderr",
     "output_type": "stream",
     "text": [
      "2024-07-19 10:09:11,334 - ERROR - An error occurred\n",
      "Traceback (most recent call last):\n",
      "  File \"C:\\Users\\rachi\\AppData\\Local\\Temp\\ipykernel_9104\\3852600430.py\", line 7, in add\n",
      "    return a + b\n",
      "           ~~^~~\n",
      "TypeError: unsupported operand type(s) for +: 'int' and 'str'\n"
     ]
    }
   ],
   "source": [
    "import logging\n",
    "\n",
    "logging.basicConfig(level=logging.DEBUG, format='%(asctime)s - %(levelname)s - %(message)s')\n",
    "\n",
    "def add(a, b):\n",
    "    try:\n",
    "        return a + b\n",
    "    except Exception as e:\n",
    "        logging.error(\"An error occurred\", exc_info=True)\n",
    "\n",
    "result = add(3, '5')  # Logs an error\n"
   ]
  },
  {
   "cell_type": "markdown",
   "id": "e41cbac2",
   "metadata": {},
   "source": [
    "### Using IDE Debuggers:\n",
    "Many IDEs (e.g., PyCharm, VS Code) provide graphical debuggers that allow you to set breakpoints, watch variables, and step through code."
   ]
  },
  {
   "cell_type": "markdown",
   "id": "1c712e25",
   "metadata": {},
   "source": [
    "# 8. Object-Oriented Programming (OOP)"
   ]
  },
  {
   "cell_type": "markdown",
   "id": "a41f3c90",
   "metadata": {},
   "source": [
    "## 8.1 Classes and Objects\n",
    "Object-Oriented Programming (OOP) is a programming paradigm based on the concept of \"objects\", which can contain data (attributes) and code (methods).\n",
    "\n",
    "    Class: A blueprint for creating objects.\n",
    "    Object: An instance of a class.\n",
    "    \n",
    "### Syntax:"
   ]
  },
  {
   "cell_type": "code",
   "execution_count": 46,
   "id": "7dfd4189",
   "metadata": {},
   "outputs": [
    {
     "name": "stdout",
     "output_type": "stream",
     "text": [
      "This is a class attribute\n",
      "This is an instance attribute\n",
      "This is a method, and the instance attribute is This is an instance attribute\n"
     ]
    }
   ],
   "source": [
    "class ClassName:\n",
    "    # Class attribute\n",
    "    class_attribute = \"This is a class attribute\"\n",
    "\n",
    "    def __init__(self, instance_attribute):\n",
    "        # Instance attribute\n",
    "        self.instance_attribute = instance_attribute\n",
    "\n",
    "    # Method\n",
    "    def method(self):\n",
    "        return f\"This is a method, and the instance attribute is {self.instance_attribute}\"\n",
    "\n",
    "# Creating an object\n",
    "obj = ClassName(\"This is an instance attribute\")\n",
    "\n",
    "# Accessing attributes and methods\n",
    "print(obj.class_attribute)  # Output: This is a class attribute\n",
    "print(obj.instance_attribute)  # Output: This is an instance attribute\n",
    "print(obj.method())  # Output: This is a method, and the instance attribute is This is an instance attribute\n"
   ]
  },
  {
   "cell_type": "markdown",
   "id": "f2c01c93",
   "metadata": {},
   "source": [
    "## 8.2 Methods and Constructors\n",
    "Methods: Functions defined inside a class.\n",
    "\n",
    "Constructor (__init__): A special method that is called when an object is instantiated."
   ]
  },
  {
   "cell_type": "code",
   "execution_count": 47,
   "id": "c8e01b64",
   "metadata": {},
   "outputs": [
    {
     "name": "stdout",
     "output_type": "stream",
     "text": [
      "Tata Motors\n",
      "Driving Tata Motors Nexon\n",
      "Maruti Suzuki\n",
      "Driving Maruti Suzuki Desire\n"
     ]
    }
   ],
   "source": [
    "# Class definition\n",
    "class Car:\n",
    "    def __init__(self, brand, model):\n",
    "        self.brand = brand\n",
    "        self.model = model\n",
    "\n",
    "    def drive(self):\n",
    "        print(\"Driving\", self.brand, self.model)\n",
    "\n",
    "# Object creation\n",
    "my_car1 = Car(\"Tata Motors\", \"Nexon\")\n",
    "my_car2 = Car(\"Maruti Suzuki\", \"Desire\")\n",
    "\n",
    "# Accessing attributes\n",
    "print(my_car1.brand)  # Output: Tata Motors\n",
    "\n",
    "# Calling methods\n",
    "my_car1.drive()  # Output: Driving Tata Motors Nexon\n",
    "\n",
    "# Accessing attributes\n",
    "print(my_car2.brand)  # Output: Maruti Suzuki\n",
    "\n",
    "# Calling methods\n",
    "my_car2.drive()  # Output: Driving Maruti Suzuki Desire\n"
   ]
  },
  {
   "cell_type": "markdown",
   "id": "bc4c89fa",
   "metadata": {},
   "source": [
    "## 8.3 Inheritance\n",
    "Inheritance allows a class to inherit attributes and methods from another class.\n",
    "\n",
    "    Parent (Base) Class: The class being inherited from.\n",
    "    Child (Derived) Class: The class that inherits from another class."
   ]
  },
  {
   "cell_type": "code",
   "execution_count": 48,
   "id": "918791af",
   "metadata": {},
   "outputs": [
    {
     "name": "stdout",
     "output_type": "stream",
     "text": [
      "Animal is eating.\n",
      "Charlie is eating.\n",
      "Woof! Woof!\n",
      "Name : Charlie and Breed : Golden Retriever\n"
     ]
    }
   ],
   "source": [
    "# Parent class\n",
    "class Animal:\n",
    "    def __init__(self, name):\n",
    "        self.name = name\n",
    "\n",
    "    def eat(self):\n",
    "        print(f\"{self.name} is eating.\")\n",
    "\n",
    "\n",
    "# Child class inheriting from parent\n",
    "class Dog(Animal):\n",
    "    def __init__(self, name, breed):\n",
    "        # Calling the parent class constructor\n",
    "        super().__init__(name)\n",
    "        self.breed = breed\n",
    "\n",
    "    def bark(self):\n",
    "        print(\"Woof! Woof!\")\n",
    "    \n",
    "    def info(self):\n",
    "        print(f\"Name : {self.name} and Breed : {self.breed}\")\n",
    "\n",
    "\n",
    "# Creating objects\n",
    "animal = Animal(\"Animal\")\n",
    "dog = Dog(\"Charlie\", \"Golden Retriever\")\n",
    "\n",
    "# Accessing parent class methods\n",
    "animal.eat()\n",
    "\n",
    "# Accessing child class methods\n",
    "dog.eat()\n",
    "dog.bark()\n",
    "dog.info()"
   ]
  },
  {
   "cell_type": "markdown",
   "id": "228d3504",
   "metadata": {},
   "source": [
    "## 8.4 Polymorphism\n",
    "Polymorphism allows methods to be used interchangeably between objects of different classes. This can be achieved through method overriding.\n",
    "\n",
    "### Method Overriding:\n",
    "When a method in a derived class has the same name as a method in the base class, and it overrides the behavior of the base class method."
   ]
  },
  {
   "cell_type": "code",
   "execution_count": 49,
   "id": "c04265fe",
   "metadata": {
    "scrolled": true
   },
   "outputs": [
    {
     "name": "stdout",
     "output_type": "stream",
     "text": [
      "Area of the circle: 78.5\n",
      "Area of the rectangle: 24\n"
     ]
    }
   ],
   "source": [
    "class Shape:\n",
    "    def area(self):\n",
    "        pass\n",
    "\n",
    "class Circle(Shape):\n",
    "    def __init__(self, radius):\n",
    "        self.radius = radius\n",
    "\n",
    "    def area(self):\n",
    "        return 3.14 * self.radius ** 2\n",
    "\n",
    "\n",
    "class Rectangle(Shape):\n",
    "    def __init__(self, width, height):\n",
    "        self.width = width\n",
    "        self.height = height\n",
    "\n",
    "    def area(self):\n",
    "        return self.width * self.height\n",
    "\n",
    "\n",
    "# Create instances of different shapes\n",
    "circle = Circle(5)\n",
    "rectangle = Rectangle(4, 6)\n",
    "\n",
    "# Call the area method on different shapes\n",
    "print(\"Area of the circle:\", circle.area())\n",
    "print(\"Area of the rectangle:\", rectangle.area())\n"
   ]
  },
  {
   "cell_type": "markdown",
   "id": "353863e6",
   "metadata": {},
   "source": [
    "## 8.5 Encapsulation and Abstraction\n",
    "### Encapsulation: \n",
    "The bundling of data and methods that operate on the data within a single unit or class. It restricts direct access to some of the object's components, which is a means of preventing accidental interference and misuse of the data."
   ]
  },
  {
   "cell_type": "code",
   "execution_count": 50,
   "id": "713b3031",
   "metadata": {},
   "outputs": [
    {
     "name": "stdout",
     "output_type": "stream",
     "text": [
      "Current balance: 100000\n",
      "Withdrew 20000. New balance: 80000\n",
      "Deposited 50000. New balance: 130000\n"
     ]
    }
   ],
   "source": [
    "class BankAccount:\n",
    "    def __init__(self, account_number, balance = 100000):\n",
    "        self._account_number = account_number\n",
    "        self._balance = balance\n",
    "\n",
    "    def deposit(self, amount):\n",
    "        if amount > 0:\n",
    "            self._balance += amount\n",
    "            print(f\"Deposited {amount}. New balance: {self._balance}\")\n",
    "\n",
    "    def withdraw(self, amount):\n",
    "        if amount > 0 and amount <= self._balance:\n",
    "            self._balance -= amount\n",
    "            print(f\"Withdrew {amount}. New balance: {self._balance}\")\n",
    "        else:\n",
    "            print(\"Insufficient funds.\")\n",
    "\n",
    "    def get_balance(self):\n",
    "        return self._balance\n",
    "\n",
    "\n",
    "# Creating an instance of the BankAccount class\n",
    "account = BankAccount(\"1234567890\")\n",
    "\n",
    "# Accessing methods with encapsulated attributes\n",
    "balance = account.get_balance()\n",
    "print(\"Current balance:\", balance)\n",
    "account.withdraw(20000)\n",
    "account.deposit(50000)\n"
   ]
  },
  {
   "cell_type": "markdown",
   "id": "5a2b9abd",
   "metadata": {},
   "source": [
    "### Abstraction: \n",
    "Hiding the complex implementation details and showing only the necessary features of an object."
   ]
  },
  {
   "cell_type": "code",
   "execution_count": 51,
   "id": "d0c0ddaa",
   "metadata": {},
   "outputs": [
    {
     "name": "stdout",
     "output_type": "stream",
     "text": [
      "Area of the circle: 78.5\n",
      "Area of the rectangle: 24\n"
     ]
    }
   ],
   "source": [
    "from abc import ABC, abstractmethod\n",
    "\n",
    "# Abstract parent class\n",
    "class Shape(ABC):\n",
    "    @abstractmethod\n",
    "    def area(self):\n",
    "        pass\n",
    "\n",
    "# Concrete classes implementing Shape\n",
    "class Circle(Shape):\n",
    "    def __init__(self, radius):\n",
    "        self.radius = radius\n",
    "\n",
    "    def area(self):\n",
    "        return 3.14 * self.radius ** 2\n",
    "\n",
    "class Rectangle(Shape):\n",
    "    def __init__(self, width, height):\n",
    "        self.width = width\n",
    "        self.height = height\n",
    "\n",
    "    def area(self):\n",
    "        return self.width * self.height\n",
    "\n",
    "# Create instances of different shapes\n",
    "circle = Circle(5)\n",
    "rectangle = Rectangle(4, 6)\n",
    "\n",
    "# Call the area method on different shapes\n",
    "print(\"Area of the circle:\", circle.area())\n",
    "print(\"Area of the rectangle:\", rectangle.area())\n"
   ]
  },
  {
   "cell_type": "markdown",
   "id": "1cb70323",
   "metadata": {},
   "source": [
    "## 8.6 Magic Methods and Operator Overloading\n",
    "Magic methods (also called dunder methods) are special methods that have double underscores at the beginning and end of their names. They enable operator overloading and provide hooks for various built-in operations.\n",
    "\n",
    "### Common Magic Methods:\n",
    "    __init__(self, ...): Object constructor.\n",
    "    __str__(self): String representation of the object.\n",
    "    __repr__(self): Official string representation of the object.\n",
    "    __add__(self, other): Addition operator.\n",
    "    __len__(self): Length of the object."
   ]
  },
  {
   "cell_type": "code",
   "execution_count": 52,
   "id": "a6719f98",
   "metadata": {},
   "outputs": [
    {
     "name": "stdout",
     "output_type": "stream",
     "text": [
      "Vector(6, 8)\n"
     ]
    }
   ],
   "source": [
    "class Vector:\n",
    "    def __init__(self, x, y):\n",
    "        self.x = x\n",
    "        self.y = y\n",
    "\n",
    "    def __add__(self, other):\n",
    "        return Vector(self.x + other.x, self.y + other.y)\n",
    "\n",
    "    def __str__(self):\n",
    "        return f\"Vector({self.x}, {self.y})\"\n",
    "\n",
    "# Creating objects\n",
    "v1 = Vector(2, 3)\n",
    "v2 = Vector(4, 5)\n",
    "\n",
    "# Using the overloaded addition operator\n",
    "v3 = v1 + v2\n",
    "\n",
    "# Printing the result\n",
    "print(v3)  # Output: Vector(6, 8)\n"
   ]
  },
  {
   "cell_type": "markdown",
   "id": "1c910cf5",
   "metadata": {},
   "source": [
    "# 9. Advanced Topics"
   ]
  },
  {
   "cell_type": "markdown",
   "id": "c23cf588",
   "metadata": {},
   "source": [
    "## 9.1 List Comprehensions\n",
    "List comprehensions provide a concise way to create lists. They offer a syntactically more compact and readable way to generate lists than traditional loops."
   ]
  },
  {
   "cell_type": "code",
   "execution_count": 53,
   "id": "8d429549",
   "metadata": {},
   "outputs": [
    {
     "name": "stdout",
     "output_type": "stream",
     "text": [
      "[0, 1, 4, 9, 16, 25, 36, 49, 64, 81]\n",
      "[0, 4, 16, 36, 64]\n",
      "[1, 2, 3, 4, 5, 6, 7, 8, 9]\n"
     ]
    }
   ],
   "source": [
    "# Basic List Comprehension:\n",
    "squares = [x**2 for x in range(10)]\n",
    "print(squares)  # Output: [0, 1, 4, 9, 16, 25, 36, 49, 64, 81]\n",
    "\n",
    "# List Comprehension with Condition:\n",
    "even_squares = [x**2 for x in range(10) if x % 2 == 0]\n",
    "print(even_squares)  # Output: [0, 4, 16, 36, 64]\n",
    "\n",
    "# Nested List Comprehensions:\n",
    "matrix = [[1, 2, 3], [4, 5, 6], [7, 8, 9]]\n",
    "flattened = [num for row in matrix for num in row]\n",
    "print(flattened)  # Output: [1, 2, 3, 4, 5, 6, 7, 8, 9]\n"
   ]
  },
  {
   "cell_type": "markdown",
   "id": "a420705c",
   "metadata": {},
   "source": [
    "## 9.2 Generators and Iterators\n",
    "Generators are functions that return an iterable set of items, one at a time, in a special way. They are useful for creating iterators with less memory consumption.\n",
    "\n",
    "### Generators:\n",
    "Generators are defined using functions with the yield keyword."
   ]
  },
  {
   "cell_type": "code",
   "execution_count": 54,
   "id": "9bfaf55e",
   "metadata": {},
   "outputs": [
    {
     "name": "stdout",
     "output_type": "stream",
     "text": [
      "0\n",
      "1\n",
      "1\n",
      "2\n",
      "3\n"
     ]
    }
   ],
   "source": [
    "# function definition\n",
    "def fibonacci_generator():\n",
    "    a, b = 0, 1\n",
    "    while True:\n",
    "        yield a\n",
    "        a, b = b, a + b\n",
    "\n",
    "# driver code\n",
    "# Using the generator\n",
    "fib_gen = fibonacci_generator()\n",
    "for _ in range(5):\n",
    "    print(next(fib_gen))\n"
   ]
  },
  {
   "cell_type": "markdown",
   "id": "9ea18079",
   "metadata": {},
   "source": [
    "### Iterators:\n",
    "An iterator is an object that implements the __iter__() and __next__() methods. Generators automatically implement these methods."
   ]
  },
  {
   "cell_type": "code",
   "execution_count": 55,
   "id": "6802d292",
   "metadata": {},
   "outputs": [
    {
     "name": "stdout",
     "output_type": "stream",
     "text": [
      "0\n",
      "1\n",
      "2\n",
      "3\n",
      "4\n",
      "\n"
     ]
    }
   ],
   "source": [
    "# function definition\n",
    "class NumberIterator:\n",
    "    def __init__(self, limit):\n",
    "        self.limit = limit\n",
    "        self.current = 0\n",
    "\n",
    "    def __iter__(self):\n",
    "        return self\n",
    "\n",
    "    def __next__(self):\n",
    "        if self.current < self.limit:\n",
    "            number = self.current\n",
    "            self.current += 1\n",
    "            return number\n",
    "        else:\n",
    "            raise StopIteration\n",
    "\n",
    "# driver code\n",
    "# Using the custom iterator\n",
    "iterator = NumberIterator(5)\n",
    "for num in iterator:\n",
    "    print(num)\n",
    "print(\"\")"
   ]
  },
  {
   "cell_type": "markdown",
   "id": "9fcb6011",
   "metadata": {},
   "source": [
    "## 9.3 Decorators\n",
    "Decorators are a way to modify or extend the behavior of a callable (functions or methods) without changing its definition. They are often used to add functionality to existing code in a clean and readable way."
   ]
  },
  {
   "cell_type": "code",
   "execution_count": 56,
   "id": "75fafcf0",
   "metadata": {},
   "outputs": [
    {
     "name": "stdout",
     "output_type": "stream",
     "text": [
      "Access granted\n"
     ]
    }
   ],
   "source": [
    "# Authorization Decorator:\n",
    "def check_authorization(username, password):\n",
    "    name = \"Rachitmore\"\n",
    "    pwd = \"rachitmore\"\n",
    "    if username == name and password == pwd:\n",
    "        return True\n",
    "    else:\n",
    "        return False\n",
    "\n",
    "def authorization_decorator(func):\n",
    "    def wrapper(username, userpassword):\n",
    "        try:\n",
    "            if check_authorization(username, password):\n",
    "                return func(username, password)\n",
    "            else:\n",
    "                raise PermissionError(\"Unauthorized access\")\n",
    "        except Exception as e:\n",
    "            return e\n",
    "    return wrapper\n",
    "\n",
    "@authorization_decorator\n",
    "def protected_function(username, password):\n",
    "    print(\"Access granted\")\n",
    "\n",
    "name = \"Rachitmore\"\n",
    "password = \"rachitmore\" \n",
    "protected_function(name, password)"
   ]
  },
  {
   "cell_type": "markdown",
   "id": "869f3acd",
   "metadata": {},
   "source": [
    "## 9.4 Context Managers\n",
    "Context managers are used for resource management tasks such as file handling, ensuring that resources are properly cleaned up after use. They are implemented using the with statement."
   ]
  },
  {
   "cell_type": "code",
   "execution_count": 57,
   "id": "3020768f",
   "metadata": {},
   "outputs": [
    {
     "name": "stdout",
     "output_type": "stream",
     "text": [
      "Entering the context\n",
      "Inside the context\n",
      "Exiting the context\n"
     ]
    }
   ],
   "source": [
    "# Using context manager with files\n",
    "with open('example.txt', 'w') as file:\n",
    "    file.write(\"Hello, world!\")\n",
    "\n",
    "# Implementing a custom context manager\n",
    "class MyContextManager:\n",
    "    def __enter__(self):\n",
    "        print(\"Entering the context\")\n",
    "        return self\n",
    "\n",
    "    def __exit__(self, exc_type, exc_val, exc_tb):\n",
    "        print(\"Exiting the context\")\n",
    "\n",
    "with MyContextManager() as manager:\n",
    "    print(\"Inside the context\")\n",
    "# Output:\n",
    "# Entering the context\n",
    "# Inside the context\n",
    "# Exiting the context\n"
   ]
  },
  {
   "cell_type": "markdown",
   "id": "5a5d3fd3",
   "metadata": {},
   "source": [
    "## 9.5 Regular Expressions\n",
    "Regular expressions (regex) are sequences of characters that form search patterns. They are used for string searching and manipulation."
   ]
  },
  {
   "cell_type": "code",
   "execution_count": 58,
   "id": "68cb52a9",
   "metadata": {},
   "outputs": [
    {
     "name": "stdout",
     "output_type": "stream",
     "text": [
      "Valid details \n",
      "\n",
      "Rachit More is valid.\n",
      "rachitmore3@gmail.com is valid.\n",
      "123-456-7890 phone numbers found: ['123-456-7890']\n",
      "https://www.examples.ai is valid.\n",
      "07/05/2023 Valid:\n",
      "\n",
      "Invalid details \n",
      "\n",
      "Rachit@More is invalid.\n",
      "rachitmore@gmailis invalid.\n",
      "No phone numbers found or invalid phone number.\n",
      "www.example is invalid.\n",
      "No dates invalid.\n"
     ]
    }
   ],
   "source": [
    "import re\n",
    "class Validate:\n",
    "    def __init__(self, username, email, phone, url, date):\n",
    "        self.username = username\n",
    "        self.email = email\n",
    "        self.phone = phone\n",
    "        self.url = url\n",
    "        self.date = date\n",
    "        self.data_validate()\n",
    "        \n",
    "    # Validating email addresses\n",
    "    def validate_email(self):\n",
    "        pattern = r\"^[a-zA-Z0-9_.+-]+@[a-zA-Z0-9-]+\\.[a-zA-Z0-9-.]+$\"\n",
    "        result = re.match(pattern, self.email)\n",
    "        if result:\n",
    "            print(f\"{self.email} is valid.\")\n",
    "        else:\n",
    "            print(f\"{self.email}is invalid.\")\n",
    "\n",
    "    # Extracting phone numbers\n",
    "    def validate_phone_numbers(self):\n",
    "        pattern = r\"\\d{3}-\\d{3}-\\d{4}\"\n",
    "        result = re.findall(pattern, self.phone)\n",
    "        if result:\n",
    "            print(f\"{self.phone} phone numbers found:\", result)\n",
    "        else:\n",
    "            print(\"No phone numbers found or invalid phone number.\")\n",
    "\n",
    "    # Data validation\n",
    "    def validate_username(self):\n",
    "        pattern = r\"^[a-zA-Z0-9_ ]+$\"\n",
    "        result = re.match(pattern, self.username)\n",
    "        if result:\n",
    "            print(f\"{self.username} is valid.\")\n",
    "        else:\n",
    "            print(f\"{self.username} is invalid.\")\n",
    "\n",
    "    # Validating URLs\n",
    "    def validate_url(self):\n",
    "        pattern = r\"^http(s)?://\"\n",
    "        result = re.match(pattern, self.url)\n",
    "        if result:\n",
    "            print(f\"{self.url} is valid.\")\n",
    "        else:\n",
    "            print(f\"{self.url} is invalid.\")\n",
    "\n",
    "    # Data extraction\n",
    "    def validate_dates(self):\n",
    "        pattern = r\"\\d{1,2}[/-]\\d{1,2}[/-]\\d{2,4}\"\n",
    "        result = re.findall(pattern, self.date)\n",
    "        if result:\n",
    "            print(f\"{self.date} Valid:\")\n",
    "        else:\n",
    "            print(f\"{self.date} invalid.\")\n",
    "    \n",
    "    # Data extraction\n",
    "    def data_validate(self):\n",
    "        self.validate_username()\n",
    "        self.validate_email()\n",
    "        self.validate_phone_numbers()\n",
    "        self.validate_url()\n",
    "        self.validate_dates()\n",
    "        \n",
    "print(\"Valid details \\n\")\n",
    "obj1 = Validate(\"Rachit More\",\"rachitmore3@gmail.com\",\"123-456-7890\",\"https://www.examples.ai\",\"07/05/2023\")\n",
    "print(\"\\nInvalid details \\n\")\n",
    "obj2 = Validate(\"Rachit@More\",\"rachitmore@gmail\",\"qwerty\",\"www.example\",\"No dates\")\n"
   ]
  },
  {
   "cell_type": "markdown",
   "id": "8088376b",
   "metadata": {},
   "source": [
    "## 9.6 Concurrency and Multithreading\n",
    "Concurrency allows multiple tasks to make progress simultaneously. Multithreading is one way to achieve concurrency by running multiple threads within a single process."
   ]
  },
  {
   "cell_type": "code",
   "execution_count": 59,
   "id": "86e68c47",
   "metadata": {},
   "outputs": [
    {
     "name": "stdout",
     "output_type": "stream",
     "text": [
      "0a\n",
      "b\n",
      "c\n",
      "d\n",
      "e\n",
      "\n",
      "1\n",
      "2\n",
      "3\n",
      "4\n"
     ]
    }
   ],
   "source": [
    "import threading\n",
    "\n",
    "def print_numbers():\n",
    "    for i in range(5):\n",
    "        print(i)\n",
    "\n",
    "def print_letters():\n",
    "    for letter in 'abcde':\n",
    "        print(letter)\n",
    "\n",
    "# Creating threads\n",
    "thread1 = threading.Thread(target=print_numbers)\n",
    "thread2 = threading.Thread(target=print_letters)\n",
    "\n",
    "# Starting threads\n",
    "thread1.start()\n",
    "thread2.start()\n",
    "\n",
    "# Waiting for threads to finish\n",
    "thread1.join()\n",
    "thread2.join()\n"
   ]
  },
  {
   "cell_type": "markdown",
   "id": "ceedef87",
   "metadata": {},
   "source": [
    "## 9.7 Asyncio for Asynchronous Programming\n",
    "asyncio is a library for writing concurrent code using the async and await syntax. It is used for managing asynchronous operations such as I/O-bound tasks."
   ]
  },
  {
   "cell_type": "code",
   "execution_count": 60,
   "id": "e88688d7",
   "metadata": {},
   "outputs": [
    {
     "name": "stdout",
     "output_type": "stream",
     "text": [
      "Fetching data...\n",
      "Processing data...\n",
      "Data processed\n",
      "Data fetched\n"
     ]
    }
   ],
   "source": [
    "import asyncio\n",
    "import nest_asyncio\n",
    "\n",
    "nest_asyncio.apply()\n",
    "\n",
    "async def fetch_data():\n",
    "    print(\"Fetching data...\")\n",
    "    await asyncio.sleep(2)  # Simulate an I/O-bound operation\n",
    "    print(\"Data fetched\")\n",
    "\n",
    "async def process_data():\n",
    "    print(\"Processing data...\")\n",
    "    await asyncio.sleep(1)  # Simulate a shorter I/O-bound operation\n",
    "    print(\"Data processed\")\n",
    "\n",
    "async def main():\n",
    "    await asyncio.gather(fetch_data(), process_data())\n",
    "\n",
    "# Use the current event loop to run the main coroutine\n",
    "loop = asyncio.get_event_loop()\n",
    "loop.run_until_complete(main())\n"
   ]
  },
  {
   "cell_type": "markdown",
   "id": "fc1c3229",
   "metadata": {},
   "source": [
    "# 10. Testing "
   ]
  },
  {
   "cell_type": "markdown",
   "id": "e7a80a1c",
   "metadata": {},
   "source": [
    "## 10.1 Writing Unit Tests\n",
    "Unit testing involves testing individual components or functions of your code in isolation to ensure they work as expected. It's essential for validating the correctness of your code."
   ]
  },
  {
   "cell_type": "code",
   "execution_count": 61,
   "id": "c88c18e6",
   "metadata": {},
   "outputs": [
    {
     "name": "stderr",
     "output_type": "stream",
     "text": [
      ".\n",
      "----------------------------------------------------------------------\n",
      "Ran 1 test in 0.001s\n",
      "\n",
      "OK\n"
     ]
    },
    {
     "data": {
      "text/plain": [
       "<unittest.runner.TextTestResult run=1 errors=0 failures=0>"
      ]
     },
     "execution_count": 61,
     "metadata": {},
     "output_type": "execute_result"
    }
   ],
   "source": [
    "def add(a, b):\n",
    "    return a + b\n",
    "\n",
    "# Unit test for add function\n",
    "import unittest\n",
    "\n",
    "class TestMathOperations(unittest.TestCase):\n",
    "    def test_add(self):\n",
    "        self.assertEqual(add(1, 2), 3)\n",
    "        self.assertEqual(add(-1, 1), 0)\n",
    "        self.assertEqual(add(-1, -1), -2)\n",
    "\n",
    "# Run the tests\n",
    "unittest.TextTestRunner().run(unittest.TestLoader().loadTestsFromTestCase(TestMathOperations))\n"
   ]
  },
  {
   "cell_type": "markdown",
   "id": "2b0be57d",
   "metadata": {},
   "source": [
    "## 10.2 Using unittest and pytest\n",
    "unittest and pytest are popular frameworks for writing and running tests in Python.\n",
    "\n",
    "### Using unittest:"
   ]
  },
  {
   "cell_type": "code",
   "execution_count": 62,
   "id": "cc8bfa4e",
   "metadata": {},
   "outputs": [
    {
     "name": "stderr",
     "output_type": "stream",
     "text": [
      "...\n",
      "----------------------------------------------------------------------\n",
      "Ran 3 tests in 0.005s\n",
      "\n",
      "OK\n"
     ]
    },
    {
     "data": {
      "text/plain": [
       "<unittest.runner.TextTestResult run=3 errors=0 failures=0>"
      ]
     },
     "execution_count": 62,
     "metadata": {},
     "output_type": "execute_result"
    }
   ],
   "source": [
    "import unittest\n",
    "\n",
    "def add(a, b):\n",
    "    return a + b\n",
    "\n",
    "class TestAddFunction(unittest.TestCase):\n",
    "    def test_add_positive(self):\n",
    "        self.assertEqual(add(1, 2), 3)\n",
    "    \n",
    "    def test_add_negative(self):\n",
    "        self.assertEqual(add(-1, -1), -2)\n",
    "    \n",
    "    def test_add_zero(self):\n",
    "        self.assertEqual(add(0, 0), 0)\n",
    "\n",
    "# Run the tests\n",
    "unittest.TextTestRunner().run(unittest.TestLoader().loadTestsFromTestCase(TestAddFunction))\n"
   ]
  },
  {
   "cell_type": "code",
   "execution_count": 63,
   "id": "07b52489",
   "metadata": {},
   "outputs": [],
   "source": [
    "# Test Fixtures:\n",
    "class TestMathOperations(unittest.TestCase):\n",
    "    def setUp(self):\n",
    "        self.a = 10\n",
    "        self.b = 5\n",
    "\n",
    "    def test_add(self):\n",
    "        self.assertEqual(add(self.a, self.b), 15)\n"
   ]
  },
  {
   "cell_type": "markdown",
   "id": "049aa67b",
   "metadata": {},
   "source": [
    "### Using pytest"
   ]
  },
  {
   "cell_type": "code",
   "execution_count": 64,
   "id": "d7c371c4",
   "metadata": {},
   "outputs": [],
   "source": [
    "# Basic Usage:\n",
    "# test_math.py\n",
    "def test_add():\n",
    "    assert add(1, 2) == 3\n",
    "    assert add(-1, 1) == 0\n",
    "    \n",
    "# Running Tests:\n",
    "# pytest test_math.py\n",
    "\n",
    "# Fixtures in pytest:\n",
    "import pytest\n",
    "\n",
    "@pytest.fixture\n",
    "def setup_data():\n",
    "    return 10, 5\n",
    "\n",
    "def test_add(setup_data):\n",
    "    a, b = setup_data\n",
    "    assert add(a, b) == 15\n"
   ]
  },
  {
   "cell_type": "markdown",
   "id": "0378cab0",
   "metadata": {},
   "source": [
    "## 10.3 Test-Driven Development (TDD)\n",
    "Test-Driven Development (TDD) is a software development methodology where you write tests before writing the actual code. It involves a cycle of writing a test, running the test (which fails initially), writing the code to make the test pass, and then refactoring the code.\n",
    "\n",
    "### TDD Cycle:\n",
    "\n",
    "#### Write a Test:\n",
    "    Write a test for the next bit of functionality you want to add."
   ]
  },
  {
   "cell_type": "code",
   "execution_count": 65,
   "id": "ad06cd79",
   "metadata": {},
   "outputs": [],
   "source": [
    "def test_add_positive_numbers():\n",
    "    assert add(3, 4) == 7"
   ]
  },
  {
   "cell_type": "markdown",
   "id": "9da0e2ef",
   "metadata": {},
   "source": [
    "#### Run the Test:\n",
    "    Run the test to see it fail (since the code isn’t written yet)."
   ]
  },
  {
   "cell_type": "code",
   "execution_count": 66,
   "id": "3f6b2310",
   "metadata": {},
   "outputs": [],
   "source": [
    "# pytest test_math.py"
   ]
  },
  {
   "cell_type": "markdown",
   "id": "55a5a39b",
   "metadata": {},
   "source": [
    "#### Write Code:\n",
    "    Write the minimum amount of code to make the test pass."
   ]
  },
  {
   "cell_type": "code",
   "execution_count": 67,
   "id": "24522eac",
   "metadata": {},
   "outputs": [],
   "source": [
    "def add(a, b):\n",
    "    return a + b"
   ]
  },
  {
   "cell_type": "markdown",
   "id": "6d432af5",
   "metadata": {},
   "source": [
    "#### Run the Test Again:\n",
    "    `Ensure the test now passes."
   ]
  },
  {
   "cell_type": "code",
   "execution_count": 68,
   "id": "2989d418",
   "metadata": {},
   "outputs": [],
   "source": [
    "# pytest test_math.py"
   ]
  },
  {
   "cell_type": "markdown",
   "id": "06f511db",
   "metadata": {},
   "source": [
    "#### Refactor Code:\n",
    "    Clean up the code while ensuring all tests still pass.\n",
    "\n",
    "#### Repeat:\n",
    "    Continue the cycle with the next feature or improvement."
   ]
  },
  {
   "cell_type": "markdown",
   "id": "224be91b",
   "metadata": {},
   "source": [
    "# 11. Working with Databases"
   ]
  },
  {
   "cell_type": "markdown",
   "id": "69e73621",
   "metadata": {},
   "source": [
    "## 11.1 Introduction to Databases\n",
    "Databases are organized collections of data. They enable efficient storage, retrieval, and management of data. There are different types of databases, such as relational databases (SQL) and NoSQL databases.\n",
    "\n",
    "### Types of Databases:\n",
    "\n",
    "    Relational Databases (SQL): Use structured query language (SQL) for defining and manipulating data. Examples include MySQL, PostgreSQL, SQLite.\n",
    "    NoSQL Databases: Designed for unstructured data. Examples include MongoDB, Cassandra, Redis.\n",
    "\n",
    "## 11.2 SQL Databases\n",
    "SQL (Structured Query Language) is the standard language for managing and manipulating relational databases.\n",
    "\n",
    "### Basic SQL Commands:\n",
    "    CREATE TABLE: Create a new table.\n",
    "    INSERT INTO: Insert new records into a table.\n",
    "    SELECT: Retrieve data from a database.\n",
    "    UPDATE: Modify existing data.\n",
    "    DELETE: Remove data from a database.\n",
    "    \n",
    "## 16.3 Connecting to SQL Databases with Python\n",
    "Python provides several libraries for connecting to SQL databases, such as SQLite, MySQL, and PostgreSQL.\n",
    "\n",
    "### Using SQLite with sqlite3:"
   ]
  },
  {
   "cell_type": "code",
   "execution_count": 69,
   "id": "666ad13d",
   "metadata": {},
   "outputs": [
    {
     "name": "stdout",
     "output_type": "stream",
     "text": [
      "(1, 'Rachit', 26, 'rachitmore3@gmail.com')\n"
     ]
    }
   ],
   "source": [
    "# Connecting to a Database:\n",
    "import sqlite3\n",
    "\n",
    "conn = sqlite3.connect('example.db')\n",
    "cursor = conn.cursor()\n",
    "\n",
    "\n",
    "# Creating a Table:\n",
    "cursor.execute('''\n",
    "    CREATE TABLE users (\n",
    "        id INTEGER PRIMARY KEY,\n",
    "        name TEXT NOT NULL,\n",
    "        age INTEGER,\n",
    "        email TEXT UNIQUE\n",
    "    )\n",
    "''')\n",
    "conn.commit()\n",
    "\n",
    "\n",
    "# Inserting Data:\n",
    "cursor.execute('''\n",
    "    INSERT INTO users (name, age, email) VALUES ('Rachit', 26, 'rachitmore3@gmail.com')\n",
    "''')\n",
    "conn.commit()\n",
    "\n",
    "\n",
    "# Querying Data:\n",
    "cursor.execute('SELECT * FROM users')\n",
    "rows = cursor.fetchall()\n",
    "for row in rows:\n",
    "    print(row)\n",
    "\n",
    "    \n",
    "# Closing the Connection:\n",
    "conn.close()\n"
   ]
  },
  {
   "cell_type": "markdown",
   "id": "b9720248",
   "metadata": {},
   "source": [
    "## 16.4 Using ORM with SQLAlchemy\n",
    "Object-Relational Mapping (ORM) allows you to interact with the database using Python classes and objects. SQLAlchemy is a popular ORM library for Python.\n",
    "\n",
    "### Basic Usage:"
   ]
  },
  {
   "cell_type": "code",
   "execution_count": 70,
   "id": "5e4dbe17",
   "metadata": {},
   "outputs": [
    {
     "name": "stdout",
     "output_type": "stream",
     "text": [
      "Rachit More 26 rachitmore3@gmail.com\n"
     ]
    }
   ],
   "source": [
    "# Define the ORM Model:\n",
    "from sqlalchemy import create_engine, Column, Integer, String\n",
    "from sqlalchemy.ext.declarative import declarative_base\n",
    "from sqlalchemy.orm import sessionmaker\n",
    "\n",
    "Base = declarative_base()\n",
    "\n",
    "class User(Base):\n",
    "    __tablename__ = 'users'\n",
    "    id = Column(Integer, primary_key=True)\n",
    "    name = Column(String)\n",
    "    age = Column(Integer)\n",
    "    email = Column(String)\n",
    "\n",
    "engine = create_engine('sqlite:///mydb.db')\n",
    "Base.metadata.create_all(engine)\n",
    "\n",
    "\n",
    "# Create a Session:\n",
    "Session = sessionmaker(bind=engine)\n",
    "session = Session()\n",
    "\n",
    "\n",
    "# Add a Record:\n",
    "new_user = User(name='Rachit More', age=26, email='rachitmore3@gmail.com')\n",
    "session.add(new_user)\n",
    "session.commit()\n",
    "\n",
    "\n",
    "# Query Records:\n",
    "users = session.query(User).all()\n",
    "for user in users:\n",
    "    print(user.name, user.age, user.email)\n"
   ]
  },
  {
   "cell_type": "markdown",
   "id": "7fb5724a",
   "metadata": {},
   "source": [
    "## 11.5 NoSQL Databases\n",
    "NoSQL databases are designed to handle unstructured data and are highly scalable. Examples include MongoDB, Cassandra, and Redis.\n",
    "\n",
    "## Using MongoDB with Python:\n"
   ]
  },
  {
   "cell_type": "markdown",
   "id": "f0f996d7",
   "metadata": {},
   "source": [
    "### Basic Usage:"
   ]
  },
  {
   "cell_type": "code",
   "execution_count": 71,
   "id": "f052ab21",
   "metadata": {},
   "outputs": [],
   "source": [
    "# # Connecting to MongoDB:\n",
    "from pymongo import MongoClient\n",
    "\n",
    "client = MongoClient('mongodb://localhost:27001/')\n",
    "db = client['example_db']\n",
    "collection = db['users']\n",
    "\n",
    "# # Inserting Data:\n",
    "user = {'name': 'Rachit More', 'age': 26, 'email': 'rachitmore3@gmail.com'}\n",
    "collection.insert_one(user)\n",
    "\n",
    "# # Querying Data:\n",
    "users = collection.find()\n",
    "for user in users:\n",
    "    print(user)\n",
    "   \n",
    "# # Updating Data:\n",
    "collection.update_one({'name': 'Rachit More'}, {'$set': {'age': 25}})\n",
    "\n",
    "\n",
    "# # Deleting Data:\n",
    "collection.delete_one({'name': 'Rachit More'})"
   ]
  }
 ],
 "metadata": {
  "kernelspec": {
   "display_name": "Python 3 (ipykernel)",
   "language": "python",
   "name": "python3"
  },
  "language_info": {
   "codemirror_mode": {
    "name": "ipython",
    "version": 3
   },
   "file_extension": ".py",
   "mimetype": "text/x-python",
   "name": "python",
   "nbconvert_exporter": "python",
   "pygments_lexer": "ipython3",
   "version": "3.11.5"
  }
 },
 "nbformat": 4,
 "nbformat_minor": 5
}
