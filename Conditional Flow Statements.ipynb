{
 "cells": [
  {
   "cell_type": "markdown",
   "id": "f6b94457",
   "metadata": {},
   "source": [
    "1. Conditional Statements"
   ]
  },
  {
   "cell_type": "code",
   "execution_count": null,
   "id": "d7cddffb",
   "metadata": {},
   "outputs": [],
   "source": [
    "# if-else\n",
    "x = 10\n",
    "if x > 0:\n",
    "    print(\"x is positive\")\n",
    "else:\n",
    "    print(\"x is non-positive\")\n",
    "\n",
    "# Elif \n",
    "age = 20\n",
    "if age < 13:\n",
    "    print(\"Child\")\n",
    "elif 13 <= age < 18:\n",
    "    print(\"Teenager\")\n",
    "else:\n",
    "    print(\"Adult\")\n"
   ]
  },
  {
   "cell_type": "markdown",
   "id": "b3bde49e",
   "metadata": {},
   "source": [
    "2. Loops"
   ]
  },
  {
   "cell_type": "code",
   "execution_count": null,
   "id": "2657b270",
   "metadata": {},
   "outputs": [],
   "source": [
    "# For loop\n",
    "fruits = [\"apple\", \"banana\", \"cherry\"]\n",
    "for fruit in fruits:\n",
    "    print(fruit)\n",
    "\n",
    "# While loop\n",
    "count = 0\n",
    "while count < 5:\n",
    "    print(count)\n",
    "    count += 1\n"
   ]
  },
  {
   "cell_type": "markdown",
   "id": "c5b3068c",
   "metadata": {},
   "source": [
    "3. Nested Loops"
   ]
  },
  {
   "cell_type": "code",
   "execution_count": null,
   "id": "3bc99583",
   "metadata": {},
   "outputs": [],
   "source": [
    "# Nested for loops\n",
    "for i in range(3):\n",
    "    for j in range(2):\n",
    "        print(f\"i: {i}, j: {j}\")\n",
    "\n",
    "# Nested while loops\n",
    "i = 0\n",
    "while i < 3:\n",
    "    j = 0\n",
    "    while j < 2:\n",
    "        print(f\"i: {i}, j: {j}\")\n",
    "        j += 1\n",
    "    i += 1\n"
   ]
  },
  {
   "cell_type": "markdown",
   "id": "9511a6ec",
   "metadata": {},
   "source": [
    "4. Comprehensions with Conditional Logic"
   ]
  },
  {
   "cell_type": "code",
   "execution_count": null,
   "id": "ac5797a6",
   "metadata": {},
   "outputs": [],
   "source": [
    "# List comprehension with condition\n",
    "numbers = range(10)\n",
    "even_numbers = [x for x in numbers if x % 2 == 0]\n",
    "print(\"Even numbers:\", even_numbers)\n",
    "\n",
    "# Dictionary comprehension with condition\n",
    "squares = {x: x**2 for x in range(10) if x % 2 == 0}\n",
    "print(\"Even squares:\", squares)\n"
   ]
  },
  {
   "cell_type": "markdown",
   "id": "d076c019",
   "metadata": {},
   "source": [
    "5. Exception Handling"
   ]
  },
  {
   "cell_type": "code",
   "execution_count": null,
   "id": "12b4aced",
   "metadata": {},
   "outputs": [],
   "source": [
    "# Try-except block\n",
    "try:\n",
    "    result = 10 / 0\n",
    "except ZeroDivisionError:\n",
    "    print(\"Cannot divide by zero\")\n",
    "\n",
    "# Finally block\n",
    "try:\n",
    "    file = open('example.txt', 'r')\n",
    "    content = file.read()\n",
    "except FileNotFoundError:\n",
    "    print(\"File not found\")\n",
    "finally:\n",
    "    print(\"Execution completed\")\n"
   ]
  },
  {
   "cell_type": "markdown",
   "id": "16113b11",
   "metadata": {},
   "source": [
    "6. Control Flow: break, continue, and pass"
   ]
  },
  {
   "cell_type": "code",
   "execution_count": null,
   "id": "4c50a74a",
   "metadata": {},
   "outputs": [],
   "source": [
    "# break\n",
    "for number in range(10):\n",
    "    if number == 5:\n",
    "        break\n",
    "    print(number)\n",
    "# Output: 0, 1, 2, 3, 4\n",
    "\n",
    "# continue\n",
    "for number in range(10):\n",
    "    if number % 2 == 0:\n",
    "        continue\n",
    "    print(number)\n",
    "# Output: 1, 3, 5, 7, 9\n",
    "\n",
    "# pass\n",
    "for number in range(5):\n",
    "    if number == 3:\n",
    "        pass  # Placeholder for future code\n",
    "    print(number)\n",
    "# Output: 0, 1, 2, 3, 4\n"
   ]
  },
  {
   "cell_type": "markdown",
   "id": "39c24de1",
   "metadata": {},
   "source": [
    "7. Control Flow: else in Loops"
   ]
  },
  {
   "cell_type": "code",
   "execution_count": null,
   "id": "b1d92476",
   "metadata": {},
   "outputs": [],
   "source": [
    "# else with for loop\n",
    "for i in range(5):\n",
    "    print(i)\n",
    "else:\n",
    "    print(\"Loop completed without break\")\n",
    "\n",
    "# else with while loop\n",
    "count = 0\n",
    "while count < 5:\n",
    "    print(count)\n",
    "    count += 1\n",
    "else:\n",
    "    print(\"While loop completed without break\")\n"
   ]
  },
  {
   "cell_type": "markdown",
   "id": "19c965db",
   "metadata": {},
   "source": [
    "8. Exception Handling with Custom Exceptions"
   ]
  },
  {
   "cell_type": "code",
   "execution_count": null,
   "id": "50ac5f20",
   "metadata": {},
   "outputs": [],
   "source": [
    "# Custom exception\n",
    "class CustomError(Exception):\n",
    "    pass\n",
    "\n",
    "def raise_custom_error():\n",
    "    raise CustomError(\"This is a custom error\")\n",
    "\n",
    "try:\n",
    "    raise_custom_error()\n",
    "except CustomError as e:\n",
    "    print(e)\n"
   ]
  },
  {
   "cell_type": "markdown",
   "id": "54239cdd",
   "metadata": {},
   "source": [
    "## 9. Iterators and Generators"
   ]
  },
  {
   "cell_type": "code",
   "execution_count": null,
   "id": "3b051ded",
   "metadata": {},
   "outputs": [],
   "source": [
    "# Custom iterator\n",
    "class Fibonacci:\n",
    "    def __init__(self):\n",
    "        self.a, self.b = 0, 1\n",
    "    \n",
    "    def __iter__(self):\n",
    "        return self\n",
    "    \n",
    "    def __next__(self):\n",
    "        a, self.a, self.b = self.a, self.b, self.a + self.b\n",
    "        return a\n",
    "\n",
    "# custom iterator\n",
    "fib = Fibonacci()\n",
    "for number in fib:\n",
    "    if number > 100:\n",
    "        break\n",
    "    print(number)\n",
    "# Output: 0, 1, 1, 2, 3, 5, 8, 13, 21, 34, 55, 89\n"
   ]
  },
  {
   "cell_type": "markdown",
   "id": "4926f664",
   "metadata": {},
   "source": [
    "## 10. Comprehensions with Nested Structures"
   ]
  },
  {
   "cell_type": "code",
   "execution_count": null,
   "id": "31a0fe79",
   "metadata": {},
   "outputs": [],
   "source": [
    "# List comprehension with nested structures\n",
    "matrix = [\n",
    "    [1, 2, 3],\n",
    "    [4, 5, 6],\n",
    "    [7, 8, 9]\n",
    "]\n",
    "\n",
    "# Flatten the matrix and filter even numbers\n",
    "flattened_even = [elem for row in matrix for elem in row if elem % 2 == 0]\n",
    "print(\"Flattened even numbers:\", flattened_even)  # Output: [2, 4, 6, 8]\n",
    "\n",
    "# Dictionary comprehension with nested structure\n",
    "names = [\"Alice\", \"Bob\", \"Charlie\"]\n",
    "lengths = {name: len(name) for name in names}\n",
    "print(\"Name lengths:\", lengths)  # Output: {'Alice': 5, 'Bob': 3, 'Charlie': 7}\n"
   ]
  },
  {
   "cell_type": "markdown",
   "id": "61759260",
   "metadata": {},
   "source": [
    "## 11. Control Flow in Class Methods"
   ]
  },
  {
   "cell_type": "code",
   "execution_count": null,
   "id": "e9d6b3bb",
   "metadata": {},
   "outputs": [],
   "source": [
    "class Account:\n",
    "    def __init__(self, balance):\n",
    "        self.balance = balance\n",
    "\n",
    "    def withdraw(self, amount):\n",
    "        if amount > self.balance:\n",
    "            raise ValueError(\"Insufficient funds\")\n",
    "        self.balance -= amount\n",
    "        return self.balance\n",
    "\n",
    "# Using the class\n",
    "account = Account(100)\n",
    "try:\n",
    "    print(account.withdraw(150))\n",
    "except ValueError as e:\n",
    "    print(e)\n",
    "# Output: Insufficient funds\n"
   ]
  },
  {
   "cell_type": "markdown",
   "id": "80a2e16e",
   "metadata": {},
   "source": [
    "## 12. Loop Control with Enumerate and Zip"
   ]
  },
  {
   "cell_type": "code",
   "execution_count": null,
   "id": "d28d5c4b",
   "metadata": {},
   "outputs": [],
   "source": [
    "# Using enumerate to get index and value\n",
    "names = [\"Alice\", \"Bob\", \"Charlie\"]\n",
    "for index, name in enumerate(names):\n",
    "    print(f\"Index {index}: {name}\")\n",
    "\n",
    "# Using zip to combine lists\n",
    "names = [\"Alice\", \"Bob\", \"Charlie\"]\n",
    "scores = [85, 90, 88]\n",
    "combined = list(zip(names, scores))\n",
    "print(\"Combined:\", combined)  # Output: [('Alice', 85), ('Bob', 90), ('Charlie', 88)]\n"
   ]
  },
  {
   "cell_type": "markdown",
   "id": "5a7778a9",
   "metadata": {},
   "source": [
    "## 13. List Manipulation with filter and map"
   ]
  },
  {
   "cell_type": "code",
   "execution_count": null,
   "id": "7dc66624",
   "metadata": {},
   "outputs": [],
   "source": [
    "# Using filter to select elements\n",
    "numbers = [1, 2, 3, 4, 5, 6]\n",
    "even_numbers = list(filter(lambda x: x % 2 == 0, numbers))\n",
    "print(\"Even numbers:\", even_numbers)  # Output: [2, 4, 6]\n",
    "\n",
    "# Using map to apply a function\n",
    "squared_numbers = list(map(lambda x: x ** 2, numbers))\n",
    "print(\"Squared numbers:\", squared_numbers)  # Output: [1, 4, 9, 16, 25, 36]\n"
   ]
  },
  {
   "cell_type": "markdown",
   "id": "a57b0ea7",
   "metadata": {},
   "source": [
    "## 14. Control Flow with Context Managers and with Statement"
   ]
  },
  {
   "cell_type": "code",
   "execution_count": null,
   "id": "668364ea",
   "metadata": {},
   "outputs": [],
   "source": [
    "# Context manager with file handling\n",
    "class ManagedFile:\n",
    "    def __init__(self, filename, mode):\n",
    "        self.filename = filename\n",
    "        self.mode = mode\n",
    "    \n",
    "    def __enter__(self):\n",
    "        self.file = open(self.filename, self.mode)\n",
    "        return self.file\n",
    "    \n",
    "    def __exit__(self, exc_type, exc_value, traceback):\n",
    "        if exc_type:\n",
    "            print(f\"An error occurred: {exc_value}\")\n",
    "        self.file.close()\n",
    "        return True  # Suppress exceptions\n",
    "\n",
    "# Using the context manager\n",
    "with ManagedFile('example.txt', 'w') as file:\n",
    "    file.write(\"Hello, world!\")\n",
    "    raise RuntimeError(\"Test exception\")\n",
    "# Output: An error occurred: Test exception\n"
   ]
  },
  {
   "cell_type": "code",
   "execution_count": null,
   "id": "94e57058",
   "metadata": {},
   "outputs": [],
   "source": [
    "## 15. Control Flow with Functions"
   ]
  },
  {
   "cell_type": "code",
   "execution_count": null,
   "id": "c9a68dc2",
   "metadata": {},
   "outputs": [],
   "source": [
    "# Function with variable number of arguments\n",
    "def print_args(*args):\n",
    "    for arg in args:\n",
    "        print(arg)\n",
    "\n",
    "print_args(1, 2, 3, \"hello\", [1, 2, 3])\n",
    "# Output: 1, 2, 3, hello, [1, 2, 3]\n",
    "\n",
    "# Function with keyword arguments\n",
    "def print_kwargs(**kwargs):\n",
    "    for key, value in kwargs.items():\n",
    "        print(f\"{key}: {value}\")\n",
    "\n",
    "print_kwargs(name=\"Alice\", age=30)\n",
    "# Output: name: Alice, age: 30\n"
   ]
  }
 ],
 "metadata": {
  "kernelspec": {
   "display_name": "Python 3 (ipykernel)",
   "language": "python",
   "name": "python3"
  },
  "language_info": {
   "codemirror_mode": {
    "name": "ipython",
    "version": 3
   },
   "file_extension": ".py",
   "mimetype": "text/x-python",
   "name": "python",
   "nbconvert_exporter": "python",
   "pygments_lexer": "ipython3",
   "version": "3.11.5"
  }
 },
 "nbformat": 4,
 "nbformat_minor": 5
}
