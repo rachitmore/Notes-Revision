{
 "cells": [
  {
   "cell_type": "markdown",
   "id": "403ab345",
   "metadata": {},
   "source": [
    "## Writing to Files"
   ]
  },
  {
   "cell_type": "code",
   "execution_count": 1,
   "id": "192907dc",
   "metadata": {},
   "outputs": [],
   "source": [
    "# Open a file in write mode\n",
    "file = open(\"example.txt\", \"w\")\n",
    "\n",
    "# Write content to the file\n",
    "file.write(\"Hello, World!\")\n",
    "\n",
    "# Close the file\n",
    "file.close()\n"
   ]
  },
  {
   "cell_type": "markdown",
   "id": "90243a91",
   "metadata": {},
   "source": [
    "## Opening and Closing Files"
   ]
  },
  {
   "cell_type": "code",
   "execution_count": 2,
   "id": "65817980",
   "metadata": {},
   "outputs": [
    {
     "name": "stdout",
     "output_type": "stream",
     "text": [
      "Hello, World!\n"
     ]
    }
   ],
   "source": [
    "# Open a file in read mode\n",
    "file = open(\"example.txt\", \"r\")\n",
    "\n",
    "# Read the content of the file\n",
    "content = file.read()\n",
    "print(content)\n",
    "\n",
    "# Close the file\n",
    "file.close()\n"
   ]
  },
  {
   "cell_type": "markdown",
   "id": "313df6f6",
   "metadata": {},
   "source": [
    "## Appending to Files"
   ]
  },
  {
   "cell_type": "code",
   "execution_count": 3,
   "id": "b23d59f1",
   "metadata": {},
   "outputs": [],
   "source": [
    "# Open a file in append mode\n",
    "file = open(\"example.txt\", \"a\")\n",
    "\n",
    "# Append content to the file\n",
    "file.write(\"\\nAppending this line.\")\n",
    "\n",
    "# Close the file\n",
    "file.close()\n"
   ]
  },
  {
   "cell_type": "markdown",
   "id": "53595471",
   "metadata": {},
   "source": [
    "## Writing Multiple Lines to a File"
   ]
  },
  {
   "cell_type": "code",
   "execution_count": 4,
   "id": "80bc2f36",
   "metadata": {},
   "outputs": [],
   "source": [
    "lines = [\"First line\\n\", \"Second line\\n\", \"Third line\\n\"]\n",
    "with open(\"example.txt\", \"w\") as file:\n",
    "    file.writelines(lines)\n"
   ]
  },
  {
   "cell_type": "markdown",
   "id": "394ff22b",
   "metadata": {},
   "source": [
    "## Reading Files Line by Line"
   ]
  },
  {
   "cell_type": "code",
   "execution_count": 5,
   "id": "ed7c40d7",
   "metadata": {},
   "outputs": [
    {
     "name": "stdout",
     "output_type": "stream",
     "text": [
      "First line\n",
      "Second line\n",
      "Third line\n"
     ]
    }
   ],
   "source": [
    "with open(\"example.txt\", \"r\") as file:\n",
    "    for line in file:\n",
    "        print(line.strip())  # strip() to remove newline characters\n"
   ]
  },
  {
   "cell_type": "markdown",
   "id": "a8afc656",
   "metadata": {},
   "source": [
    "## File Modes"
   ]
  },
  {
   "cell_type": "code",
   "execution_count": 6,
   "id": "26ce43b6",
   "metadata": {},
   "outputs": [],
   "source": [
    "# Read mode\n",
    "file = open(\"example.txt\", \"r\")\n",
    "file.close()\n",
    "\n",
    "# Write mode (creates a new file or truncates existing file)\n",
    "file = open(\"example.txt\", \"w\")\n",
    "file.close()\n",
    "\n",
    "# Append mode (creates a new file if it doesn't exist)\n",
    "file = open(\"example.txt\", \"a\")\n",
    "file.close()\n",
    "\n",
    "# Read and write mode\n",
    "file = open(\"example.txt\", \"r+\")\n",
    "file.close()\n"
   ]
  },
  {
   "cell_type": "markdown",
   "id": "4a04e370",
   "metadata": {},
   "source": [
    "## Working with Binary Files"
   ]
  },
  {
   "cell_type": "code",
   "execution_count": 7,
   "id": "0a807991",
   "metadata": {},
   "outputs": [
    {
     "name": "stdout",
     "output_type": "stream",
     "text": [
      "b'\\x00\\xff'\n"
     ]
    }
   ],
   "source": [
    "# Writing to a binary file\n",
    "with open(\"example.bin\", \"wb\") as file:\n",
    "    file.write(b'\\x00\\xFF')\n",
    "\n",
    "# Reading from a binary file\n",
    "with open(\"example.bin\", \"rb\") as file:\n",
    "    byte = file.read()\n",
    "    print(byte)\n"
   ]
  },
  {
   "cell_type": "markdown",
   "id": "e489ee0e",
   "metadata": {},
   "source": [
    "## Using seek() and tell()"
   ]
  },
  {
   "cell_type": "code",
   "execution_count": 8,
   "id": "6d57b091",
   "metadata": {},
   "outputs": [
    {
     "name": "stdout",
     "output_type": "stream",
     "text": [
      "\n",
      "Current position: 5\n"
     ]
    }
   ],
   "source": [
    "with open(\"example.txt\", \"r\") as file:\n",
    "    # Move the cursor to the 5th byte\n",
    "    file.seek(5)\n",
    "    \n",
    "    # Read from the 5th byte onwards\n",
    "    content = file.read()\n",
    "    print(content)\n",
    "    \n",
    "    # Get the current position\n",
    "    position = file.tell()\n",
    "    print(f\"Current position: {position}\")\n"
   ]
  },
  {
   "cell_type": "markdown",
   "id": "303e755e",
   "metadata": {},
   "source": [
    "## Exception Handling in File Operations"
   ]
  },
  {
   "cell_type": "code",
   "execution_count": 9,
   "id": "a7f544c5",
   "metadata": {},
   "outputs": [
    {
     "name": "stdout",
     "output_type": "stream",
     "text": [
      "The file does not exist.\n"
     ]
    }
   ],
   "source": [
    "try:\n",
    "    with open(\"nonexistent.txt\", \"r\") as file:\n",
    "        content = file.read()\n",
    "except FileNotFoundError:\n",
    "    print(\"The file does not exist.\")\n"
   ]
  },
  {
   "cell_type": "code",
   "execution_count": null,
   "id": "a8a87480",
   "metadata": {},
   "outputs": [],
   "source": []
  },
  {
   "cell_type": "code",
   "execution_count": null,
   "id": "d6e7b653",
   "metadata": {},
   "outputs": [],
   "source": []
  },
  {
   "cell_type": "code",
   "execution_count": null,
   "id": "ac4da4d1",
   "metadata": {},
   "outputs": [],
   "source": []
  },
  {
   "cell_type": "code",
   "execution_count": null,
   "id": "7d304b24",
   "metadata": {},
   "outputs": [],
   "source": []
  },
  {
   "cell_type": "code",
   "execution_count": null,
   "id": "e53a524b",
   "metadata": {},
   "outputs": [],
   "source": []
  },
  {
   "cell_type": "code",
   "execution_count": null,
   "id": "1515b42a",
   "metadata": {},
   "outputs": [],
   "source": []
  },
  {
   "cell_type": "code",
   "execution_count": null,
   "id": "1db674f8",
   "metadata": {},
   "outputs": [],
   "source": []
  },
  {
   "cell_type": "code",
   "execution_count": null,
   "id": "0134f549",
   "metadata": {},
   "outputs": [],
   "source": []
  },
  {
   "cell_type": "code",
   "execution_count": null,
   "id": "c09abe94",
   "metadata": {},
   "outputs": [],
   "source": []
  },
  {
   "cell_type": "code",
   "execution_count": null,
   "id": "654ca019",
   "metadata": {},
   "outputs": [],
   "source": []
  },
  {
   "cell_type": "code",
   "execution_count": null,
   "id": "42c18099",
   "metadata": {},
   "outputs": [],
   "source": []
  },
  {
   "cell_type": "code",
   "execution_count": null,
   "id": "56180273",
   "metadata": {},
   "outputs": [],
   "source": []
  }
 ],
 "metadata": {
  "kernelspec": {
   "display_name": "Python 3 (ipykernel)",
   "language": "python",
   "name": "python3"
  },
  "language_info": {
   "codemirror_mode": {
    "name": "ipython",
    "version": 3
   },
   "file_extension": ".py",
   "mimetype": "text/x-python",
   "name": "python",
   "nbconvert_exporter": "python",
   "pygments_lexer": "ipython3",
   "version": "3.11.5"
  }
 },
 "nbformat": 4,
 "nbformat_minor": 5
}
