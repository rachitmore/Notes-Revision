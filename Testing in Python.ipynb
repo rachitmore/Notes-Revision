{
 "cells": [
  {
   "cell_type": "markdown",
   "id": "11932dad",
   "metadata": {},
   "source": [
    "## unittest Module"
   ]
  },
  {
   "cell_type": "code",
   "execution_count": 1,
   "id": "4d825b6b",
   "metadata": {},
   "outputs": [
    {
     "name": "stderr",
     "output_type": "stream",
     "text": [
      ".\n",
      "----------------------------------------------------------------------\n",
      "Ran 1 test in 0.004s\n",
      "\n",
      "OK\n"
     ]
    }
   ],
   "source": [
    "# Test Case\n",
    "import unittest\n",
    "\n",
    "def add(a, b):\n",
    "    return a + b\n",
    "\n",
    "class TestMathOperations(unittest.TestCase):\n",
    "    def test_add(self):\n",
    "        self.assertEqual(add(1, 2), 3)\n",
    "        self.assertEqual(add(-1, 1), 0)\n",
    "        self.assertEqual(add(-1, -1), -2)\n",
    "\n",
    "if __name__ == '__main__':\n",
    "    unittest.TextTestRunner().run(unittest.defaultTestLoader.loadTestsFromTestCase(TestMathOperations))\n",
    "\n"
   ]
  },
  {
   "cell_type": "code",
   "execution_count": 2,
   "id": "ff645726",
   "metadata": {},
   "outputs": [
    {
     "name": "stderr",
     "output_type": "stream",
     "text": [
      ".\n",
      "----------------------------------------------------------------------\n",
      "Ran 1 test in 0.001s\n",
      "\n",
      "OK\n"
     ]
    }
   ],
   "source": [
    "# Setup and Teardown\n",
    "import unittest\n",
    "\n",
    "class TestStringMethods(unittest.TestCase):\n",
    "    def setUp(self):\n",
    "        self.test_string = \"hello world\"\n",
    "\n",
    "    def test_upper(self):\n",
    "        self.assertEqual(self.test_string.upper(), \"HELLO WORLD\")\n",
    "\n",
    "    def test_isupper(self):\n",
    "        self.assertFalse(self.test_string.isupper())\n",
    "        self.assertTrue(\"HELLO\".isupper())\n",
    "\n",
    "    def tearDown(self):\n",
    "        self.test_string = \"\"\n",
    "\n",
    "if __name__ == '__main__':\n",
    "    unittest.TextTestRunner().run(unittest.defaultTestLoader.loadTestsFromTestCase(TestMathOperations))\n",
    "\n"
   ]
  },
  {
   "cell_type": "markdown",
   "id": "68725279",
   "metadata": {},
   "source": [
    "## pytest Module"
   ]
  },
  {
   "cell_type": "code",
   "execution_count": 3,
   "id": "48850aee",
   "metadata": {},
   "outputs": [],
   "source": [
    "# Test Function\n",
    "def add(a, b):\n",
    "    return a + b\n",
    "\n",
    "def test_add():\n",
    "    assert add(1, 2) == 3\n",
    "    assert add(-1, 1) == 0\n",
    "    assert add(-1, -1) == -2\n",
    "\n",
    "# Run this with the command: pytest <filename>.py\n"
   ]
  },
  {
   "cell_type": "code",
   "execution_count": 4,
   "id": "02574173",
   "metadata": {},
   "outputs": [],
   "source": [
    "# Using Fixtures\n",
    "import pytest\n",
    "\n",
    "@pytest.fixture\n",
    "def sample_data():\n",
    "    return {\"a\": 1, \"b\": 2, \"c\": 3}\n",
    "\n",
    "def test_sample_data(sample_data):\n",
    "    assert sample_data[\"a\"] == 1\n",
    "    assert sample_data[\"b\"] == 2\n",
    "    assert sample_data[\"c\"] == 3\n"
   ]
  },
  {
   "cell_type": "code",
   "execution_count": 5,
   "id": "d83d52c1",
   "metadata": {},
   "outputs": [],
   "source": [
    "# Parametrized Tests\n",
    "@pytest.mark.parametrize(\"a, b, expected\", [\n",
    "    (1, 2, 3),\n",
    "    (-1, 1, 0),\n",
    "    (-1, -1, -2),\n",
    "])\n",
    "def test_add(a, b, expected):\n",
    "    assert add(a, b) == expected\n"
   ]
  },
  {
   "cell_type": "markdown",
   "id": "2be2996c",
   "metadata": {},
   "source": [
    "## doctest Module"
   ]
  },
  {
   "cell_type": "code",
   "execution_count": 6,
   "id": "e5d7bcda",
   "metadata": {},
   "outputs": [],
   "source": [
    "# Simple Doctest\n",
    "def add(a, b):\n",
    "    \"\"\"\n",
    "    Adds two numbers and returns the result.\n",
    "\n",
    "    >>> add(1, 2)\n",
    "    3\n",
    "    >>> add(-1, 1)\n",
    "    0\n",
    "    >>> add(-1, -1)\n",
    "    -2\n",
    "    \"\"\"\n",
    "    return a + b\n",
    "\n",
    "if __name__ == \"__main__\":\n",
    "    import doctest\n",
    "    doctest.testmod()\n"
   ]
  },
  {
   "cell_type": "markdown",
   "id": "e52b4bd1",
   "metadata": {},
   "source": [
    "## Mocking"
   ]
  },
  {
   "cell_type": "code",
   "execution_count": 7,
   "id": "e731d8fb",
   "metadata": {},
   "outputs": [
    {
     "name": "stderr",
     "output_type": "stream",
     "text": [
      ".\n",
      "----------------------------------------------------------------------\n",
      "Ran 1 test in 0.001s\n",
      "\n",
      "OK\n"
     ]
    }
   ],
   "source": [
    "# Mocking an Object\n",
    "import unittest\n",
    "from unittest.mock import MagicMock\n",
    "\n",
    "class TestClass(unittest.TestCase):\n",
    "    def test_mocking(self):\n",
    "        mock = MagicMock()\n",
    "        mock.method.return_value = \"mocked!\"\n",
    "        self.assertEqual(mock.method(), \"mocked!\")\n",
    "\n",
    "if __name__ == '__main__':\n",
    "    unittest.TextTestRunner().run(unittest.defaultTestLoader.loadTestsFromTestCase(TestMathOperations))\n",
    "\n"
   ]
  },
  {
   "cell_type": "markdown",
   "id": "1d63562b",
   "metadata": {},
   "source": [
    "## Exercises"
   ]
  },
  {
   "cell_type": "markdown",
   "id": "919eb47e",
   "metadata": {},
   "source": [
    "### 1. Write a test case using unittest to test a function that multiplies two numbers."
   ]
  },
  {
   "cell_type": "code",
   "execution_count": 8,
   "id": "19eb88d9",
   "metadata": {},
   "outputs": [
    {
     "name": "stderr",
     "output_type": "stream",
     "text": [
      ".\n",
      "----------------------------------------------------------------------\n",
      "Ran 1 test in 0.002s\n",
      "\n",
      "OK\n"
     ]
    }
   ],
   "source": [
    "import unittest\n",
    "\n",
    "def multiply(a, b):\n",
    "    return a * b\n",
    "\n",
    "class TestMathOperations(unittest.TestCase):\n",
    "    def test_multiply(self):\n",
    "        self.assertEqual(multiply(2, 3), 6)\n",
    "        self.assertEqual(multiply(-1, 5), -5)\n",
    "        self.assertEqual(multiply(-2, -2), 4)\n",
    "\n",
    "if __name__ == '__main__':\n",
    "    unittest.TextTestRunner().run(unittest.defaultTestLoader.loadTestsFromTestCase(TestMathOperations))\n",
    "\n"
   ]
  },
  {
   "cell_type": "markdown",
   "id": "2a3d83a2",
   "metadata": {},
   "source": [
    "### 2. Write a simple test using pytest for a function that subtracts two numbers."
   ]
  },
  {
   "cell_type": "code",
   "execution_count": 9,
   "id": "0b40a19e",
   "metadata": {},
   "outputs": [],
   "source": [
    "def subtract(a, b):\n",
    "    return a - b\n",
    "\n",
    "def test_subtract():\n",
    "    assert subtract(3, 2) == 1\n",
    "    assert subtract(-1, 1) == -2\n",
    "    assert subtract(-1, -1) == 0\n",
    "\n",
    "# Run this with the command: pytest <filename>.py\n"
   ]
  },
  {
   "cell_type": "markdown",
   "id": "236e166d",
   "metadata": {},
   "source": [
    "### 3. Write a pytest test using a fixture that provides a list of numbers and tests a function that returns the sum of the list."
   ]
  },
  {
   "cell_type": "code",
   "execution_count": 10,
   "id": "bf01d176",
   "metadata": {},
   "outputs": [],
   "source": [
    "import pytest\n",
    "\n",
    "@pytest.fixture\n",
    "def number_list():\n",
    "    return [1, 2, 3, 4, 5]\n",
    "\n",
    "def sum_list(numbers):\n",
    "    return sum(numbers)\n",
    "\n",
    "def test_sum_list(number_list):\n",
    "    assert sum_list(number_list) == 15\n"
   ]
  },
  {
   "cell_type": "markdown",
   "id": "0c7e60d6",
   "metadata": {},
   "source": [
    "### 4. Write a unittest test case with setup and teardown methods for a class that represents a simple bank account."
   ]
  },
  {
   "cell_type": "code",
   "execution_count": 11,
   "id": "66389ed0",
   "metadata": {},
   "outputs": [
    {
     "name": "stderr",
     "output_type": "stream",
     "text": [
      ".\n",
      "----------------------------------------------------------------------\n",
      "Ran 1 test in 0.001s\n",
      "\n",
      "OK\n"
     ]
    }
   ],
   "source": [
    "import unittest\n",
    "\n",
    "class BankAccount:\n",
    "    def __init__(self, initial_balance=0):\n",
    "        self.balance = initial_balance\n",
    "\n",
    "    def deposit(self, amount):\n",
    "        self.balance += amount\n",
    "\n",
    "    def withdraw(self, amount):\n",
    "        if amount <= self.balance:\n",
    "            self.balance -= amount\n",
    "            return amount\n",
    "        else:\n",
    "            raise ValueError(\"Insufficient funds\")\n",
    "\n",
    "    def get_balance(self):\n",
    "        return self.balance\n",
    "\n",
    "class TestBankAccount(unittest.TestCase):\n",
    "    def setUp(self):\n",
    "        self.account = BankAccount(100)\n",
    "\n",
    "    def test_deposit(self):\n",
    "        self.account.deposit(50)\n",
    "        self.assertEqual(self.account.get_balance(), 150)\n",
    "\n",
    "    def test_withdraw(self):\n",
    "        self.account.withdraw(30)\n",
    "        self.assertEqual(self.account.get_balance(), 70)\n",
    "\n",
    "    def test_insufficient_funds(self):\n",
    "        with self.assertRaises(ValueError):\n",
    "            self.account.withdraw(200)\n",
    "\n",
    "    def tearDown(self):\n",
    "        del self.account\n",
    "\n",
    "if __name__ == '__main__':\n",
    "    unittest.TextTestRunner().run(unittest.defaultTestLoader.loadTestsFromTestCase(TestMathOperations))\n",
    "\n"
   ]
  },
  {
   "cell_type": "markdown",
   "id": "b5e5e445",
   "metadata": {},
   "source": [
    "### 5. Write a doctest for a function that calculates the factorial of a number."
   ]
  },
  {
   "cell_type": "code",
   "execution_count": 12,
   "id": "01e9bdb3",
   "metadata": {},
   "outputs": [],
   "source": [
    "import doctest\n",
    "def factorial(n):\n",
    "    \"\"\"\n",
    "    Returns the factorial of a given number.\n",
    "\n",
    "    >>> factorial(5)\n",
    "    120\n",
    "    >>> factorial(0)\n",
    "    1\n",
    "    >>> factorial(3)\n",
    "    6\n",
    "    \"\"\"\n",
    "    if n == 0:\n",
    "        return 1\n",
    "    else:\n",
    "        return n * factorial(n-1)\n",
    "\n",
    "if __name__ == \"__main__\":\n",
    "    doctest.testmod()\n"
   ]
  },
  {
   "cell_type": "markdown",
   "id": "28d8d38f",
   "metadata": {},
   "source": [
    "### 6. Create a test using unittest.mock to mock a method in a class and assert that it was called with specific arguments."
   ]
  },
  {
   "cell_type": "code",
   "execution_count": 13,
   "id": "5e90574c",
   "metadata": {},
   "outputs": [
    {
     "name": "stderr",
     "output_type": "stream",
     "text": [
      ".\n",
      "----------------------------------------------------------------------\n",
      "Ran 1 test in 0.002s\n",
      "\n",
      "OK\n"
     ]
    }
   ],
   "source": [
    "import unittest\n",
    "from unittest.mock import MagicMock\n",
    "\n",
    "class MyClass:\n",
    "    def method(self, x):\n",
    "        return x + 1\n",
    "\n",
    "class TestMyClass(unittest.TestCase):\n",
    "    def test_method_call(self):\n",
    "        instance = MyClass()\n",
    "        instance.method = MagicMock(return_value=10)\n",
    "\n",
    "        result = instance.method(5)\n",
    "        instance.method.assert_called_with(5)\n",
    "        self.assertEqual(result, 10)\n",
    "\n",
    "if __name__ == '__main__':\n",
    "    unittest.TextTestRunner().run(unittest.defaultTestLoader.loadTestsFromTestCase(TestMathOperations))\n"
   ]
  },
  {
   "cell_type": "code",
   "execution_count": null,
   "id": "cc609047",
   "metadata": {},
   "outputs": [],
   "source": []
  },
  {
   "cell_type": "code",
   "execution_count": null,
   "id": "17343499",
   "metadata": {},
   "outputs": [],
   "source": []
  },
  {
   "cell_type": "code",
   "execution_count": null,
   "id": "4b2a9f4a",
   "metadata": {},
   "outputs": [],
   "source": []
  }
 ],
 "metadata": {
  "kernelspec": {
   "display_name": "Python 3 (ipykernel)",
   "language": "python",
   "name": "python3"
  },
  "language_info": {
   "codemirror_mode": {
    "name": "ipython",
    "version": 3
   },
   "file_extension": ".py",
   "mimetype": "text/x-python",
   "name": "python",
   "nbconvert_exporter": "python",
   "pygments_lexer": "ipython3",
   "version": "3.11.5"
  }
 },
 "nbformat": 4,
 "nbformat_minor": 5
}
