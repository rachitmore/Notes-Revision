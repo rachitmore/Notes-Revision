{
 "cells": [
  {
   "cell_type": "markdown",
   "id": "273b7778",
   "metadata": {},
   "source": [
    "## 1. Decorators"
   ]
  },
  {
   "cell_type": "code",
   "execution_count": 1,
   "id": "6f14129e",
   "metadata": {},
   "outputs": [
    {
     "name": "stdout",
     "output_type": "stream",
     "text": [
      "Something is happening before the function is called.\n",
      "Hello!\n",
      "Something is happening after the function is called.\n"
     ]
    }
   ],
   "source": [
    "# Function Decorators\n",
    "def my_decorator(func):\n",
    "    def wrapper():\n",
    "        print(\"Something is happening before the function is called.\")\n",
    "        func()\n",
    "        print(\"Something is happening after the function is called.\")\n",
    "    return wrapper\n",
    "\n",
    "@my_decorator\n",
    "def say_hello():\n",
    "    print(\"Hello!\")\n",
    "\n",
    "say_hello()\n",
    "# Output:\n",
    "# Something is happening before the function is called.\n",
    "# Hello!\n",
    "# Something is happening after the function is called.\n"
   ]
  },
  {
   "cell_type": "code",
   "execution_count": 2,
   "id": "1eda281d",
   "metadata": {},
   "outputs": [
    {
     "name": "stdout",
     "output_type": "stream",
     "text": [
      "Something is happening before the function is called.\n",
      "Hello, Alice!\n",
      "Something is happening after the function is called.\n"
     ]
    }
   ],
   "source": [
    "# Class Decorators\n",
    "class DecoratorClass:\n",
    "    def __init__(self, func):\n",
    "        self.func = func\n",
    "\n",
    "    def __call__(self, *args, **kwargs):\n",
    "        print(\"Something is happening before the function is called.\")\n",
    "        result = self.func(*args, **kwargs)\n",
    "        print(\"Something is happening after the function is called.\")\n",
    "        return result\n",
    "\n",
    "@DecoratorClass\n",
    "def say_hello(name):\n",
    "    print(f\"Hello, {name}!\")\n",
    "\n",
    "say_hello(\"Alice\")\n",
    "# Output:\n",
    "# Something is happening before the function is called.\n",
    "# Hello, Alice!\n",
    "# Something is happening after the function is called.\n"
   ]
  },
  {
   "cell_type": "markdown",
   "id": "d2cd28c5",
   "metadata": {},
   "source": [
    "## 2. Generators"
   ]
  },
  {
   "cell_type": "code",
   "execution_count": 3,
   "id": "4d4096d4",
   "metadata": {},
   "outputs": [
    {
     "name": "stdout",
     "output_type": "stream",
     "text": [
      "1\n",
      "2\n",
      "3\n"
     ]
    }
   ],
   "source": [
    "# Generator Functions\n",
    "def my_generator():\n",
    "    yield 1\n",
    "    yield 2\n",
    "    yield 3\n",
    "\n",
    "for value in my_generator():\n",
    "    print(value)\n",
    "# Output:\n",
    "# 1\n",
    "# 2\n",
    "# 3\n"
   ]
  },
  {
   "cell_type": "code",
   "execution_count": 4,
   "id": "a9b51e0a",
   "metadata": {},
   "outputs": [
    {
     "name": "stdout",
     "output_type": "stream",
     "text": [
      "0\n",
      "1\n",
      "4\n"
     ]
    }
   ],
   "source": [
    "# Generator Expressions\n",
    "my_gen = (x * x for x in range(3))\n",
    "for value in my_gen:\n",
    "    print(value)\n",
    "# Output:\n",
    "# 0\n",
    "# 1\n",
    "# 4"
   ]
  },
  {
   "cell_type": "markdown",
   "id": "1f322baa",
   "metadata": {},
   "source": [
    "## 3. Context Managers"
   ]
  },
  {
   "cell_type": "code",
   "execution_count": 5,
   "id": "3543ad40",
   "metadata": {},
   "outputs": [],
   "source": [
    "# Using with Statement\n",
    "with open(\"example.txt\", \"w\") as file:\n",
    "    file.write(\"Hello, World!\")\n",
    "# No need to explicitly close the file\n"
   ]
  },
  {
   "cell_type": "code",
   "execution_count": 6,
   "id": "76d990b3",
   "metadata": {},
   "outputs": [
    {
     "name": "stdout",
     "output_type": "stream",
     "text": [
      "Entering the context\n",
      "Inside the context\n",
      "Exiting the context\n"
     ]
    }
   ],
   "source": [
    "# Custom Context Managers\n",
    "class MyContextManager:\n",
    "    def __enter__(self):\n",
    "        print(\"Entering the context\")\n",
    "        return self\n",
    "\n",
    "    def __exit__(self, exc_type, exc_val, exc_tb):\n",
    "        print(\"Exiting the context\")\n",
    "\n",
    "with MyContextManager():\n",
    "    print(\"Inside the context\")\n",
    "# Output:\n",
    "# Entering the context\n",
    "# Inside the context\n",
    "# Exiting the context\n"
   ]
  },
  {
   "cell_type": "code",
   "execution_count": 7,
   "id": "e1fee762",
   "metadata": {},
   "outputs": [
    {
     "name": "stdout",
     "output_type": "stream",
     "text": [
      "Entering the context\n",
      "Inside the context\n",
      "Exiting the context\n"
     ]
    }
   ],
   "source": [
    "# Custom Context Manager Using contextlib\n",
    "from contextlib import contextmanager\n",
    "\n",
    "@contextmanager\n",
    "def my_context():\n",
    "    print(\"Entering the context\")\n",
    "    yield\n",
    "    print(\"Exiting the context\")\n",
    "\n",
    "with my_context():\n",
    "    print(\"Inside the context\")\n",
    "# Output:\n",
    "# Entering the context\n",
    "# Inside the context\n",
    "# Exiting the context\n"
   ]
  },
  {
   "cell_type": "markdown",
   "id": "12fbaf69",
   "metadata": {},
   "source": [
    "## 4. Metaclasses"
   ]
  },
  {
   "cell_type": "code",
   "execution_count": 8,
   "id": "d6de408b",
   "metadata": {},
   "outputs": [
    {
     "name": "stdout",
     "output_type": "stream",
     "text": [
      "Hello from MyClass\n"
     ]
    }
   ],
   "source": [
    "# Custom Metaclass\n",
    "class MyMeta(type):\n",
    "    def __new__(cls, name, bases, dct):\n",
    "        dct['greet'] = lambda self: print(f\"Hello from {name}\")\n",
    "        return super().__new__(cls, name, bases, dct)\n",
    "\n",
    "class MyClass(metaclass=MyMeta):\n",
    "    pass\n",
    "\n",
    "instance = MyClass()\n",
    "instance.greet()  # Output: Hello from MyClass\n"
   ]
  },
  {
   "cell_type": "markdown",
   "id": "763f7db3",
   "metadata": {},
   "source": [
    "## 5. Concurrency and Parallelism"
   ]
  },
  {
   "cell_type": "code",
   "execution_count": 9,
   "id": "56d9706e",
   "metadata": {},
   "outputs": [
    {
     "name": "stdout",
     "output_type": "stream",
     "text": [
      "0\n",
      "1\n",
      "2\n",
      "3\n",
      "4\n"
     ]
    }
   ],
   "source": [
    "# Using threading Module\n",
    "import threading\n",
    "\n",
    "def print_numbers():\n",
    "    for i in range(5):\n",
    "        print(i)\n",
    "\n",
    "thread = threading.Thread(target=print_numbers)\n",
    "thread.start()\n",
    "thread.join()\n"
   ]
  },
  {
   "cell_type": "code",
   "execution_count": 10,
   "id": "5afca424",
   "metadata": {},
   "outputs": [],
   "source": [
    "# Using multiprocessing Module\n",
    "from multiprocessing import Process\n",
    "\n",
    "def print_numbers():\n",
    "    for i in range(5):\n",
    "        print(i)\n",
    "\n",
    "process = Process(target=print_numbers)\n",
    "process.start()\n",
    "process.join()\n"
   ]
  },
  {
   "cell_type": "code",
   "execution_count": 11,
   "id": "04f32cb4",
   "metadata": {},
   "outputs": [
    {
     "name": "stdout",
     "output_type": "stream",
     "text": [
      "0\n",
      "1\n",
      "2\n",
      "3\n",
      "4\n"
     ]
    }
   ],
   "source": [
    "# Using asyncio for Asynchronous Programming\n",
    "import asyncio\n",
    "import nest_asyncio\n",
    "\n",
    "nest_asyncio.apply()\n",
    "\n",
    "async def print_numbers():\n",
    "    for i in range(5):\n",
    "        print(i)\n",
    "        await asyncio.sleep(1)\n",
    "\n",
    "asyncio.run(print_numbers())\n"
   ]
  },
  {
   "cell_type": "markdown",
   "id": "90537c02",
   "metadata": {},
   "source": [
    "## Exercises"
   ]
  },
  {
   "cell_type": "markdown",
   "id": "25900888",
   "metadata": {},
   "source": [
    "### 1. Write a function decorator that logs the execution time of a function."
   ]
  },
  {
   "cell_type": "code",
   "execution_count": 12,
   "id": "12eea271",
   "metadata": {},
   "outputs": [
    {
     "name": "stdout",
     "output_type": "stream",
     "text": [
      "Function example_function executed in 2.0184504985809326 seconds\n"
     ]
    }
   ],
   "source": [
    "import time\n",
    "\n",
    "def timing_decorator(func):\n",
    "    def wrapper(*args, **kwargs):\n",
    "        start_time = time.time()\n",
    "        result = func(*args, **kwargs)\n",
    "        end_time = time.time()\n",
    "        print(f\"Function {func.__name__} executed in {end_time - start_time} seconds\")\n",
    "        return result\n",
    "    return wrapper\n",
    "\n",
    "@timing_decorator\n",
    "def example_function():\n",
    "    time.sleep(2)\n",
    "\n",
    "example_function()\n"
   ]
  },
  {
   "cell_type": "markdown",
   "id": "e56e23b0",
   "metadata": {},
   "source": [
    "### 2. Write a generator function that yields the Fibonacci sequence up to n terms."
   ]
  },
  {
   "cell_type": "code",
   "execution_count": 13,
   "id": "7fdfbb02",
   "metadata": {},
   "outputs": [
    {
     "name": "stdout",
     "output_type": "stream",
     "text": [
      "0\n",
      "1\n",
      "1\n",
      "2\n",
      "3\n",
      "5\n",
      "8\n",
      "13\n",
      "21\n",
      "34\n"
     ]
    }
   ],
   "source": [
    "def fibonacci(n):\n",
    "    a, b = 0, 1\n",
    "    for _ in range(n):\n",
    "        yield a\n",
    "        a, b = b, a + b\n",
    "\n",
    "for num in fibonacci(10):\n",
    "    print(num)\n"
   ]
  },
  {
   "cell_type": "markdown",
   "id": "a34f204c",
   "metadata": {},
   "source": [
    "### 3. Create a custom context manager to manage a database connection."
   ]
  },
  {
   "cell_type": "code",
   "execution_count": 14,
   "id": "b1f9cb12",
   "metadata": {},
   "outputs": [
    {
     "name": "stdout",
     "output_type": "stream",
     "text": [
      "Connecting to database my_database\n",
      "Using Connection to my_database\n",
      "Closing database connection to my_database\n"
     ]
    }
   ],
   "source": [
    "class DatabaseConnection:\n",
    "    def __init__(self, db_name):\n",
    "        self.db_name = db_name\n",
    "\n",
    "    def __enter__(self):\n",
    "        print(f\"Connecting to database {self.db_name}\")\n",
    "        # Simulate database connection\n",
    "        self.connection = f\"Connection to {self.db_name}\"\n",
    "        return self.connection\n",
    "\n",
    "    def __exit__(self, exc_type, exc_val, exc_tb):\n",
    "        print(f\"Closing database connection to {self.db_name}\")\n",
    "        # Simulate closing database connection\n",
    "\n",
    "with DatabaseConnection(\"my_database\") as conn:\n",
    "    print(f\"Using {conn}\")\n",
    "# Output:\n",
    "# Connecting to database my_database\n",
    "# Using Connection to my_database\n",
    "# Closing database connection to my_database\n"
   ]
  },
  {
   "cell_type": "markdown",
   "id": "cd23f091",
   "metadata": {},
   "source": [
    "### 4. Write a program that uses threading to print numbers from 1 to 5 from two different threads."
   ]
  },
  {
   "cell_type": "code",
   "execution_count": 15,
   "id": "4049c414",
   "metadata": {},
   "outputs": [
    {
     "name": "stdout",
     "output_type": "stream",
     "text": [
      "11\n",
      "2\n",
      "3\n",
      "4\n",
      "5\n",
      "\n",
      "2\n",
      "3\n",
      "4\n",
      "5\n"
     ]
    }
   ],
   "source": [
    "import threading\n",
    "\n",
    "def print_numbers():\n",
    "    for i in range(1, 6):\n",
    "        print(i)\n",
    "\n",
    "thread1 = threading.Thread(target=print_numbers)\n",
    "thread2 = threading.Thread(target=print_numbers)\n",
    "\n",
    "thread1.start()\n",
    "thread2.start()\n",
    "\n",
    "thread1.join()\n",
    "thread2.join()\n"
   ]
  },
  {
   "cell_type": "markdown",
   "id": "54a52106",
   "metadata": {},
   "source": [
    "### 5. Create a metaclass that automatically adds a created_at timestamp attribute to any class that uses it."
   ]
  },
  {
   "cell_type": "code",
   "execution_count": 16,
   "id": "c25cb192",
   "metadata": {},
   "outputs": [
    {
     "name": "stdout",
     "output_type": "stream",
     "text": [
      "1721444948.77736\n"
     ]
    }
   ],
   "source": [
    "import time\n",
    "\n",
    "class TimestampMeta(type):\n",
    "    def __new__(cls, name, bases, dct):\n",
    "        dct['created_at'] = time.time()\n",
    "        return super().__new__(cls, name, bases, dct)\n",
    "\n",
    "class MyClass(metaclass=TimestampMeta):\n",
    "    pass\n",
    "\n",
    "instance = MyClass()\n",
    "print(instance.created_at)\n"
   ]
  },
  {
   "cell_type": "markdown",
   "id": "400f9e5f",
   "metadata": {},
   "source": [
    "### 6. Write an asyncio program that fetches data from two different URLs concurrently."
   ]
  },
  {
   "cell_type": "code",
   "execution_count": 17,
   "id": "c59a5417",
   "metadata": {},
   "outputs": [
    {
     "name": "stdout",
     "output_type": "stream",
     "text": [
      "<!doctype html><html itemscope=\"\" itemtype=\"http://schema.org/WebPage\" lang=\"en-IN\"><head><meta content=\"text/html; charset=UTF-8\" http-equiv=\"Content-Type\"><meta content=\"/images/branding/googleg/1x/googleg_standard_color_128dp.png\" itemprop=\"image\"><title>Google</title><script nonce=\"36kLt8LMHSxqe-yAkybDfQ\">(function(){var _g={kEI:'bCqbZsTDOv6fhbIPrJWwoAI',kEXPI:'0,2504524,1195760,1097,5,21,448506,90132,2872,2891,8348,3406,31274,30022,34266,19872,95614,30212,2,16737,21266,1758,6700,41945,57737,2,2,1,26632,8155,23350,22436,9779,45601,17056,33565,39614,3030,15816,1804,7734,27535,13447,13494,15782,11107,15977,5212675,660,339,52,5991380,689,2839994,32,49,1,1,1,1,1,106,1,1,1,1,2,10,39,4,26710914,1270287,16672,43887,3,318,4,1281,3,2124363,23029351,8163,10336,2708,8028,2727,32033,5,1899,47381,2370,4832,1575,8048,2443,3355,15164,8182,149,10342,316,3579,6328,21806,5069,1840,5970,4115,7766,3818,6755,155,2,2482,13503,7736,6598,2,2539,1995,2605,206,122,3217,4,3004,2947,4613,4,3995,4032,4083,408,519,4408,3,85,362,5,821,1705,5634,687,2929,2298,456,993,1119,3,5,1766,1244,2695,4475,3813,2,1209,4,1275,4794,774,682,451,213,5401,270,171,1259,118,6114,313,56,1493,433,287,2,9,622,1458,1132,2,1,782,3,5,4312,250,294,374,30,5,2274,1864,125,1,6,1450,799,367,3,194,920,661,313,1,3,529,66,1792,2,2703,172,1810,1,6,304,1234,948,678,1919,99,24,684,689,536,249,3351,953,113,681,1660,530,846,230,302,462,17,56,22,2,285,641,79,51,810,125,574,29,69,557,1835,691,435,7,6,5,1008,263,268,702,4,1120,336,349,17,14,339,1292,3,4,4,119,1198,154,595,210,362,25,114,59,35,1,1,3,400,117,2,50,200,75,178,102,54,10,9,21,64,111,60,234,247,254,3,53,167,510,184,29,98,310,340,334,4,3,217,288,7,25,64,12,2,436,2,26,167,400,245,7,4956,3,99,4,933,3,79,32,2297,94,1964,505,136,2093,7,14,21162172,365638,3,980,5,9582,2,268,7499,2209,20,966,343,1428,402,12,29,1179,1503',kBL:'_KQ7',kOPI:89978449};(function(){var a;((a=window.google)==null?0:a.stvsc)?google.kEI=_g.kEI:window.google=_g;}).call(this);})();(function(){google.sn='webhp';google.kHL='en-IN';})();(function(){\n",
      "var h=this||self;function l(){return window.google!==void 0&&window.google.kOPI!==void 0&&window.google.kOPI!==0?window.google.kOPI:null};var m,n=[];function p(a){for(var b;a&&(!a.getAttribute||!(b=a.getAttribute(\"eid\")));)a=a.parentNode;return b||m}function q(a){for(var b=null;a&&(!a.getAttribute||!(b=a.getAttribute(\"leid\")));)a=a.parentNode;return b}function r(a){/^http:/i.test(a)&&window.location.protocol===\"https:\"&&(google.ml&&google.ml(Error(\"a\"),!1,{src:a,glmm:1}),a=\"\");return a}\n",
      "function t(a,b,c,d,k){var e=\"\";b.search(\"&ei=\")===-1&&(e=\"&ei=\"+p(d),b.search(\"&lei=\")===-1&&(d=q(d))&&(e+=\"&lei=\"+d));d=\"\";var g=b.search(\"&cshid=\")===-1&&a!==\"slh\",f=[];f.push([\"zx\",Date.now().toString()]);h._cshid&&g&&f.push([\"cshid\",h._cshid]);c=c();c!=null&&f.push([\"opi\",c.toString()]);for(c=0;c<f.length;c++){if(c===0||c>0)d+=\"&\";d+=f[c][0]+\"=\"+f[c][1]}return\"/\"+(k||\"gen_204\")+\"?atyp=i&ct=\"+String(a)+\"&cad=\"+(b+e+d)};m=google.kEI;google.getEI=p;google.getLEI=q;google.ml=function(){return null};google.log=function(a,b,c,d,k,e){e=e===void 0?l:e;c||(c=t(a,b,e,d,k));if(c=r(c)){a=new Image;var g=n.length;n[g]=a;a.onerror=a.onload=a.onabort=function(){delete n[g]};a.src=c}};google.logUrl=function(a,b){b=b===void 0?l:b;return t(\"\",a,b)};}).call(this);(function(){google.y={};google.sy=[];var d;(d=google).x||(d.x=function(a,b){if(a)var c=a.id;else{do c=Math.random();while(google.y[c])}google.y[c]=[a,b];return!1});var e;(e=google).sx||(e.sx=function(a){google.sy.push(a)});google.lm=[];var f;(f=google).plm||(f.plm=function(a){google.lm.push.apply(google.lm,a)});google.lq=[];var g;(g=google).load||(g.load=function(a,b,c){google.lq.push([[a],b,c])});var h;(h=google).loadAll||(h.loadAll=function(a,b){google.lq.push([a,b])});google.bx=!1;var k;(k=google).lx||(k.lx=function(){});var l=[],m;(m=google).fce||(m.fce=function(a,b,c,n){l.push([a,b,c,n])});google.qce=l;}).call(this);google.f={};(function(){\n",
      "document.documentElement.addEventListener(\"submit\",function(b){var a;if(a=b.target){var c=a.getAttribute(\"data-submitfalse\");a=c===\"1\"||c===\"q\"&&!a.elements.q.value?!0:!1}else a=!1;a&&(b.preventDefault(),b.stopPropagation())},!0);document.documentElement.addEventListener(\"click\",function(b){var a;a:{for(a=b.target;a&&a!==document.documentElement;a=a.parentElement)if(a.tagName===\"A\"){a=a.getAttribute(\"data-nohref\")===\"1\";break a}a=!1}a&&b.preventDefault()},!0);}).call(this);</script><style>#gbar,#guser{font-size:13px;padding-top:1px !important;}#gbar{height:22px}#guser{padding-bottom:7px !important;text-align:right}.gbh,.gbd{border-top:1px solid #c9d7f1;font-size:1px}.gbh{height:0;position:absolute;top:24px;width:100%}@media all{.gb1{height:22px;margin-right:.5em;vertical-align:top}#gbar{float:left}}a.gb1,a.gb4{text-decoration:underline !important}a.gb1,a.gb4{color:#00c !important}.gbi .gb4{color:#dd8e27 !important}.gbf .gb4{color:#900 !important}\n",
      "</style><style>body,td,a,p,.h{font-family:arial,sans-serif}body{margin:0;overflow-y:scroll}#gog{padding:3px 8px 0}td{line-height:.8em}.gac_m td{line-height:17px}form{margin-bottom:20px}.h{color:#1967d2}em{font-weight:bold;font-style:normal}.lst{height:25px;width:496px}.gsfi,.lst{font:18px arial,sans-serif}.gsfs{font:17px arial,sans-serif}.ds{display:inline-box;display:inline-block;margin:3px 0 4px;margin-left:4px}input{font-family:inherit}body{background:#fff;color:#000}a{color:#681da8;text-decoration:none}a:hover,a:active{text-decoration:underline}.fl a{color:#1967d2}a:visited{color:#681da8}.sblc{padding-top:5px}.sblc a{display:block;margin:2px 0;margin-left:13px;font-size:11px}.lsbb{background:#f8f9fa;border:solid 1px;border-color:#dadce0 #70757a #70757a #dadce0;height:30px}.lsbb{display:block}#WqQANb a{display:inline-block;margin:0 12px}.lsb{background:url(/images/nav_logo229.png) 0 -261px repeat-x;color:#000;border:none;cursor:pointer;height:30px;margin:0;outline:0;font:15px arial,sans-serif;vertical-align:top}.lsb:active{background:#dadce0}.lst:focus{outline:none}</style><script nonce=\"36kLt8LMHSxqe-yAkybDfQ\">(function(){window.google.erd={jsr:1,bv:2046,de:true};\n",
      "var h=this||self;var k,l=(k=h.mei)!=null?k:1,n,p=(n=h.sdo)!=null?n:!0,q=0,r,t=google.erd,v=t.jsr;google.ml=function(a,b,d,m,e){e=e===void 0?2:e;b&&(r=a&&a.message);d===void 0&&(d={});d.cad=\"ple_\"+google.ple+\".aple_\"+google.aple;if(google.dl)return google.dl(a,e,d,!0),null;b=d;if(v<0){window.console&&console.error(a,b);if(v===-2)throw a;b=!1}else b=!a||!a.message||a.message===\"Error loading script\"||q>=l&&!m?!1:!0;if(!b)return null;q++;d=d||{};b=encodeURIComponent;var c=\"/gen_204?atyp=i&ei=\"+b(google.kEI);google.kEXPI&&(c+=\"&jexpid=\"+b(google.kEXPI));c+=\"&srcpg=\"+b(google.sn)+\"&jsr=\"+b(t.jsr)+\n",
      "\"&bver=\"+b(t.bv);var f=a.lineNumber;f!==void 0&&(c+=\"&line=\"+f);var g=a.fileName;g&&(g.indexOf(\"-extension:/\")>0&&(e=3),c+=\"&script=\"+b(g),f&&g===window.location.href&&(f=document.documentElement.outerHTML.split(\"\\n\")[f],c+=\"&cad=\"+b(f?f.substring(0,300):\"No script found.\")));google.ple&&google.ple===1&&(e=2);c+=\"&jsel=\"+e;for(var u in d)c+=\"&\",c+=b(u),c+=\"=\",c+=b(d[u]);c=c+\"&emsg=\"+b(a.name+\": \"+a.message);c=c+\"&jsst=\"+b(a.stack||\"N/A\");c.length>=12288&&(c=c.substr(0,12288));a=c;m||google.log(0,\"\",a);return a};window.onerror=function(a,b,d,m,e){r!==a&&(a=e instanceof Error?e:Error(a),d===void 0||\"lineNumber\"in a||(a.lineNumber=d),b===void 0||\"fileName\"in a||(a.fileName=b),google.ml(a,!1,void 0,!1,a.name===\"SyntaxError\"||a.message.substring(0,11)===\"SyntaxError\"||a.message.indexOf(\"Script error\")!==-1?3:0));r=null;p&&q>=l&&(window.onerror=null)};})();</script></head><body bgcolor=\"#fff\"><script nonce=\"36kLt8LMHSxqe-yAkybDfQ\">(function(){var src='/images/nav_logo229.png';var iesg=false;document.body.onload = function(){window.n && window.n();if (document.images){new Image().src=src;}\n",
      "if (!iesg){document.f&&document.f.q.focus();document.gbqf&&document.gbqf.q.focus();}\n",
      "}\n",
      "})();</script><div id=\"mngb\"><div id=gbar><nobr><b class=gb1>Search</b> <a class=gb1 href=\"https://www.google.com/imghp?hl=en&tab=wi\">Images</a> <a class=gb1 href=\"http://maps.google.co.in/maps?hl=en&tab=wl\">Maps</a> <a class=gb1 href=\"https://play.google.com/?hl=en&tab=w8\">Play</a> <a class=gb1 href=\"https://www.youtube.com/?tab=w1\">YouTube</a> <a class=gb1 href=\"https://news.google.com/?tab=wn\">News</a> <a class=gb1 href=\"https://mail.google.com/mail/?tab=wm\">Gmail</a> <a class=gb1 href=\"https://drive.google.com/?tab=wo\">Drive</a> <a class=gb1 style=\"text-decoration:none\" href=\"https://www.google.co.in/intl/en/about/products?tab=wh\"><u>More</u> &raquo;</a></nobr></div><div id=guser width=100%><nobr><span id=gbn class=gbi></span><span id=gbf class=gbf></span><span id=gbe></span><a href=\"http://www.google.co.in/history/optout?hl=en\" class=gb4>Web History</a> | <a  href=\"/preferences?hl=en\" class=gb4>Settings</a> | <a target=_top id=gb_70 href=\"https://accounts.google.com/ServiceLogin?hl=en&passive=true&continue=http://www.google.com/&ec=GAZAAQ\" class=gb4>Sign in</a></nobr></div><div class=gbh style=left:0></div><div class=gbh style=right:0></div></div><center><br clear=\"all\" id=\"lgpd\"><div id=\"XjhHGf\"><img alt=\"Google\" height=\"92\" src=\"/images/branding/googlelogo/1x/googlelogo_white_background_color_272x92dp.png\" style=\"padding:28px 0 14px\" width=\"272\" id=\"hplogo\"><br><br></div><form action=\"/search\" name=\"f\"><table cellpadding=\"0\" cellspacing=\"0\"><tr valign=\"top\"><td width=\"25%\">&nbsp;</td><td align=\"center\" nowrap=\"\"><input name=\"ie\" value=\"ISO-8859-1\" type=\"hidden\"><input value=\"en-IN\" name=\"hl\" type=\"hidden\"><input name=\"source\" type=\"hidden\" value=\"hp\"><input name=\"biw\" type=\"hidden\"><input name=\"bih\" type=\"hidden\"><div class=\"ds\" style=\"height:32px;margin:4px 0\"><input class=\"lst\" style=\"margin:0;padding:5px 8px 0 6px;vertical-align:top;color:#000\" autocomplete=\"off\" value=\"\" title=\"Google Search\" maxlength=\"2048\" name=\"q\" size=\"57\"></div><br style=\"line-height:0\"><span class=\"ds\"><span class=\"lsbb\"><input class=\"lsb\" value=\"Google Search\" name=\"btnG\" type=\"submit\"></span></span><span class=\"ds\"><span class=\"lsbb\"><input class=\"lsb\" id=\"tsuid_1\" value=\"I'm Feeling Lucky\" name=\"btnI\" type=\"submit\"><script nonce=\"36kLt8LMHSxqe-yAkybDfQ\">(function(){var id='tsuid_1';document.getElementById(id).onclick = function(){if (this.form.q.value){this.checked = 1;if (this.form.iflsig)this.form.iflsig.disabled = false;}\n",
      "else top.location='/doodles/';};})();</script><input value=\"AL9hbdgAAAAAZps4fMQXsDGbiVHeG8nDfHD0I7_zcOn5\" name=\"iflsig\" type=\"hidden\"></span></span></td><td class=\"fl sblc\" align=\"left\" nowrap=\"\" width=\"25%\"><a href=\"/advanced_search?hl=en-IN&amp;authuser=0\">Advanced search</a></td></tr></table><input id=\"gbv\" name=\"gbv\" type=\"hidden\" value=\"1\"><script nonce=\"36kLt8LMHSxqe-yAkybDfQ\">(function(){var a,b=\"1\";if(document&&document.getElementById)if(typeof XMLHttpRequest!=\"undefined\")b=\"2\";else if(typeof ActiveXObject!=\"undefined\"){var c,d,e=[\"MSXML2.XMLHTTP.6.0\",\"MSXML2.XMLHTTP.3.0\",\"MSXML2.XMLHTTP\",\"Microsoft.XMLHTTP\"];for(c=0;d=e[c++];)try{new ActiveXObject(d),b=\"2\"}catch(h){}}a=b;if(a==\"2\"&&location.search.indexOf(\"&gbv=2\")==-1){var f=google.gbvu,g=document.getElementById(\"gbv\");g&&(g.value=a);f&&window.setTimeout(function(){location.href=f},0)};}).call(this);</script></form><div style=\"font-size:83%;min-height:3.5em\"><br><div id=\"gws-output-pages-elements-homepage_additional_languages__als\"><style>#gws-output-pages-elements-homepage_additional_languages__als{font-size:small;margin-bottom:24px}#SIvCob{color:#474747;display:inline-block;line-height:28px;}#SIvCob a{padding:0 3px;}.H6sW5{display:inline-block;margin:0 2px;white-space:nowrap}.z4hgWe{display:inline-block;margin:0 2px}</style><div id=\"SIvCob\">Google offered in:  <a href=\"http://www.google.com/setprefs?sig=0_aUIpxUWDC-AW19d7fLIYBLESlcU%3D&amp;hl=hi&amp;source=homepage&amp;sa=X&amp;ved=0ahUKEwjEqfSg0rSHAxX-T0EAHawKDCQQ2ZgBCAY\">&#2361;&#2367;&#2344;&#2381;&#2342;&#2368;</a>    <a href=\"http://www.google.com/setprefs?sig=0_aUIpxUWDC-AW19d7fLIYBLESlcU%3D&amp;hl=bn&amp;source=homepage&amp;sa=X&amp;ved=0ahUKEwjEqfSg0rSHAxX-T0EAHawKDCQQ2ZgBCAc\">&#2476;&#2494;&#2434;&#2482;&#2494;</a>    <a href=\"http://www.google.com/setprefs?sig=0_aUIpxUWDC-AW19d7fLIYBLESlcU%3D&amp;hl=te&amp;source=homepage&amp;sa=X&amp;ved=0ahUKEwjEqfSg0rSHAxX-T0EAHawKDCQQ2ZgBCAg\">&#3108;&#3142;&#3122;&#3137;&#3095;&#3137;</a>    <a href=\"http://www.google.com/setprefs?sig=0_aUIpxUWDC-AW19d7fLIYBLESlcU%3D&amp;hl=mr&amp;source=homepage&amp;sa=X&amp;ved=0ahUKEwjEqfSg0rSHAxX-T0EAHawKDCQQ2ZgBCAk\">&#2350;&#2352;&#2366;&#2336;&#2368;</a>    <a href=\"http://www.google.com/setprefs?sig=0_aUIpxUWDC-AW19d7fLIYBLESlcU%3D&amp;hl=ta&amp;source=homepage&amp;sa=X&amp;ved=0ahUKEwjEqfSg0rSHAxX-T0EAHawKDCQQ2ZgBCAo\">&#2980;&#2990;&#3007;&#2996;&#3021;</a>    <a href=\"http://www.google.com/setprefs?sig=0_aUIpxUWDC-AW19d7fLIYBLESlcU%3D&amp;hl=gu&amp;source=homepage&amp;sa=X&amp;ved=0ahUKEwjEqfSg0rSHAxX-T0EAHawKDCQQ2ZgBCAs\">&#2711;&#2753;&#2716;&#2736;&#2750;&#2724;&#2752;</a>    <a href=\"http://www.google.com/setprefs?sig=0_aUIpxUWDC-AW19d7fLIYBLESlcU%3D&amp;hl=kn&amp;source=homepage&amp;sa=X&amp;ved=0ahUKEwjEqfSg0rSHAxX-T0EAHawKDCQQ2ZgBCAw\">&#3221;&#3240;&#3277;&#3240;&#3233;</a>    <a href=\"http://www.google.com/setprefs?sig=0_aUIpxUWDC-AW19d7fLIYBLESlcU%3D&amp;hl=ml&amp;source=homepage&amp;sa=X&amp;ved=0ahUKEwjEqfSg0rSHAxX-T0EAHawKDCQQ2ZgBCA0\">&#3374;&#3378;&#3375;&#3390;&#3379;&#3330;</a>    <a href=\"http://www.google.com/setprefs?sig=0_aUIpxUWDC-AW19d7fLIYBLESlcU%3D&amp;hl=pa&amp;source=homepage&amp;sa=X&amp;ved=0ahUKEwjEqfSg0rSHAxX-T0EAHawKDCQQ2ZgBCA4\">&#2602;&#2672;&#2588;&#2622;&#2604;&#2624;</a>  </div></div></div><span id=\"footer\"><div style=\"font-size:10pt\"><div style=\"margin:19px auto;text-align:center\" id=\"WqQANb\"><a href=\"/intl/en/ads/\">Advertising</a><a href=\"http://www.google.co.in/services/\">Business Solutions</a><a href=\"/intl/en/about.html\">About Google</a><a href=\"http://www.google.com/setprefdomain?prefdom=IN&amp;prev=http://www.google.co.in/&amp;sig=K_wPjgYha_hcUAAHmOxjwzAqIW7ck%3D\">Google.co.in</a></div></div><p style=\"font-size:8pt;color:#70757a\">&copy; 2024 - <a href=\"/intl/en/policies/privacy/\">Privacy</a> - <a href=\"/intl/en/policies/terms/\">Terms</a></p></span></center><script nonce=\"36kLt8LMHSxqe-yAkybDfQ\">(function(){window.google.cdo={height:757,width:1440};(function(){var a=window.innerWidth,b=window.innerHeight;if(!a||!b){var c=window.document,d=c.compatMode==\"CSS1Compat\"?c.documentElement:c.body;a=d.clientWidth;b=d.clientHeight}\n",
      "if(a&&b&&(a!=google.cdo.width||b!=google.cdo.height)){var e=google,f=e.log,g=\"/client_204?&atyp=i&biw=\"+a+\"&bih=\"+b+\"&ei=\"+google.kEI,h=\"\",k=[],l=window.google!==void 0&&window.google.kOPI!==void 0&&window.google.kOPI!==0?window.google.kOPI:null;l!=null&&k.push([\"opi\",l.toString()]);for(var m=0;m<k.length;m++){if(m===0||m>0)h+=\"&\";h+=k[m][0]+\"=\"+k[m][1]}f.call(e,\"\",\"\",g+h)};}).call(this);})();</script>  <script nonce=\"36kLt8LMHSxqe-yAkybDfQ\">(function(){google.xjs={basecomb:'/xjs/_/js/k\\x3dxjs.hp.en.6w5w8p8p-8I.O/ck\\x3dxjs.hp.B-b3ColB-qM.L.X.O/am\\x3dAQAACAAAAAAAAAAAAAAAAAAAAAAAAgAAAAAAAACAAXAAAAAgACAQAAAAAAAHAAAAAAAAABACAMAABACAA_EdAYAAWAQAgBc/d\\x3d1/ed\\x3d1/dg\\x3d0/ujg\\x3d1/rs\\x3dACT90oE7A3-_u194hYyfjB2LxG5qZgJGuQ',basecss:'/xjs/_/ss/k\\x3dxjs.hp.B-b3ColB-qM.L.X.O/am\\x3dAQAACAAAAAAAAAAAAAAAAAAAAAAAAAAAAAAAAAAAAAAAAAAgACAQAAAAAAAAAAAAAAAAABACAMAABA/rs\\x3dACT90oH63_Rn2Qod2OsUH2ZGZqGDU8yRPA',basejs:'/xjs/_/js/k\\x3dxjs.hp.en.6w5w8p8p-8I.O/am\\x3dAAAAAAAAAAAAAAAAAAAAAAAAAAAAAgAAAAAAAACAAXAAAAAAAAAAAAAAAAAHAAAAAAAAAAAAAAAAAACAA_EdAYAAWAQAgBc/dg\\x3d0/rs\\x3dACT90oEHI3jYrs9f-89X5iG458zWhFqcMA',excm:[]};})();</script>  <link href=\"/xjs/_/ss/k=xjs.hp.B-b3ColB-qM.L.X.O/am=AQAACAAAAAAAAAAAAAAAAAAAAAAAAAAAAAAAAAAAAAAAAAAgACAQAAAAAAAAAAAAAAAAABACAMAABA/d=1/ed=1/rs=ACT90oH63_Rn2Qod2OsUH2ZGZqGDU8yRPA/m=sb_he,d\" rel=\"stylesheet\" nonce=\"36kLt8LMHSxqe-yAkybDfQ\">      <script nonce=\"36kLt8LMHSxqe-yAkybDfQ\">(function(){var u='/xjs/_/js/k\\x3dxjs.hp.en.6w5w8p8p-8I.O/am\\x3dAAAAAAAAAAAAAAAAAAAAAAAAAAAAAgAAAAAAAACAAXAAAAAAAAAAAAAAAAAHAAAAAAAAAAAAAAAAAACAA_EdAYAAWAQAgBc/d\\x3d1/ed\\x3d1/dg\\x3d3/rs\\x3dACT90oEHI3jYrs9f-89X5iG458zWhFqcMA/m\\x3dsb_he,d';var st=1;var amd=1000;var mmd=0;var pod=true;\n",
      "var f=this||self,g=function(a){return a};var h;var k=function(a){this.g=a};k.prototype.toString=function(){return this.g+\"\"};var l=function(a){return a instanceof k&&a.constructor===k?a.g:\"type_error:TrustedResourceUrl\"},m={};\n",
      "var n=/^\\s*(?!javascript:)(?:[\\w+.-]+:|[^:/?#]*(?:[/?#]|$))/i;var p=\"alternate author bookmark canonical cite help icon license modulepreload next prefetch dns-prefetch prerender preconnect preload prev search subresource\".split(\" \");function q(a,b){a.src=l(b);var c,d;(c=(b=(d=(c=(a.ownerDocument&&a.ownerDocument.defaultView||window).document).querySelector)==null?void 0:d.call(c,\"script[nonce]\"))?b.nonce||b.getAttribute(\"nonce\")||\"\":\"\")&&a.setAttribute(\"nonce\",c)};var r=function(a){var b=document;a=String(a);b.contentType===\"application/xhtml+xml\"&&(a=a.toLowerCase());return b.createElement(a)};function t(a){a=a===null?\"null\":a===void 0?\"undefined\":a;if(h===void 0){var b=null;var c=f.trustedTypes;if(c&&c.createPolicy){try{b=c.createPolicy(\"goog#html\",{createHTML:g,createScript:g,createScriptURL:g})}catch(d){f.console&&f.console.error(d.message)}h=b}else h=b}a=(b=h)?b.createScriptURL(a):a;return new k(a,m)};google.ps===void 0&&(google.ps=[]);function w(){var a=u,b=function(){};google.lx=google.stvsc?b:function(){x(a);google.lx=b};google.bx||google.lx()}function y(a,b){b&&q(a,t(b));var c=a.onload;a.onload=function(d){c&&c(d);google.ps=google.ps.filter(function(e){return a!==e})};google.ps.push(a);document.body.appendChild(a)}google.as=y;function x(a){google.timers&&google.timers.load&&google.tick&&google.tick(\"load\",\"xjsls\");var b=r(\"SCRIPT\");b.onerror=function(){google.ple=1};b.onload=function(){google.ple=0};google.xjsus=void 0;y(b,a);google.aple=-1;google.dp=!0}\n",
      "function z(){var a=[u];if(!google.dp){for(var b=0;b<a.length;b++){var c=r(\"LINK\"),d=c,e=t(a[b]);if(e instanceof k)d.href=l(e).toString(),d.rel=\"preload\";else{if(p.indexOf(\"preload\")===-1)throw Error(\"a`preload\");e=n.test(e)?e:void 0;e!==void 0&&(d.href=e,d.rel=\"preload\")}c.setAttribute(\"as\",\"script\");document.body.appendChild(c)}google.dp=!0}};function A(a){var b=a.getAttribute(\"jscontroller\");return(b===\"UBXHI\"||b===\"R3fhkb\"||b===\"TSZEqd\")&&a.hasAttribute(\"data-src\")}function B(){for(var a=document.getElementsByTagName(\"img\"),b=0,c=a.length;b<c;b++){var d=a[b];if(d.hasAttribute(\"data-lzy_\")&&Number(d.getAttribute(\"data-atf\"))&1&&!A(d))return!0}return!1}for(var C=document.getElementsByTagName(\"img\"),D=0,E=C.length;D<E;++D){var F=C[D];Number(F.getAttribute(\"data-atf\"))&1&&A(F)&&(F.src=F.getAttribute(\"data-src\"))};var G,H,I,J,K;function L(){google.xjsu=u;f._F_jsUrl=u;J=function(){w()};G=!1;H=(st===1||st===3)&&!!google.caft&&!B();I=(st===2||st===3)&&!!google.rairicb&&!B();K=pod}function M(){G||H||I||(J(),G=!0)}setTimeout(function(){google&&google.tick&&google.timers&&google.timers.load&&google.tick(\"load\",\"xjspls\");L();if(H||I){if(H){var a=function(){H=!1;M()};google.caft(a);window.setTimeout(a,amd)}I&&(a=function(){I=!1;M()},(0,google.rairicb)(a),window.setTimeout(a,mmd));K&&(G||z())}else J()},0);})();window._ = window._ || {};window._DumpException = _._DumpException = function(e){throw e;};window._s = window._s || {};_s._DumpException = _._DumpException;window._qs = window._qs || {};_qs._DumpException = _._DumpException;(function(){var t=[134217729,0,0,0,0,655360,0,604000512,4223001,32770,536871170,29360416,0,0,201326625,536871176,18739459,291570176,24641536];window._F_toggles = window._xjs_toggles = t;})();window._F_installCss = window._F_installCss || function(css){};(function(){google.jl={bfl:0,dw:false,ine:false,ubm:false,uwp:true,vs:false};})();(function(){var pmc='{\\x22d\\x22:{},\\x22sb_he\\x22:{\\x22agen\\x22:false,\\x22cgen\\x22:false,\\x22client\\x22:\\x22heirloom-hp\\x22,\\x22dh\\x22:true,\\x22ds\\x22:\\x22\\x22,\\x22fl\\x22:true,\\x22host\\x22:\\x22google.com\\x22,\\x22jsonp\\x22:true,\\x22msgs\\x22:{\\x22cibl\\x22:\\x22Clear Search\\x22,\\x22dym\\x22:\\x22Did you mean:\\x22,\\x22lcky\\x22:\\x22I\\\\u0026#39;m Feeling Lucky\\x22,\\x22lml\\x22:\\x22Learn more\\x22,\\x22psrc\\x22:\\x22This search was removed from your \\\\u003Ca href\\x3d\\\\\\x22/history\\\\\\x22\\\\u003EWeb History\\\\u003C/a\\\\u003E\\x22,\\x22psrl\\x22:\\x22Remove\\x22,\\x22sbit\\x22:\\x22Search by image\\x22,\\x22srch\\x22:\\x22Google Search\\x22},\\x22ovr\\x22:{},\\x22pq\\x22:\\x22\\x22,\\x22rfs\\x22:[],\\x22stok\\x22:\\x22K_hy1UYglMzVRlABfpEAPx9DA9E\\x22}}';google.pmc=JSON.parse(pmc);})();(function(){var b=function(a){var c=0;return function(){return c<a.length?{done:!1,value:a[c++]}:{done:!0}}};\n",
      "var e=this||self;var g,h;a:{for(var k=[\"CLOSURE_FLAGS\"],l=e,n=0;n<k.length;n++)if(l=l[k[n]],l==null){h=null;break a}h=l}var p=h&&h[610401301];g=p!=null?p:!1;var q,r=e.navigator;q=r?r.userAgentData||null:null;function t(a){return g?q?q.brands.some(function(c){return(c=c.brand)&&c.indexOf(a)!=-1}):!1:!1}function u(a){var c;a:{if(c=e.navigator)if(c=c.userAgent)break a;c=\"\"}return c.indexOf(a)!=-1};function v(){return g?!!q&&q.brands.length>0:!1}function w(){return u(\"Safari\")&&!(x()||(v()?0:u(\"Coast\"))||(v()?0:u(\"Opera\"))||(v()?0:u(\"Edge\"))||(v()?t(\"Microsoft Edge\"):u(\"Edg/\"))||(v()?t(\"Opera\"):u(\"OPR\"))||u(\"Firefox\")||u(\"FxiOS\")||u(\"Silk\")||u(\"Android\"))}function x(){return v()?t(\"Chromium\"):(u(\"Chrome\")||u(\"CriOS\"))&&!(v()?0:u(\"Edge\"))||u(\"Silk\")}function y(){return u(\"Android\")&&!(x()||u(\"Firefox\")||u(\"FxiOS\")||(v()?0:u(\"Opera\"))||u(\"Silk\"))};var z=v()?!1:u(\"Trident\")||u(\"MSIE\");y();x();w();var A=!z&&!w(),D=function(a){if(/-[a-z]/.test(\"ved\"))return null;if(A&&a.dataset){if(y()&&!(\"ved\"in a.dataset))return null;a=a.dataset.ved;return a===void 0?null:a}return a.getAttribute(\"data-\"+\"ved\".replace(/([A-Z])/g,\"-$1\").toLowerCase())};var E=[],F=null;function G(a){a=a.target;var c=performance.now(),f=[],H=f.concat,d=E;if(!(d instanceof Array)){var m=typeof Symbol!=\"undefined\"&&Symbol.iterator&&d[Symbol.iterator];if(m)d=m.call(d);else if(typeof d.length==\"number\")d={next:b(d)};else throw Error(\"b`\"+String(d));for(var B=[];!(m=d.next()).done;)B.push(m.value);d=B}E=H.call(f,d,[c]);if(a&&a instanceof HTMLElement)if(a===F){if(c=E.length>=4)c=(E[E.length-1]-E[E.length-4])/1E3<5;if(c){c=google.getEI(a);a.hasAttribute(\"data-ved\")?f=a?D(a)||\"\":\"\":f=(f=\n",
      "a.closest(\"[data-ved]\"))?D(f)||\"\":\"\";f=f||\"\";if(a.hasAttribute(\"jsname\"))a=a.getAttribute(\"jsname\");else{var C;a=(C=a.closest(\"[jsname]\"))==null?void 0:C.getAttribute(\"jsname\")}google.log(\"rcm\",\"&ei=\"+c+\"&tgtved=\"+f+\"&jsname=\"+(a||\"\"))}}else F=a,E=[c]}window.document.addEventListener(\"DOMContentLoaded\",function(){document.body.addEventListener(\"click\",G)});}).call(this);</script></body></html>\n",
      "<!DOCTYPE html>\n",
      "<html lang=\"hi\" id=\"facebook\" class=\"no_js\">\n",
      "<head><meta charset=\"utf-8\" /><meta name=\"referrer\" content=\"default\" id=\"meta_referrer\" /><script nonce=\"7kDKa80Z\">function envFlush(a){function b(b){for(var c in a)b[c]=a[c]}window.requireLazy?window.requireLazy([\"Env\"],b):(window.Env=window.Env||{},b(window.Env))}envFlush({\"useTrustedTypes\":false,\"isTrustedTypesReportOnly\":false,\"ajaxpipe_token\":\"AXhU5V_t2F0v_diOf_A\",\"stack_trace_limit\":30,\"timesliceBufferSize\":5000,\"show_invariant_decoder\":false,\"compat_iframe_token\":\"AQ7S6Fup7XfqjvzMsVQ\",\"isCQuick\":false,\"brsid\":\"7393549767030207206\"});</script><script nonce=\"7kDKa80Z\">(function(a){function b(b){if(!window.openDatabase)return;b.I_AM_INCOGNITO_AND_I_REALLY_NEED_WEBSQL=function(a,b,c,d){return window.openDatabase(a,b,c,d)};window.openDatabase=function(){throw new Error()}}b(a)})(this);</script><style nonce=\"7kDKa80Z\"></style><script nonce=\"7kDKa80Z\">__DEV__=0;</script><noscript><meta http-equiv=\"refresh\" content=\"0; URL=/?_fb_noscript=1\" /></noscript><link rel=\"manifest\" id=\"MANIFEST_LINK\" href=\"/data/manifest/\" crossorigin=\"use-credentials\" /><title id=\"pageTitle\">Facebook - लॉग इन या साइन अप करें</title><meta name=\"bingbot\" content=\"noarchive\" /><meta property=\"og:site_name\" content=\"Facebook\" /><meta property=\"og:url\" content=\"https://www.facebook.com/\" /><meta property=\"og:image\" content=\"https://www.facebook.com/images/fb_icon_325x325.png\" /><meta property=\"og:locale\" content=\"hi_IN\" /><link rel=\"alternate\" media=\"only screen and (max-width: 640px)\" href=\"https://m.facebook.com/\" /><link rel=\"alternate\" media=\"handheld\" href=\"https://m.facebook.com/\" /><meta name=\"description\" content=\"&#x905;&#x92a;&#x928;&#x947; &#x926;&#x94b;&#x938;&#x94d;&#x924;&#x94b;&#x902;, &#x92a;&#x930;&#x93f;&#x935;&#x93e;&#x930; &#x914;&#x930; &#x92a;&#x930;&#x93f;&#x91a;&#x93f;&#x924; &#x932;&#x94b;&#x917;&#x94b;&#x902; &#x938;&#x947; &#x936;&#x947;&#x92f;&#x930; &#x915;&#x930;&#x928;&#x93e; &#x914;&#x930; &#x915;&#x928;&#x947;&#x915;&#x94d;&#x91f; &#x915;&#x930;&#x928;&#x93e; &#x936;&#x941;&#x930;&#x942; &#x915;&#x930;&#x928;&#x947; &#x915;&#x947; &#x932;&#x93f;&#x90f; Facebook &#x92e;&#x947;&#x902; &#x932;&#x949;&#x917; &#x907;&#x928; &#x915;&#x930;&#x947;&#x902;.\" /><link rel=\"canonical\" href=\"https://www.facebook.com/\" /><link rel=\"icon\" href=\"https://static.xx.fbcdn.net/rsrc.php/yv/r/B8BxsscfVBr.ico\" /><link type=\"text/css\" rel=\"stylesheet\" href=\"https://static.xx.fbcdn.net/rsrc.php/v3/yZ/l/0,cross/qBQt1qojPYd.css?_nc_x=Ij3Wp8lg5Kz\" data-bootloader-hash=\"I1Cw2oh\" />\n",
      "<link type=\"text/css\" rel=\"stylesheet\" href=\"https://static.xx.fbcdn.net/rsrc.php/v3/yu/l/0,cross/JV4nBLA3vwn.css?_nc_x=Ij3Wp8lg5Kz\" data-bootloader-hash=\"uoLFrj5\" />\n",
      "<link type=\"text/css\" rel=\"stylesheet\" href=\"https://static.xx.fbcdn.net/rsrc.php/v3/yi/l/0,cross/x9gtDp5RrxH.css?_nc_x=Ij3Wp8lg5Kz\" data-bootloader-hash=\"OEmcHyO\" />\n",
      "<script src=\"https://static.xx.fbcdn.net/rsrc.php/v3/yz/r/JolcBBbIaOR.js?_nc_x=Ij3Wp8lg5Kz\" data-bootloader-hash=\"a39W8OO\" nonce=\"7kDKa80Z\"></script>\n",
      "<script nonce=\"7kDKa80Z\">requireLazy([\"HasteSupportData\"],function(m){m.handle({\"clpData\":{\"6476\":{\"r\":1000,\"s\":1},\"1838142\":{\"r\":1,\"s\":1},\"4883\":{\"r\":1,\"s\":1},\"1814852\":{\"r\":1},\"1837559\":{\"r\":1},\"1848815\":{\"r\":10000,\"s\":1}},\"gkxData\":{\"20935\":{\"result\":false,\"hash\":null},\"20940\":{\"result\":false,\"hash\":null},\"21043\":{\"result\":false,\"hash\":null},\"2199\":{\"result\":false,\"hash\":null},\"7742\":{\"result\":false,\"hash\":null},\"20936\":{\"result\":false,\"hash\":null},\"20948\":{\"result\":true,\"hash\":null},\"25572\":{\"result\":false,\"hash\":null},\"25571\":{\"result\":false,\"hash\":null}},\"justknobxData\":{\"2552\":{\"r\":false},\"2269\":{\"r\":true}}})});requireLazy([\"TimeSliceImpl\",\"ServerJS\"],function(TimeSlice,ServerJS){(new ServerJS()).handle({\"define\":[[\"cr:310\",[\"RunWWW\"],{\"__rc\":[\"RunWWW\",null]},-1],[\"cr:1126\",[\"TimeSliceImpl\"],{\"__rc\":[\"TimeSliceImpl\",null]},-1],[\"cr:6640\",[\"PromiseImpl\"],{\"__rc\":[\"PromiseImpl\",null]},-1],[\"cr:7386\",[\"clearTimeoutWWW\"],{\"__rc\":[\"clearTimeoutWWW\",null]},-1],[\"cr:7390\",[\"setTimeoutWWW\"],{\"__rc\":[\"setTimeoutWWW\",null]},-1],[\"cr:8958\",[\"FBJSON\"],{\"__rc\":[\"FBJSON\",null]},-1],[\"cr:1078\",[],{\"__rc\":[null,null]},-1],[\"cr:1080\",[\"unexpectedUseInComet\"],{\"__rc\":[\"unexpectedUseInComet\",null]},-1],[\"cr:6108\",[\"CSS\"],{\"__rc\":[\"CSS\",null]},-1],[\"cr:7385\",[\"clearIntervalWWW\"],{\"__rc\":[\"clearIntervalWWW\",null]},-1],[\"cr:7389\",[\"setIntervalAcrossTransitionsWWW\"],{\"__rc\":[\"setIntervalAcrossTransitionsWWW\",null]},-1],[\"cr:7391\",[\"setTimeoutAcrossTransitionsWWW\"],{\"__rc\":[\"setTimeoutAcrossTransitionsWWW\",null]},-1],[\"cr:8959\",[\"DTSG\"],{\"__rc\":[\"DTSG\",null]},-1],[\"cr:8960\",[\"DTSG_ASYNC\"],{\"__rc\":[\"DTSG_ASYNC\",null]},-1],[\"cr:696703\",[],{\"__rc\":[null,null]},-1],[\"cr:708886\",[\"EventProfilerImpl\"],{\"__rc\":[\"EventProfilerImpl\",null]},-1],[\"cr:135\",[\"RunBlue\"],{\"__rc\":[\"RunBlue\",null]},-1],[\"cr:6669\",[\"DataStore\"],{\"__rc\":[\"DataStore\",null]},-1],[\"ServerNonce\",[],{\"ServerNonce\":\"ll10SxhPouMJ9HIHH-7Ofv\"},141],[\"KSConfig\",[],{\"killed\":{\"__set\":[\"POCKET_MONSTERS_CREATE\",\"POCKET_MONSTERS_DELETE\",\"POCKET_MONSTERS_UPDATE_NAME\",\"WORKROOMS_REQUEST_TAGGING_TAG_NO_INIT_BY_VC_GALAXY\"]},\"ko\":{\"__set\":[\"acrJTh9WGdp\",\"1oOE64fL4wO\",\"7r6mSP7ofr2\",\"6XsXQ2qHw8y\"]}},2580],[\"InitialCookieConsent\",[],{\"deferCookies\":false,\"initialConsent\":[1,2],\"noCookies\":false,\"shouldShowCookieBanner\":false,\"shouldWaitForDeferredDatrCookie\":false,\"optedInIntegrations\":[]},4328],[\"CookieConsentIFrameConfig\",[],{\"consent_param\":\"FQAREhISFQAZBQA=.ARZHo-gfhVQJi43p90YSyIyFgpjqV-DqKIIBgWg3AY_-5gt3\",\"allowlisted_iframes\":[\"captcha-recaptcha\",\"arkose-captcha\"],\"is_checkpointed\":false},5540],[\"ServerTimeData\",[],{\"serverTime\":1721444951197,\"timeOfRequestStart\":1721444951168.3,\"timeOfResponseStart\":1721444951168.3},5943],[\"URLFragmentPreludeConfig\",[],{\"hashtagRedirect\":true,\"fragBlacklist\":[\"nonce\",\"access_token\",\"oauth_token\",\"xs\",\"checkpoint_data\",\"code\"]},137],[\"CookiePrivacySandboxConfig\",[],{\"is_affected_by_samesite_lax\":false},7723],[\"CometPersistQueryParams\",[],{\"relative\":{},\"domain\":{}},6231],[\"CookieDomain\",[],{\"domain\":\"facebook.com\"},6421],[\"GetAsyncParamsExtraData\",[],{\"extra_data\":{}},7511],[\"BootloaderConfig\",[],{\"deferBootloads\":false,\"jsRetries\":[200,500],\"jsRetryAbortNum\":2,\"jsRetryAbortTime\":5,\"silentDups\":false,\"timeout\":60000,\"tieredLoadingFromTier\":100,\"hypStep4\":false,\"phdOn\":false,\"btCutoffIndex\":2200,\"fastPathForAlreadyRequired\":true,\"earlyRequireLazy\":false,\"enableTimeoutLoggingForNonComet\":false,\"deferLongTailManifest\":true,\"lazySoT\":false,\"translationRetries\":[200,500],\"translationRetryAbortNum\":3,\"translationRetryAbortTime\":50},329],[\"CSSLoaderConfig\",[],{\"timeout\":5000,\"modulePrefix\":\"BLCSS:\",\"forcePollForBootloader\":true},619],[\"CookieCoreConfig\",[],{\"c_user\":{\"t\":31536000},\"cppo\":{\"t\":86400},\"dpr\":{\"t\":604800},\"fbl_st\":{\"t\":31536000},\"hckd\":{},\"i_user\":{\"t\":31536000},\"locale\":{\"t\":604800},\"m_ls\":{\"t\":34560000},\"m_pixel_ratio\":{\"t\":604800},\"noscript\":{},\"presence\":{\"t\":2592000},\"sfau\":{},\"usida\":{},\"vpd\":{\"t\":5184000},\"wd\":{\"t\":604800},\"wl_cbv\":{\"t\":7776000},\"x-referer\":{},\"x-src\":{\"t\":1}},2104],[\"CurrentUserInitialData\",[],{\"ACCOUNT_ID\":\"0\",\"USER_ID\":\"0\",\"NAME\":\"\",\"SHORT_NAME\":null,\"IS_BUSINESS_PERSON_ACCOUNT\":false,\"HAS_SECONDARY_BUSINESS_PERSON\":false,\"IS_FACEBOOK_WORK_ACCOUNT\":false,\"IS_INSTAGRAM_BUSINESS_PERSON\":false,\"IS_MESSENGER_ONLY_USER\":false,\"IS_DEACTIVATED_ALLOWED_ON_MESSENGER\":false,\"IS_MESSENGER_CALL_GUEST_USER\":false,\"IS_WORK_MESSENGER_CALL_GUEST_USER\":false,\"IS_WORKROOMS_USER\":false,\"APP_ID\":\"256281040558\",\"IS_BUSINESS_DOMAIN\":false},270],[\"LSD\",[],{\"token\":\"AVpaCFKtZ-Q\"},323],[\"SiteData\",[],{\"server_revision\":1015027140,\"client_revision\":1015027140,\"push_phase\":\"C3\",\"pkg_cohort\":\"BP:DEFAULT\",\"haste_session\":\"19924.BP:DEFAULT.2.0..0.0\",\"pr\":1,\"manifest_base_uri\":\"https:\\/\\/static.xx.fbcdn.net\",\"manifest_origin\":null,\"manifest_version_prefix\":null,\"be_one_ahead\":false,\"is_rtl\":false,\"is_experimental_tier\":false,\"is_jit_warmed_up\":true,\"hsi\":\"7393549767030207206\",\"semr_host_bucket\":\"14\",\"bl_hash_version\":2,\"comet_env\":0,\"wbloks_env\":false,\"ef_page\":null,\"compose_bootloads\":false,\"spin\":4,\"__spin_r\":1015027140,\"__spin_b\":\"trunk\",\"__spin_t\":1721444951,\"vip\":\"2a03:2880:f188:181:face:b00c:0:25de\"},317],[\"SprinkleConfig\",[],{\"param_name\":\"jazoest\",\"version\":2,\"should_randomize\":false},2111],[\"UserAgentData\",[],{\"browserArchitecture\":\"32\",\"browserFullVersion\":null,\"browserMinorVersion\":null,\"browserName\":\"Unknown\",\"browserVersion\":null,\"deviceName\":\"Unknown\",\"engineName\":\"Unknown\",\"engineVersion\":null,\"platformArchitecture\":\"32\",\"platformName\":\"Unknown\",\"platformVersion\":null,\"platformFullVersion\":null},527],[\"PromiseUsePolyfillSetImmediateGK\",[],{\"www_always_use_polyfill_setimmediate\":false},2190],[\"JSErrorLoggingConfig\",[],{\"appId\":256281040558,\"extra\":[],\"reportInterval\":50,\"sampleWeight\":null,\"sampleWeightKey\":\"__jssesw\",\"projectBlocklist\":[]},2776],[\"DataStoreConfig\",[],{\"expandoKey\":\"__FB_STORE\",\"useExpando\":true},2915],[\"CookieCoreLoggingConfig\",[],{\"maximumIgnorableStallMs\":16.67,\"sampleRate\":9.7e-5,\"sampleRateClassic\":1.0e-10,\"sampleRateFastStale\":1.0e-8},3401],[\"ImmediateImplementationExperiments\",[],{\"prefer_message_channel\":true},3419],[\"UriNeedRawQuerySVConfig\",[],{\"uris\":[\"dms.netmng.com\",\"doubleclick.net\",\"r.msn.com\",\"watchit.sky.com\",\"graphite.instagram.com\",\"www.kfc.co.th\",\"learn.pantheon.io\",\"www.landmarkshops.in\",\"www.ncl.com\",\"s0.wp.com\",\"www.tatacliq.com\",\"bs.serving-sys.com\",\"kohls.com\",\"lazada.co.th\",\"xg4ken.com\",\"technopark.ru\",\"officedepot.com.mx\",\"bestbuy.com.mx\",\"booking.com\",\"nibio.no\",\"myworkdayjobs.com\",\"united-united.com\",\"gcc.gnu.org\"]},3871],[\"WebConnectionClassServerGuess\",[],{\"connectionClass\":\"GOOD\"},4705],[\"BootloaderEndpointConfig\",[],{\"debugNoBatching\":false,\"maxBatchSize\":-1,\"endpointURI\":\"https:\\/\\/www.facebook.com\\/ajax\\/bootloader-endpoint\\/\"},5094],[\"BigPipeExperiments\",[],{\"link_images_to_pagelets\":false,\"enable_bigpipe_plugins\":false},907],[\"cr:7730\",[\"getFbtResult\"],{\"__rc\":[\"getFbtResult\",null]},-1],[\"cr:8906\",[\"goURIWWW\"],{\"__rc\":[\"goURIWWW\",null]},-1],[\"cr:925100\",[\"RunBlue\"],{\"__rc\":[\"RunBlue\",null]},-1],[\"cr:806696\",[\"clearTimeoutBlue\"],{\"__rc\":[\"clearTimeoutBlue\",null]},-1],[\"cr:807042\",[\"setTimeoutBlue\"],{\"__rc\":[\"setTimeoutBlue\",null]},-1],[\"cr:1003267\",[\"clearIntervalBlue\"],{\"__rc\":[\"clearIntervalBlue\",null]},-1],[\"cr:896462\",[\"setIntervalAcrossTransitionsBlue\"],{\"__rc\":[\"setIntervalAcrossTransitionsBlue\",null]},-1],[\"cr:986633\",[\"setTimeoutAcrossTransitionsBlue\"],{\"__rc\":[\"setTimeoutAcrossTransitionsBlue\",null]},-1],[\"cr:6799\",[\"EventProfilerAdsSessionProvider\"],{\"__rc\":[\"EventProfilerAdsSessionProvider\",null]},-1],[\"IntlVariationHoldout\",[],{\"disable_variation\":false},6533],[\"IntlNumberTypeProps\",[\"IntlCLDRNumberType02\"],{\"module\":{\"__m\":\"IntlCLDRNumberType02\"}},7027],[\"AsyncRequestConfig\",[],{\"retryOnNetworkError\":\"1\",\"useFetchStreamAjaxPipeTransport\":true},328],[\"DTSGInitialData\",[],{},258],[\"IntlPhonologicalRules\",[],{\"meta\":{},\"patterns\":{}},1496],[\"IntlViewerContext\",[],{\"GENDER\":3,\"regionalLocale\":null},772],[\"NumberFormatConfig\",[],{\"decimalSeparator\":\".\",\"numberDelimiter\":\",\",\"minDigitsForThousandsSeparator\":4,\"standardDecimalPatternInfo\":{\"primaryGroupSize\":3,\"secondaryGroupSize\":2},\"numberingSystemData\":null},54],[\"SessionNameConfig\",[],{\"seed\":\"2yZJ\"},757],[\"ZeroCategoryHeader\",[],{},1127],[\"ZeroRewriteRules\",[],{\"rewrite_rules\":{},\"whitelist\":{\"\\/hr\\/r\":1,\"\\/hr\\/p\":1,\"\\/zero\\/unsupported_browser\\/\":1,\"\\/zero\\/policy\\/optin\":1,\"\\/zero\\/optin\\/write\\/\":1,\"\\/zero\\/optin\\/legal\\/\":1,\"\\/zero\\/optin\\/free\\/\":1,\"\\/about\\/privacy\\/\":1,\"\\/about\\/privacy\\/update\\/\":1,\"\\/privacy\\/explanation\\/\":1,\"\\/zero\\/toggle\\/welcome\\/\":1,\"\\/zero\\/toggle\\/nux\\/\":1,\"\\/zero\\/toggle\\/settings\\/\":1,\"\\/fup\\/interstitial\\/\":1,\"\\/work\\/landing\":1,\"\\/work\\/login\\/\":1,\"\\/work\\/email\\/\":1,\"\\/ai.php\":1,\"\\/js_dialog_resources\\/dialog_descriptions_android.json\":0,\"\\/connect\\/jsdialog\\/MPlatformAppInvitesJSDialog\\/\":0,\"\\/connect\\/jsdialog\\/MPlatformOAuthShimJSDialog\\/\":0,\"\\/connect\\/jsdialog\\/MPlatformLikeJSDialog\\/\":0,\"\\/qp\\/interstitial\\/\":1,\"\\/qp\\/action\\/redirect\\/\":1,\"\\/qp\\/action\\/close\\/\":1,\"\\/zero\\/support\\/ineligible\\/\":1,\"\\/zero_balance_redirect\\/\":1,\"\\/zero_balance_redirect\":1,\"\\/zero_balance_redirect\\/l\\/\":1,\"\\/l.php\":1,\"\\/lsr.php\":1,\"\\/ajax\\/dtsg\\/\":1,\"\\/checkpoint\\/block\\/\":1,\"\\/exitdsite\":1,\"\\/zero\\/balance\\/pixel\\/\":1,\"\\/zero\\/balance\\/\":1,\"\\/zero\\/balance\\/carrier_landing\\/\":1,\"\\/zero\\/flex\\/logging\\/\":1,\"\\/tr\":1,\"\\/tr\\/\":1,\"\\/sem_campaigns\\/sem_pixel_test\\/\":1,\"\\/bookmarks\\/flyout\\/body\\/\":1,\"\\/zero\\/subno\\/\":1,\"\\/confirmemail.php\":1,\"\\/policies\\/\":1,\"\\/mobile\\/internetdotorg\\/classifier\\/\":1,\"\\/zero\\/dogfooding\":1,\"\\/xti.php\":1,\"\\/zero\\/fblite\\/config\\/\":1,\"\\/hr\\/zsh\\/wc\\/\":1,\"\\/ajax\\/bootloader-endpoint\\/\":1,\"\\/mobile\\/zero\\/carrier_page\\/\":1,\"\\/mobile\\/zero\\/carrier_page\\/education_page\\/\":1,\"\\/mobile\\/zero\\/carrier_page\\/feature_switch\\/\":1,\"\\/mobile\\/zero\\/carrier_page\\/settings_page\\/\":1,\"\\/aloha_check_build\":1,\"\\/upsell\\/zbd\\/softnudge\\/\":1,\"\\/mobile\\/zero\\/af_transition\\/\":1,\"\\/mobile\\/zero\\/af_transition\\/action\\/\":1,\"\\/mobile\\/zero\\/freemium\\/\":1,\"\\/mobile\\/zero\\/freemium\\/redirect\\/\":1,\"\\/mobile\\/zero\\/freemium\\/zero_fup\\/\":1,\"\\/privacy\\/policy\\/\":1,\"\\/privacy\\/center\\/\":1,\"\\/data\\/manifest\\/\":1,\"\\/4oh4.php\":1,\"\\/autologin.php\":1,\"\\/birthday_help.php\":1,\"\\/checkpoint\\/\":1,\"\\/contact-importer\\/\":1,\"\\/cr.php\":1,\"\\/legal\\/terms\\/\":1,\"\\/login.php\":1,\"\\/login\\/\":1,\"\\/mobile\\/account\\/\":1,\"\\/n\\/\":1,\"\\/remote_test_device\\/\":1,\"\\/upsell\\/buy\\/\":1,\"\\/upsell\\/buyconfirm\\/\":1,\"\\/upsell\\/buyresult\\/\":1,\"\\/upsell\\/promos\\/\":1,\"\\/upsell\\/continue\\/\":1,\"\\/upsell\\/h\\/promos\\/\":1,\"\\/upsell\\/loan\\/learnmore\\/\":1,\"\\/upsell\\/purchase\\/\":1,\"\\/upsell\\/promos\\/upgrade\\/\":1,\"\\/upsell\\/buy_redirect\\/\":1,\"\\/upsell\\/loan\\/buyconfirm\\/\":1,\"\\/upsell\\/loan\\/buy\\/\":1,\"\\/upsell\\/sms\\/\":1,\"\\/wap\\/a\\/channel\\/reconnect.php\":1,\"\\/wap\\/a\\/nux\\/wizard\\/nav.php\":1,\"\\/wap\\/appreg.php\":1,\"\\/wap\\/birthday_help.php\":1,\"\\/wap\\/c.php\":1,\"\\/wap\\/confirmemail.php\":1,\"\\/wap\\/cr.php\":1,\"\\/wap\\/login.php\":1,\"\\/wap\\/r.php\":1,\"\\/zero\\/datapolicy\":1,\"\\/a\\/timezone.php\":1,\"\\/a\\/bz\":1,\"\\/bz\\/reliability\":1,\"\\/r.php\":1,\"\\/mr\\/\":1,\"\\/reg\\/\":1,\"\\/registration\\/log\\/\":1,\"\\/terms\\/\":1,\"\\/f123\\/\":1,\"\\/expert\\/\":1,\"\\/experts\\/\":1,\"\\/terms\\/index.php\":1,\"\\/terms.php\":1,\"\\/srr\\/\":1,\"\\/msite\\/redirect\\/\":1,\"\\/fbs\\/pixel\\/\":1,\"\\/contactpoint\\/preconfirmation\\/\":1,\"\\/contactpoint\\/cliff\\/\":1,\"\\/contactpoint\\/confirm\\/submit\\/\":1,\"\\/contactpoint\\/confirmed\\/\":1,\"\\/contactpoint\\/login\\/\":1,\"\\/preconfirmation\\/contactpoint_change\\/\":1,\"\\/help\\/contact\\/\":1,\"\\/survey\\/\":1,\"\\/upsell\\/loyaltytopup\\/accept\\/\":1,\"\\/settings\\/\":1,\"\\/lite\\/\":1,\"\\/zero_status_update\\/\":1,\"\\/operator_store\\/\":1,\"\\/upsell\\/\":1,\"\\/wifiauth\\/login\\/\":1}},1478],[\"DTSGInitData\",[],{\"token\":\"\",\"async_get_token\":\"\"},3515],[\"WebDriverConfig\",[],{\"isTestRunning\":false,\"isJestE2ETestRun\":false,\"isXRequestConfigEnabled\":false,\"auxiliaryServiceInfo\":{},\"testPath\":null,\"originHost\":null},5332],[\"EventConfig\",[],{\"sampling\":{\"bandwidth\":0,\"play\":0,\"playing\":0,\"progress\":0,\"pause\":0,\"ended\":0,\"seeked\":0,\"seeking\":0,\"waiting\":0,\"loadedmetadata\":0,\"canplay\":0,\"selectionchange\":0,\"change\":0,\"timeupdate\":0,\"adaptation\":0,\"focus\":0,\"blur\":0,\"load\":0,\"error\":0,\"message\":0,\"abort\":0,\"storage\":0,\"scroll\":200000,\"mousemove\":20000,\"mouseover\":10000,\"mouseout\":10000,\"mousewheel\":1,\"MSPointerMove\":10000,\"keydown\":0.1,\"click\":0.02,\"mouseup\":0.02,\"__100ms\":0.001,\"__default\":5000,\"__min\":100,\"__interactionDefault\":200,\"__eventDefault\":100000},\"page_sampling_boost\":1,\"interaction_regexes\":{},\"interaction_boost\":{},\"event_types\":{},\"manual_instrumentation\":false,\"profile_eager_execution\":false,\"disable_heuristic\":true,\"disable_event_profiler\":false},1726],[\"cr:8828\",[],{\"__rc\":[null,null]},-1],[\"cr:1094907\",[],{\"__rc\":[null,null]},-1],[\"cr:1183579\",[\"InlineFbtResultImpl\"],{\"__rc\":[\"InlineFbtResultImpl\",null]},-1],[\"FbtResultGK\",[],{\"shouldReturnFbtResult\":true,\"inlineMode\":\"NO_INLINE\"},876],[\"AdsInterfacesSessionConfig\",[],{},2393],[\"FbtQTOverrides\",[],{\"overrides\":{}},551],[\"AnalyticsCoreData\",[],{\"device_id\":\"$^|AcZg1Gg8QuuwpZkRbV48NvJvR08J7tsYTmxfetNKS2X2-9Un8nGMfxmiHuwG6kDmCedbmoHRM5i5DT-wJx-1m7KySG-W5g7oMdR3J7aTdJI4UA6QfY_cbQn8wop4zn11qTXKZaSQscmVIBnZhQ9c0kPVxYQFzHrt9Q|fd.AcYmj1C4XtCyELzeks9liZSWzKm-zCt813LDULV4e57e7FidcylqPz8JC9UBhR_t7BlCjeVfIA_bIRWSv2g1XfLe\",\"app_id\":\"256281040558\",\"enable_bladerunner\":false,\"enable_ack\":true,\"push_phase\":\"C3\",\"enable_observer\":false,\"enable_cmcd_observer\":false,\"enable_dataloss_timer\":false,\"enable_fallback_for_br\":true,\"queue_activation_experiment\":false,\"max_delay_br_queue\":60000,\"max_delay_br_queue_immediate\":3,\"max_delay_br_init_not_complete\":3000,\"consents\":{},\"app_universe\":1,\"br_stateful_migration_on\":true,\"enable_non_fb_br_stateless_by_default\":false,\"use_falco_as_mutex_key\":false},5237]],\"require\":[[\"markJSEnabled\"],[\"lowerDomain\"],[\"URLFragmentPrelude\"],[\"Primer\"],[\"BigPipe\"],[\"Bootloader\"],[\"TimeSlice\"],[\"AsyncRequest\"],[\"FbtLogging\"],[\"IntlQtEventFalcoEvent\"],[\"RequireDeferredReference\",\"unblock\",[],[[\"AsyncRequest\",\"FbtLogging\",\"IntlQtEventFalcoEvent\"],\"sd\"]],[\"RequireDeferredReference\",\"unblock\",[],[[\"AsyncRequest\",\"FbtLogging\",\"IntlQtEventFalcoEvent\"],\"css\"]]]});});</script></head><body class=\"fbIndex UIPage_LoggedOut _-kb _605a b_c3pyn-ahh x1 Locale_hi_IN\" dir=\"ltr\"><script type=\"text/javascript\" nonce=\"7kDKa80Z\">requireLazy([\"bootstrapWebSession\"],function(j){j(1721444951)})</script><div class=\"_li\" id=\"u_0_1_KT\"><div id=\"globalContainer\" class=\"uiContextualLayerParent\"><div class=\"fb_content clearfix \" id=\"content\" role=\"main\"><div><div class=\"_8esj _95k9 _8esf _8opv _8f3m _8ilg _8icx _8op_ _95ka\"><div class=\"_8esk\"><div class=\"_8esl\"><div class=\"_8ice\"><img class=\"fb_logo _8ilh img\" src=\"https://static.xx.fbcdn.net/rsrc.php/y1/r/4lCu2zih0ca.svg\" alt=\"Facebook\" /></div><h2 class=\"_8eso\">Facebook लोगों से जुड़ने और शेयर करने में आपकी मदद करता है.</h2></div><div class=\"_8esn\"><div class=\"_8iep _8icy _9ahz _9ah-\"><div class=\"_6luv _52jv\"><form class=\"_9vtf\" data-testid=\"royal_login_form\" action=\"/login/?privacy_mutation_token=eyJ0eXBlIjowLCJjcmVhdGlvbl90aW1lIjoxNzIxNDQ0OTUxLCJjYWxsc2l0ZV9pZCI6MzgxMjI5MDc5NTc1OTQ2fQ%3D%3D&amp;next\" method=\"post\" onsubmit=\"\" id=\"u_0_2_LT\"><input type=\"hidden\" name=\"jazoest\" value=\"2904\" autocomplete=\"off\" /><input type=\"hidden\" name=\"lsd\" value=\"AVpaCFKtZ-Q\" autocomplete=\"off\" /><div><div class=\"_6lux\"><input type=\"text\" class=\"inputtext _55r1 _6luy\" name=\"email\" id=\"email\" data-testid=\"royal_email\" placeholder=\"&#x908;&#x92e;&#x947;&#x932; &#x92f;&#x93e; &#x92b;&#x93c;&#x94b;&#x928; &#x928;&#x902;&#x92c;&#x930;\" autofocus=\"1\" aria-label=\"&#x908;&#x92e;&#x947;&#x932; &#x92f;&#x93e; &#x92b;&#x93c;&#x94b;&#x928; &#x928;&#x902;&#x92c;&#x930;\" /></div><div class=\"_6lux\"><div class=\"_6luy _55r1 _1kbt\" id=\"passContainer\"><input type=\"password\" class=\"inputtext _55r1 _6luy _9npi\" name=\"pass\" id=\"pass\" data-testid=\"royal_pass\" placeholder=\"&#x92a;&#x93e;&#x938;&#x935;&#x930;&#x94d;&#x921;\" aria-label=\"&#x92a;&#x93e;&#x938;&#x935;&#x930;&#x94d;&#x921;\" /><div class=\"_9ls7\" id=\"u_0_3_AZ\"><a href=\"#\" role=\"button\"><div class=\"_9lsa\"><div class=\"_9lsb\" id=\"u_0_4_0S\"></div></div></a></div></div></div></div><input type=\"hidden\" autocomplete=\"off\" name=\"login_source\" value=\"comet_headerless_login\" /><input type=\"hidden\" autocomplete=\"off\" name=\"next\" value=\"\" /><input type=\"hidden\" autocomplete=\"off\" name=\"shared_prefs_data\" value=\"\" /><div class=\"_6ltg\"><button value=\"1\" class=\"_42ft _4jy0 _6lth _4jy6 _4jy1 selected _51sy\" name=\"login\" data-testid=\"royal_login_button\" type=\"submit\" id=\"u_0_5_sa\">लॉग इन करें</button></div><div class=\"_6ltj\"><a href=\"https://www.facebook.com/recover/initiate/?privacy_mutation_token=eyJ0eXBlIjowLCJjcmVhdGlvbl90aW1lIjoxNzIxNDQ0OTUxLCJjYWxsc2l0ZV9pZCI6MzgxMjI5MDc5NTc1OTQ2fQ%3D%3D&amp;ars=facebook_login&amp;next\">पासवर्ड भूल गए?</a></div><div class=\"_8icz\"></div><div class=\"_6ltg\"><a role=\"button\" class=\"_42ft _4jy0 _6lti _4jy6 _4jy2 selected _51sy\" href=\"#\" ajaxify=\"/reg/spotlight/\" id=\"u_0_0_Ae\" data-testid=\"open-registration-form-button\" rel=\"async\">नया अकाउंट बनाएँ</a></div></form></div><div id=\"reg_pages_msg\" class=\"_58mk\">किसी सेलिब्रिटी, ब्रांड या बिज़नेस के लिए <a href=\"/pages/create/?ref_type=registration_form\" class=\"_8esh\">एक पेज बनाएँ</a>.</div></div></div></div></div></div></div><div class=\"\"><div class=\"_95ke _8opy\"><div id=\"pageFooter\" data-referrer=\"page_footer\" data-testid=\"page_footer\"><ul class=\"uiList localeSelectorList _2pid _509- _4ki _6-h _6-j _6-i\" data-nocookies=\"1\"><li>हिन्दी</li><li><a class=\"_sv4\" dir=\"ltr\" href=\"https://mr-in.facebook.com/\" onclick=\"require(&quot;IntlUtils&quot;).setCookieLocale(&quot;mr_IN&quot;, &quot;hi_IN&quot;, &quot;https:\\/\\/mr-in.facebook.com\\/&quot;, &quot;www_list_selector&quot;, 0); return false;\" title=\"Marathi\">मराठी</a></li><li><a class=\"_sv4\" dir=\"rtl\" href=\"https://ur-pk.facebook.com/\" onclick=\"require(&quot;IntlUtils&quot;).setCookieLocale(&quot;ur_PK&quot;, &quot;hi_IN&quot;, &quot;https:\\/\\/ur-pk.facebook.com\\/&quot;, &quot;www_list_selector&quot;, 1); return false;\" title=\"Urdu\">اردو</a></li><li><a class=\"_sv4\" dir=\"ltr\" href=\"https://pa-in.facebook.com/\" onclick=\"require(&quot;IntlUtils&quot;).setCookieLocale(&quot;pa_IN&quot;, &quot;hi_IN&quot;, &quot;https:\\/\\/pa-in.facebook.com\\/&quot;, &quot;www_list_selector&quot;, 2); return false;\" title=\"Punjabi\">ਪੰਜਾਬੀ</a></li><li><a class=\"_sv4\" dir=\"ltr\" href=\"https://bn-in.facebook.com/\" onclick=\"require(&quot;IntlUtils&quot;).setCookieLocale(&quot;bn_IN&quot;, &quot;hi_IN&quot;, &quot;https:\\/\\/bn-in.facebook.com\\/&quot;, &quot;www_list_selector&quot;, 3); return false;\" title=\"Bengali\">বাংলা</a></li><li><a class=\"_sv4\" dir=\"ltr\" href=\"https://gu-in.facebook.com/\" onclick=\"require(&quot;IntlUtils&quot;).setCookieLocale(&quot;gu_IN&quot;, &quot;hi_IN&quot;, &quot;https:\\/\\/gu-in.facebook.com\\/&quot;, &quot;www_list_selector&quot;, 4); return false;\" title=\"Gujarati\">ગુજરાતી</a></li><li><a class=\"_sv4\" dir=\"ltr\" href=\"https://ta-in.facebook.com/\" onclick=\"require(&quot;IntlUtils&quot;).setCookieLocale(&quot;ta_IN&quot;, &quot;hi_IN&quot;, &quot;https:\\/\\/ta-in.facebook.com\\/&quot;, &quot;www_list_selector&quot;, 5); return false;\" title=\"Tamil\">தமிழ்</a></li><li><a class=\"_sv4\" dir=\"ltr\" href=\"https://te-in.facebook.com/\" onclick=\"require(&quot;IntlUtils&quot;).setCookieLocale(&quot;te_IN&quot;, &quot;hi_IN&quot;, &quot;https:\\/\\/te-in.facebook.com\\/&quot;, &quot;www_list_selector&quot;, 6); return false;\" title=\"Telugu\">తెలుగు</a></li><li><a class=\"_sv4\" dir=\"ltr\" href=\"https://ml-in.facebook.com/\" onclick=\"require(&quot;IntlUtils&quot;).setCookieLocale(&quot;ml_IN&quot;, &quot;hi_IN&quot;, &quot;https:\\/\\/ml-in.facebook.com\\/&quot;, &quot;www_list_selector&quot;, 7); return false;\" title=\"Malayalam\">മലയാളം</a></li><li><a class=\"_sv4\" dir=\"ltr\" href=\"https://kn-in.facebook.com/\" onclick=\"require(&quot;IntlUtils&quot;).setCookieLocale(&quot;kn_IN&quot;, &quot;hi_IN&quot;, &quot;https:\\/\\/kn-in.facebook.com\\/&quot;, &quot;www_list_selector&quot;, 8); return false;\" title=\"Kannada\">ಕನ್ನಡ</a></li><li><a class=\"_sv4\" dir=\"ltr\" href=\"https://en-gb.facebook.com/\" onclick=\"require(&quot;IntlUtils&quot;).setCookieLocale(&quot;en_GB&quot;, &quot;hi_IN&quot;, &quot;https:\\/\\/en-gb.facebook.com\\/&quot;, &quot;www_list_selector&quot;, 9); return false;\" title=\"English (UK)\">English (UK)</a></li><li><a role=\"button\" class=\"_42ft _4jy0 _517i _517h _51sy\" rel=\"dialog\" ajaxify=\"/settings/language/language/?uri=https%3A%2F%2Fen-gb.facebook.com%2F&amp;source=www_list_selector_more\" href=\"#\" title=\"&#x914;&#x930; &#x92d;&#x93e;&#x937;&#x93e;&#x90f;&#x901; &#x926;&#x93f;&#x916;&#x93e;&#x90f;&#x901;\"><i class=\"img sp_SOkuOHNUdYM sx_2458cb\"></i></a></li></ul><div id=\"contentCurve\"></div><div id=\"pageFooterChildren\" role=\"contentinfo\" aria-label=\"Facebook &#x938;&#x93e;&#x907;&#x91f; &#x932;&#x93f;&#x902;&#x915;\"><ul class=\"uiList pageFooterLinkList _509- _4ki _703 _6-i\"><li><a href=\"/reg/\" title=\"Facebook &#x915;&#x947; &#x932;&#x93f;&#x90f; &#x938;&#x93e;&#x907;&#x928; &#x905;&#x92a; &#x915;&#x930;&#x947;&#x902;\">साइन अप करें</a></li><li><a href=\"/login/\" title=\"Facebook &#x92e;&#x947;&#x902; &#x932;&#x949;&#x917; &#x907;&#x928; &#x915;&#x930;&#x947;&#x902;\">लॉग इन करें</a></li><li><a href=\"https://messenger.com/\" title=\"Messenger &#x926;&#x947;&#x916;&#x947;&#x902;\">Messenger</a></li><li><a href=\"/lite/\" title=\"Android &#x915;&#x947; &#x932;&#x93f;&#x90f; Facebook Lite.\">Facebook Lite</a></li><li><a href=\"https://www.facebook.com/watch/\" title=\"Video &#x92e;&#x947;&#x902; &#x92c;&#x94d;&#x930;&#x93e;&#x909;&#x91c;&#x93c; &#x915;&#x930;&#x947;&#x902;\">वीडियो</a></li><li><a href=\"/places/\" title=\"Facebook &#x92a;&#x930; &#x939;&#x92e;&#x93e;&#x930;&#x947; &#x932;&#x94b;&#x915;&#x92a;&#x94d;&#x930;&#x93f;&#x92f; &#x938;&#x94d;&#x925;&#x93e;&#x928; &#x926;&#x947;&#x916;&#x947;&#x902;.\">स्थान</a></li><li><a href=\"/games/\" title=\"Facebook &#x917;&#x947;&#x92e; &#x926;&#x947;&#x916;&#x947;&#x902;.\">खेल</a></li><li><a href=\"/marketplace/\" title=\"Facebook Marketplace &#x92a;&#x930; &#x916;&#x930;&#x940;&#x926;&#x947;&#x902; &#x914;&#x930; &#x92c;&#x947;&#x91a;&#x947;&#x902;\">Marketplace</a></li><li><a href=\"https://pay.facebook.com/\" title=\"Meta Pay &#x915;&#x947; &#x92c;&#x93e;&#x930;&#x947; &#x92e;&#x947;&#x902; &#x914;&#x930; &#x91c;&#x93e;&#x928;&#x947;&#x902;\" target=\"_blank\">Meta Pay</a></li><li><a href=\"https://www.meta.com/\" title=\"Meta &#x92a;&#x930; &#x91a;&#x947;&#x915; &#x906;&#x909;&#x91f; &#x915;&#x930;&#x947;&#x902;\" target=\"_blank\">Meta स्टोर</a></li><li><a href=\"https://www.meta.com/quest/\" title=\"Meta Quest &#x915;&#x947; &#x92c;&#x93e;&#x930;&#x947; &#x92e;&#x947;&#x902; &#x914;&#x930; &#x91c;&#x93e;&#x928;&#x947;&#x902;\" target=\"_blank\">Meta Quest</a></li><li><a href=\"https://www.meta.ai/\" title=\"Meta AI\">Meta AI</a></li><li><a href=\"https://l.facebook.com/l.php?u=https%3A%2F%2Fwww.instagram.com%2F&amp;h=AT3Adiz3dRmvaEvt0yfEKuVyp7H9-r0EJ5_jTgPpzql7kwed_UBjHHrEQIqz9BIu9yPjaeH386mq_gcH84cBxTsPPtmJRJqPyK5ZdWaiuCMZjwMZ9G3iksYPWJpyLHI56CyIMVeeLkrDKjzf7ocgSbcd2vPHij99\" title=\"Instagram &#x926;&#x947;&#x916;&#x947;&#x902;\" target=\"_blank\" rel=\"nofollow\" data-lynx-mode=\"hover\">Instagram</a></li><li><a href=\"https://www.threads.net/\" title=\"Threads &#x906;&#x91c;&#x93c;&#x92e;&#x93e;&#x90f;&#x901;\">Threads</a></li><li><a href=\"/fundraisers/\" title=\"&#x92f;&#x94b;&#x917;&#x94d;&#x92f; &#x915;&#x932;&#x94d;&#x92f;&#x93e;&#x923;&#x915;&#x93e;&#x930;&#x940; &#x915;&#x93e;&#x930;&#x94d;&#x92f;&#x94b;&#x902; &#x915;&#x947; &#x932;&#x93f;&#x90f; &#x926;&#x93e;&#x928; &#x915;&#x930;&#x947;&#x902;.\">अनुदान संचय</a></li><li><a href=\"/biz/directory/\" title=\"&#x939;&#x92e;&#x93e;&#x930;&#x940; &quot;Facebook &#x938;&#x947;&#x935;&#x93e;&#x90f;&#x901;&quot; &#x921;&#x93e;&#x92f;&#x930;&#x947;&#x915;&#x94d;&#x91f;&#x930;&#x940; &#x92c;&#x94d;&#x930;&#x93e;&#x909;&#x91c;&#x93c; &#x915;&#x930;&#x947;&#x902;.\">सेवाएँ</a></li><li><a href=\"/votinginformationcenter/?entry_point=c2l0ZQ%3D%3D\" title=\"&#x935;&#x94b;&#x91f;&#x93f;&#x902;&#x917; &#x938;&#x942;&#x91a;&#x928;&#x93e; &#x915;&#x947;&#x902;&#x926;&#x94d;&#x930; &#x926;&#x947;&#x916;&#x947;&#x902;.\">वोटिंग सूचना केंद्र</a></li><li><a href=\"/privacy/policy/?entry_point=facebook_page_footer\" title=\"&#x91c;&#x93e;&#x928;&#x947;&#x902; &#x915;&#x93f; &#x939;&#x92e; Facebook &#x915;&#x94b; &#x938;&#x92a;&#x94b;&#x930;&#x94d;&#x91f; &#x915;&#x930;&#x928;&#x947; &#x915;&#x947; &#x932;&#x93f;&#x90f;, &#x915;&#x948;&#x938;&#x947; &#x91c;&#x93e;&#x928;&#x915;&#x93e;&#x930;&#x940; &#x915;&#x94b; &#x915;&#x932;&#x947;&#x915;&#x94d;&#x91f; &#x915;&#x930;&#x924;&#x947; &#x939;&#x948;&#x902;, &#x915;&#x948;&#x938;&#x947; &#x909;&#x938;&#x915;&#x93e; &#x909;&#x92a;&#x92f;&#x94b;&#x917; &#x914;&#x930; &#x909;&#x938;&#x947; &#x936;&#x947;&#x92f;&#x930; &#x915;&#x930;&#x924;&#x947; &#x939;&#x948;&#x902;.\">प्राइवेसी पॉलिसी</a></li><li><a href=\"/privacy/center/?entry_point=facebook_page_footer\" title=\"Facebook &#x92a;&#x930; &#x905;&#x92a;&#x928;&#x940; &#x92a;&#x94d;&#x930;&#x93e;&#x907;&#x935;&#x947;&#x938;&#x940; &#x92e;&#x948;&#x928;&#x947;&#x91c; &#x915;&#x930;&#x928;&#x947; &#x914;&#x930; &#x915;&#x902;&#x91f;&#x94d;&#x930;&#x94b;&#x932; &#x915;&#x930;&#x928;&#x947; &#x915;&#x93e; &#x924;&#x930;&#x940;&#x915;&#x93e; &#x91c;&#x93e;&#x928;&#x947;&#x902;.\">प्राइवेसी सेंटर</a></li><li><a href=\"/groups/discover/\" title=\"&#x917;&#x94d;&#x930;&#x941;&#x92a; &#x90f;&#x915;&#x94d;&#x938;&#x92a;&#x94d;&#x932;&#x94b;&#x930; &#x915;&#x930;&#x947;&#x902;\">ग्रुप</a></li><li><a href=\"https://about.meta.com/\" accesskey=\"8\" title=\"&#x939;&#x92e;&#x93e;&#x930;&#x93e; &#x92c;&#x94d;&#x932;&#x949;&#x917; &#x92a;&#x922;&#x93c;&#x947;&#x902;, &#x938;&#x902;&#x938;&#x93e;&#x927;&#x928; &#x915;&#x947;&#x902;&#x926;&#x94d;&#x930; &#x915;&#x94b; &#x91c;&#x93e;&#x928;&#x947;&#x902; &#x914;&#x930; &#x928;&#x94c;&#x915;&#x930;&#x940; &#x915;&#x947; &#x905;&#x935;&#x938;&#x930; &#x916;&#x94b;&#x91c;&#x947;&#x902;.\">परिचय</a></li><li><a href=\"/ad_campaign/landing.php?placement=pflo&amp;campaign_id=402047449186&amp;nav_source=unknown&amp;extra_1=auto\" title=\"Facebook &#x92a;&#x930; &#x935;&#x93f;&#x91c;&#x94d;&#x91e;&#x93e;&#x92a;&#x928; &#x926;&#x947;&#x902;.\">विज्ञापन बनाएँ</a></li><li><a href=\"/pages/create/?ref_type=site_footer\" title=\"&#x90f;&#x915; &#x92a;&#x947;&#x91c; &#x92c;&#x928;&#x93e;&#x90f;&#x901;\">पेज बनाएँ</a></li><li><a href=\"https://developers.facebook.com/?ref=pf\" title=\"&#x939;&#x92e;&#x93e;&#x930;&#x947; &#x92a;&#x94d;&#x932;&#x947;&#x91f;&#x92b;&#x93c;&#x949;&#x930;&#x94d;&#x92e; &#x92a;&#x930; &#x935;&#x93f;&#x915;&#x938;&#x93f;&#x924; &#x915;&#x930;&#x947;&#x902;.\">डेवलपर</a></li><li><a href=\"/careers/?ref=pf\" title=\"&#x939;&#x92e;&#x93e;&#x930;&#x940; &#x92c;&#x947;&#x939;&#x924;&#x930;&#x940;&#x928; &#x915;&#x902;&#x92a;&#x928;&#x940; &#x92e;&#x947;&#x902; &#x906;&#x915;&#x930; &#x905;&#x92a;&#x928;&#x947; &#x915;&#x930;&#x93f;&#x92f;&#x930; &#x915;&#x94b; &#x928;&#x908; &#x926;&#x93f;&#x936;&#x93e; &#x926;&#x947;&#x902;.\">करियर</a></li><li><a href=\"/policies/cookies/\" title=\"&#x915;&#x941;&#x915;&#x940; &#x914;&#x930; Facebook &#x915;&#x947; &#x92c;&#x93e;&#x930;&#x947; &#x92e;&#x947;&#x902; &#x91c;&#x93e;&#x928;&#x947;&#x902;.\" data-nocookies=\"1\">कुकीज़</a></li><li><a class=\"_41ug\" data-nocookies=\"1\" href=\"https://www.facebook.com/help/568137493302217\" title=\"&#x935;&#x93f;&#x91c;&#x94d;&#x91e;&#x93e;&#x92a;&#x928; &#x935;&#x93f;&#x915;&#x932;&#x94d;&#x92a;&#x94b;&#x902; &#x915;&#x947; &#x92c;&#x93e;&#x947;&#x930; &#x92e;&#x947;&#x902; &#x91c;&#x93e;&#x928;&#x947;&#x902;.\">विज्ञापन विकल्प<i class=\"img sp_SOkuOHNUdYM sx_041895\"></i></a></li><li><a data-nocookies=\"1\" href=\"/policies?ref=pf\" accesskey=\"9\" title=\"&#x939;&#x92e;&#x93e;&#x930;&#x940; &#x936;&#x930;&#x94d;&#x924;&#x947;&#x902; &#x914;&#x930; &#x928;&#x940;&#x924;&#x93f;&#x92f;&#x93e;&#x901; &#x926;&#x947;&#x916;&#x947;&#x902;.\">शर्तें</a></li><li><a href=\"/help/?ref=pf\" accesskey=\"0\" title=\"&#x939;&#x92e;&#x93e;&#x930;&#x947; &#x92e;&#x926;&#x926; &#x915;&#x947;&#x902;&#x926;&#x94d;&#x930; &#x92a;&#x930; &#x91c;&#x93e;&#x90f;&#x901;.\">हेल्प सेंटर</a></li><li><a href=\"help/637205020878504\" title=\"&#x939;&#x92e;&#x93e;&#x930;&#x947; &#x915;&#x949;&#x928;&#x94d;&#x91f;&#x948;&#x915;&#x94d;&#x91f; &#x905;&#x92a;&#x932;&#x94b;&#x921;&#x93f;&#x902;&#x917; &#x914;&#x930; &#x928;&#x949;&#x928;-&#x92f;&#x942;&#x91c;&#x93c;&#x930;&#x94d;&#x938; &#x928;&#x94b;&#x91f;&#x93f;&#x938; &#x928;&#x94b;&#x91f;&#x93f;&#x938; &#x92a;&#x930; &#x91c;&#x93e;&#x90f;&#x901;.\">कॉन्टैक्ट अपलोडिंग और नॉन-यूज़र्स</a></li><li><a accesskey=\"6\" class=\"accessible_elem\" href=\"/settings\" title=\"&#x905;&#x92a;&#x928;&#x940; Facebook &#x938;&#x947;&#x91f;&#x93f;&#x902;&#x917; &#x926;&#x947;&#x916;&#x947;&#x902; &#x914;&#x930; &#x938;&#x902;&#x92a;&#x93e;&#x926;&#x93f;&#x924; &#x915;&#x930;&#x947;&#x902;.\">सेटिंग</a></li><li><a accesskey=\"7\" class=\"accessible_elem\" href=\"/allactivity?privacy_source=activity_log_top_menu\" title=\"&#x905;&#x92a;&#x928;&#x93e; &#x90f;&#x915;&#x94d;&#x91f;&#x93f;&#x935;&#x93f;&#x91f;&#x940; &#x932;&#x949;&#x917; &#x926;&#x947;&#x916;&#x947;&#x902;\">एक्टिविटी लॉग</a></li></ul></div><div class=\"mvl copyright\"><div><span> Meta © 2024</span></div></div></div></div></div></div><div></div><span><img src=\"https://facebook.com/security/hsts-pixel.gif?c=3.2.5\" width=\"0\" height=\"0\" style=\"display:none\" /></span></div><div style=\"display:none\"></div>\n",
      "<script>requireLazy([\"HasteSupportData\"],function(m){m.handle({\"bxData\":{\"875231\":{\"uri\":\"https:\\/\\/static.xx.fbcdn.net\\/rsrc.php\\/yT\\/r\\/aGT3gskzWBf.ico\"}},\"clpData\":{\"1743095\":{\"r\":1,\"s\":1}},\"gkxData\":{\"21049\":{\"result\":false,\"hash\":null},\"21116\":{\"result\":false,\"hash\":null}}})});requireLazy([\"Bootloader\"],function(m){m.handlePayload({\"consistency\":{\"rev\":1015027140},\"rsrcMap\":{\"O62m3P6\":{\"type\":\"js\",\"src\":\"https:\\/\\/static.xx.fbcdn.net\\/rsrc.php\\/v3\\/ys\\/r\\/4zS6aBDBtHT.js?_nc_x=Ij3Wp8lg5Kz\",\"nc\":1},\"4zFW+gB\":{\"type\":\"js\",\"src\":\"https:\\/\\/static.xx.fbcdn.net\\/rsrc.php\\/v3\\/yi\\/r\\/oh5AvKQdSGn.js?_nc_x=Ij3Wp8lg5Kz\",\"nc\":1},\"TurB8EA\":{\"type\":\"js\",\"src\":\"https:\\/\\/static.xx.fbcdn.net\\/rsrc.php\\/v3\\/ya\\/r\\/DbGPfY93kfV.js?_nc_x=Ij3Wp8lg5Kz\",\"nc\":1},\"0eqs16Q\":{\"type\":\"js\",\"src\":\"https:\\/\\/static.xx.fbcdn.net\\/rsrc.php\\/v3\\/yD\\/r\\/Gh75gULnFf5.js?_nc_x=Ij3Wp8lg5Kz\",\"nc\":1},\"mAwSAZ1\":{\"type\":\"js\",\"src\":\"https:\\/\\/static.xx.fbcdn.net\\/rsrc.php\\/v3ikJO4\\/yL\\/l\\/hi_IN\\/hxRYS6oU3io.js?_nc_x=Ij3Wp8lg5Kz\",\"nc\":1},\"nTht8\\/8\":{\"type\":\"js\",\"src\":\"https:\\/\\/static.xx.fbcdn.net\\/rsrc.php\\/v3\\/yB\\/r\\/1S8djwfrRzf.js?_nc_x=Ij3Wp8lg5Kz\",\"nc\":1},\"Oj0mThQ\":{\"type\":\"js\",\"src\":\"https:\\/\\/static.xx.fbcdn.net\\/rsrc.php\\/v3\\/yR\\/r\\/zyFZN9-2ZLH.js?_nc_x=Ij3Wp8lg5Kz\",\"nc\":1},\"AINJugE\":{\"type\":\"js\",\"src\":\"https:\\/\\/static.xx.fbcdn.net\\/rsrc.php\\/v3\\/yn\\/r\\/7bpOOg_zft2.js?_nc_x=Ij3Wp8lg5Kz\",\"nc\":1},\"iUdPLvr\":{\"type\":\"js\",\"src\":\"https:\\/\\/static.xx.fbcdn.net\\/rsrc.php\\/v3i4nf4\\/ye\\/l\\/hi_IN\\/F_yD1OdPZA1.js?_nc_x=Ij3Wp8lg5Kz\",\"nc\":1},\"tc8mb5f\":{\"type\":\"js\",\"src\":\"https:\\/\\/static.xx.fbcdn.net\\/rsrc.php\\/v3\\/y4\\/r\\/_RGdGj9Hxqg.js?_nc_x=Ij3Wp8lg5Kz\",\"nc\":1},\"eNHNuRh\":{\"type\":\"js\",\"src\":\"https:\\/\\/static.xx.fbcdn.net\\/rsrc.php\\/v3\\/yF\\/r\\/hvvaKXk1dlw.js?_nc_x=Ij3Wp8lg5Kz\",\"nc\":1},\"cogH8tB\":{\"type\":\"js\",\"src\":\"https:\\/\\/static.xx.fbcdn.net\\/rsrc.php\\/v3\\/yr\\/r\\/SmMTiUPSWgt.js?_nc_x=Ij3Wp8lg5Kz\",\"nc\":1},\"+hCsEGR\":{\"type\":\"js\",\"src\":\"https:\\/\\/static.xx.fbcdn.net\\/rsrc.php\\/v3\\/yx\\/r\\/xDAljLnLziD.js?_nc_x=Ij3Wp8lg5Kz\",\"nc\":1},\"B7gf9Zj\":{\"type\":\"js\",\"src\":\"https:\\/\\/static.xx.fbcdn.net\\/rsrc.php\\/v3i4bz4\\/y-\\/l\\/hi_IN\\/-V0xmhS7sOy.js?_nc_x=Ij3Wp8lg5Kz\",\"nc\":1},\"4kzi3e\\/\":{\"type\":\"js\",\"src\":\"https:\\/\\/static.xx.fbcdn.net\\/rsrc.php\\/v3\\/y9\\/r\\/NRPN6gdyDAM.js?_nc_x=Ij3Wp8lg5Kz\",\"nc\":1},\"2NbWy9z\":{\"type\":\"css\",\"src\":\"https:\\/\\/static.xx.fbcdn.net\\/rsrc.php\\/v3\\/yg\\/l\\/0,cross\\/Hw6X-ynVu1r.css?_nc_x=Ij3Wp8lg5Kz\",\"nc\":1},\"GN3agFn\":{\"type\":\"js\",\"src\":\"https:\\/\\/static.xx.fbcdn.net\\/rsrc.php\\/v3ioDw4\\/yC\\/l\\/hi_IN\\/h-aF9_6S21R.js?_nc_x=Ij3Wp8lg5Kz\",\"nc\":1},\"UhcIxGA\":{\"type\":\"js\",\"src\":\"https:\\/\\/static.xx.fbcdn.net\\/rsrc.php\\/v3\\/yX\\/r\\/UPvmvlfknDY.js?_nc_x=Ij3Wp8lg5Kz\",\"nc\":1},\"47bd7pk\":{\"type\":\"js\",\"src\":\"https:\\/\\/static.xx.fbcdn.net\\/rsrc.php\\/v3\\/ya\\/r\\/gJiIxb4V6K8.js?_nc_x=Ij3Wp8lg5Kz\",\"nc\":1},\"AmhKW+q\":{\"type\":\"js\",\"src\":\"https:\\/\\/static.xx.fbcdn.net\\/rsrc.php\\/v3\\/yO\\/r\\/zIileo2WPrv.js?_nc_x=Ij3Wp8lg5Kz\",\"nc\":1},\"CeJO4Av\":{\"type\":\"js\",\"src\":\"https:\\/\\/static.xx.fbcdn.net\\/rsrc.php\\/v3\\/yF\\/r\\/iT4eJ-FExo5.js?_nc_x=Ij3Wp8lg5Kz\",\"nc\":1},\"2s8nW4K\":{\"type\":\"js\",\"src\":\"https:\\/\\/static.xx.fbcdn.net\\/rsrc.php\\/v3iQmR4\\/yC\\/l\\/hi_IN\\/aFCUXhSqwbQ.js?_nc_x=Ij3Wp8lg5Kz\",\"nc\":1},\"C9LL1JI\":{\"type\":\"js\",\"src\":\"https:\\/\\/static.xx.fbcdn.net\\/rsrc.php\\/v3iHnd4\\/yQ\\/l\\/hi_IN\\/pKys8iBA8cD.js?_nc_x=Ij3Wp8lg5Kz\",\"nc\":1},\"eSkTWOA\":{\"type\":\"js\",\"src\":\"https:\\/\\/static.xx.fbcdn.net\\/rsrc.php\\/v3i6lo4\\/yz\\/l\\/hi_IN\\/2LKfCA8shx2.js?_nc_x=Ij3Wp8lg5Kz\",\"nc\":1},\"qFOHdW1\":{\"type\":\"js\",\"src\":\"https:\\/\\/static.xx.fbcdn.net\\/rsrc.php\\/v3iy8C4\\/y5\\/l\\/hi_IN\\/EjZj1D2SQuJ.js?_nc_x=Ij3Wp8lg5Kz\",\"nc\":1},\"Z6a4AAi\":{\"type\":\"js\",\"src\":\"https:\\/\\/static.xx.fbcdn.net\\/rsrc.php\\/v3i-kE4\\/yA\\/l\\/hi_IN\\/nvD7_bXdGsD.js?_nc_x=Ij3Wp8lg5Kz\",\"nc\":1},\"mU2tfLD\":{\"type\":\"js\",\"src\":\"https:\\/\\/static.xx.fbcdn.net\\/rsrc.php\\/v3i6oD4\\/yU\\/l\\/hi_IN\\/rlwy-DUjmeh.js?_nc_x=Ij3Wp8lg5Kz\",\"nc\":1},\"yMJ3OI6\":{\"type\":\"js\",\"src\":\"https:\\/\\/static.xx.fbcdn.net\\/rsrc.php\\/v3iWk-4\\/yF\\/l\\/hi_IN\\/Po88VZ_8g3G.js?_nc_x=Ij3Wp8lg5Kz\",\"nc\":1},\"82yDK+6\":{\"type\":\"js\",\"src\":\"https:\\/\\/static.xx.fbcdn.net\\/rsrc.php\\/v3\\/yu\\/r\\/Vus5f_t9eQA.js?_nc_x=Ij3Wp8lg5Kz\",\"nc\":1},\"NRKERjp\":{\"type\":\"js\",\"src\":\"https:\\/\\/static.xx.fbcdn.net\\/rsrc.php\\/v3ikia4\\/y3\\/l\\/hi_IN\\/01xS6xLd8El.js?_nc_x=Ij3Wp8lg5Kz\",\"nc\":1},\"v1U+At5\":{\"type\":\"css\",\"src\":\"https:\\/\\/static.xx.fbcdn.net\\/rsrc.php\\/v3\\/y1\\/l\\/0,cross\\/-RUKQxNFlsJ.css?_nc_x=Ij3Wp8lg5Kz\",\"nc\":1},\"0LwZp+N\":{\"type\":\"css\",\"src\":\"https:\\/\\/static.xx.fbcdn.net\\/rsrc.php\\/v3\\/yj\\/l\\/0,cross\\/4UmteKJe9BP.css?_nc_x=Ij3Wp8lg5Kz\",\"nc\":1},\"Ekb1UCu\":{\"type\":\"js\",\"src\":\"https:\\/\\/static.xx.fbcdn.net\\/rsrc.php\\/v3ixrt4\\/yE\\/l\\/hi_IN\\/9xWB3-bTLK6.js?_nc_x=Ij3Wp8lg5Kz\",\"nc\":1},\"sfhiK20\":{\"type\":\"js\",\"src\":\"https:\\/\\/static.xx.fbcdn.net\\/rsrc.php\\/v3iPsL4\\/yX\\/l\\/hi_IN\\/C40Cu03RR3_.js?_nc_x=Ij3Wp8lg5Kz\",\"nc\":1},\"bxSmnWk\":{\"type\":\"js\",\"src\":\"https:\\/\\/static.xx.fbcdn.net\\/rsrc.php\\/v3\\/yl\\/r\\/sp6D3ajID5u.js?_nc_x=Ij3Wp8lg5Kz\",\"nc\":1},\"+ZyvbZr\":{\"type\":\"js\",\"src\":\"https:\\/\\/static.xx.fbcdn.net\\/rsrc.php\\/v3\\/yj\\/r\\/uRAAFYCEHMQ.js?_nc_x=Ij3Wp8lg5Kz\",\"nc\":1},\"vJqaTex\":{\"type\":\"js\",\"src\":\"https:\\/\\/static.xx.fbcdn.net\\/rsrc.php\\/v3ijUb4\\/yR\\/l\\/hi_IN\\/EOGCFlqAdhV.js?_nc_x=Ij3Wp8lg5Kz\",\"nc\":1},\"c9ZVRFO\":{\"type\":\"js\",\"src\":\"https:\\/\\/static.xx.fbcdn.net\\/rsrc.php\\/v3iG8L4\\/yA\\/l\\/hi_IN\\/XZ3qNeJW4pk.js?_nc_x=Ij3Wp8lg5Kz\",\"nc\":1},\"M1GIZWM\":{\"type\":\"css\",\"src\":\"https:\\/\\/static.xx.fbcdn.net\\/rsrc.php\\/v3\\/yJ\\/l\\/0,cross\\/ZevCDi-LYbU.css?_nc_x=Ij3Wp8lg5Kz\",\"nc\":1},\"9AGsQH+\":{\"type\":\"js\",\"src\":\"https:\\/\\/static.xx.fbcdn.net\\/rsrc.php\\/v3\\/yM\\/r\\/VvO5PnZHfkO.js?_nc_x=Ij3Wp8lg5Kz\",\"nc\":1},\"n\\/B7cts\":{\"type\":\"js\",\"src\":\"https:\\/\\/static.xx.fbcdn.net\\/rsrc.php\\/v3iR3g4\\/yA\\/l\\/hi_IN\\/HvLNNJtbhhx.js?_nc_x=Ij3Wp8lg5Kz\",\"nc\":1},\"EaTBXnJ\":{\"type\":\"js\",\"src\":\"https:\\/\\/static.xx.fbcdn.net\\/rsrc.php\\/v3iX1K4\\/y9\\/l\\/hi_IN\\/_6z08Ts-ZQZ.js?_nc_x=Ij3Wp8lg5Kz\",\"nc\":1},\"KMCdB+U\":{\"type\":\"css\",\"src\":\"https:\\/\\/static.xx.fbcdn.net\\/rsrc.php\\/v3\\/yE\\/l\\/0,cross\\/nim18_lo84k.css?_nc_x=Ij3Wp8lg5Kz\",\"nc\":1},\"3KMs6Pq\":{\"type\":\"js\",\"src\":\"https:\\/\\/static.xx.fbcdn.net\\/rsrc.php\\/v3\\/yK\\/r\\/v9-JlydbpK_.js?_nc_x=Ij3Wp8lg5Kz\",\"nc\":1},\"8QjP1cU\":{\"type\":\"js\",\"src\":\"https:\\/\\/static.xx.fbcdn.net\\/rsrc.php\\/v3i3a84\\/y3\\/l\\/hi_IN\\/hQV7lrjYXs5.js?_nc_x=Ij3Wp8lg5Kz\",\"nc\":1},\"iuZgguZ\":{\"type\":\"css\",\"src\":\"https:\\/\\/static.xx.fbcdn.net\\/rsrc.php\\/v3\\/yY\\/l\\/0,cross\\/ET9DGlm_eGL.css?_nc_x=Ij3Wp8lg5Kz\",\"nc\":1},\"LV9uvFd\":{\"type\":\"js\",\"src\":\"https:\\/\\/static.xx.fbcdn.net\\/rsrc.php\\/v3\\/yN\\/r\\/TPWHJeLnNgx.js?_nc_x=Ij3Wp8lg5Kz\",\"nc\":1},\"B63vhth\":{\"type\":\"js\",\"src\":\"https:\\/\\/static.xx.fbcdn.net\\/rsrc.php\\/v3\\/y2\\/r\\/Vl5OE_RwOZ1.js?_nc_x=Ij3Wp8lg5Kz\",\"nc\":1},\"q+MTfby\":{\"type\":\"js\",\"src\":\"https:\\/\\/static.xx.fbcdn.net\\/rsrc.php\\/v3ivl04\\/yU\\/l\\/hi_IN\\/lAdmNIxkaVB.js?_nc_x=Ij3Wp8lg5Kz\",\"nc\":1},\"dpMC\\/VO\":{\"type\":\"js\",\"src\":\"https:\\/\\/static.xx.fbcdn.net\\/rsrc.php\\/v3\\/yr\\/r\\/5EZ7wmcgL0D.js?_nc_x=Ij3Wp8lg5Kz\",\"nc\":1},\"oX75f7w\":{\"type\":\"js\",\"src\":\"https:\\/\\/static.xx.fbcdn.net\\/rsrc.php\\/v3\\/y5\\/r\\/nHmPPessYZU.js?_nc_x=Ij3Wp8lg5Kz\",\"nc\":1},\"B8lfNnv\":{\"type\":\"js\",\"src\":\"https:\\/\\/static.xx.fbcdn.net\\/rsrc.php\\/v3i-SV4\\/yt\\/l\\/hi_IN\\/oEk_eC6poDM.js?_nc_x=Ij3Wp8lg5Kz\",\"nc\":1},\"tcnKiDO\":{\"type\":\"css\",\"src\":\"https:\\/\\/static.xx.fbcdn.net\\/rsrc.php\\/v3\\/y9\\/l\\/0,cross\\/-zip0v68c3U.css?_nc_x=Ij3Wp8lg5Kz\",\"nc\":1},\"qfqhd+G\":{\"type\":\"js\",\"src\":\"https:\\/\\/static.xx.fbcdn.net\\/rsrc.php\\/v3iIo14\\/yI\\/l\\/hi_IN\\/Q1rZokKbwZ4.js?_nc_x=Ij3Wp8lg5Kz\",\"nc\":1},\"KejJlC8\":{\"type\":\"js\",\"src\":\"https:\\/\\/static.xx.fbcdn.net\\/rsrc.php\\/v3\\/yh\\/r\\/7MtLW71E3HB.js?_nc_x=Ij3Wp8lg5Kz\",\"nc\":1},\"hJ63snP\":{\"type\":\"js\",\"src\":\"https:\\/\\/static.xx.fbcdn.net\\/rsrc.php\\/v3iODg4\\/yf\\/l\\/hi_IN\\/t2rqQxQx81W.js?_nc_x=Ij3Wp8lg5Kz\",\"nc\":1},\"5D8aDx+\":{\"type\":\"js\",\"src\":\"https:\\/\\/static.xx.fbcdn.net\\/rsrc.php\\/v3iEws4\\/yH\\/l\\/hi_IN\\/Hi29x2mpgU6.js?_nc_x=Ij3Wp8lg5Kz\",\"nc\":1},\"p4vbSNn\":{\"type\":\"js\",\"src\":\"https:\\/\\/static.xx.fbcdn.net\\/rsrc.php\\/v3\\/y2\\/r\\/-s5L-XY_aRX.js?_nc_x=Ij3Wp8lg5Kz\",\"nc\":1},\"Ivo6ijk\":{\"type\":\"js\",\"src\":\"https:\\/\\/static.xx.fbcdn.net\\/rsrc.php\\/v3i1MJ4\\/yQ\\/l\\/hi_IN\\/3y88JC0BNey.js?_nc_x=Ij3Wp8lg5Kz\",\"nc\":1},\"28CSv2q\":{\"type\":\"js\",\"src\":\"https:\\/\\/static.xx.fbcdn.net\\/rsrc.php\\/v3igFj4\\/ye\\/l\\/hi_IN\\/IfPftaiTFyi.js?_nc_x=Ij3Wp8lg5Kz\",\"nc\":1},\"z8bLg3z\":{\"type\":\"js\",\"src\":\"https:\\/\\/static.xx.fbcdn.net\\/rsrc.php\\/v3iyPp4\\/yN\\/l\\/hi_IN\\/hrhrwgSG5CS.js?_nc_x=Ij3Wp8lg5Kz\",\"nc\":1},\"sfsMqE6\":{\"type\":\"js\",\"src\":\"https:\\/\\/static.xx.fbcdn.net\\/rsrc.php\\/v3\\/yi\\/r\\/AL4H7gRNQ1G.js?_nc_x=Ij3Wp8lg5Kz\",\"nc\":1},\"fUKaBkw\":{\"type\":\"css\",\"src\":\"https:\\/\\/static.xx.fbcdn.net\\/rsrc.php\\/v3\\/yV\\/l\\/0,cross\\/4PAeZX-oiu4.css?_nc_x=Ij3Wp8lg5Kz\",\"nc\":1},\"7V43ojG\":{\"type\":\"js\",\"src\":\"https:\\/\\/static.xx.fbcdn.net\\/rsrc.php\\/v3\\/yN\\/r\\/P4yOchrJS6U.js?_nc_x=Ij3Wp8lg5Kz\",\"nc\":1},\"HxWHlla\":{\"type\":\"js\",\"src\":\"https:\\/\\/static.xx.fbcdn.net\\/rsrc.php\\/v3\\/yH\\/r\\/vA-2BzF5T1c.js?_nc_x=Ij3Wp8lg5Kz\",\"nc\":1},\"lAh9Xcc\":{\"type\":\"css\",\"src\":\"https:\\/\\/static.xx.fbcdn.net\\/rsrc.php\\/v3\\/yM\\/l\\/0,cross\\/dnvfVUWtZPn.css?_nc_x=Ij3Wp8lg5Kz\",\"nc\":1},\"9TmFXZ7\":{\"type\":\"js\",\"src\":\"https:\\/\\/static.xx.fbcdn.net\\/rsrc.php\\/v3ioDw4\\/yt\\/l\\/hi_IN\\/nsV3Aha2Cs_.js?_nc_x=Ij3Wp8lg5Kz\",\"nc\":1},\"OwXT6OE\":{\"type\":\"js\",\"src\":\"https:\\/\\/static.xx.fbcdn.net\\/rsrc.php\\/v3iK0J4\\/y_\\/l\\/hi_IN\\/Yo3xvuSjh4f.js?_nc_x=Ij3Wp8lg5Kz\",\"nc\":1},\"qNJ1XS3\":{\"type\":\"js\",\"src\":\"https:\\/\\/static.xx.fbcdn.net\\/rsrc.php\\/v3\\/yM\\/r\\/pT4JTyzOgyP.js?_nc_x=Ij3Wp8lg5Kz\",\"nc\":1},\"lKLWuf\\/\":{\"type\":\"js\",\"src\":\"https:\\/\\/static.xx.fbcdn.net\\/rsrc.php\\/v3\\/yp\\/r\\/I8DYlNASIO7.js?_nc_x=Ij3Wp8lg5Kz\",\"nc\":1},\"OjeVBFU\":{\"type\":\"js\",\"src\":\"https:\\/\\/static.xx.fbcdn.net\\/rsrc.php\\/v3io1Y4\\/yP\\/l\\/hi_IN\\/VAyDlNwjUNn.js?_nc_x=Ij3Wp8lg5Kz\",\"nc\":1},\"W+96y9a\":{\"type\":\"js\",\"src\":\"https:\\/\\/static.xx.fbcdn.net\\/rsrc.php\\/v3\\/y9\\/r\\/mz78GvlIk6A.js?_nc_x=Ij3Wp8lg5Kz\",\"nc\":1},\"dZZuk4+\":{\"type\":\"css\",\"src\":\"https:\\/\\/static.xx.fbcdn.net\\/rsrc.php\\/v3\\/yr\\/l\\/0,cross\\/NPiOEc7YWOo.css?_nc_x=Ij3Wp8lg5Kz\",\"nc\":1},\"KTJXyzv\":{\"type\":\"js\",\"src\":\"https:\\/\\/static.xx.fbcdn.net\\/rsrc.php\\/v3\\/yG\\/r\\/Mdl4See5q5E.js?_nc_x=Ij3Wp8lg5Kz\",\"nc\":1},\"xsFg75a\":{\"type\":\"js\",\"src\":\"https:\\/\\/static.xx.fbcdn.net\\/rsrc.php\\/v3\\/yt\\/r\\/mnLc1TS2Wp-.js?_nc_x=Ij3Wp8lg5Kz\",\"nc\":1},\"4rwm8RJ\":{\"type\":\"js\",\"src\":\"https:\\/\\/static.xx.fbcdn.net\\/rsrc.php\\/v3\\/yz\\/r\\/Vx3XoKH9l8C.js?_nc_x=Ij3Wp8lg5Kz\",\"nc\":1},\"rCasuzG\":{\"type\":\"js\",\"src\":\"https:\\/\\/static.xx.fbcdn.net\\/rsrc.php\\/v3\\/yA\\/r\\/OzWmCcYw0wO.js?_nc_x=Ij3Wp8lg5Kz\",\"nc\":1},\"SWx3yNv\":{\"type\":\"js\",\"src\":\"https:\\/\\/static.xx.fbcdn.net\\/rsrc.php\\/v3\\/y7\\/r\\/g__eV5OXSXl.js?_nc_x=Ij3Wp8lg5Kz\",\"nc\":1},\"u\\/Tufpa\":{\"type\":\"js\",\"src\":\"https:\\/\\/static.xx.fbcdn.net\\/rsrc.php\\/v3igIv4\\/yw\\/l\\/hi_IN\\/sQRQMS73kTK.js?_nc_x=Ij3Wp8lg5Kz\",\"nc\":1},\"x22Oby4\":{\"type\":\"js\",\"src\":\"https:\\/\\/static.xx.fbcdn.net\\/rsrc.php\\/v3\\/yZ\\/r\\/tVshp1OIV9l.js?_nc_x=Ij3Wp8lg5Kz\",\"nc\":1},\"8ELCBwH\":{\"type\":\"js\",\"src\":\"https:\\/\\/static.xx.fbcdn.net\\/rsrc.php\\/v3\\/ye\\/r\\/VRzSVH5iU-V.js?_nc_x=Ij3Wp8lg5Kz\",\"nc\":1},\"I+GHswV\":{\"type\":\"js\",\"src\":\"https:\\/\\/static.xx.fbcdn.net\\/rsrc.php\\/v3\\/yS\\/r\\/ui2DkP-wt_7.js?_nc_x=Ij3Wp8lg5Kz\",\"nc\":1},\"21GRWVP\":{\"type\":\"js\",\"src\":\"https:\\/\\/static.xx.fbcdn.net\\/rsrc.php\\/v3\\/yv\\/r\\/7GdDpPzG09w.js?_nc_x=Ij3Wp8lg5Kz\",\"nc\":1},\"vdNQr9P\":{\"type\":\"js\",\"src\":\"https:\\/\\/static.xx.fbcdn.net\\/rsrc.php\\/v3\\/yj\\/r\\/FiVT6nDibIJ.js?_nc_x=Ij3Wp8lg5Kz\",\"nc\":1},\"H\\/5lfuF\":{\"type\":\"js\",\"src\":\"https:\\/\\/static.xx.fbcdn.net\\/rsrc.php\\/v3\\/yF\\/r\\/iqrvM8jAXX7.js?_nc_x=Ij3Wp8lg5Kz\",\"nc\":1},\"17Grp2h\":{\"type\":\"js\",\"src\":\"https:\\/\\/static.xx.fbcdn.net\\/rsrc.php\\/v3\\/y-\\/r\\/HhbMrxvaW_H.js?_nc_x=Ij3Wp8lg5Kz\",\"nc\":1},\"QIamfde\":{\"type\":\"js\",\"src\":\"https:\\/\\/static.xx.fbcdn.net\\/rsrc.php\\/v3\\/yA\\/r\\/Y37sQzk-yb8.js?_nc_x=Ij3Wp8lg5Kz\",\"nc\":1},\"QyoftxH\":{\"type\":\"js\",\"src\":\"https:\\/\\/static.xx.fbcdn.net\\/rsrc.php\\/v3\\/yL\\/r\\/j-_AFWnS2kv.js?_nc_x=Ij3Wp8lg5Kz\",\"nc\":1},\"bccsI5f\":{\"type\":\"js\",\"src\":\"https:\\/\\/static.xx.fbcdn.net\\/rsrc.php\\/v3\\/yd\\/r\\/wSV7vP7PnIs.js?_nc_x=Ij3Wp8lg5Kz\",\"nc\":1},\"Tll2J5j\":{\"type\":\"js\",\"src\":\"https:\\/\\/static.xx.fbcdn.net\\/rsrc.php\\/v3\\/yQ\\/r\\/WeajZf_EolU.js?_nc_x=Ij3Wp8lg5Kz\",\"nc\":1},\"zPYlTyl\":{\"type\":\"js\",\"src\":\"https:\\/\\/static.xx.fbcdn.net\\/rsrc.php\\/v3\\/yO\\/r\\/_tJ17sGyxOX.js?_nc_x=Ij3Wp8lg5Kz\",\"nc\":1},\"P\\/mr5VE\":{\"type\":\"css\",\"src\":\"data:text\\/css; charset=utf-8;base64,I2Jvb3Rsb2FkZXJfUF9tcjVWRXtoZWlnaHQ6NDJweDt9LmJvb3Rsb2FkZXJfUF9tcjVWRXtkaXNwbGF5OmJsb2NrIWltcG9ydGFudDt9\",\"nc\":1,\"d\":1}},\"compMap\":{\"WebSpeedInteractionsTypedLogger\":{\"r\":[\"O62m3P6\",\"4zFW+gB\",\"TurB8EA\"],\"be\":1},\"AsyncRequest\":{\"r\":[\"0eqs16Q\",\"O62m3P6\",\"mAwSAZ1\",\"uoLFrj5\"],\"rds\":{\"m\":[\"FbtLogging\",\"IntlQtEventFalcoEvent\"],\"r\":[\"nTht8\\/8\"]},\"be\":1},\"DOM\":{\"r\":[\"0eqs16Q\",\"uoLFrj5\"],\"be\":1},\"Form\":{\"r\":[\"0eqs16Q\",\"Oj0mThQ\",\"uoLFrj5\"],\"be\":1},\"FormSubmit\":{\"r\":[\"0eqs16Q\",\"O62m3P6\",\"mAwSAZ1\",\"Oj0mThQ\",\"AINJugE\",\"uoLFrj5\"],\"rds\":{\"m\":[\"FbtLogging\",\"IntlQtEventFalcoEvent\"],\"r\":[\"nTht8\\/8\"]},\"be\":1},\"Input\":{\"r\":[\"Oj0mThQ\"],\"be\":1},\"Toggler\":{\"r\":[\"0eqs16Q\",\"iUdPLvr\",\"uoLFrj5\",\"tc8mb5f\",\"mAwSAZ1\",\"eNHNuRh\",\"cogH8tB\"],\"be\":1},\"Tooltip\":{\"r\":[\"+hCsEGR\",\"0eqs16Q\",\"O62m3P6\",\"B7gf9Zj\",\"uoLFrj5\",\"4kzi3e\\/\",\"tc8mb5f\",\"2NbWy9z\",\"mAwSAZ1\",\"GN3agFn\",\"eNHNuRh\",\"cogH8tB\",\"UhcIxGA\",\"47bd7pk\",\"AmhKW+q\",\"iUdPLvr\",\"Oj0mThQ\",\"CeJO4Av\"],\"rds\":{\"m\":[\"FbtLogging\",\"IntlQtEventFalcoEvent\",\"PageTransitions\",\"Animation\"],\"r\":[\"nTht8\\/8\",\"2s8nW4K\"]},\"be\":1},\"URI\":{\"r\":[],\"be\":1},\"trackReferrer\":{\"r\":[],\"be\":1},\"PhotoTagApproval\":{\"r\":[\"0eqs16Q\",\"C9LL1JI\",\"eSkTWOA\",\"uoLFrj5\"],\"be\":1},\"PhotoSnowlift\":{\"r\":[\"qFOHdW1\",\"Z6a4AAi\",\"mU2tfLD\",\"OEmcHyO\",\"yMJ3OI6\",\"82yDK+6\",\"+hCsEGR\",\"NRKERjp\",\"0eqs16Q\",\"O62m3P6\",\"B7gf9Zj\",\"v1U+At5\",\"iUdPLvr\",\"eSkTWOA\",\"uoLFrj5\",\"0LwZp+N\",\"Ekb1UCu\",\"sfhiK20\",\"bxSmnWk\",\"+ZyvbZr\",\"vJqaTex\",\"c9ZVRFO\",\"4kzi3e\\/\",\"M1GIZWM\",\"tc8mb5f\",\"9AGsQH+\",\"n\\/B7cts\",\"EaTBXnJ\",\"2s8nW4K\",\"2NbWy9z\",\"TurB8EA\",\"mAwSAZ1\",\"KMCdB+U\",\"3KMs6Pq\",\"8QjP1cU\",\"GN3agFn\",\"iuZgguZ\",\"LV9uvFd\",\"B63vhth\",\"q+MTfby\",\"dpMC\\/VO\",\"Oj0mThQ\",\"oX75f7w\",\"B8lfNnv\",\"tcnKiDO\",\"eNHNuRh\",\"cogH8tB\",\"qfqhd+G\",\"KejJlC8\",\"UhcIxGA\",\"hJ63snP\",\"5D8aDx+\",\"p4vbSNn\",\"Ivo6ijk\",\"28CSv2q\",\"z8bLg3z\",\"sfsMqE6\",\"fUKaBkw\",\"47bd7pk\",\"7V43ojG\",\"AmhKW+q\",\"CeJO4Av\"],\"rds\":{\"m\":[\"Animation\",\"FbtLogging\",\"IntlQtEventFalcoEvent\",\"PageTransitions\"],\"r\":[\"nTht8\\/8\"]},\"be\":1},\"PhotoTagger\":{\"r\":[\"HxWHlla\",\"lAh9Xcc\",\"Z6a4AAi\",\"nTht8\\/8\",\"+hCsEGR\",\"0eqs16Q\",\"O62m3P6\",\"C9LL1JI\",\"B7gf9Zj\",\"iUdPLvr\",\"eSkTWOA\",\"uoLFrj5\",\"4kzi3e\\/\",\"M1GIZWM\",\"tc8mb5f\",\"TurB8EA\",\"mAwSAZ1\",\"GN3agFn\",\"Oj0mThQ\",\"tcnKiDO\",\"eNHNuRh\",\"9TmFXZ7\",\"cogH8tB\",\"OwXT6OE\",\"UhcIxGA\",\"Ivo6ijk\",\"47bd7pk\",\"7V43ojG\",\"AmhKW+q\",\"CeJO4Av\"],\"rds\":{\"m\":[\"FbtLogging\",\"IntlQtEventFalcoEvent\",\"PageTransitions\",\"Animation\"],\"r\":[\"2s8nW4K\"]},\"be\":1},\"PhotoTags\":{\"r\":[\"0eqs16Q\",\"C9LL1JI\",\"eSkTWOA\",\"tc8mb5f\",\"uoLFrj5\"],\"be\":1},\"TagTokenizer\":{\"r\":[\"0eqs16Q\",\"C9LL1JI\",\"uoLFrj5\",\"qNJ1XS3\",\"tc8mb5f\",\"lKLWuf\\/\",\"OjeVBFU\",\"Oj0mThQ\",\"W+96y9a\",\"dZZuk4+\",\"tcnKiDO\",\"cogH8tB\",\"fUKaBkw\"],\"rds\":{\"m\":[\"FbtLogging\",\"IntlQtEventFalcoEvent\"],\"r\":[\"nTht8\\/8\",\"mAwSAZ1\"]},\"be\":1},\"AsyncDialog\":{\"r\":[\"yMJ3OI6\",\"+hCsEGR\",\"0eqs16Q\",\"O62m3P6\",\"B7gf9Zj\",\"iUdPLvr\",\"uoLFrj5\",\"4kzi3e\\/\",\"tc8mb5f\",\"2NbWy9z\",\"mAwSAZ1\",\"B63vhth\",\"q+MTfby\",\"eNHNuRh\",\"cogH8tB\",\"UhcIxGA\",\"47bd7pk\",\"7V43ojG\",\"AmhKW+q\",\"CeJO4Av\"],\"rds\":{\"m\":[\"FbtLogging\",\"IntlQtEventFalcoEvent\"],\"r\":[\"nTht8\\/8\"]},\"be\":1},\"Hovercard\":{\"r\":[\"lAh9Xcc\",\"Z6a4AAi\",\"+hCsEGR\",\"0eqs16Q\",\"O62m3P6\",\"B7gf9Zj\",\"iUdPLvr\",\"uoLFrj5\",\"4kzi3e\\/\",\"M1GIZWM\",\"tc8mb5f\",\"TurB8EA\",\"mAwSAZ1\",\"GN3agFn\",\"Oj0mThQ\",\"tcnKiDO\",\"eNHNuRh\",\"9TmFXZ7\",\"cogH8tB\",\"OwXT6OE\",\"UhcIxGA\",\"47bd7pk\",\"7V43ojG\",\"AmhKW+q\",\"CeJO4Av\"],\"rds\":{\"m\":[\"FbtLogging\",\"IntlQtEventFalcoEvent\",\"PageTransitions\",\"Animation\"],\"r\":[\"nTht8\\/8\",\"2s8nW4K\"]},\"be\":1},\"XSalesPromoWWWDetailsDialogAsyncController\":{\"r\":[\"KTJXyzv\",\"Oj0mThQ\"],\"be\":1},\"XOfferController\":{\"r\":[\"xsFg75a\",\"Oj0mThQ\"],\"be\":1},\"PerfXSharedFields\":{\"r\":[\"0eqs16Q\",\"4rwm8RJ\"],\"be\":1},\"KeyEventTypedLogger\":{\"r\":[\"rCasuzG\",\"O62m3P6\",\"TurB8EA\"],\"be\":1},\"Dialog\":{\"r\":[\"0eqs16Q\",\"O62m3P6\",\"B7gf9Zj\",\"uoLFrj5\",\"tc8mb5f\",\"n\\/B7cts\",\"mAwSAZ1\",\"Oj0mThQ\",\"eNHNuRh\",\"cogH8tB\",\"fUKaBkw\",\"47bd7pk\",\"7V43ojG\",\"+hCsEGR\",\"iUdPLvr\",\"4kzi3e\\/\",\"2s8nW4K\",\"UhcIxGA\"],\"rds\":{\"m\":[\"FbtLogging\",\"IntlQtEventFalcoEvent\",\"Animation\",\"PageTransitions\"],\"r\":[\"nTht8\\/8\"]},\"be\":1},\"ExceptionDialog\":{\"r\":[\"mU2tfLD\",\"OEmcHyO\",\"yMJ3OI6\",\"+hCsEGR\",\"0eqs16Q\",\"B7gf9Zj\",\"iUdPLvr\",\"uoLFrj5\",\"vJqaTex\",\"4kzi3e\\/\",\"tc8mb5f\",\"2NbWy9z\",\"mAwSAZ1\",\"OjeVBFU\",\"B63vhth\",\"q+MTfby\",\"tcnKiDO\",\"eNHNuRh\",\"cogH8tB\",\"UhcIxGA\",\"47bd7pk\",\"7V43ojG\",\"AmhKW+q\",\"O62m3P6\",\"CeJO4Av\"],\"rds\":{\"m\":[\"FbtLogging\",\"IntlQtEventFalcoEvent\"],\"r\":[\"nTht8\\/8\"]},\"be\":1},\"QuickSandSolver\":{\"r\":[\"SWx3yNv\",\"0eqs16Q\",\"O62m3P6\",\"u\\/Tufpa\",\"mAwSAZ1\",\"q+MTfby\",\"Oj0mThQ\",\"x22Oby4\",\"8ELCBwH\",\"uoLFrj5\"],\"rds\":{\"m\":[\"FbtLogging\",\"IntlQtEventFalcoEvent\"],\"r\":[\"nTht8\\/8\"]},\"be\":1},\"ConfirmationDialog\":{\"r\":[\"0eqs16Q\",\"I+GHswV\",\"21GRWVP\",\"tc8mb5f\",\"vdNQr9P\",\"Oj0mThQ\",\"uoLFrj5\"],\"be\":1},\"MWADeveloperReauthBarrier\":{\"r\":[\"0eqs16Q\",\"H\\/5lfuF\",\"17Grp2h\",\"QIamfde\",\"QyoftxH\"],\"be\":1}}})});</script>\n",
      "<script>requireLazy([\"InitialJSLoader\"], function(InitialJSLoader) {InitialJSLoader.loadOnDOMContentReady([\"21GRWVP\",\"mAwSAZ1\",\"0eqs16Q\",\"tc8mb5f\",\"7V43ojG\",\"O62m3P6\",\"nTht8\\/8\",\"bccsI5f\",\"I+GHswV\",\"Tll2J5j\",\"Oj0mThQ\",\"zPYlTyl\",\"cogH8tB\",\"TurB8EA\",\"P\\/mr5VE\"]);});</script>\n",
      "<script>requireLazy([\"TimeSliceImpl\",\"ServerJS\"],function(TimeSlice,ServerJS){var s=(new ServerJS());s.handle({\"define\":[[\"cr:7736\",[\"FBLynxLogging\"],{\"__rc\":[\"FBLynxLogging\",null]},-1],[\"LinkshimHandlerConfig\",[],{\"supports_meta_referrer\":false,\"default_meta_referrer_policy\":\"default\",\"switched_meta_referrer_policy\":\"origin\",\"non_linkshim_lnfb_mode\":\"ie\",\"link_react_default_hash\":\"AT20OIs3vgtvaluF_KWAgBFh2ZV4vvIf5J7M-ZjncJmp_Kkh9kfUBN0ThgGYDOmmOtjQga1zP_7cAHByE72_6iYhMMrBcpXagVHO5LyiWzluok9HPc2KuJt2oWWvaFJ5PraXiiXaRPtz1s1WZ4tkFITQwJDBtEUF\",\"untrusted_link_default_hash\":\"AT2wG82Mh2XfCWqym3sUHYUH0-J3-GbaPoJ3Zyly_F9CY4VeDzr3A5DoVTKfTERag8XTGV-EC9Y0EoY-BLq1DTYiCGD4HzIdrFI04B1QWv-MwO428OuTltMLjKE3JkxTHgtKiB-3cGb6gcsneEHB18hgf5legQdr\",\"linkshim_host\":\"l.facebook.com\",\"linkshim_path\":\"\\/l.php\",\"linkshim_enc_param\":\"h\",\"linkshim_url_param\":\"u\",\"use_rel_no_opener\":false,\"use_rel_no_referrer\":false,\"always_use_https\":false,\"onion_always_shim\":true,\"middle_click_requires_event\":false,\"www_safe_js_mode\":\"hover\",\"m_safe_js_mode\":null,\"ghl_param_link_shim\":false,\"click_ids\":[],\"is_linkshim_supported\":true,\"current_domain\":\"facebook.com\",\"blocklisted_domains\":[\"ad.doubleclick.net\",\"ads-encryption-url-example.com\",\"bs.serving-sys.com\",\"ad.atdmt.com\",\"adform.net\",\"ad13.adfarm1.adition.com\",\"ilovemyfreedoms.com\",\"secure.adnxs.com\"],\"is_mobile_device\":false},27]],\"elements\":[[\"__elem_a588f507_0_1_pu\",\"u_0_1_KT\",1],[\"__elem_a588f507_0_0_4W\",\"globalContainer\",1],[\"__elem_a588f507_0_2_+W\",\"content\",1],[\"__elem_835c633a_0_0_NR\",\"u_0_2_LT\",1],[\"__elem_9f5fac15_0_0_Xl\",\"passContainer\",1],[\"__elem_558608f3_0_0_gP\",\"pass\",1],[\"__elem_a588f507_0_3_gN\",\"u_0_3_AZ\",1],[\"__elem_a588f507_0_4_vj\",\"u_0_4_0S\",1],[\"__elem_45d73b5d_0_0_Ub\",\"u_0_5_sa\",1]],\"require\":[[\"ServiceWorkerLoginAndLogout\",\"login\",[],[]],[\"WebPixelRatioDetector\",\"startDetecting\",[],[false]],[\"ScriptPath\",\"set\",[],[\"XIndexReduxController\",\"a1f3c513\",{\"imp_id\":\"1go2PJp0pFA8jKowK\",\"ef_page\":null,\"uri\":\"https:\\/\\/www.facebook.com\\/\"}]],[\"UITinyViewportAction\",\"init\",[],[]],[\"ResetScrollOnUnload\",\"init\",[\"__elem_a588f507_0_0_4W\"],[{\"__m\":\"__elem_a588f507_0_0_4W\"}]],[\"KeyboardActivityLogger\",\"init\",[],[]],[\"FocusRing\",\"init\",[],[]],[\"ErrorMessageConsole\",\"listenForUncaughtErrors\",[],[]],[\"HardwareCSS\",\"init\",[],[]],[\"LoginFormController\",\"init\",[\"__elem_835c633a_0_0_NR\",\"__elem_45d73b5d_0_0_Ub\"],[{\"__m\":\"__elem_835c633a_0_0_NR\"},{\"__m\":\"__elem_45d73b5d_0_0_Ub\"},null,true,{\"pubKey\":{\"publicKey\":\"d1e306ee9634f164334ef6e93ae23fd174bd9971c1636d49d85ece2501fa616e\",\"keyId\":186}},true]],[\"BrowserPrefillLogging\",\"initContactpointFieldLogging\",[],[{\"contactpointFieldID\":\"email\",\"serverPrefill\":\"\"}]],[\"BrowserPrefillLogging\",\"initPasswordFieldLogging\",[],[{\"passwordFieldID\":\"pass\"}]],[\"FocusListener\"],[\"FlipDirectionOnKeypress\"],[\"LoginFormToggle\",\"initToggle\",[\"__elem_a588f507_0_3_gN\",\"__elem_a588f507_0_4_vj\",\"__elem_558608f3_0_0_gP\",\"__elem_9f5fac15_0_0_Xl\"],[{\"__m\":\"__elem_a588f507_0_3_gN\"},{\"__m\":\"__elem_a588f507_0_4_vj\"},{\"__m\":\"__elem_558608f3_0_0_gP\"},{\"__m\":\"__elem_9f5fac15_0_0_Xl\"}]],[\"IntlUtils\"],[\"FBLynx\",\"setupDelegation\",[],[]],[\"RequireDeferredReference\",\"unblock\",[],[[\"FbtLogging\",\"IntlQtEventFalcoEvent\"],\"sd\"]],[\"RequireDeferredReference\",\"unblock\",[],[[\"FbtLogging\",\"IntlQtEventFalcoEvent\"],\"css\"]],[\"TimeSliceImpl\"],[\"HasteSupportData\"],[\"ServerJS\"],[\"Run\"],[\"InitialJSLoader\"]],\"contexts\":[[{\"__m\":\"__elem_a588f507_0_1_pu\"},true],[{\"__m\":\"__elem_a588f507_0_2_+W\"},true]]});requireLazy([\"Run\"],function(Run){Run.onAfterLoad(function(){s.cleanup(TimeSlice)})});});</script>\n",
      "<script>now_inl=(function(){var p=window.performance;return p&&p.now&&p.timing&&p.timing.navigationStart?function(){return p.now()+p.timing.navigationStart}:function(){return new Date().getTime()};})();window.__bigPipeFR=now_inl();</script>\n",
      "<link rel=\"preload\" href=\"https://static.xx.fbcdn.net/rsrc.php/v3/yZ/l/0,cross/qBQt1qojPYd.css?_nc_x=Ij3Wp8lg5Kz\" as=\"style\" />\n",
      "<link rel=\"preload\" href=\"https://static.xx.fbcdn.net/rsrc.php/v3/yu/l/0,cross/JV4nBLA3vwn.css?_nc_x=Ij3Wp8lg5Kz\" as=\"style\" />\n",
      "<link rel=\"preload\" href=\"https://static.xx.fbcdn.net/rsrc.php/v3/yi/l/0,cross/x9gtDp5RrxH.css?_nc_x=Ij3Wp8lg5Kz\" as=\"style\" />\n",
      "<link rel=\"preload\" href=\"https://static.xx.fbcdn.net/rsrc.php/v3/yD/r/Gh75gULnFf5.js?_nc_x=Ij3Wp8lg5Kz\" as=\"script\" nonce=\"7kDKa80Z\" />\n",
      "<link rel=\"preload\" href=\"https://static.xx.fbcdn.net/rsrc.php/v3ikJO4/yL/l/hi_IN/hxRYS6oU3io.js?_nc_x=Ij3Wp8lg5Kz\" as=\"script\" nonce=\"7kDKa80Z\" />\n",
      "<link rel=\"preload\" href=\"https://static.xx.fbcdn.net/rsrc.php/v3/ys/r/4zS6aBDBtHT.js?_nc_x=Ij3Wp8lg5Kz\" as=\"script\" nonce=\"7kDKa80Z\" />\n",
      "<link rel=\"preload\" href=\"https://static.xx.fbcdn.net/rsrc.php/v3/yd/r/wSV7vP7PnIs.js?_nc_x=Ij3Wp8lg5Kz\" as=\"script\" nonce=\"7kDKa80Z\" />\n",
      "<script>window.__bigPipeCtor=now_inl();requireLazy([\"BigPipe\"],function(BigPipe){define(\"__bigPipe\",[],window.bigPipe=new BigPipe({\"forceFinish\":true,\"config\":{\"flush_pagelets_asap\":true,\"dispatch_pagelet_replayable_actions\":false}}));});</script>\n",
      "<script nonce=\"7kDKa80Z\">(function(){var n=now_inl();requireLazy([\"__bigPipe\"],function(bigPipe){bigPipe.beforePageletArrive(\"first_response\",n);})})();</script>\n",
      "<script nonce=\"7kDKa80Z\">requireLazy([\"__bigPipe\"],(function(bigPipe){bigPipe.onPageletArrive({displayResources:[\"I1Cw2oh\",\"uoLFrj5\",\"OEmcHyO\",\"0eqs16Q\",\"mAwSAZ1\",\"P/mr5VE\",\"O62m3P6\",\"bccsI5f\"],id:\"first_response\",phase:0,last_in_phase:true,tti_phase:0,all_phases:[63],hsrp:{hblp:{consistency:{rev:1015027140}}},allResources:[\"21GRWVP\",\"mAwSAZ1\",\"0eqs16Q\",\"tc8mb5f\",\"7V43ojG\",\"O62m3P6\",\"nTht8/8\",\"bccsI5f\",\"I1Cw2oh\",\"uoLFrj5\",\"OEmcHyO\",\"I+GHswV\",\"Tll2J5j\",\"Oj0mThQ\",\"zPYlTyl\",\"cogH8tB\",\"P/mr5VE\",\"TurB8EA\"]});}));</script>\n",
      "<script>requireLazy([\"__bigPipe\"],function(bigPipe){bigPipe.setPageID(\"7393549767030207206\")});</script><script nonce=\"7kDKa80Z\">(function(){var n=now_inl();requireLazy([\"__bigPipe\"],function(bigPipe){bigPipe.beforePageletArrive(\"last_response\",n);})})();</script>\n",
      "<script nonce=\"7kDKa80Z\">requireLazy([\"__bigPipe\"],(function(bigPipe){bigPipe.onPageletArrive({displayResources:[\"O62m3P6\"],id:\"last_response\",phase:63,last_in_phase:true,the_end:true,jsmods:{define:[[\"cr:6016\",[\"NavigationMetricsWWW\"],{__rc:[\"NavigationMetricsWWW\",null]},-1],[\"cr:7383\",[\"BanzaiWWW\"],{__rc:[\"BanzaiWWW\",null]},-1],[\"cr:5662\",[\"Event\"],{__rc:[\"Event\",null]},-1],[\"cr:1458113\",[],{__rc:[null,null]},-1],[\"cr:3376\",[],{__rc:[null,null]},-1],[\"cr:1083116\",[\"XAsyncRequest\"],{__rc:[\"XAsyncRequest\",null]},-1],[\"cr:1083117\",[],{__rc:[null,null]},-1],[\"TimeSliceInteractionSV\",[],{on_demand_reference_counting:true,on_demand_profiling_counters:true,default_rate:1000,lite_default_rate:100,interaction_to_lite_coinflip:{ADS_INTERFACES_INTERACTION:0,ads_perf_scenario:0,ads_wait_time:0,Event:1},interaction_to_coinflip:{ADS_INTERFACES_INTERACTION:1,ads_perf_scenario:1,ads_wait_time:1,Event:100},enable_heartbeat:false,maxBlockMergeDuration:0,maxBlockMergeDistance:0,enable_banzai_stream:true,user_timing_coinflip:50,banzai_stream_coinflip:0,compression_enabled:true,ref_counting_fix:false,ref_counting_cont_fix:false,also_record_new_timeslice_format:false,force_async_request_tracing_on:false},2609],[\"BDSignalCollectionData\",[],{sc:\"{\\\"t\\\":1659080345,\\\"c\\\":[[30000,838801],[30001,838801],[30002,838801],[30003,838801],[30004,838801],[30005,838801],[30006,573585],[30007,838801],[30008,838801],[30012,838801],[30013,838801],[30015,806033],[30018,806033],[30021,540823],[30022,540817],[30040,806033],[30093,806033],[30094,806033],[30095,806033],[30101,541591],[30102,541591],[30103,541591],[30104,541591],[30106,806039],[30107,806039],[38000,541427],[38001,806643]]}\",fds:60,fda:60,i:60,sbs:1,dbs:100,bbs:100,hbi:60,rt:262144,hbcbc:2,hbvbc:0,hbbi:30,sid:-1,hbv:\"5393395219450877003\"},5239],[\"cr:1642797\",[\"BanzaiBase\"],{__rc:[\"BanzaiBase\",null]},-1],[\"cr:1042\",[\"XAsyncRequestWWW\"],{__rc:[\"XAsyncRequestWWW\",null]},-1],[\"cr:5866\",[\"BanzaiAdapterWWW\"],{__rc:[\"BanzaiAdapterWWW\",null]},-1],[\"cr:7384\",[\"cancelIdleCallbackWWW\"],{__rc:[\"cancelIdleCallbackWWW\",null]},-1],[\"cr:692209\",[\"cancelIdleCallbackBlue\"],{__rc:[\"cancelIdleCallbackBlue\",null]},-1],[\"BanzaiConfig\",[],{MAX_SIZE:10000,MAX_WAIT:150000,MIN_WAIT:null,RESTORE_WAIT:150000,blacklist:[\"time_spent\"],disabled:false,gks:{boosted_pagelikes:true,mercury_send_error_logging:true,platform_oauth_client_events:true,sticker_search_ranking:true},known_routes:[\"artillery_javascript_actions\",\"artillery_javascript_trace\",\"artillery_logger_data\",\"logger\",\"falco\",\"gk2_exposure\",\"js_error_logging\",\"loom_trace\",\"marauder\",\"perfx_custom_logger_endpoint\",\"qex\",\"require_cond_exposure_logging\",\"metaconfig_exposure\"],should_drop_unknown_routes:true,should_log_unknown_routes:false},7],[\"cr:6943\",[\"EventListenerImplForCacheStorage\"],{__rc:[\"EventListenerImplForCacheStorage\",null]},-1],[\"cr:1634616\",[\"UserActivityBlue\"],{__rc:[\"UserActivityBlue\",null]},-1],[\"cr:5695\",[\"EventListenerWWW\"],{__rc:[\"EventListenerWWW\",null]},-1],[\"cr:844180\",[\"TimeSpentImmediateActiveSecondsLoggerBlue\"],{__rc:[\"TimeSpentImmediateActiveSecondsLoggerBlue\",null]},-1],[\"cr:1187159\",[\"BlueCompatBroker\"],{__rc:[\"BlueCompatBroker\",null]},-1],[\"WebDevicePerfInfoData\",[],{needsFullUpdate:true,needsPartialUpdate:false,shouldLogResourcePerf:false},3977],[\"WebStorageMonsterLoggingURI\",[],{uri:\"/ajax/webstorage/process_keys/?state=1\"},3032],[\"TimeSpentConfig\",[],{delay:1000,timeout:64,\"0_delay\":0,\"0_timeout\":8},142],[\"cr:5800\",[],{__rc:[null,null]},-1],[\"cr:1353359\",[\"EventListenerImplForBlue\"],{__rc:[\"EventListenerImplForBlue\",null]},-1],[\"ImmediateActiveSecondsConfig\",[],{sampling_rate:0},423],[\"CometAltpayJsSdkIframeAllowedDomains\",[],{allowed_domains:[\"https://live.adyen.com\",\"https://integration-facebook.payu.in\",\"https://facebook.payulatam.com\",\"https://secure.payu.com\",\"https://facebook.dlocal.com\",\"https://buy2.boku.com\"]},4920]],require:[[\"BDClientSignalCollectionTrigger\",\"startSignalCollection\",[],[{sc:\"{\\\"t\\\":1659080345,\\\"c\\\":[[30000,838801],[30001,838801],[30002,838801],[30003,838801],[30004,838801],[30005,838801],[30006,573585],[30007,838801],[30008,838801],[30012,838801],[30013,838801],[30015,806033],[30018,806033],[30021,540823],[30022,540817],[30040,806033],[30093,806033],[30094,806033],[30095,806033],[30101,541591],[30102,541591],[30103,541591],[30104,541591],[30106,806039],[30107,806039],[38000,541427],[38001,806643]]}\",fds:60,fda:60,i:60,sbs:1,dbs:100,bbs:100,hbi:60,rt:262144,hbcbc:2,hbvbc:0,hbbi:30,sid:-1,hbv:\"5393395219450877003\"}]],[\"NavigationMetrics\",\"setPage\",[],[{page:\"XIndexReduxController\",page_type:\"normal\",page_uri:\"https://www.facebook.com/\",serverLID:\"7393549767030207206\"}]],[\"FalcoLoggerTransports\",\"attach\",[],[]],[\"Chromedome\",\"start\",[],[{}]],[\"DimensionTracking\"],[\"NavigationClickPointHandler\"],[\"WebDevicePerfInfoLogging\",\"doLog\",[],[]],[\"WebStorageMonster\",\"schedule\",[],[]],[\"ServiceWorkerCacheManagement\",\"manageCache\",[],[]],[\"Artillery\",\"disable\",[],[]],[\"ScriptPathLogger\",\"startLogging\",[],[]],[\"TimeSpentBitArrayLogger\",\"init\",[],[]],[\"CookieCore\",\"setWithoutChecksIfFirstPartyContext\",[],[\"_js_datr\",\"VyqbZvONwJKEu_UyAZxv2dQz\",34560000000,\"/\",true,\".facebook.com\"]],[\"ClickRefLogger\"],[\"TransportSelectingClientSingletonConditional\"],[\"RequireDeferredReference\",\"unblock\",[],[[\"TransportSelectingClientSingletonConditional\"],\"sd\"]],[\"RequireDeferredReference\",\"unblock\",[],[[\"TransportSelectingClientSingletonConditional\"],\"css\"]]]},hsrp:{hsdp:{clpData:{\"1871697\":{r:1,s:1},\"1829319\":{r:1},\"1829320\":{r:1},\"1843988\":{r:1}},qexData:{\"526\":{r:null},\"538\":{r:null},\"543\":{r:null}}},hblp:{consistency:{rev:1015027140}}},allResources:[\"O62m3P6\",\"Tll2J5j\",\"zPYlTyl\",\"0eqs16Q\",\"2s8nW4K\",\"47bd7pk\",\"mAwSAZ1\",\"nTht8/8\"]});}));</script></body></html>\n"
     ]
    }
   ],
   "source": [
    "import asyncio\n",
    "import aiohttp\n",
    "import nest_asyncio\n",
    "\n",
    "nest_asyncio.apply()\n",
    "\n",
    "async def fetch(url):\n",
    "    async with aiohttp.ClientSession() as session:\n",
    "        async with session.get(url) as response:\n",
    "            return await response.text()\n",
    "\n",
    "async def main():\n",
    "    url1 = 'http://google.com'\n",
    "    url2 = 'http://facebook.com'\n",
    "    results = await asyncio.gather(fetch(url1), fetch(url2))\n",
    "    for result in results:\n",
    "        print(result)\n",
    "\n",
    "asyncio.run(main())\n"
   ]
  },
  {
   "cell_type": "code",
   "execution_count": null,
   "id": "2e6180f9",
   "metadata": {},
   "outputs": [],
   "source": []
  },
  {
   "cell_type": "code",
   "execution_count": null,
   "id": "4c3d61e9",
   "metadata": {},
   "outputs": [],
   "source": []
  },
  {
   "cell_type": "code",
   "execution_count": null,
   "id": "863ac64e",
   "metadata": {},
   "outputs": [],
   "source": []
  }
 ],
 "metadata": {
  "kernelspec": {
   "display_name": "Python 3 (ipykernel)",
   "language": "python",
   "name": "python3"
  },
  "language_info": {
   "codemirror_mode": {
    "name": "ipython",
    "version": 3
   },
   "file_extension": ".py",
   "mimetype": "text/x-python",
   "name": "python",
   "nbconvert_exporter": "python",
   "pygments_lexer": "ipython3",
   "version": "3.11.5"
  }
 },
 "nbformat": 4,
 "nbformat_minor": 5
}
