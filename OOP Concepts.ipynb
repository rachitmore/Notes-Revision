{
 "cells": [
  {
   "cell_type": "markdown",
   "id": "db2654f2",
   "metadata": {},
   "source": [
    "## Classes and Objects"
   ]
  },
  {
   "cell_type": "code",
   "execution_count": 1,
   "id": "c7e205c4",
   "metadata": {},
   "outputs": [
    {
     "name": "stdout",
     "output_type": "stream",
     "text": [
      "Buddy\n",
      "Woof!\n"
     ]
    }
   ],
   "source": [
    "class Dog:\n",
    "    def __init__(self, name, age):\n",
    "        self.name = name\n",
    "        self.age = age\n",
    "\n",
    "    def bark(self):\n",
    "        return \"Woof!\"\n",
    "\n",
    "my_dog = Dog(\"Buddy\", 3)\n",
    "print(my_dog.name)  # Output: Buddy\n",
    "print(my_dog.bark())  # Output: Woof!\n"
   ]
  },
  {
   "cell_type": "markdown",
   "id": "27b6e3c3",
   "metadata": {},
   "source": [
    "## Attributes and Methods"
   ]
  },
  {
   "cell_type": "code",
   "execution_count": 2,
   "id": "a31c8f3b",
   "metadata": {},
   "outputs": [
    {
     "name": "stdout",
     "output_type": "stream",
     "text": [
      "2020 Toyota Corolla\n"
     ]
    }
   ],
   "source": [
    "class Car:\n",
    "    def __init__(self, make, model, year):\n",
    "        self.make = make\n",
    "        self.model = model\n",
    "        self.year = year\n",
    "\n",
    "    def description(self):\n",
    "        return f\"{self.year} {self.make} {self.model}\"\n",
    "\n",
    "my_car = Car(\"Toyota\", \"Corolla\", 2020)\n",
    "print(my_car.description())  # Output: 2020 Toyota Corolla\n"
   ]
  },
  {
   "cell_type": "markdown",
   "id": "9553e6e8",
   "metadata": {},
   "source": [
    "## Inheritance"
   ]
  },
  {
   "cell_type": "code",
   "execution_count": 3,
   "id": "04470c22",
   "metadata": {},
   "outputs": [
    {
     "name": "stdout",
     "output_type": "stream",
     "text": [
      "Woof!\n",
      "Meow!\n"
     ]
    }
   ],
   "source": [
    "class Animal:\n",
    "    def __init__(self, name):\n",
    "        self.name = name\n",
    "\n",
    "    def speak(self):\n",
    "        raise NotImplementedError(\"Subclasses must implement this method\")\n",
    "\n",
    "class Dog(Animal):\n",
    "    def speak(self):\n",
    "        return \"Woof!\"\n",
    "\n",
    "class Cat(Animal):\n",
    "    def speak(self):\n",
    "        return \"Meow!\"\n",
    "\n",
    "dog = Dog(\"Buddy\")\n",
    "cat = Cat(\"Whiskers\")\n",
    "print(dog.speak())  # Output: Woof!\n",
    "print(cat.speak())  # Output: Meow!\n"
   ]
  },
  {
   "cell_type": "markdown",
   "id": "9b9cc179",
   "metadata": {},
   "source": [
    "## Method Overriding"
   ]
  },
  {
   "cell_type": "code",
   "execution_count": 4,
   "id": "a46cbc95",
   "metadata": {},
   "outputs": [
    {
     "name": "stdout",
     "output_type": "stream",
     "text": [
      "16\n"
     ]
    }
   ],
   "source": [
    "class Shape:\n",
    "    def area(self):\n",
    "        return 0\n",
    "\n",
    "class Square(Shape):\n",
    "    def __init__(self, side):\n",
    "        self.side = side\n",
    "\n",
    "    def area(self):\n",
    "        return self.side * self.side\n",
    "\n",
    "square = Square(4)\n",
    "print(square.area())  # Output: 16\n"
   ]
  },
  {
   "cell_type": "markdown",
   "id": "9724ea8b",
   "metadata": {},
   "source": [
    "## The super() Function"
   ]
  },
  {
   "cell_type": "code",
   "execution_count": 5,
   "id": "9929ff8a",
   "metadata": {},
   "outputs": [
    {
     "name": "stdout",
     "output_type": "stream",
     "text": [
      "Name: Alice, Age: 30\n",
      "Employee ID: E123\n"
     ]
    }
   ],
   "source": [
    "class Person:\n",
    "    def __init__(self, name, age):\n",
    "        self.name = name\n",
    "        self.age = age\n",
    "\n",
    "    def display(self):\n",
    "        print(f\"Name: {self.name}, Age: {self.age}\")\n",
    "\n",
    "class Employee(Person):\n",
    "    def __init__(self, name, age, employee_id):\n",
    "        super().__init__(name, age)\n",
    "        self.employee_id = employee_id\n",
    "\n",
    "    def display(self):\n",
    "        super().display()\n",
    "        print(f\"Employee ID: {self.employee_id}\")\n",
    "\n",
    "employee = Employee(\"Alice\", 30, \"E123\")\n",
    "employee.display()\n",
    "# Output:\n",
    "# Name: Alice, Age: 30\n",
    "# Employee ID: E123\n"
   ]
  },
  {
   "cell_type": "markdown",
   "id": "c4927555",
   "metadata": {},
   "source": [
    "## Encapsulation"
   ]
  },
  {
   "cell_type": "code",
   "execution_count": 6,
   "id": "4dd11853",
   "metadata": {},
   "outputs": [
    {
     "name": "stdout",
     "output_type": "stream",
     "text": [
      "1500\n",
      "200\n",
      "1300\n"
     ]
    }
   ],
   "source": [
    "class BankAccount:\n",
    "    def __init__(self, balance):\n",
    "        self.__balance = balance\n",
    "\n",
    "    def deposit(self, amount):\n",
    "        self.__balance += amount\n",
    "\n",
    "    def withdraw(self, amount):\n",
    "        if amount <= self.__balance:\n",
    "            self.__balance -= amount\n",
    "            return amount\n",
    "        else:\n",
    "            return \"Insufficient funds\"\n",
    "\n",
    "    def get_balance(self):\n",
    "        return self.__balance\n",
    "\n",
    "account = BankAccount(1000)\n",
    "account.deposit(500)\n",
    "print(account.get_balance())  # Output: 1500\n",
    "print(account.withdraw(200))  # Output: 200\n",
    "print(account.get_balance())  # Output: 1300\n"
   ]
  },
  {
   "cell_type": "markdown",
   "id": "017b9441",
   "metadata": {},
   "source": [
    "## Polymorphism"
   ]
  },
  {
   "cell_type": "code",
   "execution_count": 7,
   "id": "2c23efa9",
   "metadata": {},
   "outputs": [
    {
     "name": "stdout",
     "output_type": "stream",
     "text": [
      "Flying...\n",
      "Sparrow flying...\n",
      "Ostrich can't fly!\n"
     ]
    }
   ],
   "source": [
    "class Bird:\n",
    "    def fly(self):\n",
    "        print(\"Flying...\")\n",
    "\n",
    "class Sparrow(Bird):\n",
    "    def fly(self):\n",
    "        print(\"Sparrow flying...\")\n",
    "\n",
    "class Ostrich(Bird):\n",
    "    def fly(self):\n",
    "        print(\"Ostrich can't fly!\")\n",
    "\n",
    "birds = [Bird(), Sparrow(), Ostrich()]\n",
    "for bird in birds:\n",
    "    bird.fly()\n",
    "# Output:\n",
    "# Flying...\n",
    "# Sparrow flying...\n",
    "# Ostrich can't fly!\n"
   ]
  },
  {
   "cell_type": "markdown",
   "id": "1740f511",
   "metadata": {},
   "source": [
    "## Abstract Classes and Methods"
   ]
  },
  {
   "cell_type": "code",
   "execution_count": 8,
   "id": "a8aeb1a9",
   "metadata": {},
   "outputs": [
    {
     "name": "stdout",
     "output_type": "stream",
     "text": [
      "Car engine started.\n"
     ]
    }
   ],
   "source": [
    "from abc import ABC, abstractmethod\n",
    "\n",
    "class Vehicle(ABC):\n",
    "    @abstractmethod\n",
    "    def start_engine(self):\n",
    "        pass\n",
    "\n",
    "class Car(Vehicle):\n",
    "    def start_engine(self):\n",
    "        print(\"Car engine started.\")\n",
    "\n",
    "car = Car()\n",
    "car.start_engine()  # Output: Car engine started.\n"
   ]
  },
  {
   "cell_type": "markdown",
   "id": "a5258cb7",
   "metadata": {},
   "source": [
    "## Exercises"
   ]
  },
  {
   "cell_type": "markdown",
   "id": "208f409e",
   "metadata": {},
   "source": [
    "### 1. Create a Person class with name and age attributes and a method to display them."
   ]
  },
  {
   "cell_type": "code",
   "execution_count": 9,
   "id": "33391f94",
   "metadata": {},
   "outputs": [
    {
     "name": "stdout",
     "output_type": "stream",
     "text": [
      "Name: John, Age: 25\n"
     ]
    }
   ],
   "source": [
    "class Person:\n",
    "    def __init__(self, name, age):\n",
    "        self.name = name\n",
    "        self.age = age\n",
    "\n",
    "    def display(self):\n",
    "        print(f\"Name: {self.name}, Age: {self.age}\")\n",
    "\n",
    "person = Person(\"John\", 25)\n",
    "person.display()\n"
   ]
  },
  {
   "cell_type": "markdown",
   "id": "75abdbb0",
   "metadata": {},
   "source": [
    "### 2. Create a Rectangle class with length and width attributes and a method to calculate the area."
   ]
  },
  {
   "cell_type": "code",
   "execution_count": 10,
   "id": "c77fba67",
   "metadata": {},
   "outputs": [
    {
     "name": "stdout",
     "output_type": "stream",
     "text": [
      "15\n"
     ]
    }
   ],
   "source": [
    "class Rectangle:\n",
    "    def __init__(self, length, width):\n",
    "        self.length = length\n",
    "        self.width = width\n",
    "\n",
    "    def area(self):\n",
    "        return self.length * self.width\n",
    "\n",
    "rectangle = Rectangle(5, 3)\n",
    "print(rectangle.area())  # Output: 15\n"
   ]
  },
  {
   "cell_type": "markdown",
   "id": "b38028b6",
   "metadata": {},
   "source": [
    "### 3. Create a base class Vehicle with a method start_engine. Create two subclasses Car and Bike that override the start_engine method."
   ]
  },
  {
   "cell_type": "code",
   "execution_count": 11,
   "id": "18473874",
   "metadata": {},
   "outputs": [
    {
     "name": "stdout",
     "output_type": "stream",
     "text": [
      "Car engine started\n",
      "Bike engine started\n"
     ]
    }
   ],
   "source": [
    "class Vehicle:\n",
    "    def start_engine(self):\n",
    "        print(\"Engine started\")\n",
    "\n",
    "class Car(Vehicle):\n",
    "    def start_engine(self):\n",
    "        print(\"Car engine started\")\n",
    "\n",
    "class Bike(Vehicle):\n",
    "    def start_engine(self):\n",
    "        print(\"Bike engine started\")\n",
    "\n",
    "car = Car()\n",
    "bike = Bike()\n",
    "car.start_engine()  # Output: Car engine started\n",
    "bike.start_engine()  # Output: Bike engine started\n"
   ]
  },
  {
   "cell_type": "markdown",
   "id": "cf78c321",
   "metadata": {},
   "source": [
    "### 4. Create a class Employee with attributes name and salary, and a method to display the details. Create a subclass Manager that adds an attribute department and overrides the display method to include the department."
   ]
  },
  {
   "cell_type": "code",
   "execution_count": 12,
   "id": "2161f8fa",
   "metadata": {},
   "outputs": [
    {
     "name": "stdout",
     "output_type": "stream",
     "text": [
      "Name: Alice, Salary: 50000\n",
      "Department: HR\n"
     ]
    }
   ],
   "source": [
    "class Employee:\n",
    "    def __init__(self, name, salary):\n",
    "        self.name = name\n",
    "        self.salary = salary\n",
    "\n",
    "    def display(self):\n",
    "        print(f\"Name: {self.name}, Salary: {self.salary}\")\n",
    "\n",
    "class Manager(Employee):\n",
    "    def __init__(self, name, salary, department):\n",
    "        super().__init__(name, salary)\n",
    "        self.department = department\n",
    "\n",
    "    def display(self):\n",
    "        super().display()\n",
    "        print(f\"Department: {self.department}\")\n",
    "\n",
    "manager = Manager(\"Alice\", 50000, \"HR\")\n",
    "manager.display()\n",
    "# Output:\n",
    "# Name: Alice, Salary: 50000\n",
    "# Department: HR\n"
   ]
  },
  {
   "cell_type": "markdown",
   "id": "29d1a684",
   "metadata": {},
   "source": [
    "### 5. Implement a banking system with a base class BankAccount and derived classes SavingsAccount and CheckingAccount. Include methods for deposit, withdrawal, and displaying balance, using encapsulation."
   ]
  },
  {
   "cell_type": "code",
   "execution_count": 13,
   "id": "ccf9c8b3",
   "metadata": {},
   "outputs": [
    {
     "name": "stdout",
     "output_type": "stream",
     "text": [
      "1050.0\n",
      "Insufficient funds\n",
      "500\n"
     ]
    }
   ],
   "source": [
    "class BankAccount:\n",
    "    def __init__(self, balance):\n",
    "        self.__balance = balance\n",
    "\n",
    "    def deposit(self, amount):\n",
    "        self.__balance += amount\n",
    "\n",
    "    def withdraw(self, amount):\n",
    "        if amount <= self.__balance:\n",
    "            self.__balance -= amount\n",
    "            return amount\n",
    "        else:\n",
    "            return \"Insufficient funds\"\n",
    "\n",
    "    def get_balance(self):\n",
    "        return self.__balance\n",
    "\n",
    "class SavingsAccount(BankAccount):\n",
    "    def __init__(self, balance, interest_rate):\n",
    "        super().__init__(balance)\n",
    "        self.interest_rate = interest_rate\n",
    "\n",
    "    def add_interest(self):\n",
    "        self.deposit(self.get_balance() * self.interest_rate)\n",
    "\n",
    "class CheckingAccount(BankAccount):\n",
    "    def __init__(self, balance, overdraft_limit):\n",
    "        super().__init__(balance)\n",
    "        self.overdraft_limit = overdraft_limit\n",
    "\n",
    "    def withdraw(self, amount):\n",
    "        if amount <= self.get_balance() + self.overdraft_limit:\n",
    "            return super().withdraw(amount)\n",
    "        else:\n",
    "            return \"Overdraft limit exceeded\"\n",
    "\n",
    "savings = SavingsAccount(1000, 0.05)\n",
    "savings.add_interest()\n",
    "print(savings.get_balance())  # Output: 1050.0\n",
    "\n",
    "checking = CheckingAccount(500, 200)\n",
    "print(checking.withdraw(600))  # Output: 600\n",
    "print(checking.get_balance())  # Output: -100\n"
   ]
  },
  {
   "cell_type": "markdown",
   "id": "dc7f1689",
   "metadata": {},
   "source": [
    "### 6. Create an abstract class Shape with an abstract method area. Implement this method in subclasses Circle, Square, and Rectangle"
   ]
  },
  {
   "cell_type": "code",
   "execution_count": 14,
   "id": "163062a3",
   "metadata": {},
   "outputs": [
    {
     "name": "stdout",
     "output_type": "stream",
     "text": [
      "Circle Area: 78.53981633974483\n",
      "Square Area: 16\n",
      "Rectangle Area: 18\n"
     ]
    }
   ],
   "source": [
    "from abc import ABC, abstractmethod\n",
    "import math\n",
    "\n",
    "class Shape(ABC):\n",
    "    @abstractmethod\n",
    "    def area(self):\n",
    "        pass\n",
    "\n",
    "class Circle(Shape):\n",
    "    def __init__(self, radius):\n",
    "        self.radius = radius\n",
    "\n",
    "    def area(self):\n",
    "        return math.pi * (self.radius ** 2)\n",
    "\n",
    "class Square(Shape):\n",
    "    def __init__(self, side):\n",
    "        self.side = side\n",
    "\n",
    "    def area(self):\n",
    "        return self.side * self.side\n",
    "\n",
    "class Rectangle(Shape):\n",
    "    def __init__(self, length, width):\n",
    "        self.length = length\n",
    "        self.width = width\n",
    "\n",
    "    def area(self):\n",
    "        return self.length * self.width\n",
    "\n",
    "circle = Circle(5)\n",
    "square = Square(4)\n",
    "rectangle = Rectangle(3, 6)\n",
    "\n",
    "print(f\"Circle Area: {circle.area()}\")  # Output: Circle Area: 78.53981633974483\n",
    "print(f\"Square Area: {square.area()}\")  # Output: Square Area: 16\n",
    "print(f\"Rectangle Area: {rectangle.area()}\")  # Output: Rectangle Area: 18\n"
   ]
  },
  {
   "cell_type": "code",
   "execution_count": null,
   "id": "4bf33834",
   "metadata": {},
   "outputs": [],
   "source": []
  },
  {
   "cell_type": "code",
   "execution_count": null,
   "id": "d2daa0ad",
   "metadata": {},
   "outputs": [],
   "source": []
  },
  {
   "cell_type": "code",
   "execution_count": null,
   "id": "074688c7",
   "metadata": {},
   "outputs": [],
   "source": []
  },
  {
   "cell_type": "code",
   "execution_count": null,
   "id": "ef32c345",
   "metadata": {},
   "outputs": [],
   "source": []
  }
 ],
 "metadata": {
  "kernelspec": {
   "display_name": "Python 3 (ipykernel)",
   "language": "python",
   "name": "python3"
  },
  "language_info": {
   "codemirror_mode": {
    "name": "ipython",
    "version": 3
   },
   "file_extension": ".py",
   "mimetype": "text/x-python",
   "name": "python",
   "nbconvert_exporter": "python",
   "pygments_lexer": "ipython3",
   "version": "3.11.5"
  }
 },
 "nbformat": 4,
 "nbformat_minor": 5
}
